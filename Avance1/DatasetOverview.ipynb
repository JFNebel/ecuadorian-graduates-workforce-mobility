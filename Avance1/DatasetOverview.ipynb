{
    "cells": [
        {
            "cell_type": "markdown",
            "source": [
                "## Original Companies Dataset Overview"
            ],
            "metadata": {}
        },
        {
            "cell_type": "code",
            "execution_count": 2,
            "source": [
                "import pandas as pd"
            ],
            "outputs": [],
            "metadata": {}
        },
        {
            "cell_type": "code",
            "execution_count": 3,
            "source": [
                "df = pd.read_csv('Datasets/clean_supercias_75K.csv')\n",
                "df.head()"
            ],
            "outputs": [
                {
                    "output_type": "execute_result",
                    "data": {
                        "text/plain": [
                            "   2020 2019  EXPEDIENTE                                             NOMBRE  \\\n",
                            "0   1.0    1       384.0                          CORPORACION FAVORITA C.A.   \n",
                            "1   2.0    4      6796.0                                      ECUACORRIENTE   \n",
                            "2   3.0    3     93144.0                                   AURELIAN ECUADOR   \n",
                            "3   4.0    2    705547.0                                      SHAYA ECUADOR   \n",
                            "4   5.0    5     47845.0  CONSORCIO ECUATORIANO DE TELECOMUNICACIONES CO...   \n",
                            "\n",
                            "  TIPO COMPAÑIA                                ACTIVIDAD ECONÓMICA   REGION  \\\n",
                            "0       ANÓNIMA  G4711.01 - VENTA AL POR MENOR DE GRAN VARIEDAD...   SIERRA   \n",
                            "1       ANÓNIMA  B0729.01 - EXTRACCIÓN Y PREPARACIÓN DE MINERAL...  ORIENTE   \n",
                            "2       ANÓNIMA  B0899.09 - EXTRACCIÓN DE OTROS MINERALES: ASBE...  ORIENTE   \n",
                            "3       ANÓNIMA  B0910.01 - ACTIVIDADES DE SERVICIOS DE EXTRACC...   SIERRA   \n",
                            "4       ANÓNIMA  J6120.01 - OPERACIÓN, MANTENIMIENTO O FACILITA...    COSTA   \n",
                            "\n",
                            "                                           PROVINCIA  \\\n",
                            "0  PICHINCHA                                     ...   \n",
                            "1  ZAMORA CHINCHIPE                              ...   \n",
                            "2  ZAMORA CHINCHIPE                              ...   \n",
                            "3  PICHINCHA                                     ...   \n",
                            "4  GUAYAS                                        ...   \n",
                            "\n",
                            "                                              CIUDAD  TAMAÑO  \\\n",
                            "0  QUITO                                         ...  GRANDE   \n",
                            "1  EL PANGUI                                     ...  GRANDE   \n",
                            "2  LOS ENCUENTROS                                ...  GRANDE   \n",
                            "3  QUITO                                         ...  GRANDE   \n",
                            "4  GUAYAQUIL                                     ...  GRANDE   \n",
                            "\n",
                            "               SECTOR  CANT. EMPLEADOS    ACTIVO2020  PATRIMONIO2020  \\\n",
                            "0  MERCADO DE VALORES          10768.0  2.121860e+09    1.482973e+09   \n",
                            "1          SOCIETARIO            966.0  1.607423e+09    5.689866e+08   \n",
                            "2          SOCIETARIO           1451.0  1.599727e+09    6.052935e+08   \n",
                            "3          SOCIETARIO             92.0  1.354952e+09    7.868173e+08   \n",
                            "4          SOCIETARIO           2844.0  1.217718e+09    2.647091e+08   \n",
                            "\n",
                            "   INGRESOS POR VENTA2020  UTILIDAD ANTES DE 2020  UTILIDAD DEL EJERCICIO2020  \\\n",
                            "0            2.170603e+09             187168402.3                2.201981e+08   \n",
                            "1            0.000000e+00              -1387158.7                0.000000e+00   \n",
                            "2            3.587926e+08             -49399080.0               -4.939908e+07   \n",
                            "3            6.690761e+08             179317070.0                2.109613e+08   \n",
                            "4            1.066242e+09             174644376.0                2.048239e+08   \n",
                            "\n",
                            "   UTILIDAD NETA2020  IR CAUSADO2020  INGRESO TOTAL2020  \n",
                            "0       1.474992e+08     41971212.00       2.170603e+09  \n",
                            "1      -2.633856e+06      1246697.02       0.000000e+00  \n",
                            "2      -4.939908e+07            0.00       3.588240e+08  \n",
                            "3       1.337093e+08     45607812.10       6.690761e+08  \n",
                            "4       1.068268e+08     67817626.00       1.071561e+09  "
                        ],
                        "text/html": [
                            "<div>\n",
                            "<style scoped>\n",
                            "    .dataframe tbody tr th:only-of-type {\n",
                            "        vertical-align: middle;\n",
                            "    }\n",
                            "\n",
                            "    .dataframe tbody tr th {\n",
                            "        vertical-align: top;\n",
                            "    }\n",
                            "\n",
                            "    .dataframe thead th {\n",
                            "        text-align: right;\n",
                            "    }\n",
                            "</style>\n",
                            "<table border=\"1\" class=\"dataframe\">\n",
                            "  <thead>\n",
                            "    <tr style=\"text-align: right;\">\n",
                            "      <th></th>\n",
                            "      <th>2020</th>\n",
                            "      <th>2019</th>\n",
                            "      <th>EXPEDIENTE</th>\n",
                            "      <th>NOMBRE</th>\n",
                            "      <th>TIPO COMPAÑIA</th>\n",
                            "      <th>ACTIVIDAD ECONÓMICA</th>\n",
                            "      <th>REGION</th>\n",
                            "      <th>PROVINCIA</th>\n",
                            "      <th>CIUDAD</th>\n",
                            "      <th>TAMAÑO</th>\n",
                            "      <th>SECTOR</th>\n",
                            "      <th>CANT. EMPLEADOS</th>\n",
                            "      <th>ACTIVO2020</th>\n",
                            "      <th>PATRIMONIO2020</th>\n",
                            "      <th>INGRESOS POR VENTA2020</th>\n",
                            "      <th>UTILIDAD ANTES DE 2020</th>\n",
                            "      <th>UTILIDAD DEL EJERCICIO2020</th>\n",
                            "      <th>UTILIDAD NETA2020</th>\n",
                            "      <th>IR CAUSADO2020</th>\n",
                            "      <th>INGRESO TOTAL2020</th>\n",
                            "    </tr>\n",
                            "  </thead>\n",
                            "  <tbody>\n",
                            "    <tr>\n",
                            "      <th>0</th>\n",
                            "      <td>1.0</td>\n",
                            "      <td>1</td>\n",
                            "      <td>384.0</td>\n",
                            "      <td>CORPORACION FAVORITA C.A.</td>\n",
                            "      <td>ANÓNIMA</td>\n",
                            "      <td>G4711.01 - VENTA AL POR MENOR DE GRAN VARIEDAD...</td>\n",
                            "      <td>SIERRA</td>\n",
                            "      <td>PICHINCHA                                     ...</td>\n",
                            "      <td>QUITO                                         ...</td>\n",
                            "      <td>GRANDE</td>\n",
                            "      <td>MERCADO DE VALORES</td>\n",
                            "      <td>10768.0</td>\n",
                            "      <td>2.121860e+09</td>\n",
                            "      <td>1.482973e+09</td>\n",
                            "      <td>2.170603e+09</td>\n",
                            "      <td>187168402.3</td>\n",
                            "      <td>2.201981e+08</td>\n",
                            "      <td>1.474992e+08</td>\n",
                            "      <td>41971212.00</td>\n",
                            "      <td>2.170603e+09</td>\n",
                            "    </tr>\n",
                            "    <tr>\n",
                            "      <th>1</th>\n",
                            "      <td>2.0</td>\n",
                            "      <td>4</td>\n",
                            "      <td>6796.0</td>\n",
                            "      <td>ECUACORRIENTE</td>\n",
                            "      <td>ANÓNIMA</td>\n",
                            "      <td>B0729.01 - EXTRACCIÓN Y PREPARACIÓN DE MINERAL...</td>\n",
                            "      <td>ORIENTE</td>\n",
                            "      <td>ZAMORA CHINCHIPE                              ...</td>\n",
                            "      <td>EL PANGUI                                     ...</td>\n",
                            "      <td>GRANDE</td>\n",
                            "      <td>SOCIETARIO</td>\n",
                            "      <td>966.0</td>\n",
                            "      <td>1.607423e+09</td>\n",
                            "      <td>5.689866e+08</td>\n",
                            "      <td>0.000000e+00</td>\n",
                            "      <td>-1387158.7</td>\n",
                            "      <td>0.000000e+00</td>\n",
                            "      <td>-2.633856e+06</td>\n",
                            "      <td>1246697.02</td>\n",
                            "      <td>0.000000e+00</td>\n",
                            "    </tr>\n",
                            "    <tr>\n",
                            "      <th>2</th>\n",
                            "      <td>3.0</td>\n",
                            "      <td>3</td>\n",
                            "      <td>93144.0</td>\n",
                            "      <td>AURELIAN ECUADOR</td>\n",
                            "      <td>ANÓNIMA</td>\n",
                            "      <td>B0899.09 - EXTRACCIÓN DE OTROS MINERALES: ASBE...</td>\n",
                            "      <td>ORIENTE</td>\n",
                            "      <td>ZAMORA CHINCHIPE                              ...</td>\n",
                            "      <td>LOS ENCUENTROS                                ...</td>\n",
                            "      <td>GRANDE</td>\n",
                            "      <td>SOCIETARIO</td>\n",
                            "      <td>1451.0</td>\n",
                            "      <td>1.599727e+09</td>\n",
                            "      <td>6.052935e+08</td>\n",
                            "      <td>3.587926e+08</td>\n",
                            "      <td>-49399080.0</td>\n",
                            "      <td>-4.939908e+07</td>\n",
                            "      <td>-4.939908e+07</td>\n",
                            "      <td>0.00</td>\n",
                            "      <td>3.588240e+08</td>\n",
                            "    </tr>\n",
                            "    <tr>\n",
                            "      <th>3</th>\n",
                            "      <td>4.0</td>\n",
                            "      <td>2</td>\n",
                            "      <td>705547.0</td>\n",
                            "      <td>SHAYA ECUADOR</td>\n",
                            "      <td>ANÓNIMA</td>\n",
                            "      <td>B0910.01 - ACTIVIDADES DE SERVICIOS DE EXTRACC...</td>\n",
                            "      <td>SIERRA</td>\n",
                            "      <td>PICHINCHA                                     ...</td>\n",
                            "      <td>QUITO                                         ...</td>\n",
                            "      <td>GRANDE</td>\n",
                            "      <td>SOCIETARIO</td>\n",
                            "      <td>92.0</td>\n",
                            "      <td>1.354952e+09</td>\n",
                            "      <td>7.868173e+08</td>\n",
                            "      <td>6.690761e+08</td>\n",
                            "      <td>179317070.0</td>\n",
                            "      <td>2.109613e+08</td>\n",
                            "      <td>1.337093e+08</td>\n",
                            "      <td>45607812.10</td>\n",
                            "      <td>6.690761e+08</td>\n",
                            "    </tr>\n",
                            "    <tr>\n",
                            "      <th>4</th>\n",
                            "      <td>5.0</td>\n",
                            "      <td>5</td>\n",
                            "      <td>47845.0</td>\n",
                            "      <td>CONSORCIO ECUATORIANO DE TELECOMUNICACIONES CO...</td>\n",
                            "      <td>ANÓNIMA</td>\n",
                            "      <td>J6120.01 - OPERACIÓN, MANTENIMIENTO O FACILITA...</td>\n",
                            "      <td>COSTA</td>\n",
                            "      <td>GUAYAS                                        ...</td>\n",
                            "      <td>GUAYAQUIL                                     ...</td>\n",
                            "      <td>GRANDE</td>\n",
                            "      <td>SOCIETARIO</td>\n",
                            "      <td>2844.0</td>\n",
                            "      <td>1.217718e+09</td>\n",
                            "      <td>2.647091e+08</td>\n",
                            "      <td>1.066242e+09</td>\n",
                            "      <td>174644376.0</td>\n",
                            "      <td>2.048239e+08</td>\n",
                            "      <td>1.068268e+08</td>\n",
                            "      <td>67817626.00</td>\n",
                            "      <td>1.071561e+09</td>\n",
                            "    </tr>\n",
                            "  </tbody>\n",
                            "</table>\n",
                            "</div>"
                        ]
                    },
                    "metadata": {},
                    "execution_count": 3
                }
            ],
            "metadata": {}
        },
        {
            "cell_type": "code",
            "execution_count": 4,
            "source": [
                "# How many companies we have in the original dataset?\n",
                "df.info()"
            ],
            "outputs": [
                {
                    "output_type": "stream",
                    "name": "stdout",
                    "text": [
                        "<class 'pandas.core.frame.DataFrame'>\n",
                        "RangeIndex: 75165 entries, 0 to 75164\n",
                        "Data columns (total 20 columns):\n",
                        " #   Column                      Non-Null Count  Dtype  \n",
                        "---  ------                      --------------  -----  \n",
                        " 0   2020                        75165 non-null  float64\n",
                        " 1   2019                        75165 non-null  object \n",
                        " 2   EXPEDIENTE                  75165 non-null  float64\n",
                        " 3   NOMBRE                      75165 non-null  object \n",
                        " 4   TIPO COMPAÑIA               75165 non-null  object \n",
                        " 5   ACTIVIDAD ECONÓMICA         75165 non-null  object \n",
                        " 6   REGION                      75165 non-null  object \n",
                        " 7   PROVINCIA                   75165 non-null  object \n",
                        " 8   CIUDAD                      75165 non-null  object \n",
                        " 9   TAMAÑO                      75165 non-null  object \n",
                        " 10  SECTOR                      75165 non-null  object \n",
                        " 11  CANT. EMPLEADOS             75164 non-null  float64\n",
                        " 12  ACTIVO2020                  62489 non-null  float64\n",
                        " 13  PATRIMONIO2020              75165 non-null  float64\n",
                        " 14  INGRESOS POR VENTA2020      75165 non-null  float64\n",
                        " 15  UTILIDAD ANTES DE 2020      75165 non-null  float64\n",
                        " 16  UTILIDAD DEL EJERCICIO2020  75165 non-null  float64\n",
                        " 17  UTILIDAD NETA2020           75165 non-null  float64\n",
                        " 18  IR CAUSADO2020              75165 non-null  float64\n",
                        " 19  INGRESO TOTAL2020           75165 non-null  float64\n",
                        "dtypes: float64(11), object(9)\n",
                        "memory usage: 11.5+ MB\n"
                    ]
                }
            ],
            "metadata": {}
        },
        {
            "cell_type": "markdown",
            "source": [
                "## Reviewing past overview findings"
            ],
            "metadata": {}
        },
        {
            "cell_type": "code",
            "execution_count": 5,
            "source": [
                "# How many unique company sectors there are registered?\n",
                "df.SECTOR.unique()"
            ],
            "outputs": [
                {
                    "output_type": "execute_result",
                    "data": {
                        "text/plain": [
                            "array(['MERCADO DE VALORES', 'SOCIETARIO'], dtype=object)"
                        ]
                    },
                    "metadata": {},
                    "execution_count": 5
                }
            ],
            "metadata": {}
        },
        {
            "cell_type": "code",
            "execution_count": 6,
            "source": [
                "# What are the sizing categories for companies according to SuperCias\n",
                "df.TAMAÑO.unique()"
            ],
            "outputs": [
                {
                    "output_type": "execute_result",
                    "data": {
                        "text/plain": [
                            "array(['GRANDE', 'MEDIANA', 'MICROEMPRESA', 'PEQUEÑA'], dtype=object)"
                        ]
                    },
                    "metadata": {},
                    "execution_count": 6
                }
            ],
            "metadata": {}
        },
        {
            "cell_type": "code",
            "execution_count": 7,
            "source": [
                "# What are the company types we'll be working with\n",
                "df[\"TIPO COMPAÑIA\"].unique()"
            ],
            "outputs": [
                {
                    "output_type": "execute_result",
                    "data": {
                        "text/plain": [
                            "array(['ANÓNIMA', 'SUCURSAL  EXTRANJERA', 'RESPONSABILIDAD LIMITADA',\n",
                            "       'SOCIEDAD POR ACCIONES SIMPLIFICADA', 'ASOCIACIÓN O CONSORCIO',\n",
                            "       'ANÓNIMA  EN PREDIOS RÚSTICOS', 'ECONOMÍA MIXTA',\n",
                            "       'ANÓNIMA MULTINACIONAL ANDINA', 'COMANDITA POR ACCIONES'],\n",
                            "      dtype=object)"
                        ]
                    },
                    "metadata": {},
                    "execution_count": 7
                }
            ],
            "metadata": {}
        },
        {
            "cell_type": "code",
            "execution_count": 8,
            "source": [
                "# How are the companies distributed in between such categories\n",
                "proportion = df.groupby(\"TAMAÑO\")['NOMBRE'].count()\n",
                "proportion\n"
            ],
            "outputs": [
                {
                    "output_type": "execute_result",
                    "data": {
                        "text/plain": [
                            "TAMAÑO\n",
                            "GRANDE           2588\n",
                            "MEDIANA          6124\n",
                            "MICROEMPRESA    47787\n",
                            "PEQUEÑA         18666\n",
                            "Name: NOMBRE, dtype: int64"
                        ]
                    },
                    "metadata": {},
                    "execution_count": 8
                }
            ],
            "metadata": {}
        },
        {
            "cell_type": "code",
            "execution_count": 9,
            "source": [
                "plot = proportion.plot.pie(y='NOMBRE', figsize=(5, 5), label=\"\", colors= [\"#3b2e56\", \"#2e3656\", \"#2e563b\", \"#6b2b26\"] ,autopct='%1.1f%%')"
            ],
            "outputs": [
                {
                    "output_type": "display_data",
                    "data": {
                        "text/plain": [
                            "<Figure size 360x360 with 1 Axes>"
                        ],
                        "image/svg+xml": "<?xml version=\"1.0\" encoding=\"utf-8\" standalone=\"no\"?>\n<!DOCTYPE svg PUBLIC \"-//W3C//DTD SVG 1.1//EN\"\n  \"http://www.w3.org/Graphics/SVG/1.1/DTD/svg11.dtd\">\n<svg height=\"286.2pt\" version=\"1.1\" viewBox=\"0 0 366.322646 286.2\" width=\"366.322646pt\" xmlns=\"http://www.w3.org/2000/svg\" xmlns:xlink=\"http://www.w3.org/1999/xlink\">\n <metadata>\n  <rdf:RDF xmlns:cc=\"http://creativecommons.org/ns#\" xmlns:dc=\"http://purl.org/dc/elements/1.1/\" xmlns:rdf=\"http://www.w3.org/1999/02/22-rdf-syntax-ns#\">\n   <cc:Work>\n    <dc:type rdf:resource=\"http://purl.org/dc/dcmitype/StillImage\"/>\n    <dc:date>2021-08-15T14:23:58.285440</dc:date>\n    <dc:format>image/svg+xml</dc:format>\n    <dc:creator>\n     <cc:Agent>\n      <dc:title>Matplotlib v3.4.2, https://matplotlib.org/</dc:title>\n     </cc:Agent>\n    </dc:creator>\n   </cc:Work>\n  </rdf:RDF>\n </metadata>\n <defs>\n  <style type=\"text/css\">*{stroke-linecap:butt;stroke-linejoin:round;}</style>\n </defs>\n <g id=\"figure_1\">\n  <g id=\"patch_1\">\n   <path d=\"M 0 286.2 \nL 366.322646 286.2 \nL 366.322646 0 \nL 0 0 \nz\n\"/>\n  </g>\n  <g id=\"axes_1\">\n   <g id=\"patch_2\">\n    <path d=\"M 306.312096 143.1 \nC 306.312096 139.179039 306.099983 135.260948 305.676687 131.362903 \nC 305.253392 127.464859 304.619533 123.592565 303.77789 119.763 \nL 197.592096 143.1 \nL 306.312096 143.1 \nz\n\" style=\"fill:#3b2e56;\"/>\n   </g>\n   <g id=\"patch_3\">\n    <path d=\"M 303.77789 119.763 \nC 301.784076 110.690937 298.635838 101.911676 294.410182 93.63995 \nC 290.184526 85.368224 284.916185 77.672029 278.734021 70.739608 \nL 197.592096 143.1 \nL 303.77789 119.763 \nz\n\" style=\"fill:#2e3656;\"/>\n   </g>\n   <g id=\"patch_4\">\n    <path d=\"M 278.734021 70.739608 \nC 266.628011 57.164433 251.306635 46.84187 234.178449 40.720915 \nC 217.050264 34.599959 198.65675 32.874115 180.6889 35.702047 \nC 162.72105 38.529978 145.746889 45.822285 131.326922 56.908555 \nC 116.906955 67.994825 105.497046 82.524583 98.146156 99.162048 \nC 90.795267 115.799514 87.735782 134.018719 89.248975 152.144697 \nC 90.762167 170.270675 96.800199 187.730402 106.807969 202.918732 \nC 116.815739 218.107063 130.476867 230.543841 146.535429 239.085703 \nC 162.593992 247.627566 180.542321 252.004474 198.730355 251.814041 \nL 197.592096 143.1 \nL 278.734021 70.739608 \nz\n\" style=\"fill:#2e563b;\"/>\n   </g>\n   <g id=\"patch_5\">\n    <path d=\"M 198.730355 251.814041 \nC 227.355265 251.514332 254.734394 239.920821 274.87013 219.573157 \nC 295.005866 199.225494 306.312094 171.726486 306.312096 143.100008 \nL 197.592096 143.1 \nL 198.730355 251.814041 \nz\n\" style=\"fill:#6b2b26;\"/>\n   </g>\n   <g id=\"matplotlib.axis_1\"/>\n   <g id=\"matplotlib.axis_2\"/>\n   <g id=\"text_1\">\n    <!-- GRANDE -->\n    <g style=\"fill:#ffffff;\" transform=\"translate(316.485146 132.948569)scale(0.1 -0.1)\">\n     <defs>\n      <path d=\"M 3809 666 \nL 3809 1919 \nL 2778 1919 \nL 2778 2438 \nL 4434 2438 \nL 4434 434 \nQ 4069 175 3628 42 \nQ 3188 -91 2688 -91 \nQ 1594 -91 976 548 \nQ 359 1188 359 2328 \nQ 359 3472 976 4111 \nQ 1594 4750 2688 4750 \nQ 3144 4750 3555 4637 \nQ 3966 4525 4313 4306 \nL 4313 3634 \nQ 3963 3931 3569 4081 \nQ 3175 4231 2741 4231 \nQ 1884 4231 1454 3753 \nQ 1025 3275 1025 2328 \nQ 1025 1384 1454 906 \nQ 1884 428 2741 428 \nQ 3075 428 3337 486 \nQ 3600 544 3809 666 \nz\n\" id=\"DejaVuSans-47\" transform=\"scale(0.015625)\"/>\n      <path d=\"M 2841 2188 \nQ 3044 2119 3236 1894 \nQ 3428 1669 3622 1275 \nL 4263 0 \nL 3584 0 \nL 2988 1197 \nQ 2756 1666 2539 1819 \nQ 2322 1972 1947 1972 \nL 1259 1972 \nL 1259 0 \nL 628 0 \nL 628 4666 \nL 2053 4666 \nQ 2853 4666 3247 4331 \nQ 3641 3997 3641 3322 \nQ 3641 2881 3436 2590 \nQ 3231 2300 2841 2188 \nz\nM 1259 4147 \nL 1259 2491 \nL 2053 2491 \nQ 2509 2491 2742 2702 \nQ 2975 2913 2975 3322 \nQ 2975 3731 2742 3939 \nQ 2509 4147 2053 4147 \nL 1259 4147 \nz\n\" id=\"DejaVuSans-52\" transform=\"scale(0.015625)\"/>\n      <path d=\"M 2188 4044 \nL 1331 1722 \nL 3047 1722 \nL 2188 4044 \nz\nM 1831 4666 \nL 2547 4666 \nL 4325 0 \nL 3669 0 \nL 3244 1197 \nL 1141 1197 \nL 716 0 \nL 50 0 \nL 1831 4666 \nz\n\" id=\"DejaVuSans-41\" transform=\"scale(0.015625)\"/>\n      <path d=\"M 628 4666 \nL 1478 4666 \nL 3547 763 \nL 3547 4666 \nL 4159 4666 \nL 4159 0 \nL 3309 0 \nL 1241 3903 \nL 1241 0 \nL 628 0 \nL 628 4666 \nz\n\" id=\"DejaVuSans-4e\" transform=\"scale(0.015625)\"/>\n      <path d=\"M 1259 4147 \nL 1259 519 \nL 2022 519 \nQ 2988 519 3436 956 \nQ 3884 1394 3884 2338 \nQ 3884 3275 3436 3711 \nQ 2988 4147 2022 4147 \nL 1259 4147 \nz\nM 628 4666 \nL 1925 4666 \nQ 3281 4666 3915 4102 \nQ 4550 3538 4550 2338 \nQ 4550 1131 3912 565 \nQ 3275 0 1925 0 \nL 628 0 \nL 628 4666 \nz\n\" id=\"DejaVuSans-44\" transform=\"scale(0.015625)\"/>\n      <path d=\"M 628 4666 \nL 3578 4666 \nL 3578 4134 \nL 1259 4134 \nL 1259 2753 \nL 3481 2753 \nL 3481 2222 \nL 1259 2222 \nL 1259 531 \nL 3634 531 \nL 3634 0 \nL 628 0 \nL 628 4666 \nz\n\" id=\"DejaVuSans-45\" transform=\"scale(0.015625)\"/>\n     </defs>\n     <use xlink:href=\"#DejaVuSans-47\"/>\n     <use x=\"77.490234\" xlink:href=\"#DejaVuSans-52\"/>\n     <use x=\"142.972656\" xlink:href=\"#DejaVuSans-41\"/>\n     <use x=\"211.380859\" xlink:href=\"#DejaVuSans-4e\"/>\n     <use x=\"286.185547\" xlink:href=\"#DejaVuSans-44\"/>\n     <use x=\"363.1875\" xlink:href=\"#DejaVuSans-45\"/>\n    </g>\n   </g>\n   <g id=\"text_2\">\n    <!-- 3.4% -->\n    <g style=\"fill:#ffffff;\" transform=\"translate(249.740507 138.817117)scale(0.1 -0.1)\">\n     <defs>\n      <path d=\"M 2597 2516 \nQ 3050 2419 3304 2112 \nQ 3559 1806 3559 1356 \nQ 3559 666 3084 287 \nQ 2609 -91 1734 -91 \nQ 1441 -91 1130 -33 \nQ 819 25 488 141 \nL 488 750 \nQ 750 597 1062 519 \nQ 1375 441 1716 441 \nQ 2309 441 2620 675 \nQ 2931 909 2931 1356 \nQ 2931 1769 2642 2001 \nQ 2353 2234 1838 2234 \nL 1294 2234 \nL 1294 2753 \nL 1863 2753 \nQ 2328 2753 2575 2939 \nQ 2822 3125 2822 3475 \nQ 2822 3834 2567 4026 \nQ 2313 4219 1838 4219 \nQ 1578 4219 1281 4162 \nQ 984 4106 628 3988 \nL 628 4550 \nQ 988 4650 1302 4700 \nQ 1616 4750 1894 4750 \nQ 2613 4750 3031 4423 \nQ 3450 4097 3450 3541 \nQ 3450 3153 3228 2886 \nQ 3006 2619 2597 2516 \nz\n\" id=\"DejaVuSans-33\" transform=\"scale(0.015625)\"/>\n      <path d=\"M 684 794 \nL 1344 794 \nL 1344 0 \nL 684 0 \nL 684 794 \nz\n\" id=\"DejaVuSans-2e\" transform=\"scale(0.015625)\"/>\n      <path d=\"M 2419 4116 \nL 825 1625 \nL 2419 1625 \nL 2419 4116 \nz\nM 2253 4666 \nL 3047 4666 \nL 3047 1625 \nL 3713 1625 \nL 3713 1100 \nL 3047 1100 \nL 3047 0 \nL 2419 0 \nL 2419 1100 \nL 313 1100 \nL 313 1709 \nL 2253 4666 \nz\n\" id=\"DejaVuSans-34\" transform=\"scale(0.015625)\"/>\n      <path d=\"M 4653 2053 \nQ 4381 2053 4226 1822 \nQ 4072 1591 4072 1178 \nQ 4072 772 4226 539 \nQ 4381 306 4653 306 \nQ 4919 306 5073 539 \nQ 5228 772 5228 1178 \nQ 5228 1588 5073 1820 \nQ 4919 2053 4653 2053 \nz\nM 4653 2450 \nQ 5147 2450 5437 2106 \nQ 5728 1763 5728 1178 \nQ 5728 594 5436 251 \nQ 5144 -91 4653 -91 \nQ 4153 -91 3862 251 \nQ 3572 594 3572 1178 \nQ 3572 1766 3864 2108 \nQ 4156 2450 4653 2450 \nz\nM 1428 4353 \nQ 1159 4353 1004 4120 \nQ 850 3888 850 3481 \nQ 850 3069 1003 2837 \nQ 1156 2606 1428 2606 \nQ 1700 2606 1854 2837 \nQ 2009 3069 2009 3481 \nQ 2009 3884 1853 4118 \nQ 1697 4353 1428 4353 \nz\nM 4250 4750 \nL 4750 4750 \nL 1831 -91 \nL 1331 -91 \nL 4250 4750 \nz\nM 1428 4750 \nQ 1922 4750 2215 4408 \nQ 2509 4066 2509 3481 \nQ 2509 2891 2217 2550 \nQ 1925 2209 1428 2209 \nQ 931 2209 642 2551 \nQ 353 2894 353 3481 \nQ 353 4063 643 4406 \nQ 934 4750 1428 4750 \nz\n\" id=\"DejaVuSans-25\" transform=\"scale(0.015625)\"/>\n     </defs>\n     <use xlink:href=\"#DejaVuSans-33\"/>\n     <use x=\"63.623047\" xlink:href=\"#DejaVuSans-2e\"/>\n     <use x=\"95.410156\" xlink:href=\"#DejaVuSans-34\"/>\n     <use x=\"159.033203\" xlink:href=\"#DejaVuSans-25\"/>\n    </g>\n   </g>\n   <g id=\"text_3\">\n    <!-- MEDIANA -->\n    <g style=\"fill:#ffffff;\" transform=\"translate(304.091991 91.45332)scale(0.1 -0.1)\">\n     <defs>\n      <path d=\"M 628 4666 \nL 1569 4666 \nL 2759 1491 \nL 3956 4666 \nL 4897 4666 \nL 4897 0 \nL 4281 0 \nL 4281 4097 \nL 3078 897 \nL 2444 897 \nL 1241 4097 \nL 1241 0 \nL 628 0 \nL 628 4666 \nz\n\" id=\"DejaVuSans-4d\" transform=\"scale(0.015625)\"/>\n      <path d=\"M 628 4666 \nL 1259 4666 \nL 1259 0 \nL 628 0 \nL 628 4666 \nz\n\" id=\"DejaVuSans-49\" transform=\"scale(0.015625)\"/>\n     </defs>\n     <use xlink:href=\"#DejaVuSans-4d\"/>\n     <use x=\"86.279297\" xlink:href=\"#DejaVuSans-45\"/>\n     <use x=\"149.462891\" xlink:href=\"#DejaVuSans-44\"/>\n     <use x=\"226.464844\" xlink:href=\"#DejaVuSans-49\"/>\n     <use x=\"255.957031\" xlink:href=\"#DejaVuSans-41\"/>\n     <use x=\"324.365234\" xlink:href=\"#DejaVuSans-4e\"/>\n     <use x=\"399.169922\" xlink:href=\"#DejaVuSans-41\"/>\n    </g>\n   </g>\n   <g id=\"text_4\">\n    <!-- 8.1% -->\n    <g style=\"fill:#ffffff;\" transform=\"translate(242.980604 116.183345)scale(0.1 -0.1)\">\n     <defs>\n      <path d=\"M 2034 2216 \nQ 1584 2216 1326 1975 \nQ 1069 1734 1069 1313 \nQ 1069 891 1326 650 \nQ 1584 409 2034 409 \nQ 2484 409 2743 651 \nQ 3003 894 3003 1313 \nQ 3003 1734 2745 1975 \nQ 2488 2216 2034 2216 \nz\nM 1403 2484 \nQ 997 2584 770 2862 \nQ 544 3141 544 3541 \nQ 544 4100 942 4425 \nQ 1341 4750 2034 4750 \nQ 2731 4750 3128 4425 \nQ 3525 4100 3525 3541 \nQ 3525 3141 3298 2862 \nQ 3072 2584 2669 2484 \nQ 3125 2378 3379 2068 \nQ 3634 1759 3634 1313 \nQ 3634 634 3220 271 \nQ 2806 -91 2034 -91 \nQ 1263 -91 848 271 \nQ 434 634 434 1313 \nQ 434 1759 690 2068 \nQ 947 2378 1403 2484 \nz\nM 1172 3481 \nQ 1172 3119 1398 2916 \nQ 1625 2713 2034 2713 \nQ 2441 2713 2670 2916 \nQ 2900 3119 2900 3481 \nQ 2900 3844 2670 4047 \nQ 2441 4250 2034 4250 \nQ 1625 4250 1398 4047 \nQ 1172 3844 1172 3481 \nz\n\" id=\"DejaVuSans-38\" transform=\"scale(0.015625)\"/>\n      <path d=\"M 794 531 \nL 1825 531 \nL 1825 4091 \nL 703 3866 \nL 703 4441 \nL 1819 4666 \nL 2450 4666 \nL 2450 531 \nL 3481 531 \nL 3481 0 \nL 794 0 \nL 794 531 \nz\n\" id=\"DejaVuSans-31\" transform=\"scale(0.015625)\"/>\n     </defs>\n     <use xlink:href=\"#DejaVuSans-38\"/>\n     <use x=\"63.623047\" xlink:href=\"#DejaVuSans-2e\"/>\n     <use x=\"95.410156\" xlink:href=\"#DejaVuSans-31\"/>\n     <use x=\"159.033203\" xlink:href=\"#DejaVuSans-25\"/>\n    </g>\n   </g>\n   <g id=\"text_5\">\n    <!-- MICROEMPRESA -->\n    <g style=\"fill:#ffffff;\" transform=\"translate(7.2 97.527628)scale(0.1 -0.1)\">\n     <defs>\n      <path d=\"M 4122 4306 \nL 4122 3641 \nQ 3803 3938 3442 4084 \nQ 3081 4231 2675 4231 \nQ 1875 4231 1450 3742 \nQ 1025 3253 1025 2328 \nQ 1025 1406 1450 917 \nQ 1875 428 2675 428 \nQ 3081 428 3442 575 \nQ 3803 722 4122 1019 \nL 4122 359 \nQ 3791 134 3420 21 \nQ 3050 -91 2638 -91 \nQ 1578 -91 968 557 \nQ 359 1206 359 2328 \nQ 359 3453 968 4101 \nQ 1578 4750 2638 4750 \nQ 3056 4750 3426 4639 \nQ 3797 4528 4122 4306 \nz\n\" id=\"DejaVuSans-43\" transform=\"scale(0.015625)\"/>\n      <path d=\"M 2522 4238 \nQ 1834 4238 1429 3725 \nQ 1025 3213 1025 2328 \nQ 1025 1447 1429 934 \nQ 1834 422 2522 422 \nQ 3209 422 3611 934 \nQ 4013 1447 4013 2328 \nQ 4013 3213 3611 3725 \nQ 3209 4238 2522 4238 \nz\nM 2522 4750 \nQ 3503 4750 4090 4092 \nQ 4678 3434 4678 2328 \nQ 4678 1225 4090 567 \nQ 3503 -91 2522 -91 \nQ 1538 -91 948 565 \nQ 359 1222 359 2328 \nQ 359 3434 948 4092 \nQ 1538 4750 2522 4750 \nz\n\" id=\"DejaVuSans-4f\" transform=\"scale(0.015625)\"/>\n      <path d=\"M 1259 4147 \nL 1259 2394 \nL 2053 2394 \nQ 2494 2394 2734 2622 \nQ 2975 2850 2975 3272 \nQ 2975 3691 2734 3919 \nQ 2494 4147 2053 4147 \nL 1259 4147 \nz\nM 628 4666 \nL 2053 4666 \nQ 2838 4666 3239 4311 \nQ 3641 3956 3641 3272 \nQ 3641 2581 3239 2228 \nQ 2838 1875 2053 1875 \nL 1259 1875 \nL 1259 0 \nL 628 0 \nL 628 4666 \nz\n\" id=\"DejaVuSans-50\" transform=\"scale(0.015625)\"/>\n      <path d=\"M 3425 4513 \nL 3425 3897 \nQ 3066 4069 2747 4153 \nQ 2428 4238 2131 4238 \nQ 1616 4238 1336 4038 \nQ 1056 3838 1056 3469 \nQ 1056 3159 1242 3001 \nQ 1428 2844 1947 2747 \nL 2328 2669 \nQ 3034 2534 3370 2195 \nQ 3706 1856 3706 1288 \nQ 3706 609 3251 259 \nQ 2797 -91 1919 -91 \nQ 1588 -91 1214 -16 \nQ 841 59 441 206 \nL 441 856 \nQ 825 641 1194 531 \nQ 1563 422 1919 422 \nQ 2459 422 2753 634 \nQ 3047 847 3047 1241 \nQ 3047 1584 2836 1778 \nQ 2625 1972 2144 2069 \nL 1759 2144 \nQ 1053 2284 737 2584 \nQ 422 2884 422 3419 \nQ 422 4038 858 4394 \nQ 1294 4750 2059 4750 \nQ 2388 4750 2728 4690 \nQ 3069 4631 3425 4513 \nz\n\" id=\"DejaVuSans-53\" transform=\"scale(0.015625)\"/>\n     </defs>\n     <use xlink:href=\"#DejaVuSans-4d\"/>\n     <use x=\"86.279297\" xlink:href=\"#DejaVuSans-49\"/>\n     <use x=\"115.771484\" xlink:href=\"#DejaVuSans-43\"/>\n     <use x=\"185.595703\" xlink:href=\"#DejaVuSans-52\"/>\n     <use x=\"255.078125\" xlink:href=\"#DejaVuSans-4f\"/>\n     <use x=\"333.789062\" xlink:href=\"#DejaVuSans-45\"/>\n     <use x=\"396.972656\" xlink:href=\"#DejaVuSans-4d\"/>\n     <use x=\"483.251953\" xlink:href=\"#DejaVuSans-50\"/>\n     <use x=\"543.554688\" xlink:href=\"#DejaVuSans-52\"/>\n     <use x=\"613.037109\" xlink:href=\"#DejaVuSans-45\"/>\n     <use x=\"676.220703\" xlink:href=\"#DejaVuSans-53\"/>\n     <use x=\"741.572266\" xlink:href=\"#DejaVuSans-41\"/>\n    </g>\n   </g>\n   <g id=\"text_6\">\n    <!-- 63.6% -->\n    <g style=\"fill:#ffffff;\" transform=\"translate(122.040938 119.496604)scale(0.1 -0.1)\">\n     <defs>\n      <path d=\"M 2113 2584 \nQ 1688 2584 1439 2293 \nQ 1191 2003 1191 1497 \nQ 1191 994 1439 701 \nQ 1688 409 2113 409 \nQ 2538 409 2786 701 \nQ 3034 994 3034 1497 \nQ 3034 2003 2786 2293 \nQ 2538 2584 2113 2584 \nz\nM 3366 4563 \nL 3366 3988 \nQ 3128 4100 2886 4159 \nQ 2644 4219 2406 4219 \nQ 1781 4219 1451 3797 \nQ 1122 3375 1075 2522 \nQ 1259 2794 1537 2939 \nQ 1816 3084 2150 3084 \nQ 2853 3084 3261 2657 \nQ 3669 2231 3669 1497 \nQ 3669 778 3244 343 \nQ 2819 -91 2113 -91 \nQ 1303 -91 875 529 \nQ 447 1150 447 2328 \nQ 447 3434 972 4092 \nQ 1497 4750 2381 4750 \nQ 2619 4750 2861 4703 \nQ 3103 4656 3366 4563 \nz\n\" id=\"DejaVuSans-36\" transform=\"scale(0.015625)\"/>\n     </defs>\n     <use xlink:href=\"#DejaVuSans-36\"/>\n     <use x=\"63.623047\" xlink:href=\"#DejaVuSans-33\"/>\n     <use x=\"127.246094\" xlink:href=\"#DejaVuSans-2e\"/>\n     <use x=\"159.033203\" xlink:href=\"#DejaVuSans-36\"/>\n     <use x=\"222.65625\" xlink:href=\"#DejaVuSans-25\"/>\n    </g>\n   </g>\n   <g id=\"text_7\">\n    <!-- PEQUEÑA -->\n    <g style=\"fill:#ffffff;\" transform=\"translate(282.597933 230.379067)scale(0.1 -0.1)\">\n     <defs>\n      <path d=\"M 2522 4238 \nQ 1834 4238 1429 3725 \nQ 1025 3213 1025 2328 \nQ 1025 1447 1429 934 \nQ 1834 422 2522 422 \nQ 3209 422 3611 934 \nQ 4013 1447 4013 2328 \nQ 4013 3213 3611 3725 \nQ 3209 4238 2522 4238 \nz\nM 3406 84 \nL 4238 -825 \nL 3475 -825 \nL 2784 -78 \nQ 2681 -84 2626 -87 \nQ 2572 -91 2522 -91 \nQ 1538 -91 948 567 \nQ 359 1225 359 2328 \nQ 359 3434 948 4092 \nQ 1538 4750 2522 4750 \nQ 3503 4750 4090 4092 \nQ 4678 3434 4678 2328 \nQ 4678 1516 4351 937 \nQ 4025 359 3406 84 \nz\n\" id=\"DejaVuSans-51\" transform=\"scale(0.015625)\"/>\n      <path d=\"M 556 4666 \nL 1191 4666 \nL 1191 1831 \nQ 1191 1081 1462 751 \nQ 1734 422 2344 422 \nQ 2950 422 3222 751 \nQ 3494 1081 3494 1831 \nL 3494 4666 \nL 4128 4666 \nL 4128 1753 \nQ 4128 841 3676 375 \nQ 3225 -91 2344 -91 \nQ 1459 -91 1007 375 \nQ 556 841 556 1753 \nL 556 4666 \nz\n\" id=\"DejaVuSans-55\" transform=\"scale(0.015625)\"/>\n      <path d=\"M 628 4666 \nL 1478 4666 \nL 3547 763 \nL 3547 4666 \nL 4159 4666 \nL 4159 0 \nL 3309 0 \nL 1241 3903 \nL 1241 0 \nL 628 0 \nL 628 4666 \nz\nM 2380 5330 \nL 2201 5433 \nQ 2123 5477 2074 5494 \nQ 2026 5511 1989 5511 \nQ 1876 5511 1813 5433 \nQ 1751 5355 1751 5215 \nL 1751 5196 \nL 1361 5196 \nQ 1361 5511 1522 5695 \nQ 1683 5880 1951 5880 \nQ 2064 5880 2159 5855 \nQ 2255 5830 2405 5746 \nL 2583 5652 \nQ 2655 5611 2708 5592 \nQ 2761 5574 2808 5574 \nQ 2908 5574 2970 5653 \nQ 3033 5733 3033 5861 \nL 3033 5880 \nL 3423 5880 \nQ 3417 5568 3256 5382 \nQ 3095 5196 2833 5196 \nQ 2726 5196 2634 5221 \nQ 2542 5246 2380 5330 \nz\n\" id=\"DejaVuSans-d1\" transform=\"scale(0.015625)\"/>\n     </defs>\n     <use xlink:href=\"#DejaVuSans-50\"/>\n     <use x=\"60.302734\" xlink:href=\"#DejaVuSans-45\"/>\n     <use x=\"123.486328\" xlink:href=\"#DejaVuSans-51\"/>\n     <use x=\"202.197266\" xlink:href=\"#DejaVuSans-55\"/>\n     <use x=\"275.390625\" xlink:href=\"#DejaVuSans-45\"/>\n     <use x=\"338.574219\" xlink:href=\"#DejaVuSans-d1\"/>\n     <use x=\"413.378906\" xlink:href=\"#DejaVuSans-41\"/>\n    </g>\n   </g>\n   <g id=\"text_8\">\n    <!-- 24.8% -->\n    <g style=\"fill:#ffffff;\" transform=\"translate(228.075322 191.743269)scale(0.1 -0.1)\">\n     <defs>\n      <path d=\"M 1228 531 \nL 3431 531 \nL 3431 0 \nL 469 0 \nL 469 531 \nQ 828 903 1448 1529 \nQ 2069 2156 2228 2338 \nQ 2531 2678 2651 2914 \nQ 2772 3150 2772 3378 \nQ 2772 3750 2511 3984 \nQ 2250 4219 1831 4219 \nQ 1534 4219 1204 4116 \nQ 875 4013 500 3803 \nL 500 4441 \nQ 881 4594 1212 4672 \nQ 1544 4750 1819 4750 \nQ 2544 4750 2975 4387 \nQ 3406 4025 3406 3419 \nQ 3406 3131 3298 2873 \nQ 3191 2616 2906 2266 \nQ 2828 2175 2409 1742 \nQ 1991 1309 1228 531 \nz\n\" id=\"DejaVuSans-32\" transform=\"scale(0.015625)\"/>\n     </defs>\n     <use xlink:href=\"#DejaVuSans-32\"/>\n     <use x=\"63.623047\" xlink:href=\"#DejaVuSans-34\"/>\n     <use x=\"127.246094\" xlink:href=\"#DejaVuSans-2e\"/>\n     <use x=\"159.033203\" xlink:href=\"#DejaVuSans-38\"/>\n     <use x=\"222.65625\" xlink:href=\"#DejaVuSans-25\"/>\n    </g>\n   </g>\n  </g>\n </g>\n</svg>\n",
                        "image/png": "[encoded data removed]"
                    },
                    "metadata": {}
                }
            ],
            "metadata": {}
        },
        {
            "cell_type": "code",
            "execution_count": 12,
            "source": [
                "# What is the impact/influence of the top companies on the Ecuadorian workforce according to the Dataset\n",
                "top_1000 = df.head(1000)\n",
                "rest = df[1000:]\n",
                "total_emp = df[\"CANT. EMPLEADOS\"].sum()\n",
                "top_emp = top_1000[\"CANT. EMPLEADOS\"].sum()\n",
                "rest_emp = rest[\"CANT. EMPLEADOS\"].sum()\n",
                "\n",
                "top_perc = top_emp/total_emp\n",
                "rest_perc = rest_emp/total_emp\n",
                "\n",
                "print(top_emp, rest_emp)\n",
                "print(top_perc, rest_perc)\n"
            ],
            "outputs": [
                {
                    "output_type": "stream",
                    "name": "stdout",
                    "text": [
                        "342636.0 1090847.0\n",
                        "0.23902341360169602 0.760976586398304\n"
                    ]
                }
            ],
            "metadata": {}
        },
        {
            "cell_type": "code",
            "execution_count": 13,
            "source": [
                "workforce = pd.DataFrame({'EMPLEADOS': [top_emp, rest_emp]}, index=['Top_1000', 'Rest_emp'])\n",
                "workforce"
            ],
            "outputs": [
                {
                    "output_type": "execute_result",
                    "data": {
                        "text/plain": [
                            "          EMPLEADOS\n",
                            "Top_1000   342636.0\n",
                            "Rest_emp  1090847.0"
                        ],
                        "text/html": [
                            "<div>\n",
                            "<style scoped>\n",
                            "    .dataframe tbody tr th:only-of-type {\n",
                            "        vertical-align: middle;\n",
                            "    }\n",
                            "\n",
                            "    .dataframe tbody tr th {\n",
                            "        vertical-align: top;\n",
                            "    }\n",
                            "\n",
                            "    .dataframe thead th {\n",
                            "        text-align: right;\n",
                            "    }\n",
                            "</style>\n",
                            "<table border=\"1\" class=\"dataframe\">\n",
                            "  <thead>\n",
                            "    <tr style=\"text-align: right;\">\n",
                            "      <th></th>\n",
                            "      <th>EMPLEADOS</th>\n",
                            "    </tr>\n",
                            "  </thead>\n",
                            "  <tbody>\n",
                            "    <tr>\n",
                            "      <th>Top_1000</th>\n",
                            "      <td>342636.0</td>\n",
                            "    </tr>\n",
                            "    <tr>\n",
                            "      <th>Rest_emp</th>\n",
                            "      <td>1090847.0</td>\n",
                            "    </tr>\n",
                            "  </tbody>\n",
                            "</table>\n",
                            "</div>"
                        ]
                    },
                    "metadata": {},
                    "execution_count": 13
                }
            ],
            "metadata": {}
        },
        {
            "cell_type": "code",
            "execution_count": 14,
            "source": [
                "workplot = workforce.plot.pie(y='EMPLEADOS', figsize=(5, 5), label=\"\", colors= [\"#3b2e56\",  \"#6b2b26\"] ,autopct='%1.1f%%')\n"
            ],
            "outputs": [
                {
                    "output_type": "display_data",
                    "data": {
                        "text/plain": [
                            "<Figure size 360x360 with 1 Axes>"
                        ],
                        "image/svg+xml": "<?xml version=\"1.0\" encoding=\"utf-8\" standalone=\"no\"?>\n<!DOCTYPE svg PUBLIC \"-//W3C//DTD SVG 1.1//EN\"\n  \"http://www.w3.org/Graphics/SVG/1.1/DTD/svg11.dtd\">\n<svg height=\"286.2pt\" version=\"1.1\" viewBox=\"0 0 286.753003 286.2\" width=\"286.753003pt\" xmlns=\"http://www.w3.org/2000/svg\" xmlns:xlink=\"http://www.w3.org/1999/xlink\">\n <metadata>\n  <rdf:RDF xmlns:cc=\"http://creativecommons.org/ns#\" xmlns:dc=\"http://purl.org/dc/elements/1.1/\" xmlns:rdf=\"http://www.w3.org/1999/02/22-rdf-syntax-ns#\">\n   <cc:Work>\n    <dc:type rdf:resource=\"http://purl.org/dc/dcmitype/StillImage\"/>\n    <dc:date>2021-08-15T14:24:30.061210</dc:date>\n    <dc:format>image/svg+xml</dc:format>\n    <dc:creator>\n     <cc:Agent>\n      <dc:title>Matplotlib v3.4.2, https://matplotlib.org/</dc:title>\n     </cc:Agent>\n    </dc:creator>\n   </cc:Work>\n  </rdf:RDF>\n </metadata>\n <defs>\n  <style type=\"text/css\">*{stroke-linecap:butt;stroke-linejoin:round;}</style>\n </defs>\n <g id=\"figure_1\">\n  <g id=\"patch_1\">\n   <path d=\"M 0 286.2 \nL 286.753003 286.2 \nL 286.753003 0 \nL 0 0 \nz\n\"/>\n  </g>\n  <g id=\"axes_1\">\n   <g id=\"patch_2\">\n    <path d=\"M 252.373003 143.1 \nC 252.373003 115.571417 241.91739 89.044735 223.134434 68.91954 \nC 204.351478 48.794346 178.608389 36.535549 151.145251 34.638465 \nL 143.653003 143.1 \nL 252.373003 143.1 \nz\n\" style=\"fill:#3b2e56;\"/>\n   </g>\n   <g id=\"patch_3\">\n    <path d=\"M 151.145251 34.638465 \nC 140.321162 33.890764 129.44587 34.767568 118.881375 37.239692 \nC 108.31688 39.711815 98.181716 43.75152 88.813248 49.224339 \nC 79.44478 54.697159 70.948121 61.541686 63.606098 69.530093 \nC 56.264074 77.518499 50.159062 86.561153 45.494277 96.357056 \nC 40.829491 106.15296 37.657272 116.592203 36.083211 127.327298 \nC 34.509149 138.062394 34.550907 148.972895 36.207093 159.695627 \nC 37.86328 170.41836 41.115313 180.833015 45.854944 190.592925 \nC 50.594575 200.352836 56.768624 209.348494 64.17158 217.280467 \nC 71.574536 225.21244 80.123336 231.99173 89.533421 237.392679 \nC 98.943507 242.793627 109.109295 246.755635 119.692404 249.14682 \nC 130.275512 251.538006 141.157197 252.33154 151.975245 251.501009 \nC 162.793293 250.670478 173.426326 248.2252 183.520406 244.24657 \nC 193.614486 240.26794 203.056358 234.800599 211.531734 228.026535 \nC 220.00711 221.252471 227.420897 213.247689 233.526315 204.278641 \nC 239.631734 195.309594 244.36028 185.476913 247.554558 175.107895 \nC 250.748836 164.738877 252.373005 153.949862 252.373003 143.09998 \nL 143.653003 143.1 \nL 151.145251 34.638465 \nz\n\" style=\"fill:#6b2b26;\"/>\n   </g>\n   <g id=\"matplotlib.axis_1\"/>\n   <g id=\"matplotlib.axis_2\"/>\n   <g id=\"text_1\">\n    <!-- Top_1000 -->\n    <g style=\"fill:#ffffff;\" transform=\"translate(231.082577 64.033525)scale(0.1 -0.1)\">\n     <defs>\n      <path d=\"M -19 4666 \nL 3928 4666 \nL 3928 4134 \nL 2272 4134 \nL 2272 0 \nL 1638 0 \nL 1638 4134 \nL -19 4134 \nL -19 4666 \nz\n\" id=\"DejaVuSans-54\" transform=\"scale(0.015625)\"/>\n      <path d=\"M 1959 3097 \nQ 1497 3097 1228 2736 \nQ 959 2375 959 1747 \nQ 959 1119 1226 758 \nQ 1494 397 1959 397 \nQ 2419 397 2687 759 \nQ 2956 1122 2956 1747 \nQ 2956 2369 2687 2733 \nQ 2419 3097 1959 3097 \nz\nM 1959 3584 \nQ 2709 3584 3137 3096 \nQ 3566 2609 3566 1747 \nQ 3566 888 3137 398 \nQ 2709 -91 1959 -91 \nQ 1206 -91 779 398 \nQ 353 888 353 1747 \nQ 353 2609 779 3096 \nQ 1206 3584 1959 3584 \nz\n\" id=\"DejaVuSans-6f\" transform=\"scale(0.015625)\"/>\n      <path d=\"M 1159 525 \nL 1159 -1331 \nL 581 -1331 \nL 581 3500 \nL 1159 3500 \nL 1159 2969 \nQ 1341 3281 1617 3432 \nQ 1894 3584 2278 3584 \nQ 2916 3584 3314 3078 \nQ 3713 2572 3713 1747 \nQ 3713 922 3314 415 \nQ 2916 -91 2278 -91 \nQ 1894 -91 1617 61 \nQ 1341 213 1159 525 \nz\nM 3116 1747 \nQ 3116 2381 2855 2742 \nQ 2594 3103 2138 3103 \nQ 1681 3103 1420 2742 \nQ 1159 2381 1159 1747 \nQ 1159 1113 1420 752 \nQ 1681 391 2138 391 \nQ 2594 391 2855 752 \nQ 3116 1113 3116 1747 \nz\n\" id=\"DejaVuSans-70\" transform=\"scale(0.015625)\"/>\n      <path d=\"M 3263 -1063 \nL 3263 -1509 \nL -63 -1509 \nL -63 -1063 \nL 3263 -1063 \nz\n\" id=\"DejaVuSans-5f\" transform=\"scale(0.015625)\"/>\n      <path d=\"M 794 531 \nL 1825 531 \nL 1825 4091 \nL 703 3866 \nL 703 4441 \nL 1819 4666 \nL 2450 4666 \nL 2450 531 \nL 3481 531 \nL 3481 0 \nL 794 0 \nL 794 531 \nz\n\" id=\"DejaVuSans-31\" transform=\"scale(0.015625)\"/>\n      <path d=\"M 2034 4250 \nQ 1547 4250 1301 3770 \nQ 1056 3291 1056 2328 \nQ 1056 1369 1301 889 \nQ 1547 409 2034 409 \nQ 2525 409 2770 889 \nQ 3016 1369 3016 2328 \nQ 3016 3291 2770 3770 \nQ 2525 4250 2034 4250 \nz\nM 2034 4750 \nQ 2819 4750 3233 4129 \nQ 3647 3509 3647 2328 \nQ 3647 1150 3233 529 \nQ 2819 -91 2034 -91 \nQ 1250 -91 836 529 \nQ 422 1150 422 2328 \nQ 422 3509 836 4129 \nQ 1250 4750 2034 4750 \nz\n\" id=\"DejaVuSans-30\" transform=\"scale(0.015625)\"/>\n     </defs>\n     <use xlink:href=\"#DejaVuSans-54\"/>\n     <use x=\"44.083984\" xlink:href=\"#DejaVuSans-6f\"/>\n     <use x=\"105.265625\" xlink:href=\"#DejaVuSans-70\"/>\n     <use x=\"168.742188\" xlink:href=\"#DejaVuSans-5f\"/>\n     <use x=\"218.742188\" xlink:href=\"#DejaVuSans-31\"/>\n     <use x=\"282.365234\" xlink:href=\"#DejaVuSans-30\"/>\n     <use x=\"345.988281\" xlink:href=\"#DejaVuSans-30\"/>\n     <use x=\"409.611328\" xlink:href=\"#DejaVuSans-30\"/>\n    </g>\n   </g>\n   <g id=\"text_2\">\n    <!-- 23.9% -->\n    <g style=\"fill:#ffffff;\" transform=\"translate(175.458268 101.351099)scale(0.1 -0.1)\">\n     <defs>\n      <path d=\"M 1228 531 \nL 3431 531 \nL 3431 0 \nL 469 0 \nL 469 531 \nQ 828 903 1448 1529 \nQ 2069 2156 2228 2338 \nQ 2531 2678 2651 2914 \nQ 2772 3150 2772 3378 \nQ 2772 3750 2511 3984 \nQ 2250 4219 1831 4219 \nQ 1534 4219 1204 4116 \nQ 875 4013 500 3803 \nL 500 4441 \nQ 881 4594 1212 4672 \nQ 1544 4750 1819 4750 \nQ 2544 4750 2975 4387 \nQ 3406 4025 3406 3419 \nQ 3406 3131 3298 2873 \nQ 3191 2616 2906 2266 \nQ 2828 2175 2409 1742 \nQ 1991 1309 1228 531 \nz\n\" id=\"DejaVuSans-32\" transform=\"scale(0.015625)\"/>\n      <path d=\"M 2597 2516 \nQ 3050 2419 3304 2112 \nQ 3559 1806 3559 1356 \nQ 3559 666 3084 287 \nQ 2609 -91 1734 -91 \nQ 1441 -91 1130 -33 \nQ 819 25 488 141 \nL 488 750 \nQ 750 597 1062 519 \nQ 1375 441 1716 441 \nQ 2309 441 2620 675 \nQ 2931 909 2931 1356 \nQ 2931 1769 2642 2001 \nQ 2353 2234 1838 2234 \nL 1294 2234 \nL 1294 2753 \nL 1863 2753 \nQ 2328 2753 2575 2939 \nQ 2822 3125 2822 3475 \nQ 2822 3834 2567 4026 \nQ 2313 4219 1838 4219 \nQ 1578 4219 1281 4162 \nQ 984 4106 628 3988 \nL 628 4550 \nQ 988 4650 1302 4700 \nQ 1616 4750 1894 4750 \nQ 2613 4750 3031 4423 \nQ 3450 4097 3450 3541 \nQ 3450 3153 3228 2886 \nQ 3006 2619 2597 2516 \nz\n\" id=\"DejaVuSans-33\" transform=\"scale(0.015625)\"/>\n      <path d=\"M 684 794 \nL 1344 794 \nL 1344 0 \nL 684 0 \nL 684 794 \nz\n\" id=\"DejaVuSans-2e\" transform=\"scale(0.015625)\"/>\n      <path d=\"M 703 97 \nL 703 672 \nQ 941 559 1184 500 \nQ 1428 441 1663 441 \nQ 2288 441 2617 861 \nQ 2947 1281 2994 2138 \nQ 2813 1869 2534 1725 \nQ 2256 1581 1919 1581 \nQ 1219 1581 811 2004 \nQ 403 2428 403 3163 \nQ 403 3881 828 4315 \nQ 1253 4750 1959 4750 \nQ 2769 4750 3195 4129 \nQ 3622 3509 3622 2328 \nQ 3622 1225 3098 567 \nQ 2575 -91 1691 -91 \nQ 1453 -91 1209 -44 \nQ 966 3 703 97 \nz\nM 1959 2075 \nQ 2384 2075 2632 2365 \nQ 2881 2656 2881 3163 \nQ 2881 3666 2632 3958 \nQ 2384 4250 1959 4250 \nQ 1534 4250 1286 3958 \nQ 1038 3666 1038 3163 \nQ 1038 2656 1286 2365 \nQ 1534 2075 1959 2075 \nz\n\" id=\"DejaVuSans-39\" transform=\"scale(0.015625)\"/>\n      <path d=\"M 4653 2053 \nQ 4381 2053 4226 1822 \nQ 4072 1591 4072 1178 \nQ 4072 772 4226 539 \nQ 4381 306 4653 306 \nQ 4919 306 5073 539 \nQ 5228 772 5228 1178 \nQ 5228 1588 5073 1820 \nQ 4919 2053 4653 2053 \nz\nM 4653 2450 \nQ 5147 2450 5437 2106 \nQ 5728 1763 5728 1178 \nQ 5728 594 5436 251 \nQ 5144 -91 4653 -91 \nQ 4153 -91 3862 251 \nQ 3572 594 3572 1178 \nQ 3572 1766 3864 2108 \nQ 4156 2450 4653 2450 \nz\nM 1428 4353 \nQ 1159 4353 1004 4120 \nQ 850 3888 850 3481 \nQ 850 3069 1003 2837 \nQ 1156 2606 1428 2606 \nQ 1700 2606 1854 2837 \nQ 2009 3069 2009 3481 \nQ 2009 3884 1853 4118 \nQ 1697 4353 1428 4353 \nz\nM 4250 4750 \nL 4750 4750 \nL 1831 -91 \nL 1331 -91 \nL 4250 4750 \nz\nM 1428 4750 \nQ 1922 4750 2215 4408 \nQ 2509 4066 2509 3481 \nQ 2509 2891 2217 2550 \nQ 1925 2209 1428 2209 \nQ 931 2209 642 2551 \nQ 353 2894 353 3481 \nQ 353 4063 643 4406 \nQ 934 4750 1428 4750 \nz\n\" id=\"DejaVuSans-25\" transform=\"scale(0.015625)\"/>\n     </defs>\n     <use xlink:href=\"#DejaVuSans-32\"/>\n     <use x=\"63.623047\" xlink:href=\"#DejaVuSans-33\"/>\n     <use x=\"127.246094\" xlink:href=\"#DejaVuSans-2e\"/>\n     <use x=\"159.033203\" xlink:href=\"#DejaVuSans-39\"/>\n     <use x=\"222.65625\" xlink:href=\"#DejaVuSans-25\"/>\n    </g>\n   </g>\n   <g id=\"text_3\">\n    <!-- Rest_emp -->\n    <g style=\"fill:#ffffff;\" transform=\"translate(7.2 227.179764)scale(0.1 -0.1)\">\n     <defs>\n      <path d=\"M 2841 2188 \nQ 3044 2119 3236 1894 \nQ 3428 1669 3622 1275 \nL 4263 0 \nL 3584 0 \nL 2988 1197 \nQ 2756 1666 2539 1819 \nQ 2322 1972 1947 1972 \nL 1259 1972 \nL 1259 0 \nL 628 0 \nL 628 4666 \nL 2053 4666 \nQ 2853 4666 3247 4331 \nQ 3641 3997 3641 3322 \nQ 3641 2881 3436 2590 \nQ 3231 2300 2841 2188 \nz\nM 1259 4147 \nL 1259 2491 \nL 2053 2491 \nQ 2509 2491 2742 2702 \nQ 2975 2913 2975 3322 \nQ 2975 3731 2742 3939 \nQ 2509 4147 2053 4147 \nL 1259 4147 \nz\n\" id=\"DejaVuSans-52\" transform=\"scale(0.015625)\"/>\n      <path d=\"M 3597 1894 \nL 3597 1613 \nL 953 1613 \nQ 991 1019 1311 708 \nQ 1631 397 2203 397 \nQ 2534 397 2845 478 \nQ 3156 559 3463 722 \nL 3463 178 \nQ 3153 47 2828 -22 \nQ 2503 -91 2169 -91 \nQ 1331 -91 842 396 \nQ 353 884 353 1716 \nQ 353 2575 817 3079 \nQ 1281 3584 2069 3584 \nQ 2775 3584 3186 3129 \nQ 3597 2675 3597 1894 \nz\nM 3022 2063 \nQ 3016 2534 2758 2815 \nQ 2500 3097 2075 3097 \nQ 1594 3097 1305 2825 \nQ 1016 2553 972 2059 \nL 3022 2063 \nz\n\" id=\"DejaVuSans-65\" transform=\"scale(0.015625)\"/>\n      <path d=\"M 2834 3397 \nL 2834 2853 \nQ 2591 2978 2328 3040 \nQ 2066 3103 1784 3103 \nQ 1356 3103 1142 2972 \nQ 928 2841 928 2578 \nQ 928 2378 1081 2264 \nQ 1234 2150 1697 2047 \nL 1894 2003 \nQ 2506 1872 2764 1633 \nQ 3022 1394 3022 966 \nQ 3022 478 2636 193 \nQ 2250 -91 1575 -91 \nQ 1294 -91 989 -36 \nQ 684 19 347 128 \nL 347 722 \nQ 666 556 975 473 \nQ 1284 391 1588 391 \nQ 1994 391 2212 530 \nQ 2431 669 2431 922 \nQ 2431 1156 2273 1281 \nQ 2116 1406 1581 1522 \nL 1381 1569 \nQ 847 1681 609 1914 \nQ 372 2147 372 2553 \nQ 372 3047 722 3315 \nQ 1072 3584 1716 3584 \nQ 2034 3584 2315 3537 \nQ 2597 3491 2834 3397 \nz\n\" id=\"DejaVuSans-73\" transform=\"scale(0.015625)\"/>\n      <path d=\"M 1172 4494 \nL 1172 3500 \nL 2356 3500 \nL 2356 3053 \nL 1172 3053 \nL 1172 1153 \nQ 1172 725 1289 603 \nQ 1406 481 1766 481 \nL 2356 481 \nL 2356 0 \nL 1766 0 \nQ 1100 0 847 248 \nQ 594 497 594 1153 \nL 594 3053 \nL 172 3053 \nL 172 3500 \nL 594 3500 \nL 594 4494 \nL 1172 4494 \nz\n\" id=\"DejaVuSans-74\" transform=\"scale(0.015625)\"/>\n      <path d=\"M 3328 2828 \nQ 3544 3216 3844 3400 \nQ 4144 3584 4550 3584 \nQ 5097 3584 5394 3201 \nQ 5691 2819 5691 2113 \nL 5691 0 \nL 5113 0 \nL 5113 2094 \nQ 5113 2597 4934 2840 \nQ 4756 3084 4391 3084 \nQ 3944 3084 3684 2787 \nQ 3425 2491 3425 1978 \nL 3425 0 \nL 2847 0 \nL 2847 2094 \nQ 2847 2600 2669 2842 \nQ 2491 3084 2119 3084 \nQ 1678 3084 1418 2786 \nQ 1159 2488 1159 1978 \nL 1159 0 \nL 581 0 \nL 581 3500 \nL 1159 3500 \nL 1159 2956 \nQ 1356 3278 1631 3431 \nQ 1906 3584 2284 3584 \nQ 2666 3584 2933 3390 \nQ 3200 3197 3328 2828 \nz\n\" id=\"DejaVuSans-6d\" transform=\"scale(0.015625)\"/>\n     </defs>\n     <use xlink:href=\"#DejaVuSans-52\"/>\n     <use x=\"64.982422\" xlink:href=\"#DejaVuSans-65\"/>\n     <use x=\"126.505859\" xlink:href=\"#DejaVuSans-73\"/>\n     <use x=\"178.605469\" xlink:href=\"#DejaVuSans-74\"/>\n     <use x=\"217.814453\" xlink:href=\"#DejaVuSans-5f\"/>\n     <use x=\"267.814453\" xlink:href=\"#DejaVuSans-65\"/>\n     <use x=\"329.337891\" xlink:href=\"#DejaVuSans-6d\"/>\n     <use x=\"426.75\" xlink:href=\"#DejaVuSans-70\"/>\n    </g>\n   </g>\n   <g id=\"text_4\">\n    <!-- 76.1% -->\n    <g style=\"fill:#ffffff;\" transform=\"translate(80.080555 190.367655)scale(0.1 -0.1)\">\n     <defs>\n      <path d=\"M 525 4666 \nL 3525 4666 \nL 3525 4397 \nL 1831 0 \nL 1172 0 \nL 2766 4134 \nL 525 4134 \nL 525 4666 \nz\n\" id=\"DejaVuSans-37\" transform=\"scale(0.015625)\"/>\n      <path d=\"M 2113 2584 \nQ 1688 2584 1439 2293 \nQ 1191 2003 1191 1497 \nQ 1191 994 1439 701 \nQ 1688 409 2113 409 \nQ 2538 409 2786 701 \nQ 3034 994 3034 1497 \nQ 3034 2003 2786 2293 \nQ 2538 2584 2113 2584 \nz\nM 3366 4563 \nL 3366 3988 \nQ 3128 4100 2886 4159 \nQ 2644 4219 2406 4219 \nQ 1781 4219 1451 3797 \nQ 1122 3375 1075 2522 \nQ 1259 2794 1537 2939 \nQ 1816 3084 2150 3084 \nQ 2853 3084 3261 2657 \nQ 3669 2231 3669 1497 \nQ 3669 778 3244 343 \nQ 2819 -91 2113 -91 \nQ 1303 -91 875 529 \nQ 447 1150 447 2328 \nQ 447 3434 972 4092 \nQ 1497 4750 2381 4750 \nQ 2619 4750 2861 4703 \nQ 3103 4656 3366 4563 \nz\n\" id=\"DejaVuSans-36\" transform=\"scale(0.015625)\"/>\n     </defs>\n     <use xlink:href=\"#DejaVuSans-37\"/>\n     <use x=\"63.623047\" xlink:href=\"#DejaVuSans-36\"/>\n     <use x=\"127.246094\" xlink:href=\"#DejaVuSans-2e\"/>\n     <use x=\"159.033203\" xlink:href=\"#DejaVuSans-31\"/>\n     <use x=\"222.65625\" xlink:href=\"#DejaVuSans-25\"/>\n    </g>\n   </g>\n   <g id=\"legend_1\">\n    <g id=\"patch_4\">\n     <path d=\"M 14.753003 45.1125 \nL 95.776441 45.1125 \nQ 97.776441 45.1125 97.776441 43.1125 \nL 97.776441 14.2 \nQ 97.776441 12.2 95.776441 12.2 \nL 14.753003 12.2 \nQ 12.753003 12.2 12.753003 14.2 \nL 12.753003 43.1125 \nQ 12.753003 45.1125 14.753003 45.1125 \nz\n\" style=\"opacity:0.8;stroke:#cccccc;stroke-linejoin:miter;\"/>\n    </g>\n    <g id=\"patch_5\">\n     <path d=\"M 16.753003 23.798437 \nL 36.753003 23.798437 \nL 36.753003 16.798437 \nL 16.753003 16.798437 \nz\n\" style=\"fill:#3b2e56;\"/>\n    </g>\n    <g id=\"text_5\">\n     <!-- Top_1000 -->\n     <g style=\"fill:#ffffff;\" transform=\"translate(44.753003 23.798437)scale(0.1 -0.1)\">\n      <use xlink:href=\"#DejaVuSans-54\"/>\n      <use x=\"44.083984\" xlink:href=\"#DejaVuSans-6f\"/>\n      <use x=\"105.265625\" xlink:href=\"#DejaVuSans-70\"/>\n      <use x=\"168.742188\" xlink:href=\"#DejaVuSans-5f\"/>\n      <use x=\"218.742188\" xlink:href=\"#DejaVuSans-31\"/>\n      <use x=\"282.365234\" xlink:href=\"#DejaVuSans-30\"/>\n      <use x=\"345.988281\" xlink:href=\"#DejaVuSans-30\"/>\n      <use x=\"409.611328\" xlink:href=\"#DejaVuSans-30\"/>\n     </g>\n    </g>\n    <g id=\"patch_6\">\n     <path d=\"M 16.753003 38.754687 \nL 36.753003 38.754687 \nL 36.753003 31.754687 \nL 16.753003 31.754687 \nz\n\" style=\"fill:#6b2b26;\"/>\n    </g>\n    <g id=\"text_6\">\n     <!-- Rest_emp -->\n     <g style=\"fill:#ffffff;\" transform=\"translate(44.753003 38.754687)scale(0.1 -0.1)\">\n      <use xlink:href=\"#DejaVuSans-52\"/>\n      <use x=\"64.982422\" xlink:href=\"#DejaVuSans-65\"/>\n      <use x=\"126.505859\" xlink:href=\"#DejaVuSans-73\"/>\n      <use x=\"178.605469\" xlink:href=\"#DejaVuSans-74\"/>\n      <use x=\"217.814453\" xlink:href=\"#DejaVuSans-5f\"/>\n      <use x=\"267.814453\" xlink:href=\"#DejaVuSans-65\"/>\n      <use x=\"329.337891\" xlink:href=\"#DejaVuSans-6d\"/>\n      <use x=\"426.75\" xlink:href=\"#DejaVuSans-70\"/>\n     </g>\n    </g>\n   </g>\n  </g>\n </g>\n</svg>\n",
                        "image/png": "[encoded data removed]"
                    },
                    "metadata": {}
                }
            ],
            "metadata": {}
        },
        {
            "cell_type": "code",
            "execution_count": 15,
            "source": [
                "# Let's take a look at amount of employees\n",
                "df.loc[df[\"CANT. EMPLEADOS\"] < 10].shape"
            ],
            "outputs": [
                {
                    "output_type": "execute_result",
                    "data": {
                        "text/plain": [
                            "(62178, 20)"
                        ]
                    },
                    "metadata": {},
                    "execution_count": 15
                }
            ],
            "metadata": {}
        }
    ],
    "metadata": {
        "orig_nbformat": 4,
        "language_info": {
            "name": "python",
            "version": "3.9.5",
            "mimetype": "text/x-python",
            "codemirror_mode": {
                "name": "ipython",
                "version": 3
            },
            "pygments_lexer": "ipython3",
            "nbconvert_exporter": "python",
            "file_extension": ".py"
        },
        "kernelspec": {
            "name": "python3",
            "display_name": "Python 3.9.5 64-bit"
        },
        "interpreter": {
            "hash": "aee8b7b246df8f9039afb4144a1f6fd8d2ca17a180786b69acc140d282b71a49"
        }
    },
    "nbformat": 4,
    "nbformat_minor": 2
}