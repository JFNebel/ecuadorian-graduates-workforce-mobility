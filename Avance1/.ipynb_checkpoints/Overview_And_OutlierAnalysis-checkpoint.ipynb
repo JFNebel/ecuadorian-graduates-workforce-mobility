{
 "cells": [
  {
   "cell_type": "markdown",
   "metadata": {},
   "source": [
    "## Original Companies Dataset Overview"
   ]
  },
  {
   "cell_type": "markdown",
   "metadata": {},
   "source": [
    "## Setup"
   ]
  },
  {
   "cell_type": "code",
   "execution_count": 91,
   "metadata": {},
   "outputs": [],
   "source": [
    "import pandas as pd\n",
    "import matplotlib.pyplot as plt\n",
    "import seaborn as sns\n",
    "import yellowbrick"
   ]
  },
  {
   "cell_type": "code",
   "execution_count": 92,
   "metadata": {},
   "outputs": [
    {
     "data": {
      "text/html": [
       "<div>\n",
       "<style scoped>\n",
       "    .dataframe tbody tr th:only-of-type {\n",
       "        vertical-align: middle;\n",
       "    }\n",
       "\n",
       "    .dataframe tbody tr th {\n",
       "        vertical-align: top;\n",
       "    }\n",
       "\n",
       "    .dataframe thead th {\n",
       "        text-align: right;\n",
       "    }\n",
       "</style>\n",
       "<table border=\"1\" class=\"dataframe\">\n",
       "  <thead>\n",
       "    <tr style=\"text-align: right;\">\n",
       "      <th></th>\n",
       "      <th>2020</th>\n",
       "      <th>2019</th>\n",
       "      <th>EXPEDIENTE</th>\n",
       "      <th>NOMBRE</th>\n",
       "      <th>TIPO COMPAÑIA</th>\n",
       "      <th>ACTIVIDAD ECONÓMICA</th>\n",
       "      <th>REGION</th>\n",
       "      <th>PROVINCIA</th>\n",
       "      <th>CIUDAD</th>\n",
       "      <th>TAMAÑO</th>\n",
       "      <th>SECTOR</th>\n",
       "      <th>CANT. EMPLEADOS</th>\n",
       "      <th>ACTIVO2020</th>\n",
       "      <th>PATRIMONIO2020</th>\n",
       "      <th>INGRESOS POR VENTA2020</th>\n",
       "      <th>UTILIDAD ANTES DE 2020</th>\n",
       "      <th>UTILIDAD DEL EJERCICIO2020</th>\n",
       "      <th>UTILIDAD NETA2020</th>\n",
       "      <th>IR CAUSADO2020</th>\n",
       "      <th>INGRESO TOTAL2020</th>\n",
       "    </tr>\n",
       "  </thead>\n",
       "  <tbody>\n",
       "    <tr>\n",
       "      <th>0</th>\n",
       "      <td>1.0</td>\n",
       "      <td>1</td>\n",
       "      <td>384.0</td>\n",
       "      <td>CORPORACION FAVORITA C.A.</td>\n",
       "      <td>ANÓNIMA</td>\n",
       "      <td>G4711.01 - VENTA AL POR MENOR DE GRAN VARIEDAD...</td>\n",
       "      <td>SIERRA</td>\n",
       "      <td>PICHINCHA                                     ...</td>\n",
       "      <td>QUITO                                         ...</td>\n",
       "      <td>GRANDE</td>\n",
       "      <td>MERCADO DE VALORES</td>\n",
       "      <td>10768.0</td>\n",
       "      <td>2.121860e+09</td>\n",
       "      <td>1.482973e+09</td>\n",
       "      <td>2.170603e+09</td>\n",
       "      <td>187168402.3</td>\n",
       "      <td>2.201981e+08</td>\n",
       "      <td>1.474992e+08</td>\n",
       "      <td>41971212.00</td>\n",
       "      <td>2.170603e+09</td>\n",
       "    </tr>\n",
       "    <tr>\n",
       "      <th>1</th>\n",
       "      <td>2.0</td>\n",
       "      <td>4</td>\n",
       "      <td>6796.0</td>\n",
       "      <td>ECUACORRIENTE</td>\n",
       "      <td>ANÓNIMA</td>\n",
       "      <td>B0729.01 - EXTRACCIÓN Y PREPARACIÓN DE MINERAL...</td>\n",
       "      <td>ORIENTE</td>\n",
       "      <td>ZAMORA CHINCHIPE                              ...</td>\n",
       "      <td>EL PANGUI                                     ...</td>\n",
       "      <td>GRANDE</td>\n",
       "      <td>SOCIETARIO</td>\n",
       "      <td>966.0</td>\n",
       "      <td>1.607423e+09</td>\n",
       "      <td>5.689866e+08</td>\n",
       "      <td>0.000000e+00</td>\n",
       "      <td>-1387158.7</td>\n",
       "      <td>0.000000e+00</td>\n",
       "      <td>-2.633856e+06</td>\n",
       "      <td>1246697.02</td>\n",
       "      <td>0.000000e+00</td>\n",
       "    </tr>\n",
       "    <tr>\n",
       "      <th>2</th>\n",
       "      <td>3.0</td>\n",
       "      <td>3</td>\n",
       "      <td>93144.0</td>\n",
       "      <td>AURELIAN ECUADOR</td>\n",
       "      <td>ANÓNIMA</td>\n",
       "      <td>B0899.09 - EXTRACCIÓN DE OTROS MINERALES: ASBE...</td>\n",
       "      <td>ORIENTE</td>\n",
       "      <td>ZAMORA CHINCHIPE                              ...</td>\n",
       "      <td>LOS ENCUENTROS                                ...</td>\n",
       "      <td>GRANDE</td>\n",
       "      <td>SOCIETARIO</td>\n",
       "      <td>1451.0</td>\n",
       "      <td>1.599727e+09</td>\n",
       "      <td>6.052935e+08</td>\n",
       "      <td>3.587926e+08</td>\n",
       "      <td>-49399080.0</td>\n",
       "      <td>-4.939908e+07</td>\n",
       "      <td>-4.939908e+07</td>\n",
       "      <td>0.00</td>\n",
       "      <td>3.588240e+08</td>\n",
       "    </tr>\n",
       "    <tr>\n",
       "      <th>3</th>\n",
       "      <td>4.0</td>\n",
       "      <td>2</td>\n",
       "      <td>705547.0</td>\n",
       "      <td>SHAYA ECUADOR</td>\n",
       "      <td>ANÓNIMA</td>\n",
       "      <td>B0910.01 - ACTIVIDADES DE SERVICIOS DE EXTRACC...</td>\n",
       "      <td>SIERRA</td>\n",
       "      <td>PICHINCHA                                     ...</td>\n",
       "      <td>QUITO                                         ...</td>\n",
       "      <td>GRANDE</td>\n",
       "      <td>SOCIETARIO</td>\n",
       "      <td>92.0</td>\n",
       "      <td>1.354952e+09</td>\n",
       "      <td>7.868173e+08</td>\n",
       "      <td>6.690761e+08</td>\n",
       "      <td>179317070.0</td>\n",
       "      <td>2.109613e+08</td>\n",
       "      <td>1.337093e+08</td>\n",
       "      <td>45607812.10</td>\n",
       "      <td>6.690761e+08</td>\n",
       "    </tr>\n",
       "    <tr>\n",
       "      <th>4</th>\n",
       "      <td>5.0</td>\n",
       "      <td>5</td>\n",
       "      <td>47845.0</td>\n",
       "      <td>CONSORCIO ECUATORIANO DE TELECOMUNICACIONES CO...</td>\n",
       "      <td>ANÓNIMA</td>\n",
       "      <td>J6120.01 - OPERACIÓN, MANTENIMIENTO O FACILITA...</td>\n",
       "      <td>COSTA</td>\n",
       "      <td>GUAYAS                                        ...</td>\n",
       "      <td>GUAYAQUIL                                     ...</td>\n",
       "      <td>GRANDE</td>\n",
       "      <td>SOCIETARIO</td>\n",
       "      <td>2844.0</td>\n",
       "      <td>1.217718e+09</td>\n",
       "      <td>2.647091e+08</td>\n",
       "      <td>1.066242e+09</td>\n",
       "      <td>174644376.0</td>\n",
       "      <td>2.048239e+08</td>\n",
       "      <td>1.068268e+08</td>\n",
       "      <td>67817626.00</td>\n",
       "      <td>1.071561e+09</td>\n",
       "    </tr>\n",
       "  </tbody>\n",
       "</table>\n",
       "</div>"
      ],
      "text/plain": [
       "   2020 2019  EXPEDIENTE                                             NOMBRE  \\\n",
       "0   1.0    1       384.0                          CORPORACION FAVORITA C.A.   \n",
       "1   2.0    4      6796.0                                      ECUACORRIENTE   \n",
       "2   3.0    3     93144.0                                   AURELIAN ECUADOR   \n",
       "3   4.0    2    705547.0                                      SHAYA ECUADOR   \n",
       "4   5.0    5     47845.0  CONSORCIO ECUATORIANO DE TELECOMUNICACIONES CO...   \n",
       "\n",
       "  TIPO COMPAÑIA                                ACTIVIDAD ECONÓMICA   REGION  \\\n",
       "0       ANÓNIMA  G4711.01 - VENTA AL POR MENOR DE GRAN VARIEDAD...   SIERRA   \n",
       "1       ANÓNIMA  B0729.01 - EXTRACCIÓN Y PREPARACIÓN DE MINERAL...  ORIENTE   \n",
       "2       ANÓNIMA  B0899.09 - EXTRACCIÓN DE OTROS MINERALES: ASBE...  ORIENTE   \n",
       "3       ANÓNIMA  B0910.01 - ACTIVIDADES DE SERVICIOS DE EXTRACC...   SIERRA   \n",
       "4       ANÓNIMA  J6120.01 - OPERACIÓN, MANTENIMIENTO O FACILITA...    COSTA   \n",
       "\n",
       "                                           PROVINCIA  \\\n",
       "0  PICHINCHA                                     ...   \n",
       "1  ZAMORA CHINCHIPE                              ...   \n",
       "2  ZAMORA CHINCHIPE                              ...   \n",
       "3  PICHINCHA                                     ...   \n",
       "4  GUAYAS                                        ...   \n",
       "\n",
       "                                              CIUDAD  TAMAÑO  \\\n",
       "0  QUITO                                         ...  GRANDE   \n",
       "1  EL PANGUI                                     ...  GRANDE   \n",
       "2  LOS ENCUENTROS                                ...  GRANDE   \n",
       "3  QUITO                                         ...  GRANDE   \n",
       "4  GUAYAQUIL                                     ...  GRANDE   \n",
       "\n",
       "               SECTOR  CANT. EMPLEADOS    ACTIVO2020  PATRIMONIO2020  \\\n",
       "0  MERCADO DE VALORES          10768.0  2.121860e+09    1.482973e+09   \n",
       "1          SOCIETARIO            966.0  1.607423e+09    5.689866e+08   \n",
       "2          SOCIETARIO           1451.0  1.599727e+09    6.052935e+08   \n",
       "3          SOCIETARIO             92.0  1.354952e+09    7.868173e+08   \n",
       "4          SOCIETARIO           2844.0  1.217718e+09    2.647091e+08   \n",
       "\n",
       "   INGRESOS POR VENTA2020  UTILIDAD ANTES DE 2020  UTILIDAD DEL EJERCICIO2020  \\\n",
       "0            2.170603e+09             187168402.3                2.201981e+08   \n",
       "1            0.000000e+00              -1387158.7                0.000000e+00   \n",
       "2            3.587926e+08             -49399080.0               -4.939908e+07   \n",
       "3            6.690761e+08             179317070.0                2.109613e+08   \n",
       "4            1.066242e+09             174644376.0                2.048239e+08   \n",
       "\n",
       "   UTILIDAD NETA2020  IR CAUSADO2020  INGRESO TOTAL2020  \n",
       "0       1.474992e+08     41971212.00       2.170603e+09  \n",
       "1      -2.633856e+06      1246697.02       0.000000e+00  \n",
       "2      -4.939908e+07            0.00       3.588240e+08  \n",
       "3       1.337093e+08     45607812.10       6.690761e+08  \n",
       "4       1.068268e+08     67817626.00       1.071561e+09  "
      ]
     },
     "execution_count": 92,
     "metadata": {},
     "output_type": "execute_result"
    }
   ],
   "source": [
    "df = pd.read_csv('Datasets/clean_supercias_75K.csv')\n",
    "df.head()"
   ]
  },
  {
   "cell_type": "markdown",
   "metadata": {},
   "source": [
    "## Categorical Review"
   ]
  },
  {
   "cell_type": "code",
   "execution_count": 93,
   "metadata": {},
   "outputs": [
    {
     "name": "stdout",
     "output_type": "stream",
     "text": [
      "<class 'pandas.core.frame.DataFrame'>\n",
      "RangeIndex: 75165 entries, 0 to 75164\n",
      "Data columns (total 20 columns):\n",
      " #   Column                      Non-Null Count  Dtype  \n",
      "---  ------                      --------------  -----  \n",
      " 0   2020                        75165 non-null  float64\n",
      " 1   2019                        75165 non-null  object \n",
      " 2   EXPEDIENTE                  75165 non-null  float64\n",
      " 3   NOMBRE                      75165 non-null  object \n",
      " 4   TIPO COMPAÑIA               75165 non-null  object \n",
      " 5   ACTIVIDAD ECONÓMICA         75165 non-null  object \n",
      " 6   REGION                      75165 non-null  object \n",
      " 7   PROVINCIA                   75165 non-null  object \n",
      " 8   CIUDAD                      75165 non-null  object \n",
      " 9   TAMAÑO                      75165 non-null  object \n",
      " 10  SECTOR                      75165 non-null  object \n",
      " 11  CANT. EMPLEADOS             75165 non-null  float64\n",
      " 12  ACTIVO2020                  62489 non-null  float64\n",
      " 13  PATRIMONIO2020              75165 non-null  float64\n",
      " 14  INGRESOS POR VENTA2020      75165 non-null  float64\n",
      " 15  UTILIDAD ANTES DE 2020      75165 non-null  float64\n",
      " 16  UTILIDAD DEL EJERCICIO2020  75165 non-null  float64\n",
      " 17  UTILIDAD NETA2020           75165 non-null  float64\n",
      " 18  IR CAUSADO2020              75165 non-null  float64\n",
      " 19  INGRESO TOTAL2020           75165 non-null  float64\n",
      "dtypes: float64(11), object(9)\n",
      "memory usage: 11.5+ MB\n"
     ]
    }
   ],
   "source": [
    "# How many companies we have in the original dataset?\n",
    "df.info()"
   ]
  },
  {
   "cell_type": "code",
   "execution_count": 94,
   "metadata": {},
   "outputs": [
    {
     "data": {
      "text/plain": [
       "array(['MERCADO DE VALORES', 'SOCIETARIO'], dtype=object)"
      ]
     },
     "execution_count": 94,
     "metadata": {},
     "output_type": "execute_result"
    }
   ],
   "source": [
    "# How many unique company sectors there are registered?\n",
    "df.SECTOR.unique()"
   ]
  },
  {
   "cell_type": "code",
   "execution_count": 95,
   "metadata": {},
   "outputs": [
    {
     "data": {
      "text/plain": [
       "array(['GRANDE', 'MEDIANA', 'MICROEMPRESA', 'PEQUEÑA'], dtype=object)"
      ]
     },
     "execution_count": 95,
     "metadata": {},
     "output_type": "execute_result"
    }
   ],
   "source": [
    "# What are the sizing categories for companies according to SuperCias\n",
    "df.TAMAÑO.unique()"
   ]
  },
  {
   "cell_type": "code",
   "execution_count": 96,
   "metadata": {},
   "outputs": [
    {
     "data": {
      "text/plain": [
       "array(['ANÓNIMA', 'SUCURSAL  EXTRANJERA', 'RESPONSABILIDAD LIMITADA',\n",
       "       'SOCIEDAD POR ACCIONES SIMPLIFICADA', 'ASOCIACIÓN O CONSORCIO',\n",
       "       'ANÓNIMA  EN PREDIOS RÚSTICOS', 'ECONOMÍA MIXTA',\n",
       "       'ANÓNIMA MULTINACIONAL ANDINA', 'COMANDITA POR ACCIONES'],\n",
       "      dtype=object)"
      ]
     },
     "execution_count": 96,
     "metadata": {},
     "output_type": "execute_result"
    }
   ],
   "source": [
    "# What are the company types we'll be working with\n",
    "df[\"TIPO COMPAÑIA\"].unique()"
   ]
  },
  {
   "cell_type": "code",
   "execution_count": 97,
   "metadata": {},
   "outputs": [
    {
     "data": {
      "text/plain": [
       "TAMAÑO\n",
       "GRANDE           2588\n",
       "MEDIANA          6124\n",
       "MICROEMPRESA    47787\n",
       "PEQUEÑA         18666\n",
       "Name: NOMBRE, dtype: int64"
      ]
     },
     "execution_count": 97,
     "metadata": {},
     "output_type": "execute_result"
    }
   ],
   "source": [
    "# How are the companies distributed in between such categories\n",
    "proportion = df.groupby(\"TAMAÑO\")['NOMBRE'].count()\n",
    "proportion\n"
   ]
  },
  {
   "cell_type": "code",
   "execution_count": 98,
   "metadata": {},
   "outputs": [
    {
     "data": {
      "image/png": "[encoded data removed]",
      "text/plain": [
       "<Figure size 360x360 with 1 Axes>"
      ]
     },
     "metadata": {},
     "output_type": "display_data"
    }
   ],
   "source": [
    "# Let's visualize\n",
    "plot = proportion.plot.pie(y='NOMBRE', figsize=(5, 5), label=\"\", \n",
    "colors= [\"#3b2e56\", \"#2e3656\", \"#2e563b\", \"#6b2b26\"] ,autopct='%1.1f%%', title=\"Proporción por tamaño\")"
   ]
  },
  {
   "cell_type": "code",
   "execution_count": 99,
   "metadata": {},
   "outputs": [
    {
     "name": "stderr",
     "output_type": "stream",
     "text": [
      "/usr/local/lib/python3.9/site-packages/seaborn/_decorators.py:36: FutureWarning: Pass the following variables as keyword args: x, y. From version 0.12, the only valid positional argument will be `data`, and passing other arguments without an explicit keyword will result in an error or misinterpretation.\n",
      "  warnings.warn(\n"
     ]
    },
    {
     "data": {
      "text/plain": [
       "Text(0, 0.5, 'Número de empresas')"
      ]
     },
     "execution_count": 99,
     "metadata": {},
     "output_type": "execute_result"
    },
    {
     "data": {
      "image/png": "[encoded data removed]",
      "text/plain": [
       "<Figure size 576x396 with 1 Axes>"
      ]
     },
     "metadata": {},
     "output_type": "display_data"
    }
   ],
   "source": [
    "# Visualización que sí va\n",
    "ax=sns.barplot(proportion.index, proportion.values)\n",
    "ax.bar_label(ax.containers[0])  \n",
    "plt.title(\"Cantidad de empresas de empresas de acuerdo al tamaño\")\n",
    "plt.ylabel(\"Número de empresas\")"
   ]
  },
  {
   "cell_type": "code",
   "execution_count": 100,
   "metadata": {},
   "outputs": [
    {
     "name": "stdout",
     "output_type": "stream",
     "text": [
      "349970.0 1090847.0\n",
      "0.24 0.76\n"
     ]
    }
   ],
   "source": [
    "# What is the impact/influence of the top companies on the Ecuadorian workforce according to the Dataset\n",
    "top_1000 = df.head(1000)\n",
    "rest = df[1000:]\n",
    "total_emp = df[\"CANT. EMPLEADOS\"].sum()\n",
    "top_emp = top_1000[\"CANT. EMPLEADOS\"].sum()\n",
    "rest_emp = rest[\"CANT. EMPLEADOS\"].sum()\n",
    "\n",
    "top_perc = top_emp/total_emp\n",
    "rest_perc = rest_emp/total_emp\n",
    "\n",
    "print(top_emp, rest_emp)\n",
    "print(round(top_perc, 2), round(rest_perc, 2))\n"
   ]
  },
  {
   "cell_type": "code",
   "execution_count": 101,
   "metadata": {},
   "outputs": [
    {
     "data": {
      "text/html": [
       "<div>\n",
       "<style scoped>\n",
       "    .dataframe tbody tr th:only-of-type {\n",
       "        vertical-align: middle;\n",
       "    }\n",
       "\n",
       "    .dataframe tbody tr th {\n",
       "        vertical-align: top;\n",
       "    }\n",
       "\n",
       "    .dataframe thead th {\n",
       "        text-align: right;\n",
       "    }\n",
       "</style>\n",
       "<table border=\"1\" class=\"dataframe\">\n",
       "  <thead>\n",
       "    <tr style=\"text-align: right;\">\n",
       "      <th></th>\n",
       "      <th>EMPLEADOS</th>\n",
       "    </tr>\n",
       "  </thead>\n",
       "  <tbody>\n",
       "    <tr>\n",
       "      <th>Top_1000</th>\n",
       "      <td>349970.0</td>\n",
       "    </tr>\n",
       "    <tr>\n",
       "      <th>Rest_emp</th>\n",
       "      <td>1090847.0</td>\n",
       "    </tr>\n",
       "  </tbody>\n",
       "</table>\n",
       "</div>"
      ],
      "text/plain": [
       "          EMPLEADOS\n",
       "Top_1000   349970.0\n",
       "Rest_emp  1090847.0"
      ]
     },
     "execution_count": 101,
     "metadata": {},
     "output_type": "execute_result"
    }
   ],
   "source": [
    "# Let's create a small DataFrame to visualize\n",
    "workforce = pd.DataFrame({'EMPLEADOS': [top_emp, rest_emp]}, index=['Top_1000', 'Rest_emp'])\n",
    "workforce"
   ]
  },
  {
   "cell_type": "code",
   "execution_count": 102,
   "metadata": {},
   "outputs": [
    {
     "data": {
      "image/png": "[encoded data removed]",
      "text/plain": [
       "<Figure size 360x360 with 1 Axes>"
      ]
     },
     "metadata": {},
     "output_type": "display_data"
    }
   ],
   "source": [
    "workplot = workforce.plot.pie(y='EMPLEADOS', figsize=(5, 5), label=\"\", \n",
    "colors= [\"#3b2e56\",  \"#6b2b26\"] ,autopct='%1.1f%%', title=\"Workforce proportion\")"
   ]
  },
  {
   "cell_type": "code",
   "execution_count": 103,
   "metadata": {},
   "outputs": [
    {
     "data": {
      "text/plain": [
       "(62178, 20)"
      ]
     },
     "execution_count": 103,
     "metadata": {},
     "output_type": "execute_result"
    }
   ],
   "source": [
    "# Let's take a look at the number of companies with less than 10 employees\n",
    "df.loc[df[\"CANT. EMPLEADOS\"] < 10].shape"
   ]
  },
  {
   "cell_type": "code",
   "execution_count": 115,
   "metadata": {},
   "outputs": [
    {
     "data": {
      "text/plain": [
       "(75165, 21)"
      ]
     },
     "execution_count": 115,
     "metadata": {},
     "output_type": "execute_result"
    }
   ],
   "source": [
    "# Visualización que sí va aqui se te murio el kernel y perdiste este plot. Volver a armar de ser posible\n",
    "df.shape"
   ]
  },
  {
   "cell_type": "markdown",
   "metadata": {},
   "source": [
    "## Numerical Review"
   ]
  },
  {
   "cell_type": "code",
   "execution_count": 104,
   "metadata": {},
   "outputs": [
    {
     "data": {
      "text/plain": [
       "16184600.78"
      ]
     },
     "execution_count": 104,
     "metadata": {},
     "output_type": "execute_result"
    }
   ],
   "source": [
    "# Let's check the mean and std for income column\n",
    "describe_income = df['INGRESOS POR VENTA2020'].describe()\n",
    "mean_income = describe_income['mean']\n",
    "std_income = describe_income['std']\n",
    "round(std_income, 2)"
   ]
  },
  {
   "cell_type": "code",
   "execution_count": 105,
   "metadata": {},
   "outputs": [],
   "source": [
    "# Making sure the rows with no income (makes no sense) don't interfere with our distribution analysis to much\n",
    "df.loc[df[\"INGRESOS POR VENTA2020\"] == 0, \"INGRESOS POR VENTA2020\"] = mean_income"
   ]
  },
  {
   "cell_type": "code",
   "execution_count": 106,
   "metadata": {},
   "outputs": [
    {
     "data": {
      "text/plain": [
       "7151"
      ]
     },
     "execution_count": 106,
     "metadata": {},
     "output_type": "execute_result"
    }
   ],
   "source": [
    "# How many companies reported income's above the mean\n",
    "above_comp = df[df['INGRESOS POR VENTA2020'] > mean_income].shape[0]\n",
    "above_comp"
   ]
  },
  {
   "cell_type": "code",
   "execution_count": 107,
   "metadata": {},
   "outputs": [
    {
     "data": {
      "text/plain": [
       "9.51"
      ]
     },
     "execution_count": 107,
     "metadata": {},
     "output_type": "execute_result"
    }
   ],
   "source": [
    "# What is their percentaje\n",
    "perc_above_avg = round((above_comp/df.shape[0]) * 100, 2)\n",
    "perc_above_avg"
   ]
  },
  {
   "cell_type": "code",
   "execution_count": 108,
   "metadata": {},
   "outputs": [
    {
     "data": {
      "text/plain": [
       "Text(0.5, 1.0, 'Distribución de compañías por ingresos')"
      ]
     },
     "execution_count": 108,
     "metadata": {},
     "output_type": "execute_result"
    },
    {
     "data": {
      "image/png": "[encoded data removed]",
      "text/plain": [
       "<Figure size 576x396 with 1 Axes>"
      ]
     },
     "metadata": {},
     "output_type": "display_data"
    }
   ],
   "source": [
    "# Let's visualize the distribution\n",
    "plt.boxplot(df['INGRESOS POR VENTA2020'])\n",
    "plt.xlabel(\"Compañías\")\n",
    "plt.ylabel(\"Ingresos\")\n",
    "plt.title(\"Distribución de compañías por ingresos\")"
   ]
  },
  {
   "cell_type": "markdown",
   "metadata": {},
   "source": [
    "## Standarization and Outlier analysis"
   ]
  },
  {
   "cell_type": "markdown",
   "metadata": {},
   "source": [
    "### Standarization"
   ]
  },
  {
   "cell_type": "code",
   "execution_count": 109,
   "metadata": {},
   "outputs": [
    {
     "data": {
      "text/plain": [
       "0        134.037900\n",
       "1          0.000000\n",
       "2         22.091352\n",
       "3         41.262877\n",
       "4         65.802613\n",
       "            ...    \n",
       "75160      0.000000\n",
       "75161      0.000000\n",
       "75162      0.000000\n",
       "75163      0.000000\n",
       "75164      0.000000\n",
       "Name: income_zscore, Length: 75165, dtype: float64"
      ]
     },
     "execution_count": 109,
     "metadata": {},
     "output_type": "execute_result"
    }
   ],
   "source": [
    "# Let's first get a z-score column for income\n",
    "df['income_zscore'] = (df['INGRESOS POR VENTA2020'] - mean_income) / std_income\n",
    "df['income_zscore']"
   ]
  },
  {
   "cell_type": "code",
   "execution_count": 110,
   "metadata": {},
   "outputs": [
    {
     "data": {
      "text/html": [
       "<div>\n",
       "<style scoped>\n",
       "    .dataframe tbody tr th:only-of-type {\n",
       "        vertical-align: middle;\n",
       "    }\n",
       "\n",
       "    .dataframe tbody tr th {\n",
       "        vertical-align: top;\n",
       "    }\n",
       "\n",
       "    .dataframe thead th {\n",
       "        text-align: right;\n",
       "    }\n",
       "</style>\n",
       "<table border=\"1\" class=\"dataframe\">\n",
       "  <thead>\n",
       "    <tr style=\"text-align: right;\">\n",
       "      <th></th>\n",
       "      <th>2020</th>\n",
       "      <th>2019</th>\n",
       "      <th>EXPEDIENTE</th>\n",
       "      <th>NOMBRE</th>\n",
       "      <th>TIPO COMPAÑIA</th>\n",
       "      <th>ACTIVIDAD ECONÓMICA</th>\n",
       "      <th>REGION</th>\n",
       "      <th>PROVINCIA</th>\n",
       "      <th>CIUDAD</th>\n",
       "      <th>TAMAÑO</th>\n",
       "      <th>...</th>\n",
       "      <th>CANT. EMPLEADOS</th>\n",
       "      <th>ACTIVO2020</th>\n",
       "      <th>PATRIMONIO2020</th>\n",
       "      <th>INGRESOS POR VENTA2020</th>\n",
       "      <th>UTILIDAD ANTES DE 2020</th>\n",
       "      <th>UTILIDAD DEL EJERCICIO2020</th>\n",
       "      <th>UTILIDAD NETA2020</th>\n",
       "      <th>IR CAUSADO2020</th>\n",
       "      <th>INGRESO TOTAL2020</th>\n",
       "      <th>income_zscore</th>\n",
       "    </tr>\n",
       "  </thead>\n",
       "  <tbody>\n",
       "    <tr>\n",
       "      <th>1</th>\n",
       "      <td>2.0</td>\n",
       "      <td>4</td>\n",
       "      <td>6796.0</td>\n",
       "      <td>ECUACORRIENTE</td>\n",
       "      <td>ANÓNIMA</td>\n",
       "      <td>B0729.01 - EXTRACCIÓN Y PREPARACIÓN DE MINERAL...</td>\n",
       "      <td>ORIENTE</td>\n",
       "      <td>ZAMORA CHINCHIPE                              ...</td>\n",
       "      <td>EL PANGUI                                     ...</td>\n",
       "      <td>GRANDE</td>\n",
       "      <td>...</td>\n",
       "      <td>966.0</td>\n",
       "      <td>1.607423e+09</td>\n",
       "      <td>568986647.0</td>\n",
       "      <td>1.252873e+06</td>\n",
       "      <td>-1387158.7</td>\n",
       "      <td>0.00</td>\n",
       "      <td>-2633855.7</td>\n",
       "      <td>1246697.02</td>\n",
       "      <td>0.00</td>\n",
       "      <td>0.000000</td>\n",
       "    </tr>\n",
       "    <tr>\n",
       "      <th>16</th>\n",
       "      <td>17.0</td>\n",
       "      <td>15</td>\n",
       "      <td>56871.0</td>\n",
       "      <td>INMOBILIARIA MOTKE</td>\n",
       "      <td>ANÓNIMA</td>\n",
       "      <td>L6810.01 - COMPRA - VENTA, ALQUILER Y EXPLOTAC...</td>\n",
       "      <td>COSTA</td>\n",
       "      <td>GUAYAS                                        ...</td>\n",
       "      <td>GUAYAQUIL                                     ...</td>\n",
       "      <td>GRANDE</td>\n",
       "      <td>...</td>\n",
       "      <td>12.0</td>\n",
       "      <td>5.170639e+08</td>\n",
       "      <td>60910230.6</td>\n",
       "      <td>3.481724e+07</td>\n",
       "      <td>-7242367.6</td>\n",
       "      <td>-7242367.50</td>\n",
       "      <td>-7242367.6</td>\n",
       "      <td>0.00</td>\n",
       "      <td>41090495.40</td>\n",
       "      <td>2.073846</td>\n",
       "    </tr>\n",
       "    <tr>\n",
       "      <th>17</th>\n",
       "      <td>18.0</td>\n",
       "      <td>14</td>\n",
       "      <td>707891.0</td>\n",
       "      <td>DPWORLD POSORJA</td>\n",
       "      <td>ANÓNIMA</td>\n",
       "      <td>F4290.11 - CONSTRUCCIÓN DE VÍAS DE NAVEGACIÓN,...</td>\n",
       "      <td>COSTA</td>\n",
       "      <td>GUAYAS                                        ...</td>\n",
       "      <td>GUAYAQUIL                                     ...</td>\n",
       "      <td>GRANDE</td>\n",
       "      <td>...</td>\n",
       "      <td>567.0</td>\n",
       "      <td>5.039392e+08</td>\n",
       "      <td>63840687.0</td>\n",
       "      <td>2.950014e+07</td>\n",
       "      <td>-38835253.0</td>\n",
       "      <td>-38835253.00</td>\n",
       "      <td>-38835253.0</td>\n",
       "      <td>0.00</td>\n",
       "      <td>31555039.40</td>\n",
       "      <td>1.745317</td>\n",
       "    </tr>\n",
       "    <tr>\n",
       "      <th>22</th>\n",
       "      <td>23.0</td>\n",
       "      <td>21</td>\n",
       "      <td>159851.0</td>\n",
       "      <td>PDVSA ECUADOR</td>\n",
       "      <td>ANÓNIMA</td>\n",
       "      <td>B0610.00 - EXTRACCIÓN DE ACEITES CRUDOS DE PET...</td>\n",
       "      <td>SIERRA</td>\n",
       "      <td>PICHINCHA                                     ...</td>\n",
       "      <td>QUITO                                         ...</td>\n",
       "      <td>MEDIANA</td>\n",
       "      <td>...</td>\n",
       "      <td>12.0</td>\n",
       "      <td>4.334301e+08</td>\n",
       "      <td>82505294.8</td>\n",
       "      <td>1.038048e+06</td>\n",
       "      <td>-14426970.0</td>\n",
       "      <td>-14393949.51</td>\n",
       "      <td>-14459990.0</td>\n",
       "      <td>33020.05</td>\n",
       "      <td>2781919.29</td>\n",
       "      <td>-0.013273</td>\n",
       "    </tr>\n",
       "    <tr>\n",
       "      <th>29</th>\n",
       "      <td>30.0</td>\n",
       "      <td>30</td>\n",
       "      <td>118480.0</td>\n",
       "      <td>AMOVECUADOR</td>\n",
       "      <td>ANÓNIMA</td>\n",
       "      <td>J6120.01 - OPERACIÓN, MANTENIMIENTO O FACILITA...</td>\n",
       "      <td>SIERRA</td>\n",
       "      <td>PICHINCHA                                     ...</td>\n",
       "      <td>QUITO                                         ...</td>\n",
       "      <td>MICROEMPRESA</td>\n",
       "      <td>...</td>\n",
       "      <td>3.0</td>\n",
       "      <td>3.667390e+08</td>\n",
       "      <td>362182715.0</td>\n",
       "      <td>1.252873e+06</td>\n",
       "      <td>-1063675.6</td>\n",
       "      <td>-1063675.60</td>\n",
       "      <td>-1063675.6</td>\n",
       "      <td>0.00</td>\n",
       "      <td>12.17</td>\n",
       "      <td>0.000000</td>\n",
       "    </tr>\n",
       "    <tr>\n",
       "      <th>...</th>\n",
       "      <td>...</td>\n",
       "      <td>...</td>\n",
       "      <td>...</td>\n",
       "      <td>...</td>\n",
       "      <td>...</td>\n",
       "      <td>...</td>\n",
       "      <td>...</td>\n",
       "      <td>...</td>\n",
       "      <td>...</td>\n",
       "      <td>...</td>\n",
       "      <td>...</td>\n",
       "      <td>...</td>\n",
       "      <td>...</td>\n",
       "      <td>...</td>\n",
       "      <td>...</td>\n",
       "      <td>...</td>\n",
       "      <td>...</td>\n",
       "      <td>...</td>\n",
       "      <td>...</td>\n",
       "      <td>...</td>\n",
       "      <td>...</td>\n",
       "    </tr>\n",
       "    <tr>\n",
       "      <th>75160</th>\n",
       "      <td>75647.0</td>\n",
       "      <td>-</td>\n",
       "      <td>734234.0</td>\n",
       "      <td>FMOTOR C.L.</td>\n",
       "      <td>RESPONSABILIDAD LIMITADA</td>\n",
       "      <td>G4510.01 - VENTA DE VEHÍCULOS NUEVOS Y USADOS:...</td>\n",
       "      <td>COSTA</td>\n",
       "      <td>GUAYAS                                        ...</td>\n",
       "      <td>GUAYAQUIL                                     ...</td>\n",
       "      <td>MICROEMPRESA</td>\n",
       "      <td>...</td>\n",
       "      <td>4.0</td>\n",
       "      <td>NaN</td>\n",
       "      <td>0.0</td>\n",
       "      <td>1.252873e+06</td>\n",
       "      <td>0.0</td>\n",
       "      <td>0.00</td>\n",
       "      <td>0.0</td>\n",
       "      <td>0.00</td>\n",
       "      <td>0.00</td>\n",
       "      <td>0.000000</td>\n",
       "    </tr>\n",
       "    <tr>\n",
       "      <th>75161</th>\n",
       "      <td>75648.0</td>\n",
       "      <td>-</td>\n",
       "      <td>734328.0</td>\n",
       "      <td>AGROMORENO CIA.LTDA.</td>\n",
       "      <td>RESPONSABILIDAD LIMITADA</td>\n",
       "      <td>A0122.01 - CULTIVO DE BANANOS Y PLÁTANOS.</td>\n",
       "      <td>SIERRA</td>\n",
       "      <td>AZUAY                                         ...</td>\n",
       "      <td>CUENCA                                        ...</td>\n",
       "      <td>MICROEMPRESA</td>\n",
       "      <td>...</td>\n",
       "      <td>5.0</td>\n",
       "      <td>NaN</td>\n",
       "      <td>0.0</td>\n",
       "      <td>1.252873e+06</td>\n",
       "      <td>0.0</td>\n",
       "      <td>0.00</td>\n",
       "      <td>0.0</td>\n",
       "      <td>0.00</td>\n",
       "      <td>0.00</td>\n",
       "      <td>0.000000</td>\n",
       "    </tr>\n",
       "    <tr>\n",
       "      <th>75162</th>\n",
       "      <td>75649.0</td>\n",
       "      <td>-</td>\n",
       "      <td>734435.0</td>\n",
       "      <td>SUNINVEST CIA.LTDA.</td>\n",
       "      <td>RESPONSABILIDAD LIMITADA</td>\n",
       "      <td>K6420.00 - ACTIVIDADES DE SOCIEDADES DE CARTER...</td>\n",
       "      <td>SIERRA</td>\n",
       "      <td>AZUAY                                         ...</td>\n",
       "      <td>CUENCA                                        ...</td>\n",
       "      <td>MICROEMPRESA</td>\n",
       "      <td>...</td>\n",
       "      <td>2.0</td>\n",
       "      <td>NaN</td>\n",
       "      <td>0.0</td>\n",
       "      <td>1.252873e+06</td>\n",
       "      <td>0.0</td>\n",
       "      <td>0.00</td>\n",
       "      <td>0.0</td>\n",
       "      <td>0.00</td>\n",
       "      <td>0.00</td>\n",
       "      <td>0.000000</td>\n",
       "    </tr>\n",
       "    <tr>\n",
       "      <th>75163</th>\n",
       "      <td>75650.0</td>\n",
       "      <td>-</td>\n",
       "      <td>734896.0</td>\n",
       "      <td>INNOMED-QRS CIA.LTDA.</td>\n",
       "      <td>RESPONSABILIDAD LIMITADA</td>\n",
       "      <td>P8549.11 - ACTIVIDADES DE ENSEÑANZA QUE NO PUE...</td>\n",
       "      <td>SIERRA</td>\n",
       "      <td>PICHINCHA                                     ...</td>\n",
       "      <td>QUITO                                         ...</td>\n",
       "      <td>MICROEMPRESA</td>\n",
       "      <td>...</td>\n",
       "      <td>2.0</td>\n",
       "      <td>NaN</td>\n",
       "      <td>400.0</td>\n",
       "      <td>1.252873e+06</td>\n",
       "      <td>0.0</td>\n",
       "      <td>0.00</td>\n",
       "      <td>0.0</td>\n",
       "      <td>0.00</td>\n",
       "      <td>0.00</td>\n",
       "      <td>0.000000</td>\n",
       "    </tr>\n",
       "    <tr>\n",
       "      <th>75164</th>\n",
       "      <td>75651.0</td>\n",
       "      <td>7949</td>\n",
       "      <td>735411.0</td>\n",
       "      <td>ECUADORIANTRANSACTION</td>\n",
       "      <td>ANÓNIMA</td>\n",
       "      <td>G4690.00 - VENTA AL POR MAYOR DE DIVERSOS PROD...</td>\n",
       "      <td>SIERRA</td>\n",
       "      <td>PICHINCHA                                     ...</td>\n",
       "      <td>QUITO                                         ...</td>\n",
       "      <td>MICROEMPRESA</td>\n",
       "      <td>...</td>\n",
       "      <td>3.0</td>\n",
       "      <td>NaN</td>\n",
       "      <td>0.0</td>\n",
       "      <td>1.252873e+06</td>\n",
       "      <td>0.0</td>\n",
       "      <td>0.00</td>\n",
       "      <td>0.0</td>\n",
       "      <td>0.00</td>\n",
       "      <td>0.00</td>\n",
       "      <td>0.000000</td>\n",
       "    </tr>\n",
       "  </tbody>\n",
       "</table>\n",
       "<p>74877 rows × 21 columns</p>\n",
       "</div>"
      ],
      "text/plain": [
       "          2020  2019  EXPEDIENTE                 NOMBRE  \\\n",
       "1          2.0     4      6796.0          ECUACORRIENTE   \n",
       "16        17.0    15     56871.0     INMOBILIARIA MOTKE   \n",
       "17        18.0    14    707891.0        DPWORLD POSORJA   \n",
       "22        23.0    21    159851.0          PDVSA ECUADOR   \n",
       "29        30.0    30    118480.0            AMOVECUADOR   \n",
       "...        ...   ...         ...                    ...   \n",
       "75160  75647.0     -    734234.0            FMOTOR C.L.   \n",
       "75161  75648.0     -    734328.0   AGROMORENO CIA.LTDA.   \n",
       "75162  75649.0     -    734435.0    SUNINVEST CIA.LTDA.   \n",
       "75163  75650.0     -    734896.0  INNOMED-QRS CIA.LTDA.   \n",
       "75164  75651.0  7949    735411.0  ECUADORIANTRANSACTION   \n",
       "\n",
       "                  TIPO COMPAÑIA  \\\n",
       "1                       ANÓNIMA   \n",
       "16                      ANÓNIMA   \n",
       "17                      ANÓNIMA   \n",
       "22                      ANÓNIMA   \n",
       "29                      ANÓNIMA   \n",
       "...                         ...   \n",
       "75160  RESPONSABILIDAD LIMITADA   \n",
       "75161  RESPONSABILIDAD LIMITADA   \n",
       "75162  RESPONSABILIDAD LIMITADA   \n",
       "75163  RESPONSABILIDAD LIMITADA   \n",
       "75164                   ANÓNIMA   \n",
       "\n",
       "                                     ACTIVIDAD ECONÓMICA   REGION  \\\n",
       "1      B0729.01 - EXTRACCIÓN Y PREPARACIÓN DE MINERAL...  ORIENTE   \n",
       "16     L6810.01 - COMPRA - VENTA, ALQUILER Y EXPLOTAC...    COSTA   \n",
       "17     F4290.11 - CONSTRUCCIÓN DE VÍAS DE NAVEGACIÓN,...    COSTA   \n",
       "22     B0610.00 - EXTRACCIÓN DE ACEITES CRUDOS DE PET...   SIERRA   \n",
       "29     J6120.01 - OPERACIÓN, MANTENIMIENTO O FACILITA...   SIERRA   \n",
       "...                                                  ...      ...   \n",
       "75160  G4510.01 - VENTA DE VEHÍCULOS NUEVOS Y USADOS:...    COSTA   \n",
       "75161          A0122.01 - CULTIVO DE BANANOS Y PLÁTANOS.   SIERRA   \n",
       "75162  K6420.00 - ACTIVIDADES DE SOCIEDADES DE CARTER...   SIERRA   \n",
       "75163  P8549.11 - ACTIVIDADES DE ENSEÑANZA QUE NO PUE...   SIERRA   \n",
       "75164  G4690.00 - VENTA AL POR MAYOR DE DIVERSOS PROD...   SIERRA   \n",
       "\n",
       "                                               PROVINCIA  \\\n",
       "1      ZAMORA CHINCHIPE                              ...   \n",
       "16     GUAYAS                                        ...   \n",
       "17     GUAYAS                                        ...   \n",
       "22     PICHINCHA                                     ...   \n",
       "29     PICHINCHA                                     ...   \n",
       "...                                                  ...   \n",
       "75160  GUAYAS                                        ...   \n",
       "75161  AZUAY                                         ...   \n",
       "75162  AZUAY                                         ...   \n",
       "75163  PICHINCHA                                     ...   \n",
       "75164  PICHINCHA                                     ...   \n",
       "\n",
       "                                                  CIUDAD        TAMAÑO  ...  \\\n",
       "1      EL PANGUI                                     ...        GRANDE  ...   \n",
       "16     GUAYAQUIL                                     ...        GRANDE  ...   \n",
       "17     GUAYAQUIL                                     ...        GRANDE  ...   \n",
       "22     QUITO                                         ...       MEDIANA  ...   \n",
       "29     QUITO                                         ...  MICROEMPRESA  ...   \n",
       "...                                                  ...           ...  ...   \n",
       "75160  GUAYAQUIL                                     ...  MICROEMPRESA  ...   \n",
       "75161  CUENCA                                        ...  MICROEMPRESA  ...   \n",
       "75162  CUENCA                                        ...  MICROEMPRESA  ...   \n",
       "75163  QUITO                                         ...  MICROEMPRESA  ...   \n",
       "75164  QUITO                                         ...  MICROEMPRESA  ...   \n",
       "\n",
       "      CANT. EMPLEADOS    ACTIVO2020  PATRIMONIO2020  INGRESOS POR VENTA2020  \\\n",
       "1               966.0  1.607423e+09     568986647.0            1.252873e+06   \n",
       "16               12.0  5.170639e+08      60910230.6            3.481724e+07   \n",
       "17              567.0  5.039392e+08      63840687.0            2.950014e+07   \n",
       "22               12.0  4.334301e+08      82505294.8            1.038048e+06   \n",
       "29                3.0  3.667390e+08     362182715.0            1.252873e+06   \n",
       "...               ...           ...             ...                     ...   \n",
       "75160             4.0           NaN             0.0            1.252873e+06   \n",
       "75161             5.0           NaN             0.0            1.252873e+06   \n",
       "75162             2.0           NaN             0.0            1.252873e+06   \n",
       "75163             2.0           NaN           400.0            1.252873e+06   \n",
       "75164             3.0           NaN             0.0            1.252873e+06   \n",
       "\n",
       "       UTILIDAD ANTES DE 2020  UTILIDAD DEL EJERCICIO2020  UTILIDAD NETA2020  \\\n",
       "1                  -1387158.7                        0.00         -2633855.7   \n",
       "16                 -7242367.6                 -7242367.50         -7242367.6   \n",
       "17                -38835253.0                -38835253.00        -38835253.0   \n",
       "22                -14426970.0                -14393949.51        -14459990.0   \n",
       "29                 -1063675.6                 -1063675.60         -1063675.6   \n",
       "...                       ...                         ...                ...   \n",
       "75160                     0.0                        0.00                0.0   \n",
       "75161                     0.0                        0.00                0.0   \n",
       "75162                     0.0                        0.00                0.0   \n",
       "75163                     0.0                        0.00                0.0   \n",
       "75164                     0.0                        0.00                0.0   \n",
       "\n",
       "       IR CAUSADO2020  INGRESO TOTAL2020  income_zscore  \n",
       "1          1246697.02               0.00       0.000000  \n",
       "16               0.00        41090495.40       2.073846  \n",
       "17               0.00        31555039.40       1.745317  \n",
       "22           33020.05         2781919.29      -0.013273  \n",
       "29               0.00              12.17       0.000000  \n",
       "...               ...                ...            ...  \n",
       "75160            0.00               0.00       0.000000  \n",
       "75161            0.00               0.00       0.000000  \n",
       "75162            0.00               0.00       0.000000  \n",
       "75163            0.00               0.00       0.000000  \n",
       "75164            0.00               0.00       0.000000  \n",
       "\n",
       "[74877 rows x 21 columns]"
      ]
     },
     "execution_count": 110,
     "metadata": {},
     "output_type": "execute_result"
    }
   ],
   "source": [
    "# Now let's visualize the same income distribution but with no outliers\n",
    "df_no_out = df[ abs(df['income_zscore'])< 3 ]\n",
    "df_no_out\n"
   ]
  },
  {
   "cell_type": "code",
   "execution_count": 114,
   "metadata": {},
   "outputs": [
    {
     "data": {
      "text/plain": [
       "Text(0.5, 1.0, 'Distribución de compañías por ingresos')"
      ]
     },
     "execution_count": 114,
     "metadata": {},
     "output_type": "execute_result"
    },
    {
     "data": {
      "image/png": "[encoded data removed]",
      "text/plain": [
       "<Figure size 576x396 with 1 Axes>"
      ]
     },
     "metadata": {},
     "output_type": "display_data"
    }
   ],
   "source": [
    "# Now let's visualize the same income distribution but with no outliers\n",
    "plt.boxplot(df_no_out['INGRESOS POR VENTA2020'])\n",
    "plt.xlabel(\"Compañías\")\n",
    "plt.ylabel(\"Ingresos\")\n",
    "plt.title(\"Distribución de compañías por ingresos\")"
   ]
  },
  {
   "cell_type": "markdown",
   "metadata": {},
   "source": [
    "It's better but it's bad. This is due to having a very big standard deviation in the income values as given by the SUPERCIAS data set."
   ]
  },
  {
   "cell_type": "markdown",
   "metadata": {},
   "source": [
    "### Outlier Analysis"
   ]
  },
  {
   "cell_type": "code",
   "execution_count": 21,
   "metadata": {},
   "outputs": [],
   "source": [
    "# Let's take a look at the positive outliers (those with a bigger than 3 z-score)\n",
    "df_pos_out = df[ df['income_zscore'] > 3 ]"
   ]
  },
  {
   "cell_type": "code",
   "execution_count": 22,
   "metadata": {},
   "outputs": [
    {
     "data": {
      "text/plain": [
       "288"
      ]
     },
     "execution_count": 22,
     "metadata": {},
     "output_type": "execute_result"
    }
   ],
   "source": [
    "# Let's see how many positive outliers we have\n",
    "df_pos_out.shape[0]"
   ]
  },
  {
   "cell_type": "code",
   "execution_count": 23,
   "metadata": {},
   "outputs": [
    {
     "data": {
      "text/plain": [
       "count    2.880000e+02\n",
       "mean     1.559265e+08\n",
       "std      2.059239e+08\n",
       "min      4.998650e+07\n",
       "25%      6.480444e+07\n",
       "50%      9.102075e+07\n",
       "75%      1.479454e+08\n",
       "max      2.170603e+09\n",
       "Name: INGRESOS POR VENTA2020, dtype: float64"
      ]
     },
     "execution_count": 23,
     "metadata": {},
     "output_type": "execute_result"
    }
   ],
   "source": [
    "# Let's check the mean and std as well as typical cetral tendency measures\n",
    "df_pos_out['INGRESOS POR VENTA2020'].describe()"
   ]
  },
  {
   "cell_type": "code",
   "execution_count": 24,
   "metadata": {},
   "outputs": [
    {
     "data": {
      "text/plain": [
       "0"
      ]
     },
     "execution_count": 24,
     "metadata": {},
     "output_type": "execute_result"
    }
   ],
   "source": [
    "# Now, let's compare those measurements to the negative outliers\n",
    "df[ df['income_zscore'] < -3].shape[0]"
   ]
  },
  {
   "cell_type": "markdown",
   "metadata": {},
   "source": [
    "There are some interesting implications about the dataset not having any negative outliers (more in Preliminary Observations section)."
   ]
  },
  {
   "cell_type": "code",
   "execution_count": 27,
   "metadata": {},
   "outputs": [
    {
     "data": {
      "text/plain": [
       "35.98524082457054"
      ]
     },
     "execution_count": 27,
     "metadata": {},
     "output_type": "execute_result"
    }
   ],
   "source": [
    "# Finally let's check how much percentage of income is earned by the positive outliers in comparison to ALL other companies\n",
    "df_pos_out_income = df_pos_out['INGRESOS POR VENTA2020'].sum()\n",
    "df_no_out_income = df_no_out['INGRESOS POR VENTA2020'].sum()\n",
    "df_total_income = df['INGRESOS POR VENTA2020'].sum()\n",
    "out_income_percentaje = (df_pos_out_income / df_total_income) *100\n",
    "out_income_percentaje"
   ]
  },
  {
   "cell_type": "markdown",
   "metadata": {},
   "source": [
    "## Preliminary observations"
   ]
  },
  {
   "cell_type": "markdown",
   "metadata": {},
   "source": [
    "### Preliminary thoughs\n",
    "\n",
    "After exploring the data set, we can conclude that, in it, there is a heavily squewed distribution when it comes to profits for companies; where less than 10% of the companies are above the mean, but the amount of profit they generate is big enough in value that it pulls the mean upwards significantly.\n",
    "\n",
    "The disparity of income is evidenced not only by what's discussed above but also because of how disperse is de data. There's a standard deviation of $16,163,692.45 (pretty big). \n",
    "\n",
    "Another interesting insight is that there are NO negative outliers (values with less than -3 with a z-score) while there are 288 positive outliers. This in conjunction with what we are discussing about the squewed distribution mean that most companies lie at the bottom of income values but the top companies win a disproportionate amount in comparison when it comes to the Dataset. This is to be expected in most markets. We confirmed this by seeing how 35.99% of ALL income comes from the positive outliers.\n",
    "\n",
    "While it might be tempting to simply get rid of outliers this might very well prove to be a mistake. Getting rid of the top companies to minimize the bias might not be the best solutions since we are going to loose to top players (bigger companies, significant actors, etc) in the workforce according to SUPERCIAS."
   ]
  },
  {
   "cell_type": "markdown",
   "metadata": {},
   "source": []
  }
 ],
 "metadata": {
  "interpreter": {
   "hash": "aee8b7b246df8f9039afb4144a1f6fd8d2ca17a180786b69acc140d282b71a49"
  },
  "kernelspec": {
   "display_name": "Python 3",
   "language": "python",
   "name": "python3"
  },
  "language_info": {
   "codemirror_mode": {
    "name": "ipython",
    "version": 3
   },
   "file_extension": ".py",
   "mimetype": "text/x-python",
   "name": "python",
   "nbconvert_exporter": "python",
   "pygments_lexer": "ipython3",
   "version": "3.9.6"
  }
 },
 "nbformat": 4,
 "nbformat_minor": 4
}
