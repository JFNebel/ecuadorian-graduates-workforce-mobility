{
 "cells": [
  {
   "cell_type": "markdown",
   "source": [
    "# Pregunta 5"
   ],
   "metadata": {}
  },
  {
   "cell_type": "markdown",
   "source": [
    "## Questioning"
   ],
   "metadata": {}
  },
  {
   "cell_type": "markdown",
   "source": [
    "### ¿Is there a relationship between ESPOL graduates and a company's financial performace metric?\n",
    "\n",
    "Background: \n",
    "\n",
    "ROA (Return Of Assets) is proposed as one of the best financial metrics to measure a company's performance due to it being directly tied to the management of assets of a company. It's so powerful that some researchers have tried to find relationship between this and the human talent a company harbors (even if they aren't directly linked with one another).\n",
    "\n",
    "So, we'll see if there's atleast a superficial correlation between the number of ESPOL graduates a company employeed as part of their internal workforce and their own ROA score. "
   ],
   "metadata": {}
  },
  {
   "cell_type": "markdown",
   "source": [
    "## Setup"
   ],
   "metadata": {}
  },
  {
   "cell_type": "code",
   "execution_count": 1,
   "source": [
    "import pandas as pd\n",
    "import matplotlib.pyplot as plt"
   ],
   "outputs": [],
   "metadata": {}
  },
  {
   "cell_type": "code",
   "execution_count": 2,
   "source": [
    "df = pd.read_csv('Datasets/mainDF.csv')\n",
    "df.head(2)"
   ],
   "outputs": [
    {
     "output_type": "execute_result",
     "data": {
      "text/plain": [
       "                      NOMBRE  \\\n",
       "0  CORPORACION FAVORITA C.A.   \n",
       "1              ECUACORRIENTE   \n",
       "\n",
       "                                                LINK  2020 2019  EXPEDIENTE  \\\n",
       "0  https://ec.linkedin.com/company/corporacionfav...   1.0    1       384.0   \n",
       "1  https://www.linkedin.com/company/ecuacorriente...   2.0    4      6796.0   \n",
       "\n",
       "  TIPO COMPAÑIA                                ACTIVIDAD ECONÓMICA   REGION  \\\n",
       "0       ANÓNIMA  G4711.01 - VENTA AL POR MENOR DE GRAN VARIEDAD...   SIERRA   \n",
       "1       ANÓNIMA  B0729.01 - EXTRACCIÓN Y PREPARACIÓN DE MINERAL...  ORIENTE   \n",
       "\n",
       "                                           PROVINCIA  \\\n",
       "0  PICHINCHA                                     ...   \n",
       "1  ZAMORA CHINCHIPE                              ...   \n",
       "\n",
       "                                              CIUDAD  ... CANT. EMPLEADOS  \\\n",
       "0  QUITO                                         ...  ...         10768.0   \n",
       "1  EL PANGUI                                     ...  ...           966.0   \n",
       "\n",
       "     ACTIVO2020  PATRIMONIO2020  INGRESOS POR VENTA2020  \\\n",
       "0  2.121860e+09    1.482973e+09            2.170603e+09   \n",
       "1  1.607423e+09    5.689866e+08            2.451030e+08   \n",
       "\n",
       "   UTILIDAD ANTES DE 2020  UTILIDAD DEL EJERCICIO2020  UTILIDAD NETA2020  \\\n",
       "0             187168402.3                2.201981e+08       1.474992e+08   \n",
       "1              -1387158.7                0.000000e+00      -2.633856e+06   \n",
       "\n",
       "   IR CAUSADO2020  INGRESO TOTAL2020   INDUSTRIA  \n",
       "0     41971212.00       2.170603e+09  Minoristas  \n",
       "1      1246697.02       0.000000e+00     Minería  \n",
       "\n",
       "[2 rows x 22 columns]"
      ],
      "text/html": [
       "<div>\n",
       "<style scoped>\n",
       "    .dataframe tbody tr th:only-of-type {\n",
       "        vertical-align: middle;\n",
       "    }\n",
       "\n",
       "    .dataframe tbody tr th {\n",
       "        vertical-align: top;\n",
       "    }\n",
       "\n",
       "    .dataframe thead th {\n",
       "        text-align: right;\n",
       "    }\n",
       "</style>\n",
       "<table border=\"1\" class=\"dataframe\">\n",
       "  <thead>\n",
       "    <tr style=\"text-align: right;\">\n",
       "      <th></th>\n",
       "      <th>NOMBRE</th>\n",
       "      <th>LINK</th>\n",
       "      <th>2020</th>\n",
       "      <th>2019</th>\n",
       "      <th>EXPEDIENTE</th>\n",
       "      <th>TIPO COMPAÑIA</th>\n",
       "      <th>ACTIVIDAD ECONÓMICA</th>\n",
       "      <th>REGION</th>\n",
       "      <th>PROVINCIA</th>\n",
       "      <th>CIUDAD</th>\n",
       "      <th>...</th>\n",
       "      <th>CANT. EMPLEADOS</th>\n",
       "      <th>ACTIVO2020</th>\n",
       "      <th>PATRIMONIO2020</th>\n",
       "      <th>INGRESOS POR VENTA2020</th>\n",
       "      <th>UTILIDAD ANTES DE 2020</th>\n",
       "      <th>UTILIDAD DEL EJERCICIO2020</th>\n",
       "      <th>UTILIDAD NETA2020</th>\n",
       "      <th>IR CAUSADO2020</th>\n",
       "      <th>INGRESO TOTAL2020</th>\n",
       "      <th>INDUSTRIA</th>\n",
       "    </tr>\n",
       "  </thead>\n",
       "  <tbody>\n",
       "    <tr>\n",
       "      <th>0</th>\n",
       "      <td>CORPORACION FAVORITA C.A.</td>\n",
       "      <td>https://ec.linkedin.com/company/corporacionfav...</td>\n",
       "      <td>1.0</td>\n",
       "      <td>1</td>\n",
       "      <td>384.0</td>\n",
       "      <td>ANÓNIMA</td>\n",
       "      <td>G4711.01 - VENTA AL POR MENOR DE GRAN VARIEDAD...</td>\n",
       "      <td>SIERRA</td>\n",
       "      <td>PICHINCHA                                     ...</td>\n",
       "      <td>QUITO                                         ...</td>\n",
       "      <td>...</td>\n",
       "      <td>10768.0</td>\n",
       "      <td>2.121860e+09</td>\n",
       "      <td>1.482973e+09</td>\n",
       "      <td>2.170603e+09</td>\n",
       "      <td>187168402.3</td>\n",
       "      <td>2.201981e+08</td>\n",
       "      <td>1.474992e+08</td>\n",
       "      <td>41971212.00</td>\n",
       "      <td>2.170603e+09</td>\n",
       "      <td>Minoristas</td>\n",
       "    </tr>\n",
       "    <tr>\n",
       "      <th>1</th>\n",
       "      <td>ECUACORRIENTE</td>\n",
       "      <td>https://www.linkedin.com/company/ecuacorriente...</td>\n",
       "      <td>2.0</td>\n",
       "      <td>4</td>\n",
       "      <td>6796.0</td>\n",
       "      <td>ANÓNIMA</td>\n",
       "      <td>B0729.01 - EXTRACCIÓN Y PREPARACIÓN DE MINERAL...</td>\n",
       "      <td>ORIENTE</td>\n",
       "      <td>ZAMORA CHINCHIPE                              ...</td>\n",
       "      <td>EL PANGUI                                     ...</td>\n",
       "      <td>...</td>\n",
       "      <td>966.0</td>\n",
       "      <td>1.607423e+09</td>\n",
       "      <td>5.689866e+08</td>\n",
       "      <td>2.451030e+08</td>\n",
       "      <td>-1387158.7</td>\n",
       "      <td>0.000000e+00</td>\n",
       "      <td>-2.633856e+06</td>\n",
       "      <td>1246697.02</td>\n",
       "      <td>0.000000e+00</td>\n",
       "      <td>Minería</td>\n",
       "    </tr>\n",
       "  </tbody>\n",
       "</table>\n",
       "<p>2 rows × 22 columns</p>\n",
       "</div>"
      ]
     },
     "metadata": {},
     "execution_count": 2
    }
   ],
   "metadata": {}
  },
  {
   "cell_type": "code",
   "execution_count": 3,
   "source": [
    "df.info()"
   ],
   "outputs": [
    {
     "output_type": "stream",
     "name": "stdout",
     "text": [
      "<class 'pandas.core.frame.DataFrame'>\n",
      "RangeIndex: 100 entries, 0 to 99\n",
      "Data columns (total 22 columns):\n",
      " #   Column                      Non-Null Count  Dtype  \n",
      "---  ------                      --------------  -----  \n",
      " 0   NOMBRE                      100 non-null    object \n",
      " 1   LINK                        100 non-null    object \n",
      " 2   2020                        100 non-null    float64\n",
      " 3   2019                        100 non-null    object \n",
      " 4   EXPEDIENTE                  100 non-null    float64\n",
      " 5   TIPO COMPAÑIA               100 non-null    object \n",
      " 6   ACTIVIDAD ECONÓMICA         100 non-null    object \n",
      " 7   REGION                      100 non-null    object \n",
      " 8   PROVINCIA                   100 non-null    object \n",
      " 9   CIUDAD                      100 non-null    object \n",
      " 10  TAMAÑO                      100 non-null    object \n",
      " 11  SECTOR                      100 non-null    object \n",
      " 12  CANT. EMPLEADOS             100 non-null    float64\n",
      " 13  ACTIVO2020                  100 non-null    float64\n",
      " 14  PATRIMONIO2020              100 non-null    float64\n",
      " 15  INGRESOS POR VENTA2020      100 non-null    float64\n",
      " 16  UTILIDAD ANTES DE 2020      100 non-null    float64\n",
      " 17  UTILIDAD DEL EJERCICIO2020  100 non-null    float64\n",
      " 18  UTILIDAD NETA2020           100 non-null    float64\n",
      " 19  IR CAUSADO2020              100 non-null    float64\n",
      " 20  INGRESO TOTAL2020           100 non-null    float64\n",
      " 21  INDUSTRIA                   100 non-null    object \n",
      "dtypes: float64(11), object(11)\n",
      "memory usage: 17.3+ KB\n"
     ]
    }
   ],
   "metadata": {}
  },
  {
   "cell_type": "markdown",
   "source": [
    "## Processing"
   ],
   "metadata": {}
  },
  {
   "cell_type": "code",
   "execution_count": 4,
   "source": [
    "# Calculate ROA (Return on Assets)\n",
    "def calculate_ROA(row):\n",
    "  net_profits = row[\"UTILIDAD NETA2020\"]\n",
    "  total_assets = row.ACTIVO2020\n",
    "  return ((net_profits/total_assets) * 100)\n",
    "  \n",
    "\n",
    "df['ROA'] = df[[\"UTILIDAD NETA2020\", \"ACTIVO2020\"]].apply(calculate_ROA, axis=1)\n",
    "df[[\"NOMBRE\", \"ROA\"]].head(10)"
   ],
   "outputs": [
    {
     "output_type": "execute_result",
     "data": {
      "text/plain": [
       "                                              NOMBRE       ROA\n",
       "0                          CORPORACION FAVORITA C.A.  6.951411\n",
       "1                                      ECUACORRIENTE -0.163856\n",
       "2                                   AURELIAN ECUADOR -3.087969\n",
       "3  CONSORCIO ECUATORIANO DE TELECOMUNICACIONES CO...  8.772698\n",
       "4                                CORPORACION QUIPORT -3.323227\n",
       "5                              CORPORACION EL ROSADO  3.663400\n",
       "6                                  HIDALGO E HIDALGO  3.520079\n",
       "7                                             OTECEL -2.313952\n",
       "8     PROCESADORA NACIONAL DE ALIMENTOS C.A. PRONACA  3.620939\n",
       "9                 INDUSTRIAL PESQUERA SANTA PRISCILA  4.808221"
      ],
      "text/html": [
       "<div>\n",
       "<style scoped>\n",
       "    .dataframe tbody tr th:only-of-type {\n",
       "        vertical-align: middle;\n",
       "    }\n",
       "\n",
       "    .dataframe tbody tr th {\n",
       "        vertical-align: top;\n",
       "    }\n",
       "\n",
       "    .dataframe thead th {\n",
       "        text-align: right;\n",
       "    }\n",
       "</style>\n",
       "<table border=\"1\" class=\"dataframe\">\n",
       "  <thead>\n",
       "    <tr style=\"text-align: right;\">\n",
       "      <th></th>\n",
       "      <th>NOMBRE</th>\n",
       "      <th>ROA</th>\n",
       "    </tr>\n",
       "  </thead>\n",
       "  <tbody>\n",
       "    <tr>\n",
       "      <th>0</th>\n",
       "      <td>CORPORACION FAVORITA C.A.</td>\n",
       "      <td>6.951411</td>\n",
       "    </tr>\n",
       "    <tr>\n",
       "      <th>1</th>\n",
       "      <td>ECUACORRIENTE</td>\n",
       "      <td>-0.163856</td>\n",
       "    </tr>\n",
       "    <tr>\n",
       "      <th>2</th>\n",
       "      <td>AURELIAN ECUADOR</td>\n",
       "      <td>-3.087969</td>\n",
       "    </tr>\n",
       "    <tr>\n",
       "      <th>3</th>\n",
       "      <td>CONSORCIO ECUATORIANO DE TELECOMUNICACIONES CO...</td>\n",
       "      <td>8.772698</td>\n",
       "    </tr>\n",
       "    <tr>\n",
       "      <th>4</th>\n",
       "      <td>CORPORACION QUIPORT</td>\n",
       "      <td>-3.323227</td>\n",
       "    </tr>\n",
       "    <tr>\n",
       "      <th>5</th>\n",
       "      <td>CORPORACION EL ROSADO</td>\n",
       "      <td>3.663400</td>\n",
       "    </tr>\n",
       "    <tr>\n",
       "      <th>6</th>\n",
       "      <td>HIDALGO E HIDALGO</td>\n",
       "      <td>3.520079</td>\n",
       "    </tr>\n",
       "    <tr>\n",
       "      <th>7</th>\n",
       "      <td>OTECEL</td>\n",
       "      <td>-2.313952</td>\n",
       "    </tr>\n",
       "    <tr>\n",
       "      <th>8</th>\n",
       "      <td>PROCESADORA NACIONAL DE ALIMENTOS C.A. PRONACA</td>\n",
       "      <td>3.620939</td>\n",
       "    </tr>\n",
       "    <tr>\n",
       "      <th>9</th>\n",
       "      <td>INDUSTRIAL PESQUERA SANTA PRISCILA</td>\n",
       "      <td>4.808221</td>\n",
       "    </tr>\n",
       "  </tbody>\n",
       "</table>\n",
       "</div>"
      ]
     },
     "metadata": {},
     "execution_count": 4
    }
   ],
   "metadata": {}
  },
  {
   "cell_type": "code",
   "execution_count": 5,
   "source": [
    "df_uni = pd.read_csv('Datasets/clean_where_they_studied.csv')\n",
    "df_uni = df_uni[[\"NOMBRE\", \"Escuela Superior Politécnica del Litoral\"]]\n",
    "df_uni"
   ],
   "outputs": [
    {
     "output_type": "execute_result",
     "data": {
      "text/plain": [
       "                                               NOMBRE  \\\n",
       "0                           CORPORACION FAVORITA C.A.   \n",
       "1   CONSORCIO ECUATORIANO DE TELECOMUNICACIONES CO...   \n",
       "2                               CORPORACION EL ROSADO   \n",
       "3                                   HIDALGO E HIDALGO   \n",
       "4                                              OTECEL   \n",
       "..                                                ...   \n",
       "93       SOCIEDAD AGRICOLA E INDUSTRIAL SAN CARLOS SA   \n",
       "94                                              ICESA   \n",
       "95                                           INDEUREC   \n",
       "96                                           LIMBOMAR   \n",
       "97                                           CASABACA   \n",
       "\n",
       "    Escuela Superior Politécnica del Litoral  \n",
       "0                                       14.0  \n",
       "1                                       86.0  \n",
       "2                                      123.0  \n",
       "3                                       12.0  \n",
       "4                                        0.0  \n",
       "..                                       ...  \n",
       "93                                      37.0  \n",
       "94                                       0.0  \n",
       "95                                       3.0  \n",
       "96                                       4.0  \n",
       "97                                       0.0  \n",
       "\n",
       "[98 rows x 2 columns]"
      ],
      "text/html": [
       "<div>\n",
       "<style scoped>\n",
       "    .dataframe tbody tr th:only-of-type {\n",
       "        vertical-align: middle;\n",
       "    }\n",
       "\n",
       "    .dataframe tbody tr th {\n",
       "        vertical-align: top;\n",
       "    }\n",
       "\n",
       "    .dataframe thead th {\n",
       "        text-align: right;\n",
       "    }\n",
       "</style>\n",
       "<table border=\"1\" class=\"dataframe\">\n",
       "  <thead>\n",
       "    <tr style=\"text-align: right;\">\n",
       "      <th></th>\n",
       "      <th>NOMBRE</th>\n",
       "      <th>Escuela Superior Politécnica del Litoral</th>\n",
       "    </tr>\n",
       "  </thead>\n",
       "  <tbody>\n",
       "    <tr>\n",
       "      <th>0</th>\n",
       "      <td>CORPORACION FAVORITA C.A.</td>\n",
       "      <td>14.0</td>\n",
       "    </tr>\n",
       "    <tr>\n",
       "      <th>1</th>\n",
       "      <td>CONSORCIO ECUATORIANO DE TELECOMUNICACIONES CO...</td>\n",
       "      <td>86.0</td>\n",
       "    </tr>\n",
       "    <tr>\n",
       "      <th>2</th>\n",
       "      <td>CORPORACION EL ROSADO</td>\n",
       "      <td>123.0</td>\n",
       "    </tr>\n",
       "    <tr>\n",
       "      <th>3</th>\n",
       "      <td>HIDALGO E HIDALGO</td>\n",
       "      <td>12.0</td>\n",
       "    </tr>\n",
       "    <tr>\n",
       "      <th>4</th>\n",
       "      <td>OTECEL</td>\n",
       "      <td>0.0</td>\n",
       "    </tr>\n",
       "    <tr>\n",
       "      <th>...</th>\n",
       "      <td>...</td>\n",
       "      <td>...</td>\n",
       "    </tr>\n",
       "    <tr>\n",
       "      <th>93</th>\n",
       "      <td>SOCIEDAD AGRICOLA E INDUSTRIAL SAN CARLOS SA</td>\n",
       "      <td>37.0</td>\n",
       "    </tr>\n",
       "    <tr>\n",
       "      <th>94</th>\n",
       "      <td>ICESA</td>\n",
       "      <td>0.0</td>\n",
       "    </tr>\n",
       "    <tr>\n",
       "      <th>95</th>\n",
       "      <td>INDEUREC</td>\n",
       "      <td>3.0</td>\n",
       "    </tr>\n",
       "    <tr>\n",
       "      <th>96</th>\n",
       "      <td>LIMBOMAR</td>\n",
       "      <td>4.0</td>\n",
       "    </tr>\n",
       "    <tr>\n",
       "      <th>97</th>\n",
       "      <td>CASABACA</td>\n",
       "      <td>0.0</td>\n",
       "    </tr>\n",
       "  </tbody>\n",
       "</table>\n",
       "<p>98 rows × 2 columns</p>\n",
       "</div>"
      ]
     },
     "metadata": {},
     "execution_count": 5
    }
   ],
   "metadata": {}
  },
  {
   "cell_type": "code",
   "execution_count": 6,
   "source": [
    "merged = pd.merge(df, df_uni)\n",
    "merged.info()"
   ],
   "outputs": [
    {
     "output_type": "stream",
     "name": "stdout",
     "text": [
      "<class 'pandas.core.frame.DataFrame'>\n",
      "Int64Index: 99 entries, 0 to 98\n",
      "Data columns (total 24 columns):\n",
      " #   Column                                    Non-Null Count  Dtype  \n",
      "---  ------                                    --------------  -----  \n",
      " 0   NOMBRE                                    99 non-null     object \n",
      " 1   LINK                                      99 non-null     object \n",
      " 2   2020                                      99 non-null     float64\n",
      " 3   2019                                      99 non-null     object \n",
      " 4   EXPEDIENTE                                99 non-null     float64\n",
      " 5   TIPO COMPAÑIA                             99 non-null     object \n",
      " 6   ACTIVIDAD ECONÓMICA                       99 non-null     object \n",
      " 7   REGION                                    99 non-null     object \n",
      " 8   PROVINCIA                                 99 non-null     object \n",
      " 9   CIUDAD                                    99 non-null     object \n",
      " 10  TAMAÑO                                    99 non-null     object \n",
      " 11  SECTOR                                    99 non-null     object \n",
      " 12  CANT. EMPLEADOS                           99 non-null     float64\n",
      " 13  ACTIVO2020                                99 non-null     float64\n",
      " 14  PATRIMONIO2020                            99 non-null     float64\n",
      " 15  INGRESOS POR VENTA2020                    99 non-null     float64\n",
      " 16  UTILIDAD ANTES DE 2020                    99 non-null     float64\n",
      " 17  UTILIDAD DEL EJERCICIO2020                99 non-null     float64\n",
      " 18  UTILIDAD NETA2020                         99 non-null     float64\n",
      " 19  IR CAUSADO2020                            99 non-null     float64\n",
      " 20  INGRESO TOTAL2020                         99 non-null     float64\n",
      " 21  INDUSTRIA                                 99 non-null     object \n",
      " 22  ROA                                       99 non-null     float64\n",
      " 23  Escuela Superior Politécnica del Litoral  99 non-null     float64\n",
      "dtypes: float64(13), object(11)\n",
      "memory usage: 19.3+ KB\n"
     ]
    }
   ],
   "metadata": {}
  },
  {
   "cell_type": "code",
   "execution_count": 7,
   "source": [
    "df = merged.copy()\n",
    "df.rename(columns={\"Escuela Superior Politécnica del Litoral\": \"ESPOL\"}, inplace=True)\n",
    "df.head(5)"
   ],
   "outputs": [
    {
     "output_type": "execute_result",
     "data": {
      "text/plain": [
       "                                              NOMBRE  \\\n",
       "0                          CORPORACION FAVORITA C.A.   \n",
       "1                                      ECUACORRIENTE   \n",
       "2                                   AURELIAN ECUADOR   \n",
       "3  CONSORCIO ECUATORIANO DE TELECOMUNICACIONES CO...   \n",
       "4                                CORPORACION QUIPORT   \n",
       "\n",
       "                                                LINK  2020 2019  EXPEDIENTE  \\\n",
       "0  https://ec.linkedin.com/company/corporacionfav...   1.0    1       384.0   \n",
       "1  https://www.linkedin.com/company/ecuacorriente...   2.0    4      6796.0   \n",
       "2  https://www.linkedin.com/company/lundin-gold/?...   3.0    3     93144.0   \n",
       "3  https://ec.linkedin.com/company/conecel?trk=co...   5.0    5     47845.0   \n",
       "4  https://ec.linkedin.com/company/quiport?trk=co...   7.0    8     93325.0   \n",
       "\n",
       "  TIPO COMPAÑIA                                ACTIVIDAD ECONÓMICA   REGION  \\\n",
       "0       ANÓNIMA  G4711.01 - VENTA AL POR MENOR DE GRAN VARIEDAD...   SIERRA   \n",
       "1       ANÓNIMA  B0729.01 - EXTRACCIÓN Y PREPARACIÓN DE MINERAL...  ORIENTE   \n",
       "2       ANÓNIMA  B0899.09 - EXTRACCIÓN DE OTROS MINERALES: ASBE...  ORIENTE   \n",
       "3       ANÓNIMA  J6120.01 - OPERACIÓN, MANTENIMIENTO O FACILITA...    COSTA   \n",
       "4       ANÓNIMA  M7020.04 - PRESTACIÓN DE ASESORAMIENTO Y AYUDA...   SIERRA   \n",
       "\n",
       "                                           PROVINCIA  \\\n",
       "0  PICHINCHA                                     ...   \n",
       "1  ZAMORA CHINCHIPE                              ...   \n",
       "2  ZAMORA CHINCHIPE                              ...   \n",
       "3  GUAYAS                                        ...   \n",
       "4  PICHINCHA                                     ...   \n",
       "\n",
       "                                              CIUDAD  ... PATRIMONIO2020  \\\n",
       "0  QUITO                                         ...  ...   1.482973e+09   \n",
       "1  EL PANGUI                                     ...  ...   5.689866e+08   \n",
       "2  LOS ENCUENTROS                                ...  ...   6.052935e+08   \n",
       "3  GUAYAQUIL                                     ...  ...   2.647091e+08   \n",
       "4  QUITO                                         ...  ...   2.128526e+08   \n",
       "\n",
       "  INGRESOS POR VENTA2020  UTILIDAD ANTES DE 2020  UTILIDAD DEL EJERCICIO2020  \\\n",
       "0           2.170603e+09             187168402.3                2.201981e+08   \n",
       "1           2.451030e+08              -1387158.7                0.000000e+00   \n",
       "2           3.587926e+08             -49399080.0               -4.939908e+07   \n",
       "3           1.066242e+09             174644376.0                2.048239e+08   \n",
       "4           1.249086e+09             -27053323.0               -2.705332e+07   \n",
       "\n",
       "   UTILIDAD NETA2020  IR CAUSADO2020  INGRESO TOTAL2020  \\\n",
       "0       1.474992e+08    4.197121e+07       2.170603e+09   \n",
       "1      -2.633856e+06    1.246697e+06       0.000000e+00   \n",
       "2      -4.939908e+07    4.077977e+06       3.588240e+08   \n",
       "3       1.068268e+08    6.781763e+07       1.071561e+09   \n",
       "4      -2.705332e+07    4.077977e+06       8.353065e+07   \n",
       "\n",
       "                        INDUSTRIA       ROA  ESPOL  \n",
       "0                      Minoristas  6.951411   14.0  \n",
       "1                         Minería -0.163856    0.0  \n",
       "2                         Minería -3.087969   21.0  \n",
       "3  Telecomunicaciones/Informática  8.772698   86.0  \n",
       "4            Logística/Transporte -3.323227    0.0  \n",
       "\n",
       "[5 rows x 24 columns]"
      ],
      "text/html": [
       "<div>\n",
       "<style scoped>\n",
       "    .dataframe tbody tr th:only-of-type {\n",
       "        vertical-align: middle;\n",
       "    }\n",
       "\n",
       "    .dataframe tbody tr th {\n",
       "        vertical-align: top;\n",
       "    }\n",
       "\n",
       "    .dataframe thead th {\n",
       "        text-align: right;\n",
       "    }\n",
       "</style>\n",
       "<table border=\"1\" class=\"dataframe\">\n",
       "  <thead>\n",
       "    <tr style=\"text-align: right;\">\n",
       "      <th></th>\n",
       "      <th>NOMBRE</th>\n",
       "      <th>LINK</th>\n",
       "      <th>2020</th>\n",
       "      <th>2019</th>\n",
       "      <th>EXPEDIENTE</th>\n",
       "      <th>TIPO COMPAÑIA</th>\n",
       "      <th>ACTIVIDAD ECONÓMICA</th>\n",
       "      <th>REGION</th>\n",
       "      <th>PROVINCIA</th>\n",
       "      <th>CIUDAD</th>\n",
       "      <th>...</th>\n",
       "      <th>PATRIMONIO2020</th>\n",
       "      <th>INGRESOS POR VENTA2020</th>\n",
       "      <th>UTILIDAD ANTES DE 2020</th>\n",
       "      <th>UTILIDAD DEL EJERCICIO2020</th>\n",
       "      <th>UTILIDAD NETA2020</th>\n",
       "      <th>IR CAUSADO2020</th>\n",
       "      <th>INGRESO TOTAL2020</th>\n",
       "      <th>INDUSTRIA</th>\n",
       "      <th>ROA</th>\n",
       "      <th>ESPOL</th>\n",
       "    </tr>\n",
       "  </thead>\n",
       "  <tbody>\n",
       "    <tr>\n",
       "      <th>0</th>\n",
       "      <td>CORPORACION FAVORITA C.A.</td>\n",
       "      <td>https://ec.linkedin.com/company/corporacionfav...</td>\n",
       "      <td>1.0</td>\n",
       "      <td>1</td>\n",
       "      <td>384.0</td>\n",
       "      <td>ANÓNIMA</td>\n",
       "      <td>G4711.01 - VENTA AL POR MENOR DE GRAN VARIEDAD...</td>\n",
       "      <td>SIERRA</td>\n",
       "      <td>PICHINCHA                                     ...</td>\n",
       "      <td>QUITO                                         ...</td>\n",
       "      <td>...</td>\n",
       "      <td>1.482973e+09</td>\n",
       "      <td>2.170603e+09</td>\n",
       "      <td>187168402.3</td>\n",
       "      <td>2.201981e+08</td>\n",
       "      <td>1.474992e+08</td>\n",
       "      <td>4.197121e+07</td>\n",
       "      <td>2.170603e+09</td>\n",
       "      <td>Minoristas</td>\n",
       "      <td>6.951411</td>\n",
       "      <td>14.0</td>\n",
       "    </tr>\n",
       "    <tr>\n",
       "      <th>1</th>\n",
       "      <td>ECUACORRIENTE</td>\n",
       "      <td>https://www.linkedin.com/company/ecuacorriente...</td>\n",
       "      <td>2.0</td>\n",
       "      <td>4</td>\n",
       "      <td>6796.0</td>\n",
       "      <td>ANÓNIMA</td>\n",
       "      <td>B0729.01 - EXTRACCIÓN Y PREPARACIÓN DE MINERAL...</td>\n",
       "      <td>ORIENTE</td>\n",
       "      <td>ZAMORA CHINCHIPE                              ...</td>\n",
       "      <td>EL PANGUI                                     ...</td>\n",
       "      <td>...</td>\n",
       "      <td>5.689866e+08</td>\n",
       "      <td>2.451030e+08</td>\n",
       "      <td>-1387158.7</td>\n",
       "      <td>0.000000e+00</td>\n",
       "      <td>-2.633856e+06</td>\n",
       "      <td>1.246697e+06</td>\n",
       "      <td>0.000000e+00</td>\n",
       "      <td>Minería</td>\n",
       "      <td>-0.163856</td>\n",
       "      <td>0.0</td>\n",
       "    </tr>\n",
       "    <tr>\n",
       "      <th>2</th>\n",
       "      <td>AURELIAN ECUADOR</td>\n",
       "      <td>https://www.linkedin.com/company/lundin-gold/?...</td>\n",
       "      <td>3.0</td>\n",
       "      <td>3</td>\n",
       "      <td>93144.0</td>\n",
       "      <td>ANÓNIMA</td>\n",
       "      <td>B0899.09 - EXTRACCIÓN DE OTROS MINERALES: ASBE...</td>\n",
       "      <td>ORIENTE</td>\n",
       "      <td>ZAMORA CHINCHIPE                              ...</td>\n",
       "      <td>LOS ENCUENTROS                                ...</td>\n",
       "      <td>...</td>\n",
       "      <td>6.052935e+08</td>\n",
       "      <td>3.587926e+08</td>\n",
       "      <td>-49399080.0</td>\n",
       "      <td>-4.939908e+07</td>\n",
       "      <td>-4.939908e+07</td>\n",
       "      <td>4.077977e+06</td>\n",
       "      <td>3.588240e+08</td>\n",
       "      <td>Minería</td>\n",
       "      <td>-3.087969</td>\n",
       "      <td>21.0</td>\n",
       "    </tr>\n",
       "    <tr>\n",
       "      <th>3</th>\n",
       "      <td>CONSORCIO ECUATORIANO DE TELECOMUNICACIONES CO...</td>\n",
       "      <td>https://ec.linkedin.com/company/conecel?trk=co...</td>\n",
       "      <td>5.0</td>\n",
       "      <td>5</td>\n",
       "      <td>47845.0</td>\n",
       "      <td>ANÓNIMA</td>\n",
       "      <td>J6120.01 - OPERACIÓN, MANTENIMIENTO O FACILITA...</td>\n",
       "      <td>COSTA</td>\n",
       "      <td>GUAYAS                                        ...</td>\n",
       "      <td>GUAYAQUIL                                     ...</td>\n",
       "      <td>...</td>\n",
       "      <td>2.647091e+08</td>\n",
       "      <td>1.066242e+09</td>\n",
       "      <td>174644376.0</td>\n",
       "      <td>2.048239e+08</td>\n",
       "      <td>1.068268e+08</td>\n",
       "      <td>6.781763e+07</td>\n",
       "      <td>1.071561e+09</td>\n",
       "      <td>Telecomunicaciones/Informática</td>\n",
       "      <td>8.772698</td>\n",
       "      <td>86.0</td>\n",
       "    </tr>\n",
       "    <tr>\n",
       "      <th>4</th>\n",
       "      <td>CORPORACION QUIPORT</td>\n",
       "      <td>https://ec.linkedin.com/company/quiport?trk=co...</td>\n",
       "      <td>7.0</td>\n",
       "      <td>8</td>\n",
       "      <td>93325.0</td>\n",
       "      <td>ANÓNIMA</td>\n",
       "      <td>M7020.04 - PRESTACIÓN DE ASESORAMIENTO Y AYUDA...</td>\n",
       "      <td>SIERRA</td>\n",
       "      <td>PICHINCHA                                     ...</td>\n",
       "      <td>QUITO                                         ...</td>\n",
       "      <td>...</td>\n",
       "      <td>2.128526e+08</td>\n",
       "      <td>1.249086e+09</td>\n",
       "      <td>-27053323.0</td>\n",
       "      <td>-2.705332e+07</td>\n",
       "      <td>-2.705332e+07</td>\n",
       "      <td>4.077977e+06</td>\n",
       "      <td>8.353065e+07</td>\n",
       "      <td>Logística/Transporte</td>\n",
       "      <td>-3.323227</td>\n",
       "      <td>0.0</td>\n",
       "    </tr>\n",
       "  </tbody>\n",
       "</table>\n",
       "<p>5 rows × 24 columns</p>\n",
       "</div>"
      ]
     },
     "metadata": {},
     "execution_count": 7
    }
   ],
   "metadata": {}
  },
  {
   "cell_type": "markdown",
   "source": [
    "## Looking For Correlation"
   ],
   "metadata": {}
  },
  {
   "cell_type": "code",
   "execution_count": 8,
   "source": [
    "# Let's use a scatter plot to visually check if there's a pattern/behaviour as the number of ESPOL alumni increases.\n",
    "plt.plot( 'ESPOL', 'ROA', data=df, linestyle='none', marker='o')\n",
    "plt.xlabel('ESPOL Graduates')\n",
    "plt.ylabel('ROA Score')\n",
    "plt.title(\"ROA vs. Graduates\")\n",
    "plt.show()"
   ],
   "outputs": [
    {
     "output_type": "display_data",
     "data": {
      "text/plain": [
       "<Figure size 432x288 with 1 Axes>"
      ],
      "image/svg+xml": "<?xml version=\"1.0\" encoding=\"utf-8\" standalone=\"no\"?>\n<!DOCTYPE svg PUBLIC \"-//W3C//DTD SVG 1.1//EN\"\n  \"http://www.w3.org/Graphics/SVG/1.1/DTD/svg11.dtd\">\n<svg height=\"277.314375pt\" version=\"1.1\" viewBox=\"0 0 397.345312 277.314375\" width=\"397.345312pt\" xmlns=\"http://www.w3.org/2000/svg\" xmlns:xlink=\"http://www.w3.org/1999/xlink\">\n <metadata>\n  <rdf:RDF xmlns:cc=\"http://creativecommons.org/ns#\" xmlns:dc=\"http://purl.org/dc/elements/1.1/\" xmlns:rdf=\"http://www.w3.org/1999/02/22-rdf-syntax-ns#\">\n   <cc:Work>\n    <dc:type rdf:resource=\"http://purl.org/dc/dcmitype/StillImage\"/>\n    <dc:date>2021-08-21T00:24:36.713034</dc:date>\n    <dc:format>image/svg+xml</dc:format>\n    <dc:creator>\n     <cc:Agent>\n      <dc:title>Matplotlib v3.4.2, https://matplotlib.org/</dc:title>\n     </cc:Agent>\n    </dc:creator>\n   </cc:Work>\n  </rdf:RDF>\n </metadata>\n <defs>\n  <style type=\"text/css\">*{stroke-linecap:butt;stroke-linejoin:round;}</style>\n </defs>\n <g id=\"figure_1\">\n  <g id=\"patch_1\">\n   <path d=\"M 0 277.314375 \nL 397.345312 277.314375 \nL 397.345312 0 \nL 0 0 \nz\n\"/>\n  </g>\n  <g id=\"axes_1\">\n   <g id=\"patch_2\">\n    <path d=\"M 55.345313 239.758125 \nL 390.145312 239.758125 \nL 390.145312 22.318125 \nL 55.345313 22.318125 \nz\n\"/>\n   </g>\n   <g id=\"matplotlib.axis_1\">\n    <g id=\"xtick_1\">\n     <g id=\"line2d_1\">\n      <defs>\n       <path d=\"M 0 0 \nL 0 3.5 \n\" id=\"m1d97ca848f\" style=\"stroke:#ffffff;stroke-width:0.8;\"/>\n      </defs>\n      <g>\n       <use style=\"fill:#ffffff;stroke:#ffffff;stroke-width:0.8;\" x=\"70.563494\" xlink:href=\"#m1d97ca848f\" y=\"239.758125\"/>\n      </g>\n     </g>\n     <g id=\"text_1\">\n      <!-- 0 -->\n      <g style=\"fill:#ffffff;\" transform=\"translate(67.382244 254.356562)scale(0.1 -0.1)\">\n       <defs>\n        <path d=\"M 2034 4250 \nQ 1547 4250 1301 3770 \nQ 1056 3291 1056 2328 \nQ 1056 1369 1301 889 \nQ 1547 409 2034 409 \nQ 2525 409 2770 889 \nQ 3016 1369 3016 2328 \nQ 3016 3291 2770 3770 \nQ 2525 4250 2034 4250 \nz\nM 2034 4750 \nQ 2819 4750 3233 4129 \nQ 3647 3509 3647 2328 \nQ 3647 1150 3233 529 \nQ 2819 -91 2034 -91 \nQ 1250 -91 836 529 \nQ 422 1150 422 2328 \nQ 422 3509 836 4129 \nQ 1250 4750 2034 4750 \nz\n\" id=\"DejaVuSans-30\" transform=\"scale(0.015625)\"/>\n       </defs>\n       <use xlink:href=\"#DejaVuSans-30\"/>\n      </g>\n     </g>\n    </g>\n    <g id=\"xtick_2\">\n     <g id=\"line2d_2\">\n      <g>\n       <use style=\"fill:#ffffff;stroke:#ffffff;stroke-width:0.8;\" x=\"116.679197\" xlink:href=\"#m1d97ca848f\" y=\"239.758125\"/>\n      </g>\n     </g>\n     <g id=\"text_2\">\n      <!-- 20 -->\n      <g style=\"fill:#ffffff;\" transform=\"translate(110.316697 254.356562)scale(0.1 -0.1)\">\n       <defs>\n        <path d=\"M 1228 531 \nL 3431 531 \nL 3431 0 \nL 469 0 \nL 469 531 \nQ 828 903 1448 1529 \nQ 2069 2156 2228 2338 \nQ 2531 2678 2651 2914 \nQ 2772 3150 2772 3378 \nQ 2772 3750 2511 3984 \nQ 2250 4219 1831 4219 \nQ 1534 4219 1204 4116 \nQ 875 4013 500 3803 \nL 500 4441 \nQ 881 4594 1212 4672 \nQ 1544 4750 1819 4750 \nQ 2544 4750 2975 4387 \nQ 3406 4025 3406 3419 \nQ 3406 3131 3298 2873 \nQ 3191 2616 2906 2266 \nQ 2828 2175 2409 1742 \nQ 1991 1309 1228 531 \nz\n\" id=\"DejaVuSans-32\" transform=\"scale(0.015625)\"/>\n       </defs>\n       <use xlink:href=\"#DejaVuSans-32\"/>\n       <use x=\"63.623047\" xlink:href=\"#DejaVuSans-30\"/>\n      </g>\n     </g>\n    </g>\n    <g id=\"xtick_3\">\n     <g id=\"line2d_3\">\n      <g>\n       <use style=\"fill:#ffffff;stroke:#ffffff;stroke-width:0.8;\" x=\"162.794899\" xlink:href=\"#m1d97ca848f\" y=\"239.758125\"/>\n      </g>\n     </g>\n     <g id=\"text_3\">\n      <!-- 40 -->\n      <g style=\"fill:#ffffff;\" transform=\"translate(156.432399 254.356562)scale(0.1 -0.1)\">\n       <defs>\n        <path d=\"M 2419 4116 \nL 825 1625 \nL 2419 1625 \nL 2419 4116 \nz\nM 2253 4666 \nL 3047 4666 \nL 3047 1625 \nL 3713 1625 \nL 3713 1100 \nL 3047 1100 \nL 3047 0 \nL 2419 0 \nL 2419 1100 \nL 313 1100 \nL 313 1709 \nL 2253 4666 \nz\n\" id=\"DejaVuSans-34\" transform=\"scale(0.015625)\"/>\n       </defs>\n       <use xlink:href=\"#DejaVuSans-34\"/>\n       <use x=\"63.623047\" xlink:href=\"#DejaVuSans-30\"/>\n      </g>\n     </g>\n    </g>\n    <g id=\"xtick_4\">\n     <g id=\"line2d_4\">\n      <g>\n       <use style=\"fill:#ffffff;stroke:#ffffff;stroke-width:0.8;\" x=\"208.910602\" xlink:href=\"#m1d97ca848f\" y=\"239.758125\"/>\n      </g>\n     </g>\n     <g id=\"text_4\">\n      <!-- 60 -->\n      <g style=\"fill:#ffffff;\" transform=\"translate(202.548102 254.356562)scale(0.1 -0.1)\">\n       <defs>\n        <path d=\"M 2113 2584 \nQ 1688 2584 1439 2293 \nQ 1191 2003 1191 1497 \nQ 1191 994 1439 701 \nQ 1688 409 2113 409 \nQ 2538 409 2786 701 \nQ 3034 994 3034 1497 \nQ 3034 2003 2786 2293 \nQ 2538 2584 2113 2584 \nz\nM 3366 4563 \nL 3366 3988 \nQ 3128 4100 2886 4159 \nQ 2644 4219 2406 4219 \nQ 1781 4219 1451 3797 \nQ 1122 3375 1075 2522 \nQ 1259 2794 1537 2939 \nQ 1816 3084 2150 3084 \nQ 2853 3084 3261 2657 \nQ 3669 2231 3669 1497 \nQ 3669 778 3244 343 \nQ 2819 -91 2113 -91 \nQ 1303 -91 875 529 \nQ 447 1150 447 2328 \nQ 447 3434 972 4092 \nQ 1497 4750 2381 4750 \nQ 2619 4750 2861 4703 \nQ 3103 4656 3366 4563 \nz\n\" id=\"DejaVuSans-36\" transform=\"scale(0.015625)\"/>\n       </defs>\n       <use xlink:href=\"#DejaVuSans-36\"/>\n       <use x=\"63.623047\" xlink:href=\"#DejaVuSans-30\"/>\n      </g>\n     </g>\n    </g>\n    <g id=\"xtick_5\">\n     <g id=\"line2d_5\">\n      <g>\n       <use style=\"fill:#ffffff;stroke:#ffffff;stroke-width:0.8;\" x=\"255.026304\" xlink:href=\"#m1d97ca848f\" y=\"239.758125\"/>\n      </g>\n     </g>\n     <g id=\"text_5\">\n      <!-- 80 -->\n      <g style=\"fill:#ffffff;\" transform=\"translate(248.663804 254.356562)scale(0.1 -0.1)\">\n       <defs>\n        <path d=\"M 2034 2216 \nQ 1584 2216 1326 1975 \nQ 1069 1734 1069 1313 \nQ 1069 891 1326 650 \nQ 1584 409 2034 409 \nQ 2484 409 2743 651 \nQ 3003 894 3003 1313 \nQ 3003 1734 2745 1975 \nQ 2488 2216 2034 2216 \nz\nM 1403 2484 \nQ 997 2584 770 2862 \nQ 544 3141 544 3541 \nQ 544 4100 942 4425 \nQ 1341 4750 2034 4750 \nQ 2731 4750 3128 4425 \nQ 3525 4100 3525 3541 \nQ 3525 3141 3298 2862 \nQ 3072 2584 2669 2484 \nQ 3125 2378 3379 2068 \nQ 3634 1759 3634 1313 \nQ 3634 634 3220 271 \nQ 2806 -91 2034 -91 \nQ 1263 -91 848 271 \nQ 434 634 434 1313 \nQ 434 1759 690 2068 \nQ 947 2378 1403 2484 \nz\nM 1172 3481 \nQ 1172 3119 1398 2916 \nQ 1625 2713 2034 2713 \nQ 2441 2713 2670 2916 \nQ 2900 3119 2900 3481 \nQ 2900 3844 2670 4047 \nQ 2441 4250 2034 4250 \nQ 1625 4250 1398 4047 \nQ 1172 3844 1172 3481 \nz\n\" id=\"DejaVuSans-38\" transform=\"scale(0.015625)\"/>\n       </defs>\n       <use xlink:href=\"#DejaVuSans-38\"/>\n       <use x=\"63.623047\" xlink:href=\"#DejaVuSans-30\"/>\n      </g>\n     </g>\n    </g>\n    <g id=\"xtick_6\">\n     <g id=\"line2d_6\">\n      <g>\n       <use style=\"fill:#ffffff;stroke:#ffffff;stroke-width:0.8;\" x=\"301.142007\" xlink:href=\"#m1d97ca848f\" y=\"239.758125\"/>\n      </g>\n     </g>\n     <g id=\"text_6\">\n      <!-- 100 -->\n      <g style=\"fill:#ffffff;\" transform=\"translate(291.598257 254.356562)scale(0.1 -0.1)\">\n       <defs>\n        <path d=\"M 794 531 \nL 1825 531 \nL 1825 4091 \nL 703 3866 \nL 703 4441 \nL 1819 4666 \nL 2450 4666 \nL 2450 531 \nL 3481 531 \nL 3481 0 \nL 794 0 \nL 794 531 \nz\n\" id=\"DejaVuSans-31\" transform=\"scale(0.015625)\"/>\n       </defs>\n       <use xlink:href=\"#DejaVuSans-31\"/>\n       <use x=\"63.623047\" xlink:href=\"#DejaVuSans-30\"/>\n       <use x=\"127.246094\" xlink:href=\"#DejaVuSans-30\"/>\n      </g>\n     </g>\n    </g>\n    <g id=\"xtick_7\">\n     <g id=\"line2d_7\">\n      <g>\n       <use style=\"fill:#ffffff;stroke:#ffffff;stroke-width:0.8;\" x=\"347.257709\" xlink:href=\"#m1d97ca848f\" y=\"239.758125\"/>\n      </g>\n     </g>\n     <g id=\"text_7\">\n      <!-- 120 -->\n      <g style=\"fill:#ffffff;\" transform=\"translate(337.713959 254.356562)scale(0.1 -0.1)\">\n       <use xlink:href=\"#DejaVuSans-31\"/>\n       <use x=\"63.623047\" xlink:href=\"#DejaVuSans-32\"/>\n       <use x=\"127.246094\" xlink:href=\"#DejaVuSans-30\"/>\n      </g>\n     </g>\n    </g>\n    <g id=\"text_8\">\n     <!-- ESPOL Graduates -->\n     <g style=\"fill:#ffffff;\" transform=\"translate(179.04375 268.034687)scale(0.1 -0.1)\">\n      <defs>\n       <path d=\"M 628 4666 \nL 3578 4666 \nL 3578 4134 \nL 1259 4134 \nL 1259 2753 \nL 3481 2753 \nL 3481 2222 \nL 1259 2222 \nL 1259 531 \nL 3634 531 \nL 3634 0 \nL 628 0 \nL 628 4666 \nz\n\" id=\"DejaVuSans-45\" transform=\"scale(0.015625)\"/>\n       <path d=\"M 3425 4513 \nL 3425 3897 \nQ 3066 4069 2747 4153 \nQ 2428 4238 2131 4238 \nQ 1616 4238 1336 4038 \nQ 1056 3838 1056 3469 \nQ 1056 3159 1242 3001 \nQ 1428 2844 1947 2747 \nL 2328 2669 \nQ 3034 2534 3370 2195 \nQ 3706 1856 3706 1288 \nQ 3706 609 3251 259 \nQ 2797 -91 1919 -91 \nQ 1588 -91 1214 -16 \nQ 841 59 441 206 \nL 441 856 \nQ 825 641 1194 531 \nQ 1563 422 1919 422 \nQ 2459 422 2753 634 \nQ 3047 847 3047 1241 \nQ 3047 1584 2836 1778 \nQ 2625 1972 2144 2069 \nL 1759 2144 \nQ 1053 2284 737 2584 \nQ 422 2884 422 3419 \nQ 422 4038 858 4394 \nQ 1294 4750 2059 4750 \nQ 2388 4750 2728 4690 \nQ 3069 4631 3425 4513 \nz\n\" id=\"DejaVuSans-53\" transform=\"scale(0.015625)\"/>\n       <path d=\"M 1259 4147 \nL 1259 2394 \nL 2053 2394 \nQ 2494 2394 2734 2622 \nQ 2975 2850 2975 3272 \nQ 2975 3691 2734 3919 \nQ 2494 4147 2053 4147 \nL 1259 4147 \nz\nM 628 4666 \nL 2053 4666 \nQ 2838 4666 3239 4311 \nQ 3641 3956 3641 3272 \nQ 3641 2581 3239 2228 \nQ 2838 1875 2053 1875 \nL 1259 1875 \nL 1259 0 \nL 628 0 \nL 628 4666 \nz\n\" id=\"DejaVuSans-50\" transform=\"scale(0.015625)\"/>\n       <path d=\"M 2522 4238 \nQ 1834 4238 1429 3725 \nQ 1025 3213 1025 2328 \nQ 1025 1447 1429 934 \nQ 1834 422 2522 422 \nQ 3209 422 3611 934 \nQ 4013 1447 4013 2328 \nQ 4013 3213 3611 3725 \nQ 3209 4238 2522 4238 \nz\nM 2522 4750 \nQ 3503 4750 4090 4092 \nQ 4678 3434 4678 2328 \nQ 4678 1225 4090 567 \nQ 3503 -91 2522 -91 \nQ 1538 -91 948 565 \nQ 359 1222 359 2328 \nQ 359 3434 948 4092 \nQ 1538 4750 2522 4750 \nz\n\" id=\"DejaVuSans-4f\" transform=\"scale(0.015625)\"/>\n       <path d=\"M 628 4666 \nL 1259 4666 \nL 1259 531 \nL 3531 531 \nL 3531 0 \nL 628 0 \nL 628 4666 \nz\n\" id=\"DejaVuSans-4c\" transform=\"scale(0.015625)\"/>\n       <path id=\"DejaVuSans-20\" transform=\"scale(0.015625)\"/>\n       <path d=\"M 3809 666 \nL 3809 1919 \nL 2778 1919 \nL 2778 2438 \nL 4434 2438 \nL 4434 434 \nQ 4069 175 3628 42 \nQ 3188 -91 2688 -91 \nQ 1594 -91 976 548 \nQ 359 1188 359 2328 \nQ 359 3472 976 4111 \nQ 1594 4750 2688 4750 \nQ 3144 4750 3555 4637 \nQ 3966 4525 4313 4306 \nL 4313 3634 \nQ 3963 3931 3569 4081 \nQ 3175 4231 2741 4231 \nQ 1884 4231 1454 3753 \nQ 1025 3275 1025 2328 \nQ 1025 1384 1454 906 \nQ 1884 428 2741 428 \nQ 3075 428 3337 486 \nQ 3600 544 3809 666 \nz\n\" id=\"DejaVuSans-47\" transform=\"scale(0.015625)\"/>\n       <path d=\"M 2631 2963 \nQ 2534 3019 2420 3045 \nQ 2306 3072 2169 3072 \nQ 1681 3072 1420 2755 \nQ 1159 2438 1159 1844 \nL 1159 0 \nL 581 0 \nL 581 3500 \nL 1159 3500 \nL 1159 2956 \nQ 1341 3275 1631 3429 \nQ 1922 3584 2338 3584 \nQ 2397 3584 2469 3576 \nQ 2541 3569 2628 3553 \nL 2631 2963 \nz\n\" id=\"DejaVuSans-72\" transform=\"scale(0.015625)\"/>\n       <path d=\"M 2194 1759 \nQ 1497 1759 1228 1600 \nQ 959 1441 959 1056 \nQ 959 750 1161 570 \nQ 1363 391 1709 391 \nQ 2188 391 2477 730 \nQ 2766 1069 2766 1631 \nL 2766 1759 \nL 2194 1759 \nz\nM 3341 1997 \nL 3341 0 \nL 2766 0 \nL 2766 531 \nQ 2569 213 2275 61 \nQ 1981 -91 1556 -91 \nQ 1019 -91 701 211 \nQ 384 513 384 1019 \nQ 384 1609 779 1909 \nQ 1175 2209 1959 2209 \nL 2766 2209 \nL 2766 2266 \nQ 2766 2663 2505 2880 \nQ 2244 3097 1772 3097 \nQ 1472 3097 1187 3025 \nQ 903 2953 641 2809 \nL 641 3341 \nQ 956 3463 1253 3523 \nQ 1550 3584 1831 3584 \nQ 2591 3584 2966 3190 \nQ 3341 2797 3341 1997 \nz\n\" id=\"DejaVuSans-61\" transform=\"scale(0.015625)\"/>\n       <path d=\"M 2906 2969 \nL 2906 4863 \nL 3481 4863 \nL 3481 0 \nL 2906 0 \nL 2906 525 \nQ 2725 213 2448 61 \nQ 2172 -91 1784 -91 \nQ 1150 -91 751 415 \nQ 353 922 353 1747 \nQ 353 2572 751 3078 \nQ 1150 3584 1784 3584 \nQ 2172 3584 2448 3432 \nQ 2725 3281 2906 2969 \nz\nM 947 1747 \nQ 947 1113 1208 752 \nQ 1469 391 1925 391 \nQ 2381 391 2643 752 \nQ 2906 1113 2906 1747 \nQ 2906 2381 2643 2742 \nQ 2381 3103 1925 3103 \nQ 1469 3103 1208 2742 \nQ 947 2381 947 1747 \nz\n\" id=\"DejaVuSans-64\" transform=\"scale(0.015625)\"/>\n       <path d=\"M 544 1381 \nL 544 3500 \nL 1119 3500 \nL 1119 1403 \nQ 1119 906 1312 657 \nQ 1506 409 1894 409 \nQ 2359 409 2629 706 \nQ 2900 1003 2900 1516 \nL 2900 3500 \nL 3475 3500 \nL 3475 0 \nL 2900 0 \nL 2900 538 \nQ 2691 219 2414 64 \nQ 2138 -91 1772 -91 \nQ 1169 -91 856 284 \nQ 544 659 544 1381 \nz\nM 1991 3584 \nL 1991 3584 \nz\n\" id=\"DejaVuSans-75\" transform=\"scale(0.015625)\"/>\n       <path d=\"M 1172 4494 \nL 1172 3500 \nL 2356 3500 \nL 2356 3053 \nL 1172 3053 \nL 1172 1153 \nQ 1172 725 1289 603 \nQ 1406 481 1766 481 \nL 2356 481 \nL 2356 0 \nL 1766 0 \nQ 1100 0 847 248 \nQ 594 497 594 1153 \nL 594 3053 \nL 172 3053 \nL 172 3500 \nL 594 3500 \nL 594 4494 \nL 1172 4494 \nz\n\" id=\"DejaVuSans-74\" transform=\"scale(0.015625)\"/>\n       <path d=\"M 3597 1894 \nL 3597 1613 \nL 953 1613 \nQ 991 1019 1311 708 \nQ 1631 397 2203 397 \nQ 2534 397 2845 478 \nQ 3156 559 3463 722 \nL 3463 178 \nQ 3153 47 2828 -22 \nQ 2503 -91 2169 -91 \nQ 1331 -91 842 396 \nQ 353 884 353 1716 \nQ 353 2575 817 3079 \nQ 1281 3584 2069 3584 \nQ 2775 3584 3186 3129 \nQ 3597 2675 3597 1894 \nz\nM 3022 2063 \nQ 3016 2534 2758 2815 \nQ 2500 3097 2075 3097 \nQ 1594 3097 1305 2825 \nQ 1016 2553 972 2059 \nL 3022 2063 \nz\n\" id=\"DejaVuSans-65\" transform=\"scale(0.015625)\"/>\n       <path d=\"M 2834 3397 \nL 2834 2853 \nQ 2591 2978 2328 3040 \nQ 2066 3103 1784 3103 \nQ 1356 3103 1142 2972 \nQ 928 2841 928 2578 \nQ 928 2378 1081 2264 \nQ 1234 2150 1697 2047 \nL 1894 2003 \nQ 2506 1872 2764 1633 \nQ 3022 1394 3022 966 \nQ 3022 478 2636 193 \nQ 2250 -91 1575 -91 \nQ 1294 -91 989 -36 \nQ 684 19 347 128 \nL 347 722 \nQ 666 556 975 473 \nQ 1284 391 1588 391 \nQ 1994 391 2212 530 \nQ 2431 669 2431 922 \nQ 2431 1156 2273 1281 \nQ 2116 1406 1581 1522 \nL 1381 1569 \nQ 847 1681 609 1914 \nQ 372 2147 372 2553 \nQ 372 3047 722 3315 \nQ 1072 3584 1716 3584 \nQ 2034 3584 2315 3537 \nQ 2597 3491 2834 3397 \nz\n\" id=\"DejaVuSans-73\" transform=\"scale(0.015625)\"/>\n      </defs>\n      <use xlink:href=\"#DejaVuSans-45\"/>\n      <use x=\"63.183594\" xlink:href=\"#DejaVuSans-53\"/>\n      <use x=\"126.660156\" xlink:href=\"#DejaVuSans-50\"/>\n      <use x=\"186.962891\" xlink:href=\"#DejaVuSans-4f\"/>\n      <use x=\"265.673828\" xlink:href=\"#DejaVuSans-4c\"/>\n      <use x=\"321.386719\" xlink:href=\"#DejaVuSans-20\"/>\n      <use x=\"353.173828\" xlink:href=\"#DejaVuSans-47\"/>\n      <use x=\"430.664062\" xlink:href=\"#DejaVuSans-72\"/>\n      <use x=\"471.777344\" xlink:href=\"#DejaVuSans-61\"/>\n      <use x=\"533.056641\" xlink:href=\"#DejaVuSans-64\"/>\n      <use x=\"596.533203\" xlink:href=\"#DejaVuSans-75\"/>\n      <use x=\"659.912109\" xlink:href=\"#DejaVuSans-61\"/>\n      <use x=\"721.191406\" xlink:href=\"#DejaVuSans-74\"/>\n      <use x=\"760.400391\" xlink:href=\"#DejaVuSans-65\"/>\n      <use x=\"821.923828\" xlink:href=\"#DejaVuSans-73\"/>\n     </g>\n    </g>\n   </g>\n   <g id=\"matplotlib.axis_2\">\n    <g id=\"ytick_1\">\n     <g id=\"line2d_8\">\n      <defs>\n       <path d=\"M 0 0 \nL -3.5 0 \n\" id=\"m7d2de62e0d\" style=\"stroke:#ffffff;stroke-width:0.8;\"/>\n      </defs>\n      <g>\n       <use style=\"fill:#ffffff;stroke:#ffffff;stroke-width:0.8;\" x=\"55.345313\" xlink:href=\"#m7d2de62e0d\" y=\"219.670088\"/>\n      </g>\n     </g>\n     <g id=\"text_9\">\n      <!-- −150 -->\n      <g style=\"fill:#ffffff;\" transform=\"translate(20.878125 223.469307)scale(0.1 -0.1)\">\n       <defs>\n        <path d=\"M 678 2272 \nL 4684 2272 \nL 4684 1741 \nL 678 1741 \nL 678 2272 \nz\n\" id=\"DejaVuSans-2212\" transform=\"scale(0.015625)\"/>\n        <path d=\"M 691 4666 \nL 3169 4666 \nL 3169 4134 \nL 1269 4134 \nL 1269 2991 \nQ 1406 3038 1543 3061 \nQ 1681 3084 1819 3084 \nQ 2600 3084 3056 2656 \nQ 3513 2228 3513 1497 \nQ 3513 744 3044 326 \nQ 2575 -91 1722 -91 \nQ 1428 -91 1123 -41 \nQ 819 9 494 109 \nL 494 744 \nQ 775 591 1075 516 \nQ 1375 441 1709 441 \nQ 2250 441 2565 725 \nQ 2881 1009 2881 1497 \nQ 2881 1984 2565 2268 \nQ 2250 2553 1709 2553 \nQ 1456 2553 1204 2497 \nQ 953 2441 691 2322 \nL 691 4666 \nz\n\" id=\"DejaVuSans-35\" transform=\"scale(0.015625)\"/>\n       </defs>\n       <use xlink:href=\"#DejaVuSans-2212\"/>\n       <use x=\"83.789062\" xlink:href=\"#DejaVuSans-31\"/>\n       <use x=\"147.412109\" xlink:href=\"#DejaVuSans-35\"/>\n       <use x=\"211.035156\" xlink:href=\"#DejaVuSans-30\"/>\n      </g>\n     </g>\n    </g>\n    <g id=\"ytick_2\">\n     <g id=\"line2d_9\">\n      <g>\n       <use style=\"fill:#ffffff;stroke:#ffffff;stroke-width:0.8;\" x=\"55.345313\" xlink:href=\"#m7d2de62e0d\" y=\"188.848492\"/>\n      </g>\n     </g>\n     <g id=\"text_10\">\n      <!-- −100 -->\n      <g style=\"fill:#ffffff;\" transform=\"translate(20.878125 192.647711)scale(0.1 -0.1)\">\n       <use xlink:href=\"#DejaVuSans-2212\"/>\n       <use x=\"83.789062\" xlink:href=\"#DejaVuSans-31\"/>\n       <use x=\"147.412109\" xlink:href=\"#DejaVuSans-30\"/>\n       <use x=\"211.035156\" xlink:href=\"#DejaVuSans-30\"/>\n      </g>\n     </g>\n    </g>\n    <g id=\"ytick_3\">\n     <g id=\"line2d_10\">\n      <g>\n       <use style=\"fill:#ffffff;stroke:#ffffff;stroke-width:0.8;\" x=\"55.345313\" xlink:href=\"#m7d2de62e0d\" y=\"158.026896\"/>\n      </g>\n     </g>\n     <g id=\"text_11\">\n      <!-- −50 -->\n      <g style=\"fill:#ffffff;\" transform=\"translate(27.240625 161.826115)scale(0.1 -0.1)\">\n       <use xlink:href=\"#DejaVuSans-2212\"/>\n       <use x=\"83.789062\" xlink:href=\"#DejaVuSans-35\"/>\n       <use x=\"147.412109\" xlink:href=\"#DejaVuSans-30\"/>\n      </g>\n     </g>\n    </g>\n    <g id=\"ytick_4\">\n     <g id=\"line2d_11\">\n      <g>\n       <use style=\"fill:#ffffff;stroke:#ffffff;stroke-width:0.8;\" x=\"55.345313\" xlink:href=\"#m7d2de62e0d\" y=\"127.2053\"/>\n      </g>\n     </g>\n     <g id=\"text_12\">\n      <!-- 0 -->\n      <g style=\"fill:#ffffff;\" transform=\"translate(41.982813 131.004519)scale(0.1 -0.1)\">\n       <use xlink:href=\"#DejaVuSans-30\"/>\n      </g>\n     </g>\n    </g>\n    <g id=\"ytick_5\">\n     <g id=\"line2d_12\">\n      <g>\n       <use style=\"fill:#ffffff;stroke:#ffffff;stroke-width:0.8;\" x=\"55.345313\" xlink:href=\"#m7d2de62e0d\" y=\"96.383704\"/>\n      </g>\n     </g>\n     <g id=\"text_13\">\n      <!-- 50 -->\n      <g style=\"fill:#ffffff;\" transform=\"translate(35.620313 100.182923)scale(0.1 -0.1)\">\n       <use xlink:href=\"#DejaVuSans-35\"/>\n       <use x=\"63.623047\" xlink:href=\"#DejaVuSans-30\"/>\n      </g>\n     </g>\n    </g>\n    <g id=\"ytick_6\">\n     <g id=\"line2d_13\">\n      <g>\n       <use style=\"fill:#ffffff;stroke:#ffffff;stroke-width:0.8;\" x=\"55.345313\" xlink:href=\"#m7d2de62e0d\" y=\"65.562109\"/>\n      </g>\n     </g>\n     <g id=\"text_14\">\n      <!-- 100 -->\n      <g style=\"fill:#ffffff;\" transform=\"translate(29.257813 69.361327)scale(0.1 -0.1)\">\n       <use xlink:href=\"#DejaVuSans-31\"/>\n       <use x=\"63.623047\" xlink:href=\"#DejaVuSans-30\"/>\n       <use x=\"127.246094\" xlink:href=\"#DejaVuSans-30\"/>\n      </g>\n     </g>\n    </g>\n    <g id=\"ytick_7\">\n     <g id=\"line2d_14\">\n      <g>\n       <use style=\"fill:#ffffff;stroke:#ffffff;stroke-width:0.8;\" x=\"55.345313\" xlink:href=\"#m7d2de62e0d\" y=\"34.740513\"/>\n      </g>\n     </g>\n     <g id=\"text_15\">\n      <!-- 150 -->\n      <g style=\"fill:#ffffff;\" transform=\"translate(29.257813 38.539731)scale(0.1 -0.1)\">\n       <use xlink:href=\"#DejaVuSans-31\"/>\n       <use x=\"63.623047\" xlink:href=\"#DejaVuSans-35\"/>\n       <use x=\"127.246094\" xlink:href=\"#DejaVuSans-30\"/>\n      </g>\n     </g>\n    </g>\n    <g id=\"text_16\">\n     <!-- ROA Score -->\n     <g style=\"fill:#ffffff;\" transform=\"translate(14.798438 157.3725)rotate(-90)scale(0.1 -0.1)\">\n      <defs>\n       <path d=\"M 2841 2188 \nQ 3044 2119 3236 1894 \nQ 3428 1669 3622 1275 \nL 4263 0 \nL 3584 0 \nL 2988 1197 \nQ 2756 1666 2539 1819 \nQ 2322 1972 1947 1972 \nL 1259 1972 \nL 1259 0 \nL 628 0 \nL 628 4666 \nL 2053 4666 \nQ 2853 4666 3247 4331 \nQ 3641 3997 3641 3322 \nQ 3641 2881 3436 2590 \nQ 3231 2300 2841 2188 \nz\nM 1259 4147 \nL 1259 2491 \nL 2053 2491 \nQ 2509 2491 2742 2702 \nQ 2975 2913 2975 3322 \nQ 2975 3731 2742 3939 \nQ 2509 4147 2053 4147 \nL 1259 4147 \nz\n\" id=\"DejaVuSans-52\" transform=\"scale(0.015625)\"/>\n       <path d=\"M 2188 4044 \nL 1331 1722 \nL 3047 1722 \nL 2188 4044 \nz\nM 1831 4666 \nL 2547 4666 \nL 4325 0 \nL 3669 0 \nL 3244 1197 \nL 1141 1197 \nL 716 0 \nL 50 0 \nL 1831 4666 \nz\n\" id=\"DejaVuSans-41\" transform=\"scale(0.015625)\"/>\n       <path d=\"M 3122 3366 \nL 3122 2828 \nQ 2878 2963 2633 3030 \nQ 2388 3097 2138 3097 \nQ 1578 3097 1268 2742 \nQ 959 2388 959 1747 \nQ 959 1106 1268 751 \nQ 1578 397 2138 397 \nQ 2388 397 2633 464 \nQ 2878 531 3122 666 \nL 3122 134 \nQ 2881 22 2623 -34 \nQ 2366 -91 2075 -91 \nQ 1284 -91 818 406 \nQ 353 903 353 1747 \nQ 353 2603 823 3093 \nQ 1294 3584 2113 3584 \nQ 2378 3584 2631 3529 \nQ 2884 3475 3122 3366 \nz\n\" id=\"DejaVuSans-63\" transform=\"scale(0.015625)\"/>\n       <path d=\"M 1959 3097 \nQ 1497 3097 1228 2736 \nQ 959 2375 959 1747 \nQ 959 1119 1226 758 \nQ 1494 397 1959 397 \nQ 2419 397 2687 759 \nQ 2956 1122 2956 1747 \nQ 2956 2369 2687 2733 \nQ 2419 3097 1959 3097 \nz\nM 1959 3584 \nQ 2709 3584 3137 3096 \nQ 3566 2609 3566 1747 \nQ 3566 888 3137 398 \nQ 2709 -91 1959 -91 \nQ 1206 -91 779 398 \nQ 353 888 353 1747 \nQ 353 2609 779 3096 \nQ 1206 3584 1959 3584 \nz\n\" id=\"DejaVuSans-6f\" transform=\"scale(0.015625)\"/>\n      </defs>\n      <use xlink:href=\"#DejaVuSans-52\"/>\n      <use x=\"69.482422\" xlink:href=\"#DejaVuSans-4f\"/>\n      <use x=\"146.443359\" xlink:href=\"#DejaVuSans-41\"/>\n      <use x=\"214.851562\" xlink:href=\"#DejaVuSans-20\"/>\n      <use x=\"246.638672\" xlink:href=\"#DejaVuSans-53\"/>\n      <use x=\"310.115234\" xlink:href=\"#DejaVuSans-63\"/>\n      <use x=\"365.095703\" xlink:href=\"#DejaVuSans-6f\"/>\n      <use x=\"426.277344\" xlink:href=\"#DejaVuSans-72\"/>\n      <use x=\"465.140625\" xlink:href=\"#DejaVuSans-65\"/>\n     </g>\n    </g>\n   </g>\n   <g id=\"line2d_15\">\n    <defs>\n     <path d=\"M 0 3 \nC 0.795609 3 1.55874 2.683901 2.12132 2.12132 \nC 2.683901 1.55874 3 0.795609 3 0 \nC 3 -0.795609 2.683901 -1.55874 2.12132 -2.12132 \nC 1.55874 -2.683901 0.795609 -3 0 -3 \nC -0.795609 -3 -1.55874 -2.683901 -2.12132 -2.12132 \nC -2.683901 -1.55874 -3 -0.795609 -3 0 \nC -3 0.795609 -2.683901 1.55874 -2.12132 2.12132 \nC -1.55874 2.683901 -0.795609 3 0 3 \nz\n\" id=\"m80172d2a15\" style=\"stroke:#8dd3c7;\"/>\n    </defs>\n    <g clip-path=\"url(#p5e36ca5de4)\">\n     <use style=\"fill:#8dd3c7;stroke:#8dd3c7;\" x=\"102.844486\" xlink:href=\"#m80172d2a15\" y=\"122.920229\"/>\n     <use style=\"fill:#8dd3c7;stroke:#8dd3c7;\" x=\"70.563494\" xlink:href=\"#m80172d2a15\" y=\"127.306306\"/>\n     <use style=\"fill:#8dd3c7;stroke:#8dd3c7;\" x=\"118.984982\" xlink:href=\"#m80172d2a15\" y=\"129.108823\"/>\n     <use style=\"fill:#8dd3c7;stroke:#8dd3c7;\" x=\"268.861015\" xlink:href=\"#m80172d2a15\" y=\"121.79753\"/>\n     <use style=\"fill:#8dd3c7;stroke:#8dd3c7;\" x=\"70.563494\" xlink:href=\"#m80172d2a15\" y=\"129.253844\"/>\n     <use style=\"fill:#8dd3c7;stroke:#8dd3c7;\" x=\"354.175065\" xlink:href=\"#m80172d2a15\" y=\"124.947064\"/>\n     <use style=\"fill:#8dd3c7;stroke:#8dd3c7;\" x=\"98.232916\" xlink:href=\"#m80172d2a15\" y=\"125.035411\"/>\n     <use style=\"fill:#8dd3c7;stroke:#8dd3c7;\" x=\"70.563494\" xlink:href=\"#m80172d2a15\" y=\"128.631694\"/>\n     <use style=\"fill:#8dd3c7;stroke:#8dd3c7;\" x=\"231.968453\" xlink:href=\"#m80172d2a15\" y=\"124.973238\"/>\n     <use style=\"fill:#8dd3c7;stroke:#8dd3c7;\" x=\"188.158536\" xlink:href=\"#m80172d2a15\" y=\"124.24136\"/>\n     <use style=\"fill:#8dd3c7;stroke:#8dd3c7;\" x=\"70.563494\" xlink:href=\"#m80172d2a15\" y=\"126.471571\"/>\n     <use style=\"fill:#8dd3c7;stroke:#8dd3c7;\" x=\"218.133742\" xlink:href=\"#m80172d2a15\" y=\"117.480736\"/>\n     <use style=\"fill:#8dd3c7;stroke:#8dd3c7;\" x=\"266.55523\" xlink:href=\"#m80172d2a15\" y=\"123.873792\"/>\n     <use style=\"fill:#8dd3c7;stroke:#8dd3c7;\" x=\"79.786635\" xlink:href=\"#m80172d2a15\" y=\"125.868102\"/>\n     <use style=\"fill:#8dd3c7;stroke:#8dd3c7;\" x=\"70.563494\" xlink:href=\"#m80172d2a15\" y=\"131.955733\"/>\n     <use style=\"fill:#8dd3c7;stroke:#8dd3c7;\" x=\"151.265974\" xlink:href=\"#m80172d2a15\" y=\"126.695616\"/>\n     <use style=\"fill:#8dd3c7;stroke:#8dd3c7;\" x=\"257.332089\" xlink:href=\"#m80172d2a15\" y=\"119.966871\"/>\n     <use style=\"fill:#8dd3c7;stroke:#8dd3c7;\" x=\"105.150271\" xlink:href=\"#m80172d2a15\" y=\"126.270355\"/>\n     <use style=\"fill:#8dd3c7;stroke:#8dd3c7;\" x=\"70.563494\" xlink:href=\"#m80172d2a15\" y=\"124.562769\"/>\n     <use style=\"fill:#8dd3c7;stroke:#8dd3c7;\" x=\"118.984982\" xlink:href=\"#m80172d2a15\" y=\"127.2053\"/>\n     <use style=\"fill:#8dd3c7;stroke:#8dd3c7;\" x=\"264.249445\" xlink:href=\"#m80172d2a15\" y=\"123.66177\"/>\n     <use style=\"fill:#8dd3c7;stroke:#8dd3c7;\" x=\"98.232916\" xlink:href=\"#m80172d2a15\" y=\"129.175722\"/>\n     <use style=\"fill:#8dd3c7;stroke:#8dd3c7;\" x=\"155.877544\" xlink:href=\"#m80172d2a15\" y=\"126.691109\"/>\n     <use style=\"fill:#8dd3c7;stroke:#8dd3c7;\" x=\"195.075891\" xlink:href=\"#m80172d2a15\" y=\"184.0402\"/>\n     <use style=\"fill:#8dd3c7;stroke:#8dd3c7;\" x=\"139.737048\" xlink:href=\"#m80172d2a15\" y=\"126.065829\"/>\n     <use style=\"fill:#8dd3c7;stroke:#8dd3c7;\" x=\"215.827957\" xlink:href=\"#m80172d2a15\" y=\"124.961225\"/>\n     <use style=\"fill:#8dd3c7;stroke:#8dd3c7;\" x=\"70.563494\" xlink:href=\"#m80172d2a15\" y=\"133.557857\"/>\n     <use style=\"fill:#8dd3c7;stroke:#8dd3c7;\" x=\"77.48085\" xlink:href=\"#m80172d2a15\" y=\"116.569571\"/>\n     <use style=\"fill:#8dd3c7;stroke:#8dd3c7;\" x=\"201.993246\" xlink:href=\"#m80172d2a15\" y=\"128.585196\"/>\n     <use style=\"fill:#8dd3c7;stroke:#8dd3c7;\" x=\"70.563494\" xlink:href=\"#m80172d2a15\" y=\"113.467127\"/>\n     <use style=\"fill:#8dd3c7;stroke:#8dd3c7;\" x=\"93.621346\" xlink:href=\"#m80172d2a15\" y=\"140.363177\"/>\n     <use style=\"fill:#8dd3c7;stroke:#8dd3c7;\" x=\"70.563494\" xlink:href=\"#m80172d2a15\" y=\"123.822568\"/>\n     <use style=\"fill:#8dd3c7;stroke:#8dd3c7;\" x=\"70.563494\" xlink:href=\"#m80172d2a15\" y=\"127.199762\"/>\n     <use style=\"fill:#8dd3c7;stroke:#8dd3c7;\" x=\"98.232916\" xlink:href=\"#m80172d2a15\" y=\"127.563532\"/>\n     <use style=\"fill:#8dd3c7;stroke:#8dd3c7;\" x=\"70.563494\" xlink:href=\"#m80172d2a15\" y=\"129.382822\"/>\n     <use style=\"fill:#8dd3c7;stroke:#8dd3c7;\" x=\"123.596552\" xlink:href=\"#m80172d2a15\" y=\"122.623504\"/>\n     <use style=\"fill:#8dd3c7;stroke:#8dd3c7;\" x=\"72.869279\" xlink:href=\"#m80172d2a15\" y=\"127.2053\"/>\n     <use style=\"fill:#8dd3c7;stroke:#8dd3c7;\" x=\"112.067627\" xlink:href=\"#m80172d2a15\" y=\"127.177699\"/>\n     <use style=\"fill:#8dd3c7;stroke:#8dd3c7;\" x=\"172.01804\" xlink:href=\"#m80172d2a15\" y=\"124.809216\"/>\n     <use style=\"fill:#8dd3c7;stroke:#8dd3c7;\" x=\"128.208122\" xlink:href=\"#m80172d2a15\" y=\"125.833826\"/>\n     <use style=\"fill:#8dd3c7;stroke:#8dd3c7;\" x=\"70.563494\" xlink:href=\"#m80172d2a15\" y=\"126.128765\"/>\n     <use style=\"fill:#8dd3c7;stroke:#8dd3c7;\" x=\"75.175065\" xlink:href=\"#m80172d2a15\" y=\"121.363783\"/>\n     <use style=\"fill:#8dd3c7;stroke:#8dd3c7;\" x=\"95.927131\" xlink:href=\"#m80172d2a15\" y=\"123.543907\"/>\n     <use style=\"fill:#8dd3c7;stroke:#8dd3c7;\" x=\"70.563494\" xlink:href=\"#m80172d2a15\" y=\"229.874489\"/>\n     <use style=\"fill:#8dd3c7;stroke:#8dd3c7;\" x=\"121.290767\" xlink:href=\"#m80172d2a15\" y=\"128.532728\"/>\n     <use style=\"fill:#8dd3c7;stroke:#8dd3c7;\" x=\"132.819693\" xlink:href=\"#m80172d2a15\" y=\"131.694061\"/>\n     <use style=\"fill:#8dd3c7;stroke:#8dd3c7;\" x=\"268.861015\" xlink:href=\"#m80172d2a15\" y=\"123.703171\"/>\n     <use style=\"fill:#8dd3c7;stroke:#8dd3c7;\" x=\"70.563494\" xlink:href=\"#m80172d2a15\" y=\"123.800148\"/>\n     <use style=\"fill:#8dd3c7;stroke:#8dd3c7;\" x=\"374.927131\" xlink:href=\"#m80172d2a15\" y=\"121.739544\"/>\n     <use style=\"fill:#8dd3c7;stroke:#8dd3c7;\" x=\"82.09242\" xlink:href=\"#m80172d2a15\" y=\"128.059534\"/>\n     <use style=\"fill:#8dd3c7;stroke:#8dd3c7;\" x=\"70.563494\" xlink:href=\"#m80172d2a15\" y=\"129.487373\"/>\n     <use style=\"fill:#8dd3c7;stroke:#8dd3c7;\" x=\"70.563494\" xlink:href=\"#m80172d2a15\" y=\"129.576882\"/>\n     <use style=\"fill:#8dd3c7;stroke:#8dd3c7;\" x=\"70.563494\" xlink:href=\"#m80172d2a15\" y=\"126.855686\"/>\n     <use style=\"fill:#8dd3c7;stroke:#8dd3c7;\" x=\"77.48085\" xlink:href=\"#m80172d2a15\" y=\"127.177105\"/>\n     <use style=\"fill:#8dd3c7;stroke:#8dd3c7;\" x=\"100.538701\" xlink:href=\"#m80172d2a15\" y=\"129.471636\"/>\n     <use style=\"fill:#8dd3c7;stroke:#8dd3c7;\" x=\"77.48085\" xlink:href=\"#m80172d2a15\" y=\"127.487053\"/>\n     <use style=\"fill:#8dd3c7;stroke:#8dd3c7;\" x=\"70.563494\" xlink:href=\"#m80172d2a15\" y=\"157.727127\"/>\n     <use style=\"fill:#8dd3c7;stroke:#8dd3c7;\" x=\"98.232916\" xlink:href=\"#m80172d2a15\" y=\"124.651161\"/>\n     <use style=\"fill:#8dd3c7;stroke:#8dd3c7;\" x=\"79.786635\" xlink:href=\"#m80172d2a15\" y=\"168.091626\"/>\n     <use style=\"fill:#8dd3c7;stroke:#8dd3c7;\" x=\"75.175065\" xlink:href=\"#m80172d2a15\" y=\"127.161122\"/>\n     <use style=\"fill:#8dd3c7;stroke:#8dd3c7;\" x=\"91.31556\" xlink:href=\"#m80172d2a15\" y=\"127.293724\"/>\n     <use style=\"fill:#8dd3c7;stroke:#8dd3c7;\" x=\"144.348618\" xlink:href=\"#m80172d2a15\" y=\"126.887382\"/>\n     <use style=\"fill:#8dd3c7;stroke:#8dd3c7;\" x=\"72.869279\" xlink:href=\"#m80172d2a15\" y=\"134.361184\"/>\n     <use style=\"fill:#8dd3c7;stroke:#8dd3c7;\" x=\"142.042833\" xlink:href=\"#m80172d2a15\" y=\"130.255375\"/>\n     <use style=\"fill:#8dd3c7;stroke:#8dd3c7;\" x=\"77.48085\" xlink:href=\"#m80172d2a15\" y=\"182.815916\"/>\n     <use style=\"fill:#8dd3c7;stroke:#8dd3c7;\" x=\"70.563494\" xlink:href=\"#m80172d2a15\" y=\"127.584106\"/>\n     <use style=\"fill:#8dd3c7;stroke:#8dd3c7;\" x=\"77.48085\" xlink:href=\"#m80172d2a15\" y=\"122.252658\"/>\n     <use style=\"fill:#8dd3c7;stroke:#8dd3c7;\" x=\"72.869279\" xlink:href=\"#m80172d2a15\" y=\"123.47465\"/>\n     <use style=\"fill:#8dd3c7;stroke:#8dd3c7;\" x=\"178.935395\" xlink:href=\"#m80172d2a15\" y=\"126.292606\"/>\n     <use style=\"fill:#8dd3c7;stroke:#8dd3c7;\" x=\"130.513908\" xlink:href=\"#m80172d2a15\" y=\"124.309097\"/>\n     <use style=\"fill:#8dd3c7;stroke:#8dd3c7;\" x=\"82.09242\" xlink:href=\"#m80172d2a15\" y=\"127.246492\"/>\n     <use style=\"fill:#8dd3c7;stroke:#8dd3c7;\" x=\"197.381676\" xlink:href=\"#m80172d2a15\" y=\"128.751311\"/>\n     <use style=\"fill:#8dd3c7;stroke:#8dd3c7;\" x=\"84.398205\" xlink:href=\"#m80172d2a15\" y=\"127.103014\"/>\n     <use style=\"fill:#8dd3c7;stroke:#8dd3c7;\" x=\"123.596552\" xlink:href=\"#m80172d2a15\" y=\"121.558187\"/>\n     <use style=\"fill:#8dd3c7;stroke:#8dd3c7;\" x=\"70.563494\" xlink:href=\"#m80172d2a15\" y=\"125.125795\"/>\n     <use style=\"fill:#8dd3c7;stroke:#8dd3c7;\" x=\"72.869279\" xlink:href=\"#m80172d2a15\" y=\"125.589884\"/>\n     <use style=\"fill:#8dd3c7;stroke:#8dd3c7;\" x=\"70.563494\" xlink:href=\"#m80172d2a15\" y=\"125.051432\"/>\n     <use style=\"fill:#8dd3c7;stroke:#8dd3c7;\" x=\"70.563494\" xlink:href=\"#m80172d2a15\" y=\"128.728315\"/>\n     <use style=\"fill:#8dd3c7;stroke:#8dd3c7;\" x=\"257.332089\" xlink:href=\"#m80172d2a15\" y=\"32.201761\"/>\n     <use style=\"fill:#8dd3c7;stroke:#8dd3c7;\" x=\"70.563494\" xlink:href=\"#m80172d2a15\" y=\"127.158842\"/>\n     <use style=\"fill:#8dd3c7;stroke:#8dd3c7;\" x=\"70.563494\" xlink:href=\"#m80172d2a15\" y=\"120.346003\"/>\n     <use style=\"fill:#8dd3c7;stroke:#8dd3c7;\" x=\"70.563494\" xlink:href=\"#m80172d2a15\" y=\"125.623277\"/>\n     <use style=\"fill:#8dd3c7;stroke:#8dd3c7;\" x=\"70.563494\" xlink:href=\"#m80172d2a15\" y=\"121.693506\"/>\n     <use style=\"fill:#8dd3c7;stroke:#8dd3c7;\" x=\"84.398205\" xlink:href=\"#m80172d2a15\" y=\"126.738496\"/>\n     <use style=\"fill:#8dd3c7;stroke:#8dd3c7;\" x=\"100.538701\" xlink:href=\"#m80172d2a15\" y=\"207.396055\"/>\n     <use style=\"fill:#8dd3c7;stroke:#8dd3c7;\" x=\"70.563494\" xlink:href=\"#m80172d2a15\" y=\"129.82154\"/>\n     <use style=\"fill:#8dd3c7;stroke:#8dd3c7;\" x=\"70.563494\" xlink:href=\"#m80172d2a15\" y=\"127.085271\"/>\n     <use style=\"fill:#8dd3c7;stroke:#8dd3c7;\" x=\"70.563494\" xlink:href=\"#m80172d2a15\" y=\"124.933172\"/>\n     <use style=\"fill:#8dd3c7;stroke:#8dd3c7;\" x=\"70.563494\" xlink:href=\"#m80172d2a15\" y=\"124.933172\"/>\n     <use style=\"fill:#8dd3c7;stroke:#8dd3c7;\" x=\"98.232916\" xlink:href=\"#m80172d2a15\" y=\"126.508373\"/>\n     <use style=\"fill:#8dd3c7;stroke:#8dd3c7;\" x=\"70.563494\" xlink:href=\"#m80172d2a15\" y=\"126.212919\"/>\n     <use style=\"fill:#8dd3c7;stroke:#8dd3c7;\" x=\"72.869279\" xlink:href=\"#m80172d2a15\" y=\"127.046942\"/>\n     <use style=\"fill:#8dd3c7;stroke:#8dd3c7;\" x=\"116.679197\" xlink:href=\"#m80172d2a15\" y=\"127.226456\"/>\n     <use style=\"fill:#8dd3c7;stroke:#8dd3c7;\" x=\"93.621346\" xlink:href=\"#m80172d2a15\" y=\"125.827608\"/>\n     <use style=\"fill:#8dd3c7;stroke:#8dd3c7;\" x=\"107.456056\" xlink:href=\"#m80172d2a15\" y=\"125.941503\"/>\n     <use style=\"fill:#8dd3c7;stroke:#8dd3c7;\" x=\"77.48085\" xlink:href=\"#m80172d2a15\" y=\"126.142122\"/>\n     <use style=\"fill:#8dd3c7;stroke:#8dd3c7;\" x=\"70.563494\" xlink:href=\"#m80172d2a15\" y=\"123.648529\"/>\n     <use style=\"fill:#8dd3c7;stroke:#8dd3c7;\" x=\"79.786635\" xlink:href=\"#m80172d2a15\" y=\"118.17528\"/>\n     <use style=\"fill:#8dd3c7;stroke:#8dd3c7;\" x=\"123.596552\" xlink:href=\"#m80172d2a15\" y=\"125.041808\"/>\n    </g>\n   </g>\n   <g id=\"patch_3\">\n    <path d=\"M 55.345313 239.758125 \nL 55.345313 22.318125 \n\" style=\"fill:none;stroke:#ffffff;stroke-linecap:square;stroke-linejoin:miter;stroke-width:0.8;\"/>\n   </g>\n   <g id=\"patch_4\">\n    <path d=\"M 390.145312 239.758125 \nL 390.145312 22.318125 \n\" style=\"fill:none;stroke:#ffffff;stroke-linecap:square;stroke-linejoin:miter;stroke-width:0.8;\"/>\n   </g>\n   <g id=\"patch_5\">\n    <path d=\"M 55.345313 239.758125 \nL 390.145312 239.758125 \n\" style=\"fill:none;stroke:#ffffff;stroke-linecap:square;stroke-linejoin:miter;stroke-width:0.8;\"/>\n   </g>\n   <g id=\"patch_6\">\n    <path d=\"M 55.345313 22.318125 \nL 390.145312 22.318125 \n\" style=\"fill:none;stroke:#ffffff;stroke-linecap:square;stroke-linejoin:miter;stroke-width:0.8;\"/>\n   </g>\n   <g id=\"text_17\">\n    <!-- ROA vs. Graduates -->\n    <g style=\"fill:#ffffff;\" transform=\"translate(166.205625 16.318125)scale(0.12 -0.12)\">\n     <defs>\n      <path d=\"M 191 3500 \nL 800 3500 \nL 1894 563 \nL 2988 3500 \nL 3597 3500 \nL 2284 0 \nL 1503 0 \nL 191 3500 \nz\n\" id=\"DejaVuSans-76\" transform=\"scale(0.015625)\"/>\n      <path d=\"M 684 794 \nL 1344 794 \nL 1344 0 \nL 684 0 \nL 684 794 \nz\n\" id=\"DejaVuSans-2e\" transform=\"scale(0.015625)\"/>\n     </defs>\n     <use xlink:href=\"#DejaVuSans-52\"/>\n     <use x=\"69.482422\" xlink:href=\"#DejaVuSans-4f\"/>\n     <use x=\"146.443359\" xlink:href=\"#DejaVuSans-41\"/>\n     <use x=\"214.851562\" xlink:href=\"#DejaVuSans-20\"/>\n     <use x=\"246.638672\" xlink:href=\"#DejaVuSans-76\"/>\n     <use x=\"305.818359\" xlink:href=\"#DejaVuSans-73\"/>\n     <use x=\"357.917969\" xlink:href=\"#DejaVuSans-2e\"/>\n     <use x=\"389.705078\" xlink:href=\"#DejaVuSans-20\"/>\n     <use x=\"421.492188\" xlink:href=\"#DejaVuSans-47\"/>\n     <use x=\"498.982422\" xlink:href=\"#DejaVuSans-72\"/>\n     <use x=\"540.095703\" xlink:href=\"#DejaVuSans-61\"/>\n     <use x=\"601.375\" xlink:href=\"#DejaVuSans-64\"/>\n     <use x=\"664.851562\" xlink:href=\"#DejaVuSans-75\"/>\n     <use x=\"728.230469\" xlink:href=\"#DejaVuSans-61\"/>\n     <use x=\"789.509766\" xlink:href=\"#DejaVuSans-74\"/>\n     <use x=\"828.71875\" xlink:href=\"#DejaVuSans-65\"/>\n     <use x=\"890.242188\" xlink:href=\"#DejaVuSans-73\"/>\n    </g>\n   </g>\n  </g>\n </g>\n <defs>\n  <clipPath id=\"p5e36ca5de4\">\n   <rect height=\"217.44\" width=\"334.8\" x=\"55.345313\" y=\"22.318125\"/>\n  </clipPath>\n </defs>\n</svg>\n",
      "image/png": "[encoded data removed]"
     },
     "metadata": {}
    }
   ],
   "metadata": {}
  },
  {
   "cell_type": "code",
   "execution_count": 9,
   "source": [
    "# Let's zoom in to appreciate better\n",
    "df_viz = df.loc[ (df['ESPOL'] < 1000) & (abs(df['ROA']) < 20) & (df['ESPOL'] > 2)]\n",
    "plt.plot( 'ESPOL', 'ROA', data=df_viz, linestyle='none', marker='o')\n",
    "plt.xlabel('ESPOL Graduates')\n",
    "plt.ylabel('ROA Score')\n",
    "plt.title(\"ROA vs. Graduates\")\n",
    "plt.show()"
   ],
   "outputs": [
    {
     "output_type": "display_data",
     "data": {
      "text/plain": [
       "<Figure size 432x288 with 1 Axes>"
      ],
      "image/svg+xml": "<?xml version=\"1.0\" encoding=\"utf-8\" standalone=\"no\"?>\n<!DOCTYPE svg PUBLIC \"-//W3C//DTD SVG 1.1//EN\"\n  \"http://www.w3.org/Graphics/SVG/1.1/DTD/svg11.dtd\">\n<svg height=\"277.314375pt\" version=\"1.1\" viewBox=\"0 0 384.620313 277.314375\" width=\"384.620313pt\" xmlns=\"http://www.w3.org/2000/svg\" xmlns:xlink=\"http://www.w3.org/1999/xlink\">\n <metadata>\n  <rdf:RDF xmlns:cc=\"http://creativecommons.org/ns#\" xmlns:dc=\"http://purl.org/dc/elements/1.1/\" xmlns:rdf=\"http://www.w3.org/1999/02/22-rdf-syntax-ns#\">\n   <cc:Work>\n    <dc:type rdf:resource=\"http://purl.org/dc/dcmitype/StillImage\"/>\n    <dc:date>2021-08-21T00:24:38.392846</dc:date>\n    <dc:format>image/svg+xml</dc:format>\n    <dc:creator>\n     <cc:Agent>\n      <dc:title>Matplotlib v3.4.2, https://matplotlib.org/</dc:title>\n     </cc:Agent>\n    </dc:creator>\n   </cc:Work>\n  </rdf:RDF>\n </metadata>\n <defs>\n  <style type=\"text/css\">*{stroke-linecap:butt;stroke-linejoin:round;}</style>\n </defs>\n <g id=\"figure_1\">\n  <g id=\"patch_1\">\n   <path d=\"M 0 277.314375 \nL 384.620313 277.314375 \nL 384.620313 0 \nL 0 0 \nz\n\"/>\n  </g>\n  <g id=\"axes_1\">\n   <g id=\"patch_2\">\n    <path d=\"M 42.620313 239.758125 \nL 377.420313 239.758125 \nL 377.420313 22.318125 \nL 42.620313 22.318125 \nz\n\"/>\n   </g>\n   <g id=\"matplotlib.axis_1\">\n    <g id=\"xtick_1\">\n     <g id=\"line2d_1\">\n      <defs>\n       <path d=\"M 0 0 \nL 0 3.5 \n\" id=\"m0310559971\" style=\"stroke:#ffffff;stroke-width:0.8;\"/>\n      </defs>\n      <g>\n       <use style=\"fill:#ffffff;stroke:#ffffff;stroke-width:0.8;\" x=\"50.76027\" xlink:href=\"#m0310559971\" y=\"239.758125\"/>\n      </g>\n     </g>\n     <g id=\"text_1\">\n      <!-- 0 -->\n      <g style=\"fill:#ffffff;\" transform=\"translate(47.57902 254.356562)scale(0.1 -0.1)\">\n       <defs>\n        <path d=\"M 2034 4250 \nQ 1547 4250 1301 3770 \nQ 1056 3291 1056 2328 \nQ 1056 1369 1301 889 \nQ 1547 409 2034 409 \nQ 2525 409 2770 889 \nQ 3016 1369 3016 2328 \nQ 3016 3291 2770 3770 \nQ 2525 4250 2034 4250 \nz\nM 2034 4750 \nQ 2819 4750 3233 4129 \nQ 3647 3509 3647 2328 \nQ 3647 1150 3233 529 \nQ 2819 -91 2034 -91 \nQ 1250 -91 836 529 \nQ 422 1150 422 2328 \nQ 422 3509 836 4129 \nQ 1250 4750 2034 4750 \nz\n\" id=\"DejaVuSans-30\" transform=\"scale(0.015625)\"/>\n       </defs>\n       <use xlink:href=\"#DejaVuSans-30\"/>\n      </g>\n     </g>\n    </g>\n    <g id=\"xtick_2\">\n     <g id=\"line2d_2\">\n      <g>\n       <use style=\"fill:#ffffff;stroke:#ffffff;stroke-width:0.8;\" x=\"97.948431\" xlink:href=\"#m0310559971\" y=\"239.758125\"/>\n      </g>\n     </g>\n     <g id=\"text_2\">\n      <!-- 20 -->\n      <g style=\"fill:#ffffff;\" transform=\"translate(91.585931 254.356562)scale(0.1 -0.1)\">\n       <defs>\n        <path d=\"M 1228 531 \nL 3431 531 \nL 3431 0 \nL 469 0 \nL 469 531 \nQ 828 903 1448 1529 \nQ 2069 2156 2228 2338 \nQ 2531 2678 2651 2914 \nQ 2772 3150 2772 3378 \nQ 2772 3750 2511 3984 \nQ 2250 4219 1831 4219 \nQ 1534 4219 1204 4116 \nQ 875 4013 500 3803 \nL 500 4441 \nQ 881 4594 1212 4672 \nQ 1544 4750 1819 4750 \nQ 2544 4750 2975 4387 \nQ 3406 4025 3406 3419 \nQ 3406 3131 3298 2873 \nQ 3191 2616 2906 2266 \nQ 2828 2175 2409 1742 \nQ 1991 1309 1228 531 \nz\n\" id=\"DejaVuSans-32\" transform=\"scale(0.015625)\"/>\n       </defs>\n       <use xlink:href=\"#DejaVuSans-32\"/>\n       <use x=\"63.623047\" xlink:href=\"#DejaVuSans-30\"/>\n      </g>\n     </g>\n    </g>\n    <g id=\"xtick_3\">\n     <g id=\"line2d_3\">\n      <g>\n       <use style=\"fill:#ffffff;stroke:#ffffff;stroke-width:0.8;\" x=\"145.136592\" xlink:href=\"#m0310559971\" y=\"239.758125\"/>\n      </g>\n     </g>\n     <g id=\"text_3\">\n      <!-- 40 -->\n      <g style=\"fill:#ffffff;\" transform=\"translate(138.774092 254.356562)scale(0.1 -0.1)\">\n       <defs>\n        <path d=\"M 2419 4116 \nL 825 1625 \nL 2419 1625 \nL 2419 4116 \nz\nM 2253 4666 \nL 3047 4666 \nL 3047 1625 \nL 3713 1625 \nL 3713 1100 \nL 3047 1100 \nL 3047 0 \nL 2419 0 \nL 2419 1100 \nL 313 1100 \nL 313 1709 \nL 2253 4666 \nz\n\" id=\"DejaVuSans-34\" transform=\"scale(0.015625)\"/>\n       </defs>\n       <use xlink:href=\"#DejaVuSans-34\"/>\n       <use x=\"63.623047\" xlink:href=\"#DejaVuSans-30\"/>\n      </g>\n     </g>\n    </g>\n    <g id=\"xtick_4\">\n     <g id=\"line2d_4\">\n      <g>\n       <use style=\"fill:#ffffff;stroke:#ffffff;stroke-width:0.8;\" x=\"192.324752\" xlink:href=\"#m0310559971\" y=\"239.758125\"/>\n      </g>\n     </g>\n     <g id=\"text_4\">\n      <!-- 60 -->\n      <g style=\"fill:#ffffff;\" transform=\"translate(185.962252 254.356562)scale(0.1 -0.1)\">\n       <defs>\n        <path d=\"M 2113 2584 \nQ 1688 2584 1439 2293 \nQ 1191 2003 1191 1497 \nQ 1191 994 1439 701 \nQ 1688 409 2113 409 \nQ 2538 409 2786 701 \nQ 3034 994 3034 1497 \nQ 3034 2003 2786 2293 \nQ 2538 2584 2113 2584 \nz\nM 3366 4563 \nL 3366 3988 \nQ 3128 4100 2886 4159 \nQ 2644 4219 2406 4219 \nQ 1781 4219 1451 3797 \nQ 1122 3375 1075 2522 \nQ 1259 2794 1537 2939 \nQ 1816 3084 2150 3084 \nQ 2853 3084 3261 2657 \nQ 3669 2231 3669 1497 \nQ 3669 778 3244 343 \nQ 2819 -91 2113 -91 \nQ 1303 -91 875 529 \nQ 447 1150 447 2328 \nQ 447 3434 972 4092 \nQ 1497 4750 2381 4750 \nQ 2619 4750 2861 4703 \nQ 3103 4656 3366 4563 \nz\n\" id=\"DejaVuSans-36\" transform=\"scale(0.015625)\"/>\n       </defs>\n       <use xlink:href=\"#DejaVuSans-36\"/>\n       <use x=\"63.623047\" xlink:href=\"#DejaVuSans-30\"/>\n      </g>\n     </g>\n    </g>\n    <g id=\"xtick_5\">\n     <g id=\"line2d_5\">\n      <g>\n       <use style=\"fill:#ffffff;stroke:#ffffff;stroke-width:0.8;\" x=\"239.512913\" xlink:href=\"#m0310559971\" y=\"239.758125\"/>\n      </g>\n     </g>\n     <g id=\"text_5\">\n      <!-- 80 -->\n      <g style=\"fill:#ffffff;\" transform=\"translate(233.150413 254.356562)scale(0.1 -0.1)\">\n       <defs>\n        <path d=\"M 2034 2216 \nQ 1584 2216 1326 1975 \nQ 1069 1734 1069 1313 \nQ 1069 891 1326 650 \nQ 1584 409 2034 409 \nQ 2484 409 2743 651 \nQ 3003 894 3003 1313 \nQ 3003 1734 2745 1975 \nQ 2488 2216 2034 2216 \nz\nM 1403 2484 \nQ 997 2584 770 2862 \nQ 544 3141 544 3541 \nQ 544 4100 942 4425 \nQ 1341 4750 2034 4750 \nQ 2731 4750 3128 4425 \nQ 3525 4100 3525 3541 \nQ 3525 3141 3298 2862 \nQ 3072 2584 2669 2484 \nQ 3125 2378 3379 2068 \nQ 3634 1759 3634 1313 \nQ 3634 634 3220 271 \nQ 2806 -91 2034 -91 \nQ 1263 -91 848 271 \nQ 434 634 434 1313 \nQ 434 1759 690 2068 \nQ 947 2378 1403 2484 \nz\nM 1172 3481 \nQ 1172 3119 1398 2916 \nQ 1625 2713 2034 2713 \nQ 2441 2713 2670 2916 \nQ 2900 3119 2900 3481 \nQ 2900 3844 2670 4047 \nQ 2441 4250 2034 4250 \nQ 1625 4250 1398 4047 \nQ 1172 3844 1172 3481 \nz\n\" id=\"DejaVuSans-38\" transform=\"scale(0.015625)\"/>\n       </defs>\n       <use xlink:href=\"#DejaVuSans-38\"/>\n       <use x=\"63.623047\" xlink:href=\"#DejaVuSans-30\"/>\n      </g>\n     </g>\n    </g>\n    <g id=\"xtick_6\">\n     <g id=\"line2d_6\">\n      <g>\n       <use style=\"fill:#ffffff;stroke:#ffffff;stroke-width:0.8;\" x=\"286.701074\" xlink:href=\"#m0310559971\" y=\"239.758125\"/>\n      </g>\n     </g>\n     <g id=\"text_6\">\n      <!-- 100 -->\n      <g style=\"fill:#ffffff;\" transform=\"translate(277.157324 254.356562)scale(0.1 -0.1)\">\n       <defs>\n        <path d=\"M 794 531 \nL 1825 531 \nL 1825 4091 \nL 703 3866 \nL 703 4441 \nL 1819 4666 \nL 2450 4666 \nL 2450 531 \nL 3481 531 \nL 3481 0 \nL 794 0 \nL 794 531 \nz\n\" id=\"DejaVuSans-31\" transform=\"scale(0.015625)\"/>\n       </defs>\n       <use xlink:href=\"#DejaVuSans-31\"/>\n       <use x=\"63.623047\" xlink:href=\"#DejaVuSans-30\"/>\n       <use x=\"127.246094\" xlink:href=\"#DejaVuSans-30\"/>\n      </g>\n     </g>\n    </g>\n    <g id=\"xtick_7\">\n     <g id=\"line2d_7\">\n      <g>\n       <use style=\"fill:#ffffff;stroke:#ffffff;stroke-width:0.8;\" x=\"333.889234\" xlink:href=\"#m0310559971\" y=\"239.758125\"/>\n      </g>\n     </g>\n     <g id=\"text_7\">\n      <!-- 120 -->\n      <g style=\"fill:#ffffff;\" transform=\"translate(324.345484 254.356562)scale(0.1 -0.1)\">\n       <use xlink:href=\"#DejaVuSans-31\"/>\n       <use x=\"63.623047\" xlink:href=\"#DejaVuSans-32\"/>\n       <use x=\"127.246094\" xlink:href=\"#DejaVuSans-30\"/>\n      </g>\n     </g>\n    </g>\n    <g id=\"text_8\">\n     <!-- ESPOL Graduates -->\n     <g style=\"fill:#ffffff;\" transform=\"translate(166.31875 268.034687)scale(0.1 -0.1)\">\n      <defs>\n       <path d=\"M 628 4666 \nL 3578 4666 \nL 3578 4134 \nL 1259 4134 \nL 1259 2753 \nL 3481 2753 \nL 3481 2222 \nL 1259 2222 \nL 1259 531 \nL 3634 531 \nL 3634 0 \nL 628 0 \nL 628 4666 \nz\n\" id=\"DejaVuSans-45\" transform=\"scale(0.015625)\"/>\n       <path d=\"M 3425 4513 \nL 3425 3897 \nQ 3066 4069 2747 4153 \nQ 2428 4238 2131 4238 \nQ 1616 4238 1336 4038 \nQ 1056 3838 1056 3469 \nQ 1056 3159 1242 3001 \nQ 1428 2844 1947 2747 \nL 2328 2669 \nQ 3034 2534 3370 2195 \nQ 3706 1856 3706 1288 \nQ 3706 609 3251 259 \nQ 2797 -91 1919 -91 \nQ 1588 -91 1214 -16 \nQ 841 59 441 206 \nL 441 856 \nQ 825 641 1194 531 \nQ 1563 422 1919 422 \nQ 2459 422 2753 634 \nQ 3047 847 3047 1241 \nQ 3047 1584 2836 1778 \nQ 2625 1972 2144 2069 \nL 1759 2144 \nQ 1053 2284 737 2584 \nQ 422 2884 422 3419 \nQ 422 4038 858 4394 \nQ 1294 4750 2059 4750 \nQ 2388 4750 2728 4690 \nQ 3069 4631 3425 4513 \nz\n\" id=\"DejaVuSans-53\" transform=\"scale(0.015625)\"/>\n       <path d=\"M 1259 4147 \nL 1259 2394 \nL 2053 2394 \nQ 2494 2394 2734 2622 \nQ 2975 2850 2975 3272 \nQ 2975 3691 2734 3919 \nQ 2494 4147 2053 4147 \nL 1259 4147 \nz\nM 628 4666 \nL 2053 4666 \nQ 2838 4666 3239 4311 \nQ 3641 3956 3641 3272 \nQ 3641 2581 3239 2228 \nQ 2838 1875 2053 1875 \nL 1259 1875 \nL 1259 0 \nL 628 0 \nL 628 4666 \nz\n\" id=\"DejaVuSans-50\" transform=\"scale(0.015625)\"/>\n       <path d=\"M 2522 4238 \nQ 1834 4238 1429 3725 \nQ 1025 3213 1025 2328 \nQ 1025 1447 1429 934 \nQ 1834 422 2522 422 \nQ 3209 422 3611 934 \nQ 4013 1447 4013 2328 \nQ 4013 3213 3611 3725 \nQ 3209 4238 2522 4238 \nz\nM 2522 4750 \nQ 3503 4750 4090 4092 \nQ 4678 3434 4678 2328 \nQ 4678 1225 4090 567 \nQ 3503 -91 2522 -91 \nQ 1538 -91 948 565 \nQ 359 1222 359 2328 \nQ 359 3434 948 4092 \nQ 1538 4750 2522 4750 \nz\n\" id=\"DejaVuSans-4f\" transform=\"scale(0.015625)\"/>\n       <path d=\"M 628 4666 \nL 1259 4666 \nL 1259 531 \nL 3531 531 \nL 3531 0 \nL 628 0 \nL 628 4666 \nz\n\" id=\"DejaVuSans-4c\" transform=\"scale(0.015625)\"/>\n       <path id=\"DejaVuSans-20\" transform=\"scale(0.015625)\"/>\n       <path d=\"M 3809 666 \nL 3809 1919 \nL 2778 1919 \nL 2778 2438 \nL 4434 2438 \nL 4434 434 \nQ 4069 175 3628 42 \nQ 3188 -91 2688 -91 \nQ 1594 -91 976 548 \nQ 359 1188 359 2328 \nQ 359 3472 976 4111 \nQ 1594 4750 2688 4750 \nQ 3144 4750 3555 4637 \nQ 3966 4525 4313 4306 \nL 4313 3634 \nQ 3963 3931 3569 4081 \nQ 3175 4231 2741 4231 \nQ 1884 4231 1454 3753 \nQ 1025 3275 1025 2328 \nQ 1025 1384 1454 906 \nQ 1884 428 2741 428 \nQ 3075 428 3337 486 \nQ 3600 544 3809 666 \nz\n\" id=\"DejaVuSans-47\" transform=\"scale(0.015625)\"/>\n       <path d=\"M 2631 2963 \nQ 2534 3019 2420 3045 \nQ 2306 3072 2169 3072 \nQ 1681 3072 1420 2755 \nQ 1159 2438 1159 1844 \nL 1159 0 \nL 581 0 \nL 581 3500 \nL 1159 3500 \nL 1159 2956 \nQ 1341 3275 1631 3429 \nQ 1922 3584 2338 3584 \nQ 2397 3584 2469 3576 \nQ 2541 3569 2628 3553 \nL 2631 2963 \nz\n\" id=\"DejaVuSans-72\" transform=\"scale(0.015625)\"/>\n       <path d=\"M 2194 1759 \nQ 1497 1759 1228 1600 \nQ 959 1441 959 1056 \nQ 959 750 1161 570 \nQ 1363 391 1709 391 \nQ 2188 391 2477 730 \nQ 2766 1069 2766 1631 \nL 2766 1759 \nL 2194 1759 \nz\nM 3341 1997 \nL 3341 0 \nL 2766 0 \nL 2766 531 \nQ 2569 213 2275 61 \nQ 1981 -91 1556 -91 \nQ 1019 -91 701 211 \nQ 384 513 384 1019 \nQ 384 1609 779 1909 \nQ 1175 2209 1959 2209 \nL 2766 2209 \nL 2766 2266 \nQ 2766 2663 2505 2880 \nQ 2244 3097 1772 3097 \nQ 1472 3097 1187 3025 \nQ 903 2953 641 2809 \nL 641 3341 \nQ 956 3463 1253 3523 \nQ 1550 3584 1831 3584 \nQ 2591 3584 2966 3190 \nQ 3341 2797 3341 1997 \nz\n\" id=\"DejaVuSans-61\" transform=\"scale(0.015625)\"/>\n       <path d=\"M 2906 2969 \nL 2906 4863 \nL 3481 4863 \nL 3481 0 \nL 2906 0 \nL 2906 525 \nQ 2725 213 2448 61 \nQ 2172 -91 1784 -91 \nQ 1150 -91 751 415 \nQ 353 922 353 1747 \nQ 353 2572 751 3078 \nQ 1150 3584 1784 3584 \nQ 2172 3584 2448 3432 \nQ 2725 3281 2906 2969 \nz\nM 947 1747 \nQ 947 1113 1208 752 \nQ 1469 391 1925 391 \nQ 2381 391 2643 752 \nQ 2906 1113 2906 1747 \nQ 2906 2381 2643 2742 \nQ 2381 3103 1925 3103 \nQ 1469 3103 1208 2742 \nQ 947 2381 947 1747 \nz\n\" id=\"DejaVuSans-64\" transform=\"scale(0.015625)\"/>\n       <path d=\"M 544 1381 \nL 544 3500 \nL 1119 3500 \nL 1119 1403 \nQ 1119 906 1312 657 \nQ 1506 409 1894 409 \nQ 2359 409 2629 706 \nQ 2900 1003 2900 1516 \nL 2900 3500 \nL 3475 3500 \nL 3475 0 \nL 2900 0 \nL 2900 538 \nQ 2691 219 2414 64 \nQ 2138 -91 1772 -91 \nQ 1169 -91 856 284 \nQ 544 659 544 1381 \nz\nM 1991 3584 \nL 1991 3584 \nz\n\" id=\"DejaVuSans-75\" transform=\"scale(0.015625)\"/>\n       <path d=\"M 1172 4494 \nL 1172 3500 \nL 2356 3500 \nL 2356 3053 \nL 1172 3053 \nL 1172 1153 \nQ 1172 725 1289 603 \nQ 1406 481 1766 481 \nL 2356 481 \nL 2356 0 \nL 1766 0 \nQ 1100 0 847 248 \nQ 594 497 594 1153 \nL 594 3053 \nL 172 3053 \nL 172 3500 \nL 594 3500 \nL 594 4494 \nL 1172 4494 \nz\n\" id=\"DejaVuSans-74\" transform=\"scale(0.015625)\"/>\n       <path d=\"M 3597 1894 \nL 3597 1613 \nL 953 1613 \nQ 991 1019 1311 708 \nQ 1631 397 2203 397 \nQ 2534 397 2845 478 \nQ 3156 559 3463 722 \nL 3463 178 \nQ 3153 47 2828 -22 \nQ 2503 -91 2169 -91 \nQ 1331 -91 842 396 \nQ 353 884 353 1716 \nQ 353 2575 817 3079 \nQ 1281 3584 2069 3584 \nQ 2775 3584 3186 3129 \nQ 3597 2675 3597 1894 \nz\nM 3022 2063 \nQ 3016 2534 2758 2815 \nQ 2500 3097 2075 3097 \nQ 1594 3097 1305 2825 \nQ 1016 2553 972 2059 \nL 3022 2063 \nz\n\" id=\"DejaVuSans-65\" transform=\"scale(0.015625)\"/>\n       <path d=\"M 2834 3397 \nL 2834 2853 \nQ 2591 2978 2328 3040 \nQ 2066 3103 1784 3103 \nQ 1356 3103 1142 2972 \nQ 928 2841 928 2578 \nQ 928 2378 1081 2264 \nQ 1234 2150 1697 2047 \nL 1894 2003 \nQ 2506 1872 2764 1633 \nQ 3022 1394 3022 966 \nQ 3022 478 2636 193 \nQ 2250 -91 1575 -91 \nQ 1294 -91 989 -36 \nQ 684 19 347 128 \nL 347 722 \nQ 666 556 975 473 \nQ 1284 391 1588 391 \nQ 1994 391 2212 530 \nQ 2431 669 2431 922 \nQ 2431 1156 2273 1281 \nQ 2116 1406 1581 1522 \nL 1381 1569 \nQ 847 1681 609 1914 \nQ 372 2147 372 2553 \nQ 372 3047 722 3315 \nQ 1072 3584 1716 3584 \nQ 2034 3584 2315 3537 \nQ 2597 3491 2834 3397 \nz\n\" id=\"DejaVuSans-73\" transform=\"scale(0.015625)\"/>\n      </defs>\n      <use xlink:href=\"#DejaVuSans-45\"/>\n      <use x=\"63.183594\" xlink:href=\"#DejaVuSans-53\"/>\n      <use x=\"126.660156\" xlink:href=\"#DejaVuSans-50\"/>\n      <use x=\"186.962891\" xlink:href=\"#DejaVuSans-4f\"/>\n      <use x=\"265.673828\" xlink:href=\"#DejaVuSans-4c\"/>\n      <use x=\"321.386719\" xlink:href=\"#DejaVuSans-20\"/>\n      <use x=\"353.173828\" xlink:href=\"#DejaVuSans-47\"/>\n      <use x=\"430.664062\" xlink:href=\"#DejaVuSans-72\"/>\n      <use x=\"471.777344\" xlink:href=\"#DejaVuSans-61\"/>\n      <use x=\"533.056641\" xlink:href=\"#DejaVuSans-64\"/>\n      <use x=\"596.533203\" xlink:href=\"#DejaVuSans-75\"/>\n      <use x=\"659.912109\" xlink:href=\"#DejaVuSans-61\"/>\n      <use x=\"721.191406\" xlink:href=\"#DejaVuSans-74\"/>\n      <use x=\"760.400391\" xlink:href=\"#DejaVuSans-65\"/>\n      <use x=\"821.923828\" xlink:href=\"#DejaVuSans-73\"/>\n     </g>\n    </g>\n   </g>\n   <g id=\"matplotlib.axis_2\">\n    <g id=\"ytick_1\">\n     <g id=\"line2d_8\">\n      <defs>\n       <path d=\"M 0 0 \nL -3.5 0 \n\" id=\"m656f9ba6ad\" style=\"stroke:#ffffff;stroke-width:0.8;\"/>\n      </defs>\n      <g>\n       <use style=\"fill:#ffffff;stroke:#ffffff;stroke-width:0.8;\" x=\"42.620313\" xlink:href=\"#m656f9ba6ad\" y=\"211.490616\"/>\n      </g>\n     </g>\n     <g id=\"text_9\">\n      <!-- −5 -->\n      <g style=\"fill:#ffffff;\" transform=\"translate(20.878125 215.289835)scale(0.1 -0.1)\">\n       <defs>\n        <path d=\"M 678 2272 \nL 4684 2272 \nL 4684 1741 \nL 678 1741 \nL 678 2272 \nz\n\" id=\"DejaVuSans-2212\" transform=\"scale(0.015625)\"/>\n        <path d=\"M 691 4666 \nL 3169 4666 \nL 3169 4134 \nL 1269 4134 \nL 1269 2991 \nQ 1406 3038 1543 3061 \nQ 1681 3084 1819 3084 \nQ 2600 3084 3056 2656 \nQ 3513 2228 3513 1497 \nQ 3513 744 3044 326 \nQ 2575 -91 1722 -91 \nQ 1428 -91 1123 -41 \nQ 819 9 494 109 \nL 494 744 \nQ 775 591 1075 516 \nQ 1375 441 1709 441 \nQ 2250 441 2565 725 \nQ 2881 1009 2881 1497 \nQ 2881 1984 2565 2268 \nQ 2250 2553 1709 2553 \nQ 1456 2553 1204 2497 \nQ 953 2441 691 2322 \nL 691 4666 \nz\n\" id=\"DejaVuSans-35\" transform=\"scale(0.015625)\"/>\n       </defs>\n       <use xlink:href=\"#DejaVuSans-2212\"/>\n       <use x=\"83.789062\" xlink:href=\"#DejaVuSans-35\"/>\n      </g>\n     </g>\n    </g>\n    <g id=\"ytick_2\">\n     <g id=\"line2d_9\">\n      <g>\n       <use style=\"fill:#ffffff;stroke:#ffffff;stroke-width:0.8;\" x=\"42.620313\" xlink:href=\"#m656f9ba6ad\" y=\"171.20768\"/>\n      </g>\n     </g>\n     <g id=\"text_10\">\n      <!-- 0 -->\n      <g style=\"fill:#ffffff;\" transform=\"translate(29.257813 175.006898)scale(0.1 -0.1)\">\n       <use xlink:href=\"#DejaVuSans-30\"/>\n      </g>\n     </g>\n    </g>\n    <g id=\"ytick_3\">\n     <g id=\"line2d_10\">\n      <g>\n       <use style=\"fill:#ffffff;stroke:#ffffff;stroke-width:0.8;\" x=\"42.620313\" xlink:href=\"#m656f9ba6ad\" y=\"130.924744\"/>\n      </g>\n     </g>\n     <g id=\"text_11\">\n      <!-- 5 -->\n      <g style=\"fill:#ffffff;\" transform=\"translate(29.257813 134.723962)scale(0.1 -0.1)\">\n       <use xlink:href=\"#DejaVuSans-35\"/>\n      </g>\n     </g>\n    </g>\n    <g id=\"ytick_4\">\n     <g id=\"line2d_11\">\n      <g>\n       <use style=\"fill:#ffffff;stroke:#ffffff;stroke-width:0.8;\" x=\"42.620313\" xlink:href=\"#m656f9ba6ad\" y=\"90.641807\"/>\n      </g>\n     </g>\n     <g id=\"text_12\">\n      <!-- 10 -->\n      <g style=\"fill:#ffffff;\" transform=\"translate(22.895313 94.441026)scale(0.1 -0.1)\">\n       <use xlink:href=\"#DejaVuSans-31\"/>\n       <use x=\"63.623047\" xlink:href=\"#DejaVuSans-30\"/>\n      </g>\n     </g>\n    </g>\n    <g id=\"ytick_5\">\n     <g id=\"line2d_12\">\n      <g>\n       <use style=\"fill:#ffffff;stroke:#ffffff;stroke-width:0.8;\" x=\"42.620313\" xlink:href=\"#m656f9ba6ad\" y=\"50.358871\"/>\n      </g>\n     </g>\n     <g id=\"text_13\">\n      <!-- 15 -->\n      <g style=\"fill:#ffffff;\" transform=\"translate(22.895313 54.15809)scale(0.1 -0.1)\">\n       <use xlink:href=\"#DejaVuSans-31\"/>\n       <use x=\"63.623047\" xlink:href=\"#DejaVuSans-35\"/>\n      </g>\n     </g>\n    </g>\n    <g id=\"text_14\">\n     <!-- ROA Score -->\n     <g style=\"fill:#ffffff;\" transform=\"translate(14.798438 157.3725)rotate(-90)scale(0.1 -0.1)\">\n      <defs>\n       <path d=\"M 2841 2188 \nQ 3044 2119 3236 1894 \nQ 3428 1669 3622 1275 \nL 4263 0 \nL 3584 0 \nL 2988 1197 \nQ 2756 1666 2539 1819 \nQ 2322 1972 1947 1972 \nL 1259 1972 \nL 1259 0 \nL 628 0 \nL 628 4666 \nL 2053 4666 \nQ 2853 4666 3247 4331 \nQ 3641 3997 3641 3322 \nQ 3641 2881 3436 2590 \nQ 3231 2300 2841 2188 \nz\nM 1259 4147 \nL 1259 2491 \nL 2053 2491 \nQ 2509 2491 2742 2702 \nQ 2975 2913 2975 3322 \nQ 2975 3731 2742 3939 \nQ 2509 4147 2053 4147 \nL 1259 4147 \nz\n\" id=\"DejaVuSans-52\" transform=\"scale(0.015625)\"/>\n       <path d=\"M 2188 4044 \nL 1331 1722 \nL 3047 1722 \nL 2188 4044 \nz\nM 1831 4666 \nL 2547 4666 \nL 4325 0 \nL 3669 0 \nL 3244 1197 \nL 1141 1197 \nL 716 0 \nL 50 0 \nL 1831 4666 \nz\n\" id=\"DejaVuSans-41\" transform=\"scale(0.015625)\"/>\n       <path d=\"M 3122 3366 \nL 3122 2828 \nQ 2878 2963 2633 3030 \nQ 2388 3097 2138 3097 \nQ 1578 3097 1268 2742 \nQ 959 2388 959 1747 \nQ 959 1106 1268 751 \nQ 1578 397 2138 397 \nQ 2388 397 2633 464 \nQ 2878 531 3122 666 \nL 3122 134 \nQ 2881 22 2623 -34 \nQ 2366 -91 2075 -91 \nQ 1284 -91 818 406 \nQ 353 903 353 1747 \nQ 353 2603 823 3093 \nQ 1294 3584 2113 3584 \nQ 2378 3584 2631 3529 \nQ 2884 3475 3122 3366 \nz\n\" id=\"DejaVuSans-63\" transform=\"scale(0.015625)\"/>\n       <path d=\"M 1959 3097 \nQ 1497 3097 1228 2736 \nQ 959 2375 959 1747 \nQ 959 1119 1226 758 \nQ 1494 397 1959 397 \nQ 2419 397 2687 759 \nQ 2956 1122 2956 1747 \nQ 2956 2369 2687 2733 \nQ 2419 3097 1959 3097 \nz\nM 1959 3584 \nQ 2709 3584 3137 3096 \nQ 3566 2609 3566 1747 \nQ 3566 888 3137 398 \nQ 2709 -91 1959 -91 \nQ 1206 -91 779 398 \nQ 353 888 353 1747 \nQ 353 2609 779 3096 \nQ 1206 3584 1959 3584 \nz\n\" id=\"DejaVuSans-6f\" transform=\"scale(0.015625)\"/>\n      </defs>\n      <use xlink:href=\"#DejaVuSans-52\"/>\n      <use x=\"69.482422\" xlink:href=\"#DejaVuSans-4f\"/>\n      <use x=\"146.443359\" xlink:href=\"#DejaVuSans-41\"/>\n      <use x=\"214.851562\" xlink:href=\"#DejaVuSans-20\"/>\n      <use x=\"246.638672\" xlink:href=\"#DejaVuSans-53\"/>\n      <use x=\"310.115234\" xlink:href=\"#DejaVuSans-63\"/>\n      <use x=\"365.095703\" xlink:href=\"#DejaVuSans-6f\"/>\n      <use x=\"426.277344\" xlink:href=\"#DejaVuSans-72\"/>\n      <use x=\"465.140625\" xlink:href=\"#DejaVuSans-65\"/>\n     </g>\n    </g>\n   </g>\n   <g id=\"line2d_13\">\n    <defs>\n     <path d=\"M 0 3 \nC 0.795609 3 1.55874 2.683901 2.12132 2.12132 \nC 2.683901 1.55874 3 0.795609 3 0 \nC 3 -0.795609 2.683901 -1.55874 2.12132 -2.12132 \nC 1.55874 -2.683901 0.795609 -3 0 -3 \nC -0.795609 -3 -1.55874 -2.683901 -2.12132 -2.12132 \nC -2.683901 -1.55874 -3 -0.795609 -3 0 \nC -3 0.795609 -2.683901 1.55874 -2.12132 2.12132 \nC -1.55874 2.683901 -0.795609 3 0 3 \nz\n\" id=\"mfaff15f793\" style=\"stroke:#8dd3c7;\"/>\n    </defs>\n    <g clip-path=\"url(#pa57330590c)\">\n     <use style=\"fill:#8dd3c7;stroke:#8dd3c7;\" x=\"83.791983\" xlink:href=\"#mfaff15f793\" y=\"115.203033\"/>\n     <use style=\"fill:#8dd3c7;stroke:#8dd3c7;\" x=\"100.307839\" xlink:href=\"#mfaff15f793\" y=\"196.086172\"/>\n     <use style=\"fill:#8dd3c7;stroke:#8dd3c7;\" x=\"253.669361\" xlink:href=\"#mfaff15f793\" y=\"100.529677\"/>\n     <use style=\"fill:#8dd3c7;stroke:#8dd3c7;\" x=\"340.967458\" xlink:href=\"#mfaff15f793\" y=\"141.693178\"/>\n     <use style=\"fill:#8dd3c7;stroke:#8dd3c7;\" x=\"79.073167\" xlink:href=\"#mfaff15f793\" y=\"142.847858\"/>\n     <use style=\"fill:#8dd3c7;stroke:#8dd3c7;\" x=\"215.918833\" xlink:href=\"#mfaff15f793\" y=\"142.035273\"/>\n     <use style=\"fill:#8dd3c7;stroke:#8dd3c7;\" x=\"171.09008\" xlink:href=\"#mfaff15f793\" y=\"132.46983\"/>\n     <use style=\"fill:#8dd3c7;stroke:#8dd3c7;\" x=\"201.762384\" xlink:href=\"#mfaff15f793\" y=\"44.110429\"/>\n     <use style=\"fill:#8dd3c7;stroke:#8dd3c7;\" x=\"251.309953\" xlink:href=\"#mfaff15f793\" y=\"127.665826\"/>\n     <use style=\"fill:#8dd3c7;stroke:#8dd3c7;\" x=\"60.197902\" xlink:href=\"#mfaff15f793\" y=\"153.730886\"/>\n     <use style=\"fill:#8dd3c7;stroke:#8dd3c7;\" x=\"133.339551\" xlink:href=\"#mfaff15f793\" y=\"164.54625\"/>\n     <use style=\"fill:#8dd3c7;stroke:#8dd3c7;\" x=\"241.872321\" xlink:href=\"#mfaff15f793\" y=\"76.603497\"/>\n     <use style=\"fill:#8dd3c7;stroke:#8dd3c7;\" x=\"86.151391\" xlink:href=\"#mfaff15f793\" y=\"158.988211\"/>\n     <use style=\"fill:#8dd3c7;stroke:#8dd3c7;\" x=\"100.307839\" xlink:href=\"#mfaff15f793\" y=\"171.20768\"/>\n     <use style=\"fill:#8dd3c7;stroke:#8dd3c7;\" x=\"248.950545\" xlink:href=\"#mfaff15f793\" y=\"124.894762\"/>\n     <use style=\"fill:#8dd3c7;stroke:#8dd3c7;\" x=\"79.073167\" xlink:href=\"#mfaff15f793\" y=\"196.960521\"/>\n     <use style=\"fill:#8dd3c7;stroke:#8dd3c7;\" x=\"138.058367\" xlink:href=\"#mfaff15f793\" y=\"164.487348\"/>\n     <use style=\"fill:#8dd3c7;stroke:#8dd3c7;\" x=\"121.542511\" xlink:href=\"#mfaff15f793\" y=\"156.315113\"/>\n     <use style=\"fill:#8dd3c7;stroke:#8dd3c7;\" x=\"199.402976\" xlink:href=\"#mfaff15f793\" y=\"141.878267\"/>\n     <use style=\"fill:#8dd3c7;stroke:#8dd3c7;\" x=\"57.838494\" xlink:href=\"#mfaff15f793\" y=\"32.201761\"/>\n     <use style=\"fill:#8dd3c7;stroke:#8dd3c7;\" x=\"185.246528\" xlink:href=\"#mfaff15f793\" y=\"189.24252\"/>\n     <use style=\"fill:#8dd3c7;stroke:#8dd3c7;\" x=\"79.073167\" xlink:href=\"#mfaff15f793\" y=\"175.889664\"/>\n     <use style=\"fill:#8dd3c7;stroke:#8dd3c7;\" x=\"105.026655\" xlink:href=\"#mfaff15f793\" y=\"111.32493\"/>\n     <use style=\"fill:#8dd3c7;stroke:#8dd3c7;\" x=\"93.229615\" xlink:href=\"#mfaff15f793\" y=\"170.846942\"/>\n     <use style=\"fill:#8dd3c7;stroke:#8dd3c7;\" x=\"154.574224\" xlink:href=\"#mfaff15f793\" y=\"139.891544\"/>\n     <use style=\"fill:#8dd3c7;stroke:#8dd3c7;\" x=\"109.745471\" xlink:href=\"#mfaff15f793\" y=\"153.282913\"/>\n     <use style=\"fill:#8dd3c7;stroke:#8dd3c7;\" x=\"76.713759\" xlink:href=\"#mfaff15f793\" y=\"123.354328\"/>\n     <use style=\"fill:#8dd3c7;stroke:#8dd3c7;\" x=\"102.667247\" xlink:href=\"#mfaff15f793\" y=\"188.556782\"/>\n     <use style=\"fill:#8dd3c7;stroke:#8dd3c7;\" x=\"114.464287\" xlink:href=\"#mfaff15f793\" y=\"229.874489\"/>\n     <use style=\"fill:#8dd3c7;stroke:#8dd3c7;\" x=\"253.669361\" xlink:href=\"#mfaff15f793\" y=\"125.435856\"/>\n     <use style=\"fill:#8dd3c7;stroke:#8dd3c7;\" x=\"362.202131\" xlink:href=\"#mfaff15f793\" y=\"99.771826\"/>\n     <use style=\"fill:#8dd3c7;stroke:#8dd3c7;\" x=\"62.55731\" xlink:href=\"#mfaff15f793\" y=\"182.372271\"/>\n     <use style=\"fill:#8dd3c7;stroke:#8dd3c7;\" x=\"57.838494\" xlink:href=\"#mfaff15f793\" y=\"170.839182\"/>\n     <use style=\"fill:#8dd3c7;stroke:#8dd3c7;\" x=\"81.432575\" xlink:href=\"#mfaff15f793\" y=\"200.828029\"/>\n     <use style=\"fill:#8dd3c7;stroke:#8dd3c7;\" x=\"57.838494\" xlink:href=\"#mfaff15f793\" y=\"174.890108\"/>\n     <use style=\"fill:#8dd3c7;stroke:#8dd3c7;\" x=\"79.073167\" xlink:href=\"#mfaff15f793\" y=\"137.82582\"/>\n     <use style=\"fill:#8dd3c7;stroke:#8dd3c7;\" x=\"71.994943\" xlink:href=\"#mfaff15f793\" y=\"172.363357\"/>\n     <use style=\"fill:#8dd3c7;stroke:#8dd3c7;\" x=\"126.261327\" xlink:href=\"#mfaff15f793\" y=\"167.052577\"/>\n     <use style=\"fill:#8dd3c7;stroke:#8dd3c7;\" x=\"123.901919\" xlink:href=\"#mfaff15f793\" y=\"211.071277\"/>\n     <use style=\"fill:#8dd3c7;stroke:#8dd3c7;\" x=\"57.838494\" xlink:href=\"#mfaff15f793\" y=\"106.478068\"/>\n     <use style=\"fill:#8dd3c7;stroke:#8dd3c7;\" x=\"161.652448\" xlink:href=\"#mfaff15f793\" y=\"159.279035\"/>\n     <use style=\"fill:#8dd3c7;stroke:#8dd3c7;\" x=\"112.104879\" xlink:href=\"#mfaff15f793\" y=\"133.355137\"/>\n     <use style=\"fill:#8dd3c7;stroke:#8dd3c7;\" x=\"62.55731\" xlink:href=\"#mfaff15f793\" y=\"171.746041\"/>\n     <use style=\"fill:#8dd3c7;stroke:#8dd3c7;\" x=\"180.527712\" xlink:href=\"#mfaff15f793\" y=\"191.413592\"/>\n     <use style=\"fill:#8dd3c7;stroke:#8dd3c7;\" x=\"64.916718\" xlink:href=\"#mfaff15f793\" y=\"169.870825\"/>\n     <use style=\"fill:#8dd3c7;stroke:#8dd3c7;\" x=\"105.026655\" xlink:href=\"#mfaff15f793\" y=\"97.401542\"/>\n     <use style=\"fill:#8dd3c7;stroke:#8dd3c7;\" x=\"64.916718\" xlink:href=\"#mfaff15f793\" y=\"165.10668\"/>\n     <use style=\"fill:#8dd3c7;stroke:#8dd3c7;\" x=\"79.073167\" xlink:href=\"#mfaff15f793\" y=\"162.099036\"/>\n     <use style=\"fill:#8dd3c7;stroke:#8dd3c7;\" x=\"97.948431\" xlink:href=\"#mfaff15f793\" y=\"171.484178\"/>\n     <use style=\"fill:#8dd3c7;stroke:#8dd3c7;\" x=\"74.354351\" xlink:href=\"#mfaff15f793\" y=\"153.201645\"/>\n     <use style=\"fill:#8dd3c7;stroke:#8dd3c7;\" x=\"88.510799\" xlink:href=\"#mfaff15f793\" y=\"154.690215\"/>\n     <use style=\"fill:#8dd3c7;stroke:#8dd3c7;\" x=\"57.838494\" xlink:href=\"#mfaff15f793\" y=\"157.312242\"/>\n     <use style=\"fill:#8dd3c7;stroke:#8dd3c7;\" x=\"60.197902\" xlink:href=\"#mfaff15f793\" y=\"53.187919\"/>\n     <use style=\"fill:#8dd3c7;stroke:#8dd3c7;\" x=\"105.026655\" xlink:href=\"#mfaff15f793\" y=\"142.931466\"/>\n    </g>\n   </g>\n   <g id=\"patch_3\">\n    <path d=\"M 42.620313 239.758125 \nL 42.620313 22.318125 \n\" style=\"fill:none;stroke:#ffffff;stroke-linecap:square;stroke-linejoin:miter;stroke-width:0.8;\"/>\n   </g>\n   <g id=\"patch_4\">\n    <path d=\"M 377.420313 239.758125 \nL 377.420313 22.318125 \n\" style=\"fill:none;stroke:#ffffff;stroke-linecap:square;stroke-linejoin:miter;stroke-width:0.8;\"/>\n   </g>\n   <g id=\"patch_5\">\n    <path d=\"M 42.620313 239.758125 \nL 377.420313 239.758125 \n\" style=\"fill:none;stroke:#ffffff;stroke-linecap:square;stroke-linejoin:miter;stroke-width:0.8;\"/>\n   </g>\n   <g id=\"patch_6\">\n    <path d=\"M 42.620313 22.318125 \nL 377.420313 22.318125 \n\" style=\"fill:none;stroke:#ffffff;stroke-linecap:square;stroke-linejoin:miter;stroke-width:0.8;\"/>\n   </g>\n   <g id=\"text_15\">\n    <!-- ROA vs. Graduates -->\n    <g style=\"fill:#ffffff;\" transform=\"translate(153.480625 16.318125)scale(0.12 -0.12)\">\n     <defs>\n      <path d=\"M 191 3500 \nL 800 3500 \nL 1894 563 \nL 2988 3500 \nL 3597 3500 \nL 2284 0 \nL 1503 0 \nL 191 3500 \nz\n\" id=\"DejaVuSans-76\" transform=\"scale(0.015625)\"/>\n      <path d=\"M 684 794 \nL 1344 794 \nL 1344 0 \nL 684 0 \nL 684 794 \nz\n\" id=\"DejaVuSans-2e\" transform=\"scale(0.015625)\"/>\n     </defs>\n     <use xlink:href=\"#DejaVuSans-52\"/>\n     <use x=\"69.482422\" xlink:href=\"#DejaVuSans-4f\"/>\n     <use x=\"146.443359\" xlink:href=\"#DejaVuSans-41\"/>\n     <use x=\"214.851562\" xlink:href=\"#DejaVuSans-20\"/>\n     <use x=\"246.638672\" xlink:href=\"#DejaVuSans-76\"/>\n     <use x=\"305.818359\" xlink:href=\"#DejaVuSans-73\"/>\n     <use x=\"357.917969\" xlink:href=\"#DejaVuSans-2e\"/>\n     <use x=\"389.705078\" xlink:href=\"#DejaVuSans-20\"/>\n     <use x=\"421.492188\" xlink:href=\"#DejaVuSans-47\"/>\n     <use x=\"498.982422\" xlink:href=\"#DejaVuSans-72\"/>\n     <use x=\"540.095703\" xlink:href=\"#DejaVuSans-61\"/>\n     <use x=\"601.375\" xlink:href=\"#DejaVuSans-64\"/>\n     <use x=\"664.851562\" xlink:href=\"#DejaVuSans-75\"/>\n     <use x=\"728.230469\" xlink:href=\"#DejaVuSans-61\"/>\n     <use x=\"789.509766\" xlink:href=\"#DejaVuSans-74\"/>\n     <use x=\"828.71875\" xlink:href=\"#DejaVuSans-65\"/>\n     <use x=\"890.242188\" xlink:href=\"#DejaVuSans-73\"/>\n    </g>\n   </g>\n  </g>\n </g>\n <defs>\n  <clipPath id=\"pa57330590c\">\n   <rect height=\"217.44\" width=\"334.8\" x=\"42.620313\" y=\"22.318125\"/>\n  </clipPath>\n </defs>\n</svg>\n",
      "image/png": "[encoded data removed]"
     },
     "metadata": {}
    }
   ],
   "metadata": {}
  },
  {
   "cell_type": "markdown",
   "source": [],
   "metadata": {}
  },
  {
   "cell_type": "code",
   "execution_count": 10,
   "source": [
    "# Now analitically (Pearson)\n",
    "df_corr = df[[\"ROA\", \"ESPOL\"]].corr()\n",
    "df_corr.loc[\"ROA\", \"ESPOL\"]"
   ],
   "outputs": [
    {
     "output_type": "execute_result",
     "data": {
      "text/plain": [
       "0.1971714114378395"
      ]
     },
     "metadata": {},
     "execution_count": 10
    }
   ],
   "metadata": {}
  },
  {
   "cell_type": "code",
   "execution_count": 11,
   "source": [
    "# Pearson is suceptible to be influeced by great distance between values (outliers) so let's check with Spearman as well\n",
    "df_corr_spear = df[[\"ROA\", \"ESPOL\"]].corr(method='spearman')\n",
    "df_corr_spear.loc[\"ROA\", \"ESPOL\"]"
   ],
   "outputs": [
    {
     "output_type": "execute_result",
     "data": {
      "text/plain": [
       "0.21087616597841205"
      ]
     },
     "metadata": {},
     "execution_count": 11
    }
   ],
   "metadata": {}
  },
  {
   "cell_type": "markdown",
   "source": [
    "### Preemptive analysis\n",
    "There seems to be small correlation between the number of ESPOL alumni working at a given company (from the top 100) and the company's Return of Assets (ROA). As evidenced by both coefficients giving values around 0.2. To a degree, this (or lower) could be expected, since the ROA metric has a lot more to do with internal tangible asset management of the company rather than the productivity or efficiency of their employees, nonetheless, some of the literature suggested this could be an interesting find (check the article for details on the literature).\n",
    "\n",
    "This is not to say one causes the other, there are many other factors in play that might by causing this, for example, companies that hire from top Universities of the country might have access to better management as a whole, therefore, it's logical that the company's ROA tends to be higher than that of a company that cannot afford a graduate from the countries top universities; meaning it might not be the work of the graduate itself."
   ],
   "metadata": {}
  },
  {
   "cell_type": "code",
   "execution_count": 10,
   "source": [
    "# Look for correlations between emlployee amount in order to discard possiblity of ESPOL alumni being a very small fraction of a company's resourses\n",
    "df_corr = df[[\"ROA\", \"CANT. EMPLEADOS\"]].corr()\n",
    "df_corr.loc[\"ROA\", \"CANT. EMPLEADOS\"]"
   ],
   "outputs": [
    {
     "output_type": "execute_result",
     "data": {
      "text/plain": [
       "-0.0437177682138472"
      ]
     },
     "metadata": {},
     "execution_count": 10
    }
   ],
   "metadata": {}
  },
  {
   "cell_type": "code",
   "execution_count": 12,
   "source": [
    "# Look for correlations between emlployee amount in order to discard possiblity of ESPOL alumni being a very small fraction of a company's resourses\n",
    "df_corr = df[[\"ROA\", \"CANT. EMPLEADOS\"]].corr(method='spearman')\n",
    "df_corr.loc[\"ROA\", \"CANT. EMPLEADOS\"]\n"
   ],
   "outputs": [
    {
     "output_type": "execute_result",
     "data": {
      "text/plain": [
       "0.061984366832419036"
      ]
     },
     "metadata": {},
     "execution_count": 12
    }
   ],
   "metadata": {}
  },
  {
   "cell_type": "markdown",
   "source": [
    "### Conclusion\n",
    "While we observe a relatively weak correlation between ROA and ESPOL alumni, it is to early to tell the true meaning of this find. This could very well mean that companies hiring from top universities of the country have access to overall better management, even more, the relationship might be explained more trivially: companies that can afford to hire graduates from top level universities of the country tend to have bigger utilities, factor that it's directly related to the ROA metric of a company, since the ROA score it's computed using the utility of the company.\n",
    "\n",
    "Espol alumni might be more impactful in human resources related metrics for performace, however with the data we have available, we cannot calculate such metrics. However this could be interesting for a ESPOL graduate; to know that companies that look forward to hiring them might have the tendency to perform well in company performance metrics to a small degree.\n",
    "\n",
    "All and all, our exploratory analysis shows that top 100 companies in Ecuador hire their employees from a diverse set of universities (check clean_where_they_studied.csv dataframe). There's seem to be a small correlation between ESPOL employee and a company's and the ROA according the SUPERCIAS dataset.\n"
   ],
   "metadata": {}
  },
  {
   "cell_type": "markdown",
   "source": [],
   "metadata": {}
  }
 ],
 "metadata": {
  "interpreter": {
   "hash": "ac2eaa0ea0ebeafcc7822e65e46aa9d4f966f30b695406963e145ea4a91cd4fc"
  },
  "kernelspec": {
   "name": "python3",
   "display_name": "Python 3.9.5 64-bit"
  },
  "language_info": {
   "codemirror_mode": {
    "name": "ipython",
    "version": 3
   },
   "file_extension": ".py",
   "mimetype": "text/x-python",
   "name": "python",
   "nbconvert_exporter": "python",
   "pygments_lexer": "ipython3",
   "version": "3.9.5"
  }
 },
 "nbformat": 4,
 "nbformat_minor": 4
}