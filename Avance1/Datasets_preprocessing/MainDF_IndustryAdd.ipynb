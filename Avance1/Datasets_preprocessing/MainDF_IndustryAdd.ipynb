{
 "cells": [
  {
   "cell_type": "code",
   "execution_count": 11,
   "source": [
    "import pandas as pd"
   ],
   "outputs": [],
   "metadata": {}
  },
  {
   "cell_type": "code",
   "execution_count": 12,
   "source": [
    "df = pd.read_csv('../Datasets/clean_top100.csv')"
   ],
   "outputs": [],
   "metadata": {}
  },
  {
   "cell_type": "code",
   "execution_count": 13,
   "source": [
    "df.info()"
   ],
   "outputs": [
    {
     "output_type": "stream",
     "name": "stdout",
     "text": [
      "<class 'pandas.core.frame.DataFrame'>\n",
      "RangeIndex: 100 entries, 0 to 99\n",
      "Data columns (total 21 columns):\n",
      " #   Column                      Non-Null Count  Dtype  \n",
      "---  ------                      --------------  -----  \n",
      " 0   NOMBRE                      100 non-null    object \n",
      " 1   LINK                        100 non-null    object \n",
      " 2   2020                        100 non-null    float64\n",
      " 3   2019                        100 non-null    object \n",
      " 4   EXPEDIENTE                  100 non-null    float64\n",
      " 5   TIPO COMPAÑIA               100 non-null    object \n",
      " 6   ACTIVIDAD ECONÓMICA         100 non-null    object \n",
      " 7   REGION                      100 non-null    object \n",
      " 8   PROVINCIA                   100 non-null    object \n",
      " 9   CIUDAD                      100 non-null    object \n",
      " 10  TAMAÑO                      100 non-null    object \n",
      " 11  SECTOR                      100 non-null    object \n",
      " 12  CANT. EMPLEADOS             100 non-null    float64\n",
      " 13  ACTIVO2020                  100 non-null    float64\n",
      " 14  PATRIMONIO2020              100 non-null    float64\n",
      " 15  INGRESOS POR VENTA2020      100 non-null    float64\n",
      " 16  UTILIDAD ANTES DE 2020      100 non-null    float64\n",
      " 17  UTILIDAD DEL EJERCICIO2020  100 non-null    float64\n",
      " 18  UTILIDAD NETA2020           100 non-null    float64\n",
      " 19  IR CAUSADO2020              100 non-null    float64\n",
      " 20  INGRESO TOTAL2020           100 non-null    float64\n",
      "dtypes: float64(11), object(10)\n",
      "memory usage: 16.5+ KB\n"
     ]
    }
   ],
   "metadata": {}
  },
  {
   "cell_type": "code",
   "execution_count": 14,
   "source": [
    "df['ACTIVIDAD ECONÓMICA'].nunique()"
   ],
   "outputs": [
    {
     "output_type": "execute_result",
     "data": {
      "text/plain": [
       "65"
      ]
     },
     "metadata": {},
     "execution_count": 14
    }
   ],
   "metadata": {}
  },
  {
   "cell_type": "code",
   "execution_count": 15,
   "source": [
    "# industries = [\n",
    "#     \"Farmaceutica\",\n",
    "#     \"Manufactura\",\n",
    "#     \"Automotriz\",\n",
    "#     \"Agricultura/Agropecuaria\",\n",
    "#     \"Telecomunicaciones/Informática\",\n",
    "#     \"Logística/Transporte\",\n",
    "#     \"Minería\",\n",
    "#     \"Minoristas\",\n",
    "#     \"Mayoristas\",\n",
    "#     \"Construcción\",\n",
    "#     \"Otro\"\n",
    "# ]"
   ],
   "outputs": [],
   "metadata": {}
  },
  {
   "cell_type": "code",
   "execution_count": 16,
   "source": [
    "\n",
    "# for index, row in df_industries.iterrows():\n",
    "#     print(*enumerate(industries), sep='\\n')\n",
    "#     print(row[0])\n",
    "#     opt = int(input(\"Select the option: \"))\n",
    "#     df_industries.loc[index, \"INDUSTRIA\"] = industries[opt]"
   ],
   "outputs": [],
   "metadata": {}
  },
  {
   "cell_type": "code",
   "execution_count": 17,
   "source": [
    "df_old_to_new_industries = pd.read_csv('./Data/old_industries_to_new_industries.csv', index_col=0)"
   ],
   "outputs": [],
   "metadata": {}
  },
  {
   "cell_type": "code",
   "execution_count": 18,
   "source": [
    "df_old_to_new_industries"
   ],
   "outputs": [
    {
     "output_type": "execute_result",
     "data": {
      "text/plain": [
       "                                  ACTIVIDAD ECONÓMICA  \\\n",
       "0   G4711.01 - VENTA AL POR MENOR DE GRAN VARIEDAD...   \n",
       "1   B0729.01 - EXTRACCIÓN Y PREPARACIÓN DE MINERAL...   \n",
       "2   B0899.09 - EXTRACCIÓN DE OTROS MINERALES: ASBE...   \n",
       "3   J6120.01 - OPERACIÓN, MANTENIMIENTO O FACILITA...   \n",
       "4   M7020.04 - PRESTACIÓN DE ASESORAMIENTO Y AYUDA...   \n",
       "..                                                ...   \n",
       "60  C2100.01 - FABRICACIÓN DE SUSTANCIAS MEDICINAL...   \n",
       "61  C1020.02 - PREPARACIÓN Y CONSERVACIÓN DE PESCA...   \n",
       "62  G4669.21 - VENTA AL POR MAYOR DE MATERIALES PL...   \n",
       "63  C2732.01 - FABRICACIÓN DE HILOS Y CABLES AISLA...   \n",
       "64  G4651.01 - VENTA AL POR MAYOR DE COMPUTADORAS ...   \n",
       "\n",
       "                         INDUSTRIA  \n",
       "0                       Minoristas  \n",
       "1                          Minería  \n",
       "2                          Minería  \n",
       "3   Telecomunicaciones/Informática  \n",
       "4             Logística/Transporte  \n",
       "..                             ...  \n",
       "60                    Farmaceutica  \n",
       "61        Agricultura/Agropecuaria  \n",
       "62                     Manufactura  \n",
       "63                     Manufactura  \n",
       "64                      Mayoristas  \n",
       "\n",
       "[65 rows x 2 columns]"
      ],
      "text/html": [
       "<div>\n",
       "<style scoped>\n",
       "    .dataframe tbody tr th:only-of-type {\n",
       "        vertical-align: middle;\n",
       "    }\n",
       "\n",
       "    .dataframe tbody tr th {\n",
       "        vertical-align: top;\n",
       "    }\n",
       "\n",
       "    .dataframe thead th {\n",
       "        text-align: right;\n",
       "    }\n",
       "</style>\n",
       "<table border=\"1\" class=\"dataframe\">\n",
       "  <thead>\n",
       "    <tr style=\"text-align: right;\">\n",
       "      <th></th>\n",
       "      <th>ACTIVIDAD ECONÓMICA</th>\n",
       "      <th>INDUSTRIA</th>\n",
       "    </tr>\n",
       "  </thead>\n",
       "  <tbody>\n",
       "    <tr>\n",
       "      <th>0</th>\n",
       "      <td>G4711.01 - VENTA AL POR MENOR DE GRAN VARIEDAD...</td>\n",
       "      <td>Minoristas</td>\n",
       "    </tr>\n",
       "    <tr>\n",
       "      <th>1</th>\n",
       "      <td>B0729.01 - EXTRACCIÓN Y PREPARACIÓN DE MINERAL...</td>\n",
       "      <td>Minería</td>\n",
       "    </tr>\n",
       "    <tr>\n",
       "      <th>2</th>\n",
       "      <td>B0899.09 - EXTRACCIÓN DE OTROS MINERALES: ASBE...</td>\n",
       "      <td>Minería</td>\n",
       "    </tr>\n",
       "    <tr>\n",
       "      <th>3</th>\n",
       "      <td>J6120.01 - OPERACIÓN, MANTENIMIENTO O FACILITA...</td>\n",
       "      <td>Telecomunicaciones/Informática</td>\n",
       "    </tr>\n",
       "    <tr>\n",
       "      <th>4</th>\n",
       "      <td>M7020.04 - PRESTACIÓN DE ASESORAMIENTO Y AYUDA...</td>\n",
       "      <td>Logística/Transporte</td>\n",
       "    </tr>\n",
       "    <tr>\n",
       "      <th>...</th>\n",
       "      <td>...</td>\n",
       "      <td>...</td>\n",
       "    </tr>\n",
       "    <tr>\n",
       "      <th>60</th>\n",
       "      <td>C2100.01 - FABRICACIÓN DE SUSTANCIAS MEDICINAL...</td>\n",
       "      <td>Farmaceutica</td>\n",
       "    </tr>\n",
       "    <tr>\n",
       "      <th>61</th>\n",
       "      <td>C1020.02 - PREPARACIÓN Y CONSERVACIÓN DE PESCA...</td>\n",
       "      <td>Agricultura/Agropecuaria</td>\n",
       "    </tr>\n",
       "    <tr>\n",
       "      <th>62</th>\n",
       "      <td>G4669.21 - VENTA AL POR MAYOR DE MATERIALES PL...</td>\n",
       "      <td>Manufactura</td>\n",
       "    </tr>\n",
       "    <tr>\n",
       "      <th>63</th>\n",
       "      <td>C2732.01 - FABRICACIÓN DE HILOS Y CABLES AISLA...</td>\n",
       "      <td>Manufactura</td>\n",
       "    </tr>\n",
       "    <tr>\n",
       "      <th>64</th>\n",
       "      <td>G4651.01 - VENTA AL POR MAYOR DE COMPUTADORAS ...</td>\n",
       "      <td>Mayoristas</td>\n",
       "    </tr>\n",
       "  </tbody>\n",
       "</table>\n",
       "<p>65 rows × 2 columns</p>\n",
       "</div>"
      ]
     },
     "metadata": {},
     "execution_count": 18
    }
   ],
   "metadata": {}
  },
  {
   "cell_type": "code",
   "execution_count": 19,
   "source": [
    "df_old_to_new_industries['INDUSTRIA'].value_counts()"
   ],
   "outputs": [
    {
     "output_type": "execute_result",
     "data": {
      "text/plain": [
       "Manufactura                       24\n",
       "Mayoristas                         9\n",
       "Agricultura/Agropecuaria           6\n",
       "Minería                            5\n",
       "Telecomunicaciones/Informática     4\n",
       "Construcción                       4\n",
       "Farmaceutica                       3\n",
       "Logística/Transporte               3\n",
       "Otro                               3\n",
       "Automotriz                         2\n",
       "Minoristas                         2\n",
       "Name: INDUSTRIA, dtype: int64"
      ]
     },
     "metadata": {},
     "execution_count": 19
    }
   ],
   "metadata": {}
  },
  {
   "cell_type": "code",
   "execution_count": 20,
   "source": [
    "final_df = pd.merge(df, df_old_to_new_industries, how=\"left\", on=[\"ACTIVIDAD ECONÓMICA\"])"
   ],
   "outputs": [],
   "metadata": {}
  },
  {
   "cell_type": "code",
   "execution_count": 21,
   "source": [
    "final_df.groupby('INDUSTRIA')['NOMBRE'].count()"
   ],
   "outputs": [
    {
     "output_type": "execute_result",
     "data": {
      "text/plain": [
       "INDUSTRIA\n",
       "Agricultura/Agropecuaria           9\n",
       "Automotriz                         5\n",
       "Construcción                       4\n",
       "Farmaceutica                       7\n",
       "Logística/Transporte               3\n",
       "Manufactura                       29\n",
       "Mayoristas                        17\n",
       "Minería                            9\n",
       "Minoristas                         7\n",
       "Otro                               5\n",
       "Telecomunicaciones/Informática     5\n",
       "Name: NOMBRE, dtype: int64"
      ]
     },
     "metadata": {},
     "execution_count": 21
    }
   ],
   "metadata": {}
  },
  {
   "cell_type": "code",
   "execution_count": 22,
   "source": [
    "final_df.to_csv('../Datasets/mainDF.csv', index=False)"
   ],
   "outputs": [],
   "metadata": {}
  },
  {
   "cell_type": "code",
   "execution_count": null,
   "source": [],
   "outputs": [],
   "metadata": {}
  }
 ],
 "metadata": {
  "orig_nbformat": 4,
  "language_info": {
   "name": "python",
   "version": "3.9.5",
   "mimetype": "text/x-python",
   "codemirror_mode": {
    "name": "ipython",
    "version": 3
   },
   "pygments_lexer": "ipython3",
   "nbconvert_exporter": "python",
   "file_extension": ".py"
  },
  "kernelspec": {
   "name": "python3",
   "display_name": "Python 3.9.5 64-bit"
  },
  "interpreter": {
   "hash": "aee8b7b246df8f9039afb4144a1f6fd8d2ca17a180786b69acc140d282b71a49"
  }
 },
 "nbformat": 4,
 "nbformat_minor": 2
}