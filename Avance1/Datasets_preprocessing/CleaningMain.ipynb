{
 "cells": [
  {
   "cell_type": "markdown",
   "source": [
    "# Cleaning Main Dataframe"
   ],
   "metadata": {}
  },
  {
   "cell_type": "markdown",
   "source": [
    "## Setup"
   ],
   "metadata": {}
  },
  {
   "cell_type": "code",
   "execution_count": 9,
   "source": [
    "import pandas as pd"
   ],
   "outputs": [],
   "metadata": {}
  },
  {
   "cell_type": "code",
   "execution_count": 10,
   "source": [
    "# Import both datasets required to creat the main dataframe\n",
    "df_super = pd.read_csv('../Datasets/clean_supercias_75k.csv')\n",
    "df_top = pd.read_csv('../Datasets/clean_links.csv')"
   ],
   "outputs": [],
   "metadata": {}
  },
  {
   "cell_type": "code",
   "execution_count": 11,
   "source": [
    "df_top.head()"
   ],
   "outputs": [
    {
     "output_type": "execute_result",
     "data": {
      "text/plain": [
       "                                              NOMBRE  \\\n",
       "0                          CORPORACION FAVORITA C.A.   \n",
       "1                                      ECUACORRIENTE   \n",
       "2                                   AURELIAN ECUADOR   \n",
       "3  CONSORCIO ECUATORIANO DE TELECOMUNICACIONES CO...   \n",
       "4                                CORPORACION QUIPORT   \n",
       "\n",
       "                                                LINK  \n",
       "0  https://ec.linkedin.com/company/corporacionfav...  \n",
       "1  https://www.linkedin.com/company/ecuacorriente...  \n",
       "2  https://www.linkedin.com/company/lundin-gold/?...  \n",
       "3  https://ec.linkedin.com/company/conecel?trk=co...  \n",
       "4  https://ec.linkedin.com/company/quiport?trk=co...  "
      ],
      "text/html": [
       "<div>\n",
       "<style scoped>\n",
       "    .dataframe tbody tr th:only-of-type {\n",
       "        vertical-align: middle;\n",
       "    }\n",
       "\n",
       "    .dataframe tbody tr th {\n",
       "        vertical-align: top;\n",
       "    }\n",
       "\n",
       "    .dataframe thead th {\n",
       "        text-align: right;\n",
       "    }\n",
       "</style>\n",
       "<table border=\"1\" class=\"dataframe\">\n",
       "  <thead>\n",
       "    <tr style=\"text-align: right;\">\n",
       "      <th></th>\n",
       "      <th>NOMBRE</th>\n",
       "      <th>LINK</th>\n",
       "    </tr>\n",
       "  </thead>\n",
       "  <tbody>\n",
       "    <tr>\n",
       "      <th>0</th>\n",
       "      <td>CORPORACION FAVORITA C.A.</td>\n",
       "      <td>https://ec.linkedin.com/company/corporacionfav...</td>\n",
       "    </tr>\n",
       "    <tr>\n",
       "      <th>1</th>\n",
       "      <td>ECUACORRIENTE</td>\n",
       "      <td>https://www.linkedin.com/company/ecuacorriente...</td>\n",
       "    </tr>\n",
       "    <tr>\n",
       "      <th>2</th>\n",
       "      <td>AURELIAN ECUADOR</td>\n",
       "      <td>https://www.linkedin.com/company/lundin-gold/?...</td>\n",
       "    </tr>\n",
       "    <tr>\n",
       "      <th>3</th>\n",
       "      <td>CONSORCIO ECUATORIANO DE TELECOMUNICACIONES CO...</td>\n",
       "      <td>https://ec.linkedin.com/company/conecel?trk=co...</td>\n",
       "    </tr>\n",
       "    <tr>\n",
       "      <th>4</th>\n",
       "      <td>CORPORACION QUIPORT</td>\n",
       "      <td>https://ec.linkedin.com/company/quiport?trk=co...</td>\n",
       "    </tr>\n",
       "  </tbody>\n",
       "</table>\n",
       "</div>"
      ]
     },
     "metadata": {},
     "execution_count": 11
    }
   ],
   "metadata": {}
  },
  {
   "cell_type": "markdown",
   "source": [
    "## Merging"
   ],
   "metadata": {}
  },
  {
   "cell_type": "code",
   "execution_count": 12,
   "source": [
    "# Use subset of SuperCias dataset to merge with top_100 dataframe\n",
    "df_super = df_super.head(345)\n",
    "df_main= df_top.merge(df_super, on='NOMBRE')\n",
    "df_main.shape\n"
   ],
   "outputs": [
    {
     "output_type": "execute_result",
     "data": {
      "text/plain": [
       "(100, 21)"
      ]
     },
     "metadata": {},
     "execution_count": 12
    }
   ],
   "metadata": {}
  },
  {
   "cell_type": "code",
   "execution_count": 13,
   "source": [
    "df_main.head()"
   ],
   "outputs": [
    {
     "output_type": "execute_result",
     "data": {
      "text/plain": [
       "                                              NOMBRE  \\\n",
       "0                          CORPORACION FAVORITA C.A.   \n",
       "1                                      ECUACORRIENTE   \n",
       "2                                   AURELIAN ECUADOR   \n",
       "3  CONSORCIO ECUATORIANO DE TELECOMUNICACIONES CO...   \n",
       "4                                CORPORACION QUIPORT   \n",
       "\n",
       "                                                LINK  2020 2019  EXPEDIENTE  \\\n",
       "0  https://ec.linkedin.com/company/corporacionfav...   1.0    1       384.0   \n",
       "1  https://www.linkedin.com/company/ecuacorriente...   2.0    4      6796.0   \n",
       "2  https://www.linkedin.com/company/lundin-gold/?...   3.0    3     93144.0   \n",
       "3  https://ec.linkedin.com/company/conecel?trk=co...   5.0    5     47845.0   \n",
       "4  https://ec.linkedin.com/company/quiport?trk=co...   7.0    8     93325.0   \n",
       "\n",
       "  TIPO COMPAÑIA                                ACTIVIDAD ECONÓMICA   REGION  \\\n",
       "0       ANÓNIMA  G4711.01 - VENTA AL POR MENOR DE GRAN VARIEDAD...   SIERRA   \n",
       "1       ANÓNIMA  B0729.01 - EXTRACCIÓN Y PREPARACIÓN DE MINERAL...  ORIENTE   \n",
       "2       ANÓNIMA  B0899.09 - EXTRACCIÓN DE OTROS MINERALES: ASBE...  ORIENTE   \n",
       "3       ANÓNIMA  J6120.01 - OPERACIÓN, MANTENIMIENTO O FACILITA...    COSTA   \n",
       "4       ANÓNIMA  M7020.04 - PRESTACIÓN DE ASESORAMIENTO Y AYUDA...   SIERRA   \n",
       "\n",
       "                                           PROVINCIA  \\\n",
       "0  PICHINCHA                                     ...   \n",
       "1  ZAMORA CHINCHIPE                              ...   \n",
       "2  ZAMORA CHINCHIPE                              ...   \n",
       "3  GUAYAS                                        ...   \n",
       "4  PICHINCHA                                     ...   \n",
       "\n",
       "                                              CIUDAD  ...              SECTOR  \\\n",
       "0  QUITO                                         ...  ...  MERCADO DE VALORES   \n",
       "1  EL PANGUI                                     ...  ...          SOCIETARIO   \n",
       "2  LOS ENCUENTROS                                ...  ...          SOCIETARIO   \n",
       "3  GUAYAQUIL                                     ...  ...          SOCIETARIO   \n",
       "4  QUITO                                         ...  ...          SOCIETARIO   \n",
       "\n",
       "  CANT. EMPLEADOS    ACTIVO2020  PATRIMONIO2020  INGRESOS POR VENTA2020  \\\n",
       "0         10768.0  2.121860e+09    1.482973e+09            2.170603e+09   \n",
       "1           966.0  1.607423e+09    5.689866e+08            0.000000e+00   \n",
       "2          1451.0  1.599727e+09    6.052935e+08            3.587926e+08   \n",
       "3          2844.0  1.217718e+09    2.647091e+08            1.066242e+09   \n",
       "4            70.0  8.140678e+08    2.128526e+08            1.249086e+09   \n",
       "\n",
       "   UTILIDAD ANTES DE 2020  UTILIDAD DEL EJERCICIO2020  UTILIDAD NETA2020  \\\n",
       "0             187168402.3                2.201981e+08       1.474992e+08   \n",
       "1              -1387158.7                0.000000e+00      -2.633856e+06   \n",
       "2             -49399080.0               -4.939908e+07      -4.939908e+07   \n",
       "3             174644376.0                2.048239e+08       1.068268e+08   \n",
       "4             -27053323.0               -2.705332e+07      -2.705332e+07   \n",
       "\n",
       "   IR CAUSADO2020  INGRESO TOTAL2020  \n",
       "0     41971212.00       2.170603e+09  \n",
       "1      1246697.02       0.000000e+00  \n",
       "2            0.00       3.588240e+08  \n",
       "3     67817626.00       1.071561e+09  \n",
       "4            0.00       8.353065e+07  \n",
       "\n",
       "[5 rows x 21 columns]"
      ],
      "text/html": [
       "<div>\n",
       "<style scoped>\n",
       "    .dataframe tbody tr th:only-of-type {\n",
       "        vertical-align: middle;\n",
       "    }\n",
       "\n",
       "    .dataframe tbody tr th {\n",
       "        vertical-align: top;\n",
       "    }\n",
       "\n",
       "    .dataframe thead th {\n",
       "        text-align: right;\n",
       "    }\n",
       "</style>\n",
       "<table border=\"1\" class=\"dataframe\">\n",
       "  <thead>\n",
       "    <tr style=\"text-align: right;\">\n",
       "      <th></th>\n",
       "      <th>NOMBRE</th>\n",
       "      <th>LINK</th>\n",
       "      <th>2020</th>\n",
       "      <th>2019</th>\n",
       "      <th>EXPEDIENTE</th>\n",
       "      <th>TIPO COMPAÑIA</th>\n",
       "      <th>ACTIVIDAD ECONÓMICA</th>\n",
       "      <th>REGION</th>\n",
       "      <th>PROVINCIA</th>\n",
       "      <th>CIUDAD</th>\n",
       "      <th>...</th>\n",
       "      <th>SECTOR</th>\n",
       "      <th>CANT. EMPLEADOS</th>\n",
       "      <th>ACTIVO2020</th>\n",
       "      <th>PATRIMONIO2020</th>\n",
       "      <th>INGRESOS POR VENTA2020</th>\n",
       "      <th>UTILIDAD ANTES DE 2020</th>\n",
       "      <th>UTILIDAD DEL EJERCICIO2020</th>\n",
       "      <th>UTILIDAD NETA2020</th>\n",
       "      <th>IR CAUSADO2020</th>\n",
       "      <th>INGRESO TOTAL2020</th>\n",
       "    </tr>\n",
       "  </thead>\n",
       "  <tbody>\n",
       "    <tr>\n",
       "      <th>0</th>\n",
       "      <td>CORPORACION FAVORITA C.A.</td>\n",
       "      <td>https://ec.linkedin.com/company/corporacionfav...</td>\n",
       "      <td>1.0</td>\n",
       "      <td>1</td>\n",
       "      <td>384.0</td>\n",
       "      <td>ANÓNIMA</td>\n",
       "      <td>G4711.01 - VENTA AL POR MENOR DE GRAN VARIEDAD...</td>\n",
       "      <td>SIERRA</td>\n",
       "      <td>PICHINCHA                                     ...</td>\n",
       "      <td>QUITO                                         ...</td>\n",
       "      <td>...</td>\n",
       "      <td>MERCADO DE VALORES</td>\n",
       "      <td>10768.0</td>\n",
       "      <td>2.121860e+09</td>\n",
       "      <td>1.482973e+09</td>\n",
       "      <td>2.170603e+09</td>\n",
       "      <td>187168402.3</td>\n",
       "      <td>2.201981e+08</td>\n",
       "      <td>1.474992e+08</td>\n",
       "      <td>41971212.00</td>\n",
       "      <td>2.170603e+09</td>\n",
       "    </tr>\n",
       "    <tr>\n",
       "      <th>1</th>\n",
       "      <td>ECUACORRIENTE</td>\n",
       "      <td>https://www.linkedin.com/company/ecuacorriente...</td>\n",
       "      <td>2.0</td>\n",
       "      <td>4</td>\n",
       "      <td>6796.0</td>\n",
       "      <td>ANÓNIMA</td>\n",
       "      <td>B0729.01 - EXTRACCIÓN Y PREPARACIÓN DE MINERAL...</td>\n",
       "      <td>ORIENTE</td>\n",
       "      <td>ZAMORA CHINCHIPE                              ...</td>\n",
       "      <td>EL PANGUI                                     ...</td>\n",
       "      <td>...</td>\n",
       "      <td>SOCIETARIO</td>\n",
       "      <td>966.0</td>\n",
       "      <td>1.607423e+09</td>\n",
       "      <td>5.689866e+08</td>\n",
       "      <td>0.000000e+00</td>\n",
       "      <td>-1387158.7</td>\n",
       "      <td>0.000000e+00</td>\n",
       "      <td>-2.633856e+06</td>\n",
       "      <td>1246697.02</td>\n",
       "      <td>0.000000e+00</td>\n",
       "    </tr>\n",
       "    <tr>\n",
       "      <th>2</th>\n",
       "      <td>AURELIAN ECUADOR</td>\n",
       "      <td>https://www.linkedin.com/company/lundin-gold/?...</td>\n",
       "      <td>3.0</td>\n",
       "      <td>3</td>\n",
       "      <td>93144.0</td>\n",
       "      <td>ANÓNIMA</td>\n",
       "      <td>B0899.09 - EXTRACCIÓN DE OTROS MINERALES: ASBE...</td>\n",
       "      <td>ORIENTE</td>\n",
       "      <td>ZAMORA CHINCHIPE                              ...</td>\n",
       "      <td>LOS ENCUENTROS                                ...</td>\n",
       "      <td>...</td>\n",
       "      <td>SOCIETARIO</td>\n",
       "      <td>1451.0</td>\n",
       "      <td>1.599727e+09</td>\n",
       "      <td>6.052935e+08</td>\n",
       "      <td>3.587926e+08</td>\n",
       "      <td>-49399080.0</td>\n",
       "      <td>-4.939908e+07</td>\n",
       "      <td>-4.939908e+07</td>\n",
       "      <td>0.00</td>\n",
       "      <td>3.588240e+08</td>\n",
       "    </tr>\n",
       "    <tr>\n",
       "      <th>3</th>\n",
       "      <td>CONSORCIO ECUATORIANO DE TELECOMUNICACIONES CO...</td>\n",
       "      <td>https://ec.linkedin.com/company/conecel?trk=co...</td>\n",
       "      <td>5.0</td>\n",
       "      <td>5</td>\n",
       "      <td>47845.0</td>\n",
       "      <td>ANÓNIMA</td>\n",
       "      <td>J6120.01 - OPERACIÓN, MANTENIMIENTO O FACILITA...</td>\n",
       "      <td>COSTA</td>\n",
       "      <td>GUAYAS                                        ...</td>\n",
       "      <td>GUAYAQUIL                                     ...</td>\n",
       "      <td>...</td>\n",
       "      <td>SOCIETARIO</td>\n",
       "      <td>2844.0</td>\n",
       "      <td>1.217718e+09</td>\n",
       "      <td>2.647091e+08</td>\n",
       "      <td>1.066242e+09</td>\n",
       "      <td>174644376.0</td>\n",
       "      <td>2.048239e+08</td>\n",
       "      <td>1.068268e+08</td>\n",
       "      <td>67817626.00</td>\n",
       "      <td>1.071561e+09</td>\n",
       "    </tr>\n",
       "    <tr>\n",
       "      <th>4</th>\n",
       "      <td>CORPORACION QUIPORT</td>\n",
       "      <td>https://ec.linkedin.com/company/quiport?trk=co...</td>\n",
       "      <td>7.0</td>\n",
       "      <td>8</td>\n",
       "      <td>93325.0</td>\n",
       "      <td>ANÓNIMA</td>\n",
       "      <td>M7020.04 - PRESTACIÓN DE ASESORAMIENTO Y AYUDA...</td>\n",
       "      <td>SIERRA</td>\n",
       "      <td>PICHINCHA                                     ...</td>\n",
       "      <td>QUITO                                         ...</td>\n",
       "      <td>...</td>\n",
       "      <td>SOCIETARIO</td>\n",
       "      <td>70.0</td>\n",
       "      <td>8.140678e+08</td>\n",
       "      <td>2.128526e+08</td>\n",
       "      <td>1.249086e+09</td>\n",
       "      <td>-27053323.0</td>\n",
       "      <td>-2.705332e+07</td>\n",
       "      <td>-2.705332e+07</td>\n",
       "      <td>0.00</td>\n",
       "      <td>8.353065e+07</td>\n",
       "    </tr>\n",
       "  </tbody>\n",
       "</table>\n",
       "<p>5 rows × 21 columns</p>\n",
       "</div>"
      ]
     },
     "metadata": {},
     "execution_count": 13
    }
   ],
   "metadata": {}
  },
  {
   "cell_type": "markdown",
   "source": [
    "## Dataframe Inspection"
   ],
   "metadata": {}
  },
  {
   "cell_type": "code",
   "execution_count": 14,
   "source": [
    "# By using the dataviewer to check the dataframe we found 3 companies with 0 income (makes no sense)\n",
    "df_main[df_main[\"INGRESOS POR VENTA2020\"] == 0].NOMBRE"
   ],
   "outputs": [
    {
     "output_type": "execute_result",
     "data": {
      "text/plain": [
       "1                            ECUACORRIENTE\n",
       "76                            CONSENSOCORP\n",
       "79    AB INBEV HOLDING ECUADOR AB-INBEV S.\n",
       "Name: NOMBRE, dtype: object"
      ]
     },
     "metadata": {},
     "execution_count": 14
    }
   ],
   "metadata": {}
  },
  {
   "cell_type": "markdown",
   "source": [
    "These companies might not have any income, yet, they do have relatively sensible values in the other columns. This discourages us from simply dropping them as done previously with rows that were, for the most part (if not all), empty.\n",
    "\n",
    "We choose to modify the 0 value with the median for that column as a replacement strategy, in order to preserve the information from the other columns, yet avoiding a value to throw off the distribution of the 'INGRESOS POR VENTA2020' too much."
   ],
   "metadata": {}
  },
  {
   "cell_type": "code",
   "execution_count": 16,
   "source": [
    "mean_income = df_main['INGRESOS POR VENTA2020'].mean()\n",
    "df_main.loc[df_main['INGRESOS POR VENTA2020'] == 0, 'INGRESOS POR VENTA2020'] = mean_income\n",
    "\n",
    "# We check they longer have 0 as income\n",
    "df_main[df_main['INGRESOS POR VENTA2020'] == 0].shape[0]"
   ],
   "outputs": [
    {
     "output_type": "execute_result",
     "data": {
      "text/plain": [
       "0"
      ]
     },
     "metadata": {},
     "execution_count": 16
    }
   ],
   "metadata": {}
  },
  {
   "cell_type": "markdown",
   "source": [
    "The same reasoning as above applies to other columns with the same problems"
   ],
   "metadata": {}
  },
  {
   "cell_type": "code",
   "execution_count": 17,
   "source": [
    "df_main[df_main[\"IR CAUSADO2020\"] == 0].NOMBRE"
   ],
   "outputs": [
    {
     "output_type": "execute_result",
     "data": {
      "text/plain": [
       "2                                      AURELIAN ECUADOR\n",
       "4                                   CORPORACION QUIPORT\n",
       "7                                                OTECEL\n",
       "14                                      DPWORLD POSORJA\n",
       "19    COMPANIA GENERAL DE COMERCIO Y MANDATO SOCIEDA...\n",
       "26            PTIE- PHOENIX TOWER INTERNATIONAL ECUADOR\n",
       "33                              PLUSPETROL ECUADOR B.V.\n",
       "37            OLEODUCTO DE CRUDOS PESADOS (OCP) ECUADOR\n",
       "46                         COMPANIA AZUCARERA VALDEZ SA\n",
       "51                            HOTELES DECAMERON ECUADOR\n",
       "52                                         SUPERDEPORTE\n",
       "54                           INDUSTRIAS LACTEAS TONI SA\n",
       "55                                         SURPAPELCORP\n",
       "56                                             MARCIMEX\n",
       "63      SINOPEC INTERNATIONAL PETROLEUM SERVICE ECUADOR\n",
       "64                                           CRECOSCORP\n",
       "72                                     HOLDING TONICORP\n",
       "73                        AUTOMOTORES Y ANEXOS (A.Y.A.)\n",
       "76                                         CONSENSOCORP\n",
       "79                 AB INBEV HOLDING ECUADOR AB-INBEV S.\n",
       "85                                   SALICA DEL ECUADOR\n",
       "86                                                ICESA\n",
       "94                                   ELECTROCABLES C.A.\n",
       "Name: NOMBRE, dtype: object"
      ]
     },
     "metadata": {},
     "execution_count": 17
    }
   ],
   "metadata": {}
  },
  {
   "cell_type": "code",
   "execution_count": 19,
   "source": [
    "mean_tax = df_main['IR CAUSADO2020'].mean()\n",
    "df_main.loc[df_main['IR CAUSADO2020'] == 0, 'IR CAUSADO2020'] = mean_tax\n",
    "\n",
    "# We check they longer have 0 as tax value\n",
    "df_main[df_main['IR CAUSADO2020'] == 0].shape[0]"
   ],
   "outputs": [
    {
     "output_type": "execute_result",
     "data": {
      "text/plain": [
       "0"
      ]
     },
     "metadata": {},
     "execution_count": 19
    }
   ],
   "metadata": {}
  },
  {
   "cell_type": "markdown",
   "source": [
    "## Exporting"
   ],
   "metadata": {}
  },
  {
   "cell_type": "code",
   "execution_count": 6,
   "source": [
    "# Making the mainDF.csv dataset\n",
    "df_main.to_csv('mainDF.csv', index=False)"
   ],
   "outputs": [],
   "metadata": {}
  }
 ],
 "metadata": {
  "orig_nbformat": 4,
  "language_info": {
   "name": "python",
   "version": "3.9.5",
   "mimetype": "text/x-python",
   "codemirror_mode": {
    "name": "ipython",
    "version": 3
   },
   "pygments_lexer": "ipython3",
   "nbconvert_exporter": "python",
   "file_extension": ".py"
  },
  "kernelspec": {
   "name": "python3",
   "display_name": "Python 3.9.5 64-bit"
  },
  "interpreter": {
   "hash": "aee8b7b246df8f9039afb4144a1f6fd8d2ca17a180786b69acc140d282b71a49"
  }
 },
 "nbformat": 4,
 "nbformat_minor": 2
}