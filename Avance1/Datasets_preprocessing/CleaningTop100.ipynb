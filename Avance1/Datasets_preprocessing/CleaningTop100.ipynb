{
 "cells": [
  {
   "cell_type": "markdown",
   "source": [
    "# Cleaning Main Dataframe"
   ],
   "metadata": {}
  },
  {
   "cell_type": "markdown",
   "source": [
    "## Setup"
   ],
   "metadata": {}
  },
  {
   "cell_type": "code",
   "execution_count": 1,
   "source": [
    "import pandas as pd\n",
    "import matplotlib.pyplot as plt"
   ],
   "outputs": [],
   "metadata": {}
  },
  {
   "cell_type": "code",
   "execution_count": 2,
   "source": [
    "# Import both datasets required to creat the main dataframe\n",
    "df_super = pd.read_csv('../Datasets/clean_supercias_75k.csv')\n",
    "df_top = pd.read_csv('../Datasets/clean_links.csv')"
   ],
   "outputs": [],
   "metadata": {}
  },
  {
   "cell_type": "code",
   "execution_count": 3,
   "source": [
    "df_top.head()"
   ],
   "outputs": [
    {
     "output_type": "execute_result",
     "data": {
      "text/plain": [
       "                                              NOMBRE  \\\n",
       "0                          CORPORACION FAVORITA C.A.   \n",
       "1                                      ECUACORRIENTE   \n",
       "2                                   AURELIAN ECUADOR   \n",
       "3  CONSORCIO ECUATORIANO DE TELECOMUNICACIONES CO...   \n",
       "4                                CORPORACION QUIPORT   \n",
       "\n",
       "                                                LINK  \n",
       "0  https://ec.linkedin.com/company/corporacionfav...  \n",
       "1  https://www.linkedin.com/company/ecuacorriente...  \n",
       "2  https://www.linkedin.com/company/lundin-gold/?...  \n",
       "3  https://ec.linkedin.com/company/conecel?trk=co...  \n",
       "4  https://ec.linkedin.com/company/quiport?trk=co...  "
      ],
      "text/html": [
       "<div>\n",
       "<style scoped>\n",
       "    .dataframe tbody tr th:only-of-type {\n",
       "        vertical-align: middle;\n",
       "    }\n",
       "\n",
       "    .dataframe tbody tr th {\n",
       "        vertical-align: top;\n",
       "    }\n",
       "\n",
       "    .dataframe thead th {\n",
       "        text-align: right;\n",
       "    }\n",
       "</style>\n",
       "<table border=\"1\" class=\"dataframe\">\n",
       "  <thead>\n",
       "    <tr style=\"text-align: right;\">\n",
       "      <th></th>\n",
       "      <th>NOMBRE</th>\n",
       "      <th>LINK</th>\n",
       "    </tr>\n",
       "  </thead>\n",
       "  <tbody>\n",
       "    <tr>\n",
       "      <th>0</th>\n",
       "      <td>CORPORACION FAVORITA C.A.</td>\n",
       "      <td>https://ec.linkedin.com/company/corporacionfav...</td>\n",
       "    </tr>\n",
       "    <tr>\n",
       "      <th>1</th>\n",
       "      <td>ECUACORRIENTE</td>\n",
       "      <td>https://www.linkedin.com/company/ecuacorriente...</td>\n",
       "    </tr>\n",
       "    <tr>\n",
       "      <th>2</th>\n",
       "      <td>AURELIAN ECUADOR</td>\n",
       "      <td>https://www.linkedin.com/company/lundin-gold/?...</td>\n",
       "    </tr>\n",
       "    <tr>\n",
       "      <th>3</th>\n",
       "      <td>CONSORCIO ECUATORIANO DE TELECOMUNICACIONES CO...</td>\n",
       "      <td>https://ec.linkedin.com/company/conecel?trk=co...</td>\n",
       "    </tr>\n",
       "    <tr>\n",
       "      <th>4</th>\n",
       "      <td>CORPORACION QUIPORT</td>\n",
       "      <td>https://ec.linkedin.com/company/quiport?trk=co...</td>\n",
       "    </tr>\n",
       "  </tbody>\n",
       "</table>\n",
       "</div>"
      ]
     },
     "metadata": {},
     "execution_count": 3
    }
   ],
   "metadata": {}
  },
  {
   "cell_type": "markdown",
   "source": [
    "## Merging"
   ],
   "metadata": {}
  },
  {
   "cell_type": "code",
   "execution_count": 4,
   "source": [
    "# Use subset of SuperCias dataset to merge with top_100 dataframe\n",
    "df_super = df_super.head(345)\n",
    "df_main= df_top.merge(df_super, on='NOMBRE')\n",
    "df_main.shape\n"
   ],
   "outputs": [
    {
     "output_type": "execute_result",
     "data": {
      "text/plain": [
       "(100, 21)"
      ]
     },
     "metadata": {},
     "execution_count": 4
    }
   ],
   "metadata": {}
  },
  {
   "cell_type": "code",
   "execution_count": 5,
   "source": [
    "df_main.head()"
   ],
   "outputs": [
    {
     "output_type": "execute_result",
     "data": {
      "text/plain": [
       "                                              NOMBRE  \\\n",
       "0                          CORPORACION FAVORITA C.A.   \n",
       "1                                      ECUACORRIENTE   \n",
       "2                                   AURELIAN ECUADOR   \n",
       "3  CONSORCIO ECUATORIANO DE TELECOMUNICACIONES CO...   \n",
       "4                                CORPORACION QUIPORT   \n",
       "\n",
       "                                                LINK  2020 2019  EXPEDIENTE  \\\n",
       "0  https://ec.linkedin.com/company/corporacionfav...   1.0    1       384.0   \n",
       "1  https://www.linkedin.com/company/ecuacorriente...   2.0    4      6796.0   \n",
       "2  https://www.linkedin.com/company/lundin-gold/?...   3.0    3     93144.0   \n",
       "3  https://ec.linkedin.com/company/conecel?trk=co...   5.0    5     47845.0   \n",
       "4  https://ec.linkedin.com/company/quiport?trk=co...   7.0    8     93325.0   \n",
       "\n",
       "  TIPO COMPAÑIA                                ACTIVIDAD ECONÓMICA   REGION  \\\n",
       "0       ANÓNIMA  G4711.01 - VENTA AL POR MENOR DE GRAN VARIEDAD...   SIERRA   \n",
       "1       ANÓNIMA  B0729.01 - EXTRACCIÓN Y PREPARACIÓN DE MINERAL...  ORIENTE   \n",
       "2       ANÓNIMA  B0899.09 - EXTRACCIÓN DE OTROS MINERALES: ASBE...  ORIENTE   \n",
       "3       ANÓNIMA  J6120.01 - OPERACIÓN, MANTENIMIENTO O FACILITA...    COSTA   \n",
       "4       ANÓNIMA  M7020.04 - PRESTACIÓN DE ASESORAMIENTO Y AYUDA...   SIERRA   \n",
       "\n",
       "                                           PROVINCIA  \\\n",
       "0  PICHINCHA                                     ...   \n",
       "1  ZAMORA CHINCHIPE                              ...   \n",
       "2  ZAMORA CHINCHIPE                              ...   \n",
       "3  GUAYAS                                        ...   \n",
       "4  PICHINCHA                                     ...   \n",
       "\n",
       "                                              CIUDAD  ...              SECTOR  \\\n",
       "0  QUITO                                         ...  ...  MERCADO DE VALORES   \n",
       "1  EL PANGUI                                     ...  ...          SOCIETARIO   \n",
       "2  LOS ENCUENTROS                                ...  ...          SOCIETARIO   \n",
       "3  GUAYAQUIL                                     ...  ...          SOCIETARIO   \n",
       "4  QUITO                                         ...  ...          SOCIETARIO   \n",
       "\n",
       "  CANT. EMPLEADOS    ACTIVO2020  PATRIMONIO2020  INGRESOS POR VENTA2020  \\\n",
       "0         10768.0  2.121860e+09    1.482973e+09            2.170603e+09   \n",
       "1           966.0  1.607423e+09    5.689866e+08            0.000000e+00   \n",
       "2          1451.0  1.599727e+09    6.052935e+08            3.587926e+08   \n",
       "3          2844.0  1.217718e+09    2.647091e+08            1.066242e+09   \n",
       "4            70.0  8.140678e+08    2.128526e+08            1.249086e+09   \n",
       "\n",
       "   UTILIDAD ANTES DE 2020  UTILIDAD DEL EJERCICIO2020  UTILIDAD NETA2020  \\\n",
       "0             187168402.3                2.201981e+08       1.474992e+08   \n",
       "1              -1387158.7                0.000000e+00      -2.633856e+06   \n",
       "2             -49399080.0               -4.939908e+07      -4.939908e+07   \n",
       "3             174644376.0                2.048239e+08       1.068268e+08   \n",
       "4             -27053323.0               -2.705332e+07      -2.705332e+07   \n",
       "\n",
       "   IR CAUSADO2020  INGRESO TOTAL2020  \n",
       "0     41971212.00       2.170603e+09  \n",
       "1      1246697.02       0.000000e+00  \n",
       "2            0.00       3.588240e+08  \n",
       "3     67817626.00       1.071561e+09  \n",
       "4            0.00       8.353065e+07  \n",
       "\n",
       "[5 rows x 21 columns]"
      ],
      "text/html": [
       "<div>\n",
       "<style scoped>\n",
       "    .dataframe tbody tr th:only-of-type {\n",
       "        vertical-align: middle;\n",
       "    }\n",
       "\n",
       "    .dataframe tbody tr th {\n",
       "        vertical-align: top;\n",
       "    }\n",
       "\n",
       "    .dataframe thead th {\n",
       "        text-align: right;\n",
       "    }\n",
       "</style>\n",
       "<table border=\"1\" class=\"dataframe\">\n",
       "  <thead>\n",
       "    <tr style=\"text-align: right;\">\n",
       "      <th></th>\n",
       "      <th>NOMBRE</th>\n",
       "      <th>LINK</th>\n",
       "      <th>2020</th>\n",
       "      <th>2019</th>\n",
       "      <th>EXPEDIENTE</th>\n",
       "      <th>TIPO COMPAÑIA</th>\n",
       "      <th>ACTIVIDAD ECONÓMICA</th>\n",
       "      <th>REGION</th>\n",
       "      <th>PROVINCIA</th>\n",
       "      <th>CIUDAD</th>\n",
       "      <th>...</th>\n",
       "      <th>SECTOR</th>\n",
       "      <th>CANT. EMPLEADOS</th>\n",
       "      <th>ACTIVO2020</th>\n",
       "      <th>PATRIMONIO2020</th>\n",
       "      <th>INGRESOS POR VENTA2020</th>\n",
       "      <th>UTILIDAD ANTES DE 2020</th>\n",
       "      <th>UTILIDAD DEL EJERCICIO2020</th>\n",
       "      <th>UTILIDAD NETA2020</th>\n",
       "      <th>IR CAUSADO2020</th>\n",
       "      <th>INGRESO TOTAL2020</th>\n",
       "    </tr>\n",
       "  </thead>\n",
       "  <tbody>\n",
       "    <tr>\n",
       "      <th>0</th>\n",
       "      <td>CORPORACION FAVORITA C.A.</td>\n",
       "      <td>https://ec.linkedin.com/company/corporacionfav...</td>\n",
       "      <td>1.0</td>\n",
       "      <td>1</td>\n",
       "      <td>384.0</td>\n",
       "      <td>ANÓNIMA</td>\n",
       "      <td>G4711.01 - VENTA AL POR MENOR DE GRAN VARIEDAD...</td>\n",
       "      <td>SIERRA</td>\n",
       "      <td>PICHINCHA                                     ...</td>\n",
       "      <td>QUITO                                         ...</td>\n",
       "      <td>...</td>\n",
       "      <td>MERCADO DE VALORES</td>\n",
       "      <td>10768.0</td>\n",
       "      <td>2.121860e+09</td>\n",
       "      <td>1.482973e+09</td>\n",
       "      <td>2.170603e+09</td>\n",
       "      <td>187168402.3</td>\n",
       "      <td>2.201981e+08</td>\n",
       "      <td>1.474992e+08</td>\n",
       "      <td>41971212.00</td>\n",
       "      <td>2.170603e+09</td>\n",
       "    </tr>\n",
       "    <tr>\n",
       "      <th>1</th>\n",
       "      <td>ECUACORRIENTE</td>\n",
       "      <td>https://www.linkedin.com/company/ecuacorriente...</td>\n",
       "      <td>2.0</td>\n",
       "      <td>4</td>\n",
       "      <td>6796.0</td>\n",
       "      <td>ANÓNIMA</td>\n",
       "      <td>B0729.01 - EXTRACCIÓN Y PREPARACIÓN DE MINERAL...</td>\n",
       "      <td>ORIENTE</td>\n",
       "      <td>ZAMORA CHINCHIPE                              ...</td>\n",
       "      <td>EL PANGUI                                     ...</td>\n",
       "      <td>...</td>\n",
       "      <td>SOCIETARIO</td>\n",
       "      <td>966.0</td>\n",
       "      <td>1.607423e+09</td>\n",
       "      <td>5.689866e+08</td>\n",
       "      <td>0.000000e+00</td>\n",
       "      <td>-1387158.7</td>\n",
       "      <td>0.000000e+00</td>\n",
       "      <td>-2.633856e+06</td>\n",
       "      <td>1246697.02</td>\n",
       "      <td>0.000000e+00</td>\n",
       "    </tr>\n",
       "    <tr>\n",
       "      <th>2</th>\n",
       "      <td>AURELIAN ECUADOR</td>\n",
       "      <td>https://www.linkedin.com/company/lundin-gold/?...</td>\n",
       "      <td>3.0</td>\n",
       "      <td>3</td>\n",
       "      <td>93144.0</td>\n",
       "      <td>ANÓNIMA</td>\n",
       "      <td>B0899.09 - EXTRACCIÓN DE OTROS MINERALES: ASBE...</td>\n",
       "      <td>ORIENTE</td>\n",
       "      <td>ZAMORA CHINCHIPE                              ...</td>\n",
       "      <td>LOS ENCUENTROS                                ...</td>\n",
       "      <td>...</td>\n",
       "      <td>SOCIETARIO</td>\n",
       "      <td>1451.0</td>\n",
       "      <td>1.599727e+09</td>\n",
       "      <td>6.052935e+08</td>\n",
       "      <td>3.587926e+08</td>\n",
       "      <td>-49399080.0</td>\n",
       "      <td>-4.939908e+07</td>\n",
       "      <td>-4.939908e+07</td>\n",
       "      <td>0.00</td>\n",
       "      <td>3.588240e+08</td>\n",
       "    </tr>\n",
       "    <tr>\n",
       "      <th>3</th>\n",
       "      <td>CONSORCIO ECUATORIANO DE TELECOMUNICACIONES CO...</td>\n",
       "      <td>https://ec.linkedin.com/company/conecel?trk=co...</td>\n",
       "      <td>5.0</td>\n",
       "      <td>5</td>\n",
       "      <td>47845.0</td>\n",
       "      <td>ANÓNIMA</td>\n",
       "      <td>J6120.01 - OPERACIÓN, MANTENIMIENTO O FACILITA...</td>\n",
       "      <td>COSTA</td>\n",
       "      <td>GUAYAS                                        ...</td>\n",
       "      <td>GUAYAQUIL                                     ...</td>\n",
       "      <td>...</td>\n",
       "      <td>SOCIETARIO</td>\n",
       "      <td>2844.0</td>\n",
       "      <td>1.217718e+09</td>\n",
       "      <td>2.647091e+08</td>\n",
       "      <td>1.066242e+09</td>\n",
       "      <td>174644376.0</td>\n",
       "      <td>2.048239e+08</td>\n",
       "      <td>1.068268e+08</td>\n",
       "      <td>67817626.00</td>\n",
       "      <td>1.071561e+09</td>\n",
       "    </tr>\n",
       "    <tr>\n",
       "      <th>4</th>\n",
       "      <td>CORPORACION QUIPORT</td>\n",
       "      <td>https://ec.linkedin.com/company/quiport?trk=co...</td>\n",
       "      <td>7.0</td>\n",
       "      <td>8</td>\n",
       "      <td>93325.0</td>\n",
       "      <td>ANÓNIMA</td>\n",
       "      <td>M7020.04 - PRESTACIÓN DE ASESORAMIENTO Y AYUDA...</td>\n",
       "      <td>SIERRA</td>\n",
       "      <td>PICHINCHA                                     ...</td>\n",
       "      <td>QUITO                                         ...</td>\n",
       "      <td>...</td>\n",
       "      <td>SOCIETARIO</td>\n",
       "      <td>70.0</td>\n",
       "      <td>8.140678e+08</td>\n",
       "      <td>2.128526e+08</td>\n",
       "      <td>1.249086e+09</td>\n",
       "      <td>-27053323.0</td>\n",
       "      <td>-2.705332e+07</td>\n",
       "      <td>-2.705332e+07</td>\n",
       "      <td>0.00</td>\n",
       "      <td>8.353065e+07</td>\n",
       "    </tr>\n",
       "  </tbody>\n",
       "</table>\n",
       "<p>5 rows × 21 columns</p>\n",
       "</div>"
      ]
     },
     "metadata": {},
     "execution_count": 5
    }
   ],
   "metadata": {}
  },
  {
   "cell_type": "markdown",
   "source": [
    "## Dataframe Inspection"
   ],
   "metadata": {}
  },
  {
   "cell_type": "code",
   "execution_count": 6,
   "source": [
    "# By using the dataviewer to check the dataframe we found 3 companies with 0 income (makes no sense)\n",
    "df_main[df_main[\"INGRESOS POR VENTA2020\"] == 0].NOMBRE"
   ],
   "outputs": [
    {
     "output_type": "execute_result",
     "data": {
      "text/plain": [
       "1                            ECUACORRIENTE\n",
       "76                            CONSENSOCORP\n",
       "79    AB INBEV HOLDING ECUADOR AB-INBEV S.\n",
       "Name: NOMBRE, dtype: object"
      ]
     },
     "metadata": {},
     "execution_count": 6
    }
   ],
   "metadata": {}
  },
  {
   "cell_type": "markdown",
   "source": [
    "These companies might not have any income, yet, they do have relatively sensible values in the other columns. This discourages us from simply dropping them as done previously with rows that were, for the most part (if not all), empty.\n",
    "\n",
    "We choose to modify the 0 value with the median for that column as a replacement strategy, in order to preserve the information from the other columns, yet avoiding a value to throw off the distribution of the 'INGRESOS POR VENTA2020' too much.\n",
    "\n",
    "This is particularly important since there seem to be latent correlations in the column we speak of."
   ],
   "metadata": {}
  },
  {
   "cell_type": "code",
   "execution_count": 7,
   "source": [
    "# Quick check for a possible correlation\n",
    "possible_corr = df_main[[\"INGRESOS POR VENTA2020\", \"CANT. EMPLEADOS\"]].corr()\n",
    "possible_corr"
   ],
   "outputs": [
    {
     "output_type": "execute_result",
     "data": {
      "text/plain": [
       "                        INGRESOS POR VENTA2020  CANT. EMPLEADOS\n",
       "INGRESOS POR VENTA2020                 1.00000          0.68858\n",
       "CANT. EMPLEADOS                        0.68858          1.00000"
      ],
      "text/html": [
       "<div>\n",
       "<style scoped>\n",
       "    .dataframe tbody tr th:only-of-type {\n",
       "        vertical-align: middle;\n",
       "    }\n",
       "\n",
       "    .dataframe tbody tr th {\n",
       "        vertical-align: top;\n",
       "    }\n",
       "\n",
       "    .dataframe thead th {\n",
       "        text-align: right;\n",
       "    }\n",
       "</style>\n",
       "<table border=\"1\" class=\"dataframe\">\n",
       "  <thead>\n",
       "    <tr style=\"text-align: right;\">\n",
       "      <th></th>\n",
       "      <th>INGRESOS POR VENTA2020</th>\n",
       "      <th>CANT. EMPLEADOS</th>\n",
       "    </tr>\n",
       "  </thead>\n",
       "  <tbody>\n",
       "    <tr>\n",
       "      <th>INGRESOS POR VENTA2020</th>\n",
       "      <td>1.00000</td>\n",
       "      <td>0.68858</td>\n",
       "    </tr>\n",
       "    <tr>\n",
       "      <th>CANT. EMPLEADOS</th>\n",
       "      <td>0.68858</td>\n",
       "      <td>1.00000</td>\n",
       "    </tr>\n",
       "  </tbody>\n",
       "</table>\n",
       "</div>"
      ]
     },
     "metadata": {},
     "execution_count": 7
    }
   ],
   "metadata": {}
  },
  {
   "cell_type": "code",
   "execution_count": 8,
   "source": [
    "# para eliminar columnas que no presenten ingresos\n",
    "plt.plot( 'INGRESOS POR VENTA2020', 'CANT. EMPLEADOS', data=df_main, linestyle='none', marker='o')\n",
    "plt.xlabel('INGRESOS')\n",
    "plt.ylabel('EMPLEADOS')\n",
    "plt.title(label=\"Empleados vs. Ingresos\")\n",
    "plt.show()\n"
   ],
   "outputs": [
    {
     "output_type": "display_data",
     "data": {
      "text/plain": [
       "<Figure size 432x288 with 1 Axes>"
      ],
      "image/svg+xml": "<?xml version=\"1.0\" encoding=\"utf-8\" standalone=\"no\"?>\n<!DOCTYPE svg PUBLIC \"-//W3C//DTD SVG 1.1//EN\"\n  \"http://www.w3.org/Graphics/SVG/1.1/DTD/svg11.dtd\">\n<svg height=\"277.314375pt\" version=\"1.1\" viewBox=\"0 0 401.690625 277.314375\" width=\"401.690625pt\" xmlns=\"http://www.w3.org/2000/svg\" xmlns:xlink=\"http://www.w3.org/1999/xlink\">\n <metadata>\n  <rdf:RDF xmlns:cc=\"http://creativecommons.org/ns#\" xmlns:dc=\"http://purl.org/dc/elements/1.1/\" xmlns:rdf=\"http://www.w3.org/1999/02/22-rdf-syntax-ns#\">\n   <cc:Work>\n    <dc:type rdf:resource=\"http://purl.org/dc/dcmitype/StillImage\"/>\n    <dc:date>2021-08-15T22:23:16.959747</dc:date>\n    <dc:format>image/svg+xml</dc:format>\n    <dc:creator>\n     <cc:Agent>\n      <dc:title>Matplotlib v3.4.2, https://matplotlib.org/</dc:title>\n     </cc:Agent>\n    </dc:creator>\n   </cc:Work>\n  </rdf:RDF>\n </metadata>\n <defs>\n  <style type=\"text/css\">*{stroke-linecap:butt;stroke-linejoin:round;}</style>\n </defs>\n <g id=\"figure_1\">\n  <g id=\"patch_1\">\n   <path d=\"M 0 277.314375 \nL 401.690625 277.314375 \nL 401.690625 0 \nL 0 0 \nz\n\"/>\n  </g>\n  <g id=\"axes_1\">\n   <g id=\"patch_2\">\n    <path d=\"M 59.690625 239.758125 \nL 394.490625 239.758125 \nL 394.490625 22.318125 \nL 59.690625 22.318125 \nz\n\"/>\n   </g>\n   <g id=\"matplotlib.axis_1\">\n    <g id=\"xtick_1\">\n     <g id=\"line2d_1\">\n      <defs>\n       <path d=\"M 0 0 \nL 0 3.5 \n\" id=\"md3c7945932\" style=\"stroke:#ffffff;stroke-width:0.8;\"/>\n      </defs>\n      <g>\n       <use style=\"fill:#ffffff;stroke:#ffffff;stroke-width:0.8;\" x=\"74.908807\" xlink:href=\"#md3c7945932\" y=\"239.758125\"/>\n      </g>\n     </g>\n     <g id=\"text_1\">\n      <!-- 0.0 -->\n      <g style=\"fill:#ffffff;\" transform=\"translate(66.957244 254.356562)scale(0.1 -0.1)\">\n       <defs>\n        <path d=\"M 2034 4250 \nQ 1547 4250 1301 3770 \nQ 1056 3291 1056 2328 \nQ 1056 1369 1301 889 \nQ 1547 409 2034 409 \nQ 2525 409 2770 889 \nQ 3016 1369 3016 2328 \nQ 3016 3291 2770 3770 \nQ 2525 4250 2034 4250 \nz\nM 2034 4750 \nQ 2819 4750 3233 4129 \nQ 3647 3509 3647 2328 \nQ 3647 1150 3233 529 \nQ 2819 -91 2034 -91 \nQ 1250 -91 836 529 \nQ 422 1150 422 2328 \nQ 422 3509 836 4129 \nQ 1250 4750 2034 4750 \nz\n\" id=\"DejaVuSans-30\" transform=\"scale(0.015625)\"/>\n        <path d=\"M 684 794 \nL 1344 794 \nL 1344 0 \nL 684 0 \nL 684 794 \nz\n\" id=\"DejaVuSans-2e\" transform=\"scale(0.015625)\"/>\n       </defs>\n       <use xlink:href=\"#DejaVuSans-30\"/>\n       <use x=\"63.623047\" xlink:href=\"#DejaVuSans-2e\"/>\n       <use x=\"95.410156\" xlink:href=\"#DejaVuSans-30\"/>\n      </g>\n     </g>\n    </g>\n    <g id=\"xtick_2\">\n     <g id=\"line2d_2\">\n      <g>\n       <use style=\"fill:#ffffff;stroke:#ffffff;stroke-width:0.8;\" x=\"145.019202\" xlink:href=\"#md3c7945932\" y=\"239.758125\"/>\n      </g>\n     </g>\n     <g id=\"text_2\">\n      <!-- 0.5 -->\n      <g style=\"fill:#ffffff;\" transform=\"translate(137.067639 254.356562)scale(0.1 -0.1)\">\n       <defs>\n        <path d=\"M 691 4666 \nL 3169 4666 \nL 3169 4134 \nL 1269 4134 \nL 1269 2991 \nQ 1406 3038 1543 3061 \nQ 1681 3084 1819 3084 \nQ 2600 3084 3056 2656 \nQ 3513 2228 3513 1497 \nQ 3513 744 3044 326 \nQ 2575 -91 1722 -91 \nQ 1428 -91 1123 -41 \nQ 819 9 494 109 \nL 494 744 \nQ 775 591 1075 516 \nQ 1375 441 1709 441 \nQ 2250 441 2565 725 \nQ 2881 1009 2881 1497 \nQ 2881 1984 2565 2268 \nQ 2250 2553 1709 2553 \nQ 1456 2553 1204 2497 \nQ 953 2441 691 2322 \nL 691 4666 \nz\n\" id=\"DejaVuSans-35\" transform=\"scale(0.015625)\"/>\n       </defs>\n       <use xlink:href=\"#DejaVuSans-30\"/>\n       <use x=\"63.623047\" xlink:href=\"#DejaVuSans-2e\"/>\n       <use x=\"95.410156\" xlink:href=\"#DejaVuSans-35\"/>\n      </g>\n     </g>\n    </g>\n    <g id=\"xtick_3\">\n     <g id=\"line2d_3\">\n      <g>\n       <use style=\"fill:#ffffff;stroke:#ffffff;stroke-width:0.8;\" x=\"215.129597\" xlink:href=\"#md3c7945932\" y=\"239.758125\"/>\n      </g>\n     </g>\n     <g id=\"text_3\">\n      <!-- 1.0 -->\n      <g style=\"fill:#ffffff;\" transform=\"translate(207.178035 254.356562)scale(0.1 -0.1)\">\n       <defs>\n        <path d=\"M 794 531 \nL 1825 531 \nL 1825 4091 \nL 703 3866 \nL 703 4441 \nL 1819 4666 \nL 2450 4666 \nL 2450 531 \nL 3481 531 \nL 3481 0 \nL 794 0 \nL 794 531 \nz\n\" id=\"DejaVuSans-31\" transform=\"scale(0.015625)\"/>\n       </defs>\n       <use xlink:href=\"#DejaVuSans-31\"/>\n       <use x=\"63.623047\" xlink:href=\"#DejaVuSans-2e\"/>\n       <use x=\"95.410156\" xlink:href=\"#DejaVuSans-30\"/>\n      </g>\n     </g>\n    </g>\n    <g id=\"xtick_4\">\n     <g id=\"line2d_4\">\n      <g>\n       <use style=\"fill:#ffffff;stroke:#ffffff;stroke-width:0.8;\" x=\"285.239992\" xlink:href=\"#md3c7945932\" y=\"239.758125\"/>\n      </g>\n     </g>\n     <g id=\"text_4\">\n      <!-- 1.5 -->\n      <g style=\"fill:#ffffff;\" transform=\"translate(277.28843 254.356562)scale(0.1 -0.1)\">\n       <use xlink:href=\"#DejaVuSans-31\"/>\n       <use x=\"63.623047\" xlink:href=\"#DejaVuSans-2e\"/>\n       <use x=\"95.410156\" xlink:href=\"#DejaVuSans-35\"/>\n      </g>\n     </g>\n    </g>\n    <g id=\"xtick_5\">\n     <g id=\"line2d_5\">\n      <g>\n       <use style=\"fill:#ffffff;stroke:#ffffff;stroke-width:0.8;\" x=\"355.350387\" xlink:href=\"#md3c7945932\" y=\"239.758125\"/>\n      </g>\n     </g>\n     <g id=\"text_5\">\n      <!-- 2.0 -->\n      <g style=\"fill:#ffffff;\" transform=\"translate(347.398825 254.356562)scale(0.1 -0.1)\">\n       <defs>\n        <path d=\"M 1228 531 \nL 3431 531 \nL 3431 0 \nL 469 0 \nL 469 531 \nQ 828 903 1448 1529 \nQ 2069 2156 2228 2338 \nQ 2531 2678 2651 2914 \nQ 2772 3150 2772 3378 \nQ 2772 3750 2511 3984 \nQ 2250 4219 1831 4219 \nQ 1534 4219 1204 4116 \nQ 875 4013 500 3803 \nL 500 4441 \nQ 881 4594 1212 4672 \nQ 1544 4750 1819 4750 \nQ 2544 4750 2975 4387 \nQ 3406 4025 3406 3419 \nQ 3406 3131 3298 2873 \nQ 3191 2616 2906 2266 \nQ 2828 2175 2409 1742 \nQ 1991 1309 1228 531 \nz\n\" id=\"DejaVuSans-32\" transform=\"scale(0.015625)\"/>\n       </defs>\n       <use xlink:href=\"#DejaVuSans-32\"/>\n       <use x=\"63.623047\" xlink:href=\"#DejaVuSans-2e\"/>\n       <use x=\"95.410156\" xlink:href=\"#DejaVuSans-30\"/>\n      </g>\n     </g>\n    </g>\n    <g id=\"text_6\">\n     <!-- INGRESOS -->\n     <g style=\"fill:#ffffff;\" transform=\"translate(201.082813 268.034687)scale(0.1 -0.1)\">\n      <defs>\n       <path d=\"M 628 4666 \nL 1259 4666 \nL 1259 0 \nL 628 0 \nL 628 4666 \nz\n\" id=\"DejaVuSans-49\" transform=\"scale(0.015625)\"/>\n       <path d=\"M 628 4666 \nL 1478 4666 \nL 3547 763 \nL 3547 4666 \nL 4159 4666 \nL 4159 0 \nL 3309 0 \nL 1241 3903 \nL 1241 0 \nL 628 0 \nL 628 4666 \nz\n\" id=\"DejaVuSans-4e\" transform=\"scale(0.015625)\"/>\n       <path d=\"M 3809 666 \nL 3809 1919 \nL 2778 1919 \nL 2778 2438 \nL 4434 2438 \nL 4434 434 \nQ 4069 175 3628 42 \nQ 3188 -91 2688 -91 \nQ 1594 -91 976 548 \nQ 359 1188 359 2328 \nQ 359 3472 976 4111 \nQ 1594 4750 2688 4750 \nQ 3144 4750 3555 4637 \nQ 3966 4525 4313 4306 \nL 4313 3634 \nQ 3963 3931 3569 4081 \nQ 3175 4231 2741 4231 \nQ 1884 4231 1454 3753 \nQ 1025 3275 1025 2328 \nQ 1025 1384 1454 906 \nQ 1884 428 2741 428 \nQ 3075 428 3337 486 \nQ 3600 544 3809 666 \nz\n\" id=\"DejaVuSans-47\" transform=\"scale(0.015625)\"/>\n       <path d=\"M 2841 2188 \nQ 3044 2119 3236 1894 \nQ 3428 1669 3622 1275 \nL 4263 0 \nL 3584 0 \nL 2988 1197 \nQ 2756 1666 2539 1819 \nQ 2322 1972 1947 1972 \nL 1259 1972 \nL 1259 0 \nL 628 0 \nL 628 4666 \nL 2053 4666 \nQ 2853 4666 3247 4331 \nQ 3641 3997 3641 3322 \nQ 3641 2881 3436 2590 \nQ 3231 2300 2841 2188 \nz\nM 1259 4147 \nL 1259 2491 \nL 2053 2491 \nQ 2509 2491 2742 2702 \nQ 2975 2913 2975 3322 \nQ 2975 3731 2742 3939 \nQ 2509 4147 2053 4147 \nL 1259 4147 \nz\n\" id=\"DejaVuSans-52\" transform=\"scale(0.015625)\"/>\n       <path d=\"M 628 4666 \nL 3578 4666 \nL 3578 4134 \nL 1259 4134 \nL 1259 2753 \nL 3481 2753 \nL 3481 2222 \nL 1259 2222 \nL 1259 531 \nL 3634 531 \nL 3634 0 \nL 628 0 \nL 628 4666 \nz\n\" id=\"DejaVuSans-45\" transform=\"scale(0.015625)\"/>\n       <path d=\"M 3425 4513 \nL 3425 3897 \nQ 3066 4069 2747 4153 \nQ 2428 4238 2131 4238 \nQ 1616 4238 1336 4038 \nQ 1056 3838 1056 3469 \nQ 1056 3159 1242 3001 \nQ 1428 2844 1947 2747 \nL 2328 2669 \nQ 3034 2534 3370 2195 \nQ 3706 1856 3706 1288 \nQ 3706 609 3251 259 \nQ 2797 -91 1919 -91 \nQ 1588 -91 1214 -16 \nQ 841 59 441 206 \nL 441 856 \nQ 825 641 1194 531 \nQ 1563 422 1919 422 \nQ 2459 422 2753 634 \nQ 3047 847 3047 1241 \nQ 3047 1584 2836 1778 \nQ 2625 1972 2144 2069 \nL 1759 2144 \nQ 1053 2284 737 2584 \nQ 422 2884 422 3419 \nQ 422 4038 858 4394 \nQ 1294 4750 2059 4750 \nQ 2388 4750 2728 4690 \nQ 3069 4631 3425 4513 \nz\n\" id=\"DejaVuSans-53\" transform=\"scale(0.015625)\"/>\n       <path d=\"M 2522 4238 \nQ 1834 4238 1429 3725 \nQ 1025 3213 1025 2328 \nQ 1025 1447 1429 934 \nQ 1834 422 2522 422 \nQ 3209 422 3611 934 \nQ 4013 1447 4013 2328 \nQ 4013 3213 3611 3725 \nQ 3209 4238 2522 4238 \nz\nM 2522 4750 \nQ 3503 4750 4090 4092 \nQ 4678 3434 4678 2328 \nQ 4678 1225 4090 567 \nQ 3503 -91 2522 -91 \nQ 1538 -91 948 565 \nQ 359 1222 359 2328 \nQ 359 3434 948 4092 \nQ 1538 4750 2522 4750 \nz\n\" id=\"DejaVuSans-4f\" transform=\"scale(0.015625)\"/>\n      </defs>\n      <use xlink:href=\"#DejaVuSans-49\"/>\n      <use x=\"29.492188\" xlink:href=\"#DejaVuSans-4e\"/>\n      <use x=\"104.296875\" xlink:href=\"#DejaVuSans-47\"/>\n      <use x=\"181.787109\" xlink:href=\"#DejaVuSans-52\"/>\n      <use x=\"251.269531\" xlink:href=\"#DejaVuSans-45\"/>\n      <use x=\"314.453125\" xlink:href=\"#DejaVuSans-53\"/>\n      <use x=\"377.929688\" xlink:href=\"#DejaVuSans-4f\"/>\n      <use x=\"456.640625\" xlink:href=\"#DejaVuSans-53\"/>\n     </g>\n    </g>\n    <g id=\"text_7\">\n     <!-- 1e9 -->\n     <g style=\"fill:#ffffff;\" transform=\"translate(375.6125 267.034687)scale(0.1 -0.1)\">\n      <defs>\n       <path d=\"M 3597 1894 \nL 3597 1613 \nL 953 1613 \nQ 991 1019 1311 708 \nQ 1631 397 2203 397 \nQ 2534 397 2845 478 \nQ 3156 559 3463 722 \nL 3463 178 \nQ 3153 47 2828 -22 \nQ 2503 -91 2169 -91 \nQ 1331 -91 842 396 \nQ 353 884 353 1716 \nQ 353 2575 817 3079 \nQ 1281 3584 2069 3584 \nQ 2775 3584 3186 3129 \nQ 3597 2675 3597 1894 \nz\nM 3022 2063 \nQ 3016 2534 2758 2815 \nQ 2500 3097 2075 3097 \nQ 1594 3097 1305 2825 \nQ 1016 2553 972 2059 \nL 3022 2063 \nz\n\" id=\"DejaVuSans-65\" transform=\"scale(0.015625)\"/>\n       <path d=\"M 703 97 \nL 703 672 \nQ 941 559 1184 500 \nQ 1428 441 1663 441 \nQ 2288 441 2617 861 \nQ 2947 1281 2994 2138 \nQ 2813 1869 2534 1725 \nQ 2256 1581 1919 1581 \nQ 1219 1581 811 2004 \nQ 403 2428 403 3163 \nQ 403 3881 828 4315 \nQ 1253 4750 1959 4750 \nQ 2769 4750 3195 4129 \nQ 3622 3509 3622 2328 \nQ 3622 1225 3098 567 \nQ 2575 -91 1691 -91 \nQ 1453 -91 1209 -44 \nQ 966 3 703 97 \nz\nM 1959 2075 \nQ 2384 2075 2632 2365 \nQ 2881 2656 2881 3163 \nQ 2881 3666 2632 3958 \nQ 2384 4250 1959 4250 \nQ 1534 4250 1286 3958 \nQ 1038 3666 1038 3163 \nQ 1038 2656 1286 2365 \nQ 1534 2075 1959 2075 \nz\n\" id=\"DejaVuSans-39\" transform=\"scale(0.015625)\"/>\n      </defs>\n      <use xlink:href=\"#DejaVuSans-31\"/>\n      <use x=\"63.623047\" xlink:href=\"#DejaVuSans-65\"/>\n      <use x=\"125.146484\" xlink:href=\"#DejaVuSans-39\"/>\n     </g>\n    </g>\n   </g>\n   <g id=\"matplotlib.axis_2\">\n    <g id=\"ytick_1\">\n     <g id=\"line2d_6\">\n      <defs>\n       <path d=\"M 0 0 \nL -3.5 0 \n\" id=\"me9478c322d\" style=\"stroke:#ffffff;stroke-width:0.8;\"/>\n      </defs>\n      <g>\n       <use style=\"fill:#ffffff;stroke:#ffffff;stroke-width:0.8;\" x=\"59.690625\" xlink:href=\"#me9478c322d\" y=\"229.91121\"/>\n      </g>\n     </g>\n     <g id=\"text_8\">\n      <!-- 0 -->\n      <g style=\"fill:#ffffff;\" transform=\"translate(46.328125 233.710429)scale(0.1 -0.1)\">\n       <use xlink:href=\"#DejaVuSans-30\"/>\n      </g>\n     </g>\n    </g>\n    <g id=\"ytick_2\">\n     <g id=\"line2d_7\">\n      <g>\n       <use style=\"fill:#ffffff;stroke:#ffffff;stroke-width:0.8;\" x=\"59.690625\" xlink:href=\"#me9478c322d\" y=\"193.189544\"/>\n      </g>\n     </g>\n     <g id=\"text_9\">\n      <!-- 2000 -->\n      <g style=\"fill:#ffffff;\" transform=\"translate(27.240625 196.988763)scale(0.1 -0.1)\">\n       <use xlink:href=\"#DejaVuSans-32\"/>\n       <use x=\"63.623047\" xlink:href=\"#DejaVuSans-30\"/>\n       <use x=\"127.246094\" xlink:href=\"#DejaVuSans-30\"/>\n       <use x=\"190.869141\" xlink:href=\"#DejaVuSans-30\"/>\n      </g>\n     </g>\n    </g>\n    <g id=\"ytick_3\">\n     <g id=\"line2d_8\">\n      <g>\n       <use style=\"fill:#ffffff;stroke:#ffffff;stroke-width:0.8;\" x=\"59.690625\" xlink:href=\"#me9478c322d\" y=\"156.467879\"/>\n      </g>\n     </g>\n     <g id=\"text_10\">\n      <!-- 4000 -->\n      <g style=\"fill:#ffffff;\" transform=\"translate(27.240625 160.267097)scale(0.1 -0.1)\">\n       <defs>\n        <path d=\"M 2419 4116 \nL 825 1625 \nL 2419 1625 \nL 2419 4116 \nz\nM 2253 4666 \nL 3047 4666 \nL 3047 1625 \nL 3713 1625 \nL 3713 1100 \nL 3047 1100 \nL 3047 0 \nL 2419 0 \nL 2419 1100 \nL 313 1100 \nL 313 1709 \nL 2253 4666 \nz\n\" id=\"DejaVuSans-34\" transform=\"scale(0.015625)\"/>\n       </defs>\n       <use xlink:href=\"#DejaVuSans-34\"/>\n       <use x=\"63.623047\" xlink:href=\"#DejaVuSans-30\"/>\n       <use x=\"127.246094\" xlink:href=\"#DejaVuSans-30\"/>\n       <use x=\"190.869141\" xlink:href=\"#DejaVuSans-30\"/>\n      </g>\n     </g>\n    </g>\n    <g id=\"ytick_4\">\n     <g id=\"line2d_9\">\n      <g>\n       <use style=\"fill:#ffffff;stroke:#ffffff;stroke-width:0.8;\" x=\"59.690625\" xlink:href=\"#me9478c322d\" y=\"119.746213\"/>\n      </g>\n     </g>\n     <g id=\"text_11\">\n      <!-- 6000 -->\n      <g style=\"fill:#ffffff;\" transform=\"translate(27.240625 123.545432)scale(0.1 -0.1)\">\n       <defs>\n        <path d=\"M 2113 2584 \nQ 1688 2584 1439 2293 \nQ 1191 2003 1191 1497 \nQ 1191 994 1439 701 \nQ 1688 409 2113 409 \nQ 2538 409 2786 701 \nQ 3034 994 3034 1497 \nQ 3034 2003 2786 2293 \nQ 2538 2584 2113 2584 \nz\nM 3366 4563 \nL 3366 3988 \nQ 3128 4100 2886 4159 \nQ 2644 4219 2406 4219 \nQ 1781 4219 1451 3797 \nQ 1122 3375 1075 2522 \nQ 1259 2794 1537 2939 \nQ 1816 3084 2150 3084 \nQ 2853 3084 3261 2657 \nQ 3669 2231 3669 1497 \nQ 3669 778 3244 343 \nQ 2819 -91 2113 -91 \nQ 1303 -91 875 529 \nQ 447 1150 447 2328 \nQ 447 3434 972 4092 \nQ 1497 4750 2381 4750 \nQ 2619 4750 2861 4703 \nQ 3103 4656 3366 4563 \nz\n\" id=\"DejaVuSans-36\" transform=\"scale(0.015625)\"/>\n       </defs>\n       <use xlink:href=\"#DejaVuSans-36\"/>\n       <use x=\"63.623047\" xlink:href=\"#DejaVuSans-30\"/>\n       <use x=\"127.246094\" xlink:href=\"#DejaVuSans-30\"/>\n       <use x=\"190.869141\" xlink:href=\"#DejaVuSans-30\"/>\n      </g>\n     </g>\n    </g>\n    <g id=\"ytick_5\">\n     <g id=\"line2d_10\">\n      <g>\n       <use style=\"fill:#ffffff;stroke:#ffffff;stroke-width:0.8;\" x=\"59.690625\" xlink:href=\"#me9478c322d\" y=\"83.024547\"/>\n      </g>\n     </g>\n     <g id=\"text_12\">\n      <!-- 8000 -->\n      <g style=\"fill:#ffffff;\" transform=\"translate(27.240625 86.823766)scale(0.1 -0.1)\">\n       <defs>\n        <path d=\"M 2034 2216 \nQ 1584 2216 1326 1975 \nQ 1069 1734 1069 1313 \nQ 1069 891 1326 650 \nQ 1584 409 2034 409 \nQ 2484 409 2743 651 \nQ 3003 894 3003 1313 \nQ 3003 1734 2745 1975 \nQ 2488 2216 2034 2216 \nz\nM 1403 2484 \nQ 997 2584 770 2862 \nQ 544 3141 544 3541 \nQ 544 4100 942 4425 \nQ 1341 4750 2034 4750 \nQ 2731 4750 3128 4425 \nQ 3525 4100 3525 3541 \nQ 3525 3141 3298 2862 \nQ 3072 2584 2669 2484 \nQ 3125 2378 3379 2068 \nQ 3634 1759 3634 1313 \nQ 3634 634 3220 271 \nQ 2806 -91 2034 -91 \nQ 1263 -91 848 271 \nQ 434 634 434 1313 \nQ 434 1759 690 2068 \nQ 947 2378 1403 2484 \nz\nM 1172 3481 \nQ 1172 3119 1398 2916 \nQ 1625 2713 2034 2713 \nQ 2441 2713 2670 2916 \nQ 2900 3119 2900 3481 \nQ 2900 3844 2670 4047 \nQ 2441 4250 2034 4250 \nQ 1625 4250 1398 4047 \nQ 1172 3844 1172 3481 \nz\n\" id=\"DejaVuSans-38\" transform=\"scale(0.015625)\"/>\n       </defs>\n       <use xlink:href=\"#DejaVuSans-38\"/>\n       <use x=\"63.623047\" xlink:href=\"#DejaVuSans-30\"/>\n       <use x=\"127.246094\" xlink:href=\"#DejaVuSans-30\"/>\n       <use x=\"190.869141\" xlink:href=\"#DejaVuSans-30\"/>\n      </g>\n     </g>\n    </g>\n    <g id=\"ytick_6\">\n     <g id=\"line2d_11\">\n      <g>\n       <use style=\"fill:#ffffff;stroke:#ffffff;stroke-width:0.8;\" x=\"59.690625\" xlink:href=\"#me9478c322d\" y=\"46.302881\"/>\n      </g>\n     </g>\n     <g id=\"text_13\">\n      <!-- 10000 -->\n      <g style=\"fill:#ffffff;\" transform=\"translate(20.878125 50.1021)scale(0.1 -0.1)\">\n       <use xlink:href=\"#DejaVuSans-31\"/>\n       <use x=\"63.623047\" xlink:href=\"#DejaVuSans-30\"/>\n       <use x=\"127.246094\" xlink:href=\"#DejaVuSans-30\"/>\n       <use x=\"190.869141\" xlink:href=\"#DejaVuSans-30\"/>\n       <use x=\"254.492188\" xlink:href=\"#DejaVuSans-30\"/>\n      </g>\n     </g>\n    </g>\n    <g id=\"text_14\">\n     <!-- EMPLEADOS -->\n     <g style=\"fill:#ffffff;\" transform=\"translate(14.798438 161.852187)rotate(-90)scale(0.1 -0.1)\">\n      <defs>\n       <path d=\"M 628 4666 \nL 1569 4666 \nL 2759 1491 \nL 3956 4666 \nL 4897 4666 \nL 4897 0 \nL 4281 0 \nL 4281 4097 \nL 3078 897 \nL 2444 897 \nL 1241 4097 \nL 1241 0 \nL 628 0 \nL 628 4666 \nz\n\" id=\"DejaVuSans-4d\" transform=\"scale(0.015625)\"/>\n       <path d=\"M 1259 4147 \nL 1259 2394 \nL 2053 2394 \nQ 2494 2394 2734 2622 \nQ 2975 2850 2975 3272 \nQ 2975 3691 2734 3919 \nQ 2494 4147 2053 4147 \nL 1259 4147 \nz\nM 628 4666 \nL 2053 4666 \nQ 2838 4666 3239 4311 \nQ 3641 3956 3641 3272 \nQ 3641 2581 3239 2228 \nQ 2838 1875 2053 1875 \nL 1259 1875 \nL 1259 0 \nL 628 0 \nL 628 4666 \nz\n\" id=\"DejaVuSans-50\" transform=\"scale(0.015625)\"/>\n       <path d=\"M 628 4666 \nL 1259 4666 \nL 1259 531 \nL 3531 531 \nL 3531 0 \nL 628 0 \nL 628 4666 \nz\n\" id=\"DejaVuSans-4c\" transform=\"scale(0.015625)\"/>\n       <path d=\"M 2188 4044 \nL 1331 1722 \nL 3047 1722 \nL 2188 4044 \nz\nM 1831 4666 \nL 2547 4666 \nL 4325 0 \nL 3669 0 \nL 3244 1197 \nL 1141 1197 \nL 716 0 \nL 50 0 \nL 1831 4666 \nz\n\" id=\"DejaVuSans-41\" transform=\"scale(0.015625)\"/>\n       <path d=\"M 1259 4147 \nL 1259 519 \nL 2022 519 \nQ 2988 519 3436 956 \nQ 3884 1394 3884 2338 \nQ 3884 3275 3436 3711 \nQ 2988 4147 2022 4147 \nL 1259 4147 \nz\nM 628 4666 \nL 1925 4666 \nQ 3281 4666 3915 4102 \nQ 4550 3538 4550 2338 \nQ 4550 1131 3912 565 \nQ 3275 0 1925 0 \nL 628 0 \nL 628 4666 \nz\n\" id=\"DejaVuSans-44\" transform=\"scale(0.015625)\"/>\n      </defs>\n      <use xlink:href=\"#DejaVuSans-45\"/>\n      <use x=\"63.183594\" xlink:href=\"#DejaVuSans-4d\"/>\n      <use x=\"149.462891\" xlink:href=\"#DejaVuSans-50\"/>\n      <use x=\"209.765625\" xlink:href=\"#DejaVuSans-4c\"/>\n      <use x=\"265.478516\" xlink:href=\"#DejaVuSans-45\"/>\n      <use x=\"328.662109\" xlink:href=\"#DejaVuSans-41\"/>\n      <use x=\"397.070312\" xlink:href=\"#DejaVuSans-44\"/>\n      <use x=\"474.072266\" xlink:href=\"#DejaVuSans-4f\"/>\n      <use x=\"552.783203\" xlink:href=\"#DejaVuSans-53\"/>\n     </g>\n    </g>\n   </g>\n   <g id=\"line2d_12\">\n    <defs>\n     <path d=\"M 0 3 \nC 0.795609 3 1.55874 2.683901 2.12132 2.12132 \nC 2.683901 1.55874 3 0.795609 3 0 \nC 3 -0.795609 2.683901 -1.55874 2.12132 -2.12132 \nC 1.55874 -2.683901 0.795609 -3 0 -3 \nC -0.795609 -3 -1.55874 -2.683901 -2.12132 -2.12132 \nC -2.683901 -1.55874 -3 -0.795609 -3 0 \nC -3 0.795609 -2.683901 1.55874 -2.12132 2.12132 \nC -1.55874 2.683901 -0.795609 3 0 3 \nz\n\" id=\"m6c7fe04b4c\" style=\"stroke:#8dd3c7;\"/>\n    </defs>\n    <g clip-path=\"url(#p81b609c712)\">\n     <use style=\"fill:#8dd3c7;stroke:#8dd3c7;\" x=\"379.272443\" xlink:href=\"#m6c7fe04b4c\" y=\"32.201761\"/>\n     <use style=\"fill:#8dd3c7;stroke:#8dd3c7;\" x=\"74.908807\" xlink:href=\"#m6c7fe04b4c\" y=\"212.174646\"/>\n     <use style=\"fill:#8dd3c7;stroke:#8dd3c7;\" x=\"125.218987\" xlink:href=\"#m6c7fe04b4c\" y=\"203.269642\"/>\n     <use style=\"fill:#8dd3c7;stroke:#8dd3c7;\" x=\"224.418088\" xlink:href=\"#m6c7fe04b4c\" y=\"177.693001\"/>\n     <use style=\"fill:#8dd3c7;stroke:#8dd3c7;\" x=\"250.056571\" xlink:href=\"#m6c7fe04b4c\" y=\"228.625952\"/>\n     <use style=\"fill:#8dd3c7;stroke:#8dd3c7;\" x=\"250.056571\" xlink:href=\"#m6c7fe04b4c\" y=\"95.252862\"/>\n     <use style=\"fill:#8dd3c7;stroke:#8dd3c7;\" x=\"91.171561\" xlink:href=\"#m6c7fe04b4c\" y=\"208.906417\"/>\n     <use style=\"fill:#8dd3c7;stroke:#8dd3c7;\" x=\"137.23821\" xlink:href=\"#m6c7fe04b4c\" y=\"213.294657\"/>\n     <use style=\"fill:#8dd3c7;stroke:#8dd3c7;\" x=\"191.645328\" xlink:href=\"#m6c7fe04b4c\" y=\"102.285061\"/>\n     <use style=\"fill:#8dd3c7;stroke:#8dd3c7;\" x=\"156.041562\" xlink:href=\"#m6c7fe04b4c\" y=\"97.713213\"/>\n     <use style=\"fill:#8dd3c7;stroke:#8dd3c7;\" x=\"123.225482\" xlink:href=\"#m6c7fe04b4c\" y=\"212.964162\"/>\n     <use style=\"fill:#8dd3c7;stroke:#8dd3c7;\" x=\"118.720722\" xlink:href=\"#m6c7fe04b4c\" y=\"216.397637\"/>\n     <use style=\"fill:#8dd3c7;stroke:#8dd3c7;\" x=\"173.284302\" xlink:href=\"#m6c7fe04b4c\" y=\"85.705229\"/>\n     <use style=\"fill:#8dd3c7;stroke:#8dd3c7;\" x=\"92.599932\" xlink:href=\"#m6c7fe04b4c\" y=\"218.857989\"/>\n     <use style=\"fill:#8dd3c7;stroke:#8dd3c7;\" x=\"79.045339\" xlink:href=\"#m6c7fe04b4c\" y=\"219.500618\"/>\n     <use style=\"fill:#8dd3c7;stroke:#8dd3c7;\" x=\"143.4909\" xlink:href=\"#m6c7fe04b4c\" y=\"169.173575\"/>\n     <use style=\"fill:#8dd3c7;stroke:#8dd3c7;\" x=\"114.889529\" xlink:href=\"#m6c7fe04b4c\" y=\"215.167461\"/>\n     <use style=\"fill:#8dd3c7;stroke:#8dd3c7;\" x=\"105.842387\" xlink:href=\"#m6c7fe04b4c\" y=\"208.686087\"/>\n     <use style=\"fill:#8dd3c7;stroke:#8dd3c7;\" x=\"106.722298\" xlink:href=\"#m6c7fe04b4c\" y=\"218.307164\"/>\n     <use style=\"fill:#8dd3c7;stroke:#8dd3c7;\" x=\"90.470473\" xlink:href=\"#m6c7fe04b4c\" y=\"209.255273\"/>\n     <use style=\"fill:#8dd3c7;stroke:#8dd3c7;\" x=\"194.219914\" xlink:href=\"#m6c7fe04b4c\" y=\"162.490232\"/>\n     <use style=\"fill:#8dd3c7;stroke:#8dd3c7;\" x=\"97.75741\" xlink:href=\"#m6c7fe04b4c\" y=\"207.327386\"/>\n     <use style=\"fill:#8dd3c7;stroke:#8dd3c7;\" x=\"93.701595\" xlink:href=\"#m6c7fe04b4c\" y=\"187.607851\"/>\n     <use style=\"fill:#8dd3c7;stroke:#8dd3c7;\" x=\"132.557094\" xlink:href=\"#m6c7fe04b4c\" y=\"123.087884\"/>\n     <use style=\"fill:#8dd3c7;stroke:#8dd3c7;\" x=\"111.338379\" xlink:href=\"#m6c7fe04b4c\" y=\"103.680484\"/>\n     <use style=\"fill:#8dd3c7;stroke:#8dd3c7;\" x=\"100.371525\" xlink:href=\"#m6c7fe04b4c\" y=\"221.887526\"/>\n     <use style=\"fill:#8dd3c7;stroke:#8dd3c7;\" x=\"77.738945\" xlink:href=\"#m6c7fe04b4c\" y=\"229.635798\"/>\n     <use style=\"fill:#8dd3c7;stroke:#8dd3c7;\" x=\"144.738863\" xlink:href=\"#m6c7fe04b4c\" y=\"217.829782\"/>\n     <use style=\"fill:#8dd3c7;stroke:#8dd3c7;\" x=\"98.000551\" xlink:href=\"#m6c7fe04b4c\" y=\"212.688749\"/>\n     <use style=\"fill:#8dd3c7;stroke:#8dd3c7;\" x=\"101.554061\" xlink:href=\"#m6c7fe04b4c\" y=\"226.936755\"/>\n     <use style=\"fill:#8dd3c7;stroke:#8dd3c7;\" x=\"89.046962\" xlink:href=\"#m6c7fe04b4c\" y=\"219.059958\"/>\n     <use style=\"fill:#8dd3c7;stroke:#8dd3c7;\" x=\"126.750483\" xlink:href=\"#m6c7fe04b4c\" y=\"224.035744\"/>\n     <use style=\"fill:#8dd3c7;stroke:#8dd3c7;\" x=\"86.959244\" xlink:href=\"#m6c7fe04b4c\" y=\"210.907748\"/>\n     <use style=\"fill:#8dd3c7;stroke:#8dd3c7;\" x=\"84.821377\" xlink:href=\"#m6c7fe04b4c\" y=\"225.302641\"/>\n     <use style=\"fill:#8dd3c7;stroke:#8dd3c7;\" x=\"87.922623\" xlink:href=\"#m6c7fe04b4c\" y=\"217.7747\"/>\n     <use style=\"fill:#8dd3c7;stroke:#8dd3c7;\" x=\"86.859362\" xlink:href=\"#m6c7fe04b4c\" y=\"223.209506\"/>\n     <use style=\"fill:#8dd3c7;stroke:#8dd3c7;\" x=\"90.838669\" xlink:href=\"#m6c7fe04b4c\" y=\"216.691411\"/>\n     <use style=\"fill:#8dd3c7;stroke:#8dd3c7;\" x=\"93.575808\" xlink:href=\"#m6c7fe04b4c\" y=\"225.192476\"/>\n     <use style=\"fill:#8dd3c7;stroke:#8dd3c7;\" x=\"96.473595\" xlink:href=\"#m6c7fe04b4c\" y=\"213.000883\"/>\n     <use style=\"fill:#8dd3c7;stroke:#8dd3c7;\" x=\"142.164273\" xlink:href=\"#m6c7fe04b4c\" y=\"120.884584\"/>\n     <use style=\"fill:#8dd3c7;stroke:#8dd3c7;\" x=\"104.562059\" xlink:href=\"#m6c7fe04b4c\" y=\"208.888057\"/>\n     <use style=\"fill:#8dd3c7;stroke:#8dd3c7;\" x=\"106.082604\" xlink:href=\"#m6c7fe04b4c\" y=\"206.133932\"/>\n     <use style=\"fill:#8dd3c7;stroke:#8dd3c7;\" x=\"109.850215\" xlink:href=\"#m6c7fe04b4c\" y=\"226.055435\"/>\n     <use style=\"fill:#8dd3c7;stroke:#8dd3c7;\" x=\"91.72876\" xlink:href=\"#m6c7fe04b4c\" y=\"229.837767\"/>\n     <use style=\"fill:#8dd3c7;stroke:#8dd3c7;\" x=\"143.108553\" xlink:href=\"#m6c7fe04b4c\" y=\"220.987846\"/>\n     <use style=\"fill:#8dd3c7;stroke:#8dd3c7;\" x=\"88.897915\" xlink:href=\"#m6c7fe04b4c\" y=\"177.968414\"/>\n     <use style=\"fill:#8dd3c7;stroke:#8dd3c7;\" x=\"92.325319\" xlink:href=\"#m6c7fe04b4c\" y=\"229.745963\"/>\n     <use style=\"fill:#8dd3c7;stroke:#8dd3c7;\" x=\"140.09317\" xlink:href=\"#m6c7fe04b4c\" y=\"158.285601\"/>\n     <use style=\"fill:#8dd3c7;stroke:#8dd3c7;\" x=\"140.659073\" xlink:href=\"#m6c7fe04b4c\" y=\"204.701787\"/>\n     <use style=\"fill:#8dd3c7;stroke:#8dd3c7;\" x=\"103.720248\" xlink:href=\"#m6c7fe04b4c\" y=\"176.646434\"/>\n     <use style=\"fill:#8dd3c7;stroke:#8dd3c7;\" x=\"101.122545\" xlink:href=\"#m6c7fe04b4c\" y=\"156.229188\"/>\n     <use style=\"fill:#8dd3c7;stroke:#8dd3c7;\" x=\"76.485266\" xlink:href=\"#m6c7fe04b4c\" y=\"212.339893\"/>\n     <use style=\"fill:#8dd3c7;stroke:#8dd3c7;\" x=\"94.827395\" xlink:href=\"#m6c7fe04b4c\" y=\"197.485979\"/>\n     <use style=\"fill:#8dd3c7;stroke:#8dd3c7;\" x=\"120.092792\" xlink:href=\"#m6c7fe04b4c\" y=\"227.781354\"/>\n     <use style=\"fill:#8dd3c7;stroke:#8dd3c7;\" x=\"92.605831\" xlink:href=\"#m6c7fe04b4c\" y=\"218.454051\"/>\n     <use style=\"fill:#8dd3c7;stroke:#8dd3c7;\" x=\"84.466514\" xlink:href=\"#m6c7fe04b4c\" y=\"225.008868\"/>\n     <use style=\"fill:#8dd3c7;stroke:#8dd3c7;\" x=\"93.576814\" xlink:href=\"#m6c7fe04b4c\" y=\"204.573261\"/>\n     <use style=\"fill:#8dd3c7;stroke:#8dd3c7;\" x=\"94.086514\" xlink:href=\"#m6c7fe04b4c\" y=\"219.776031\"/>\n     <use style=\"fill:#8dd3c7;stroke:#8dd3c7;\" x=\"97.278065\" xlink:href=\"#m6c7fe04b4c\" y=\"221.263258\"/>\n     <use style=\"fill:#8dd3c7;stroke:#8dd3c7;\" x=\"95.526849\" xlink:href=\"#m6c7fe04b4c\" y=\"222.732125\"/>\n     <use style=\"fill:#8dd3c7;stroke:#8dd3c7;\" x=\"94.972316\" xlink:href=\"#m6c7fe04b4c\" y=\"218.913071\"/>\n     <use style=\"fill:#8dd3c7;stroke:#8dd3c7;\" x=\"95.345223\" xlink:href=\"#m6c7fe04b4c\" y=\"214.818606\"/>\n     <use style=\"fill:#8dd3c7;stroke:#8dd3c7;\" x=\"101.080441\" xlink:href=\"#m6c7fe04b4c\" y=\"216.195668\"/>\n     <use style=\"fill:#8dd3c7;stroke:#8dd3c7;\" x=\"78.801947\" xlink:href=\"#m6c7fe04b4c\" y=\"223.52164\"/>\n     <use style=\"fill:#8dd3c7;stroke:#8dd3c7;\" x=\"89.244355\" xlink:href=\"#m6c7fe04b4c\" y=\"208.52084\"/>\n     <use style=\"fill:#8dd3c7;stroke:#8dd3c7;\" x=\"103.814636\" xlink:href=\"#m6c7fe04b4c\" y=\"210.338562\"/>\n     <use style=\"fill:#8dd3c7;stroke:#8dd3c7;\" x=\"90.817683\" xlink:href=\"#m6c7fe04b4c\" y=\"198.091887\"/>\n     <use style=\"fill:#8dd3c7;stroke:#8dd3c7;\" x=\"105.396581\" xlink:href=\"#m6c7fe04b4c\" y=\"209.420521\"/>\n     <use style=\"fill:#8dd3c7;stroke:#8dd3c7;\" x=\"91.699633\" xlink:href=\"#m6c7fe04b4c\" y=\"203.324724\"/>\n     <use style=\"fill:#8dd3c7;stroke:#8dd3c7;\" x=\"86.69883\" xlink:href=\"#m6c7fe04b4c\" y=\"223.980661\"/>\n     <use style=\"fill:#8dd3c7;stroke:#8dd3c7;\" x=\"94.654669\" xlink:href=\"#m6c7fe04b4c\" y=\"214.212698\"/>\n     <use style=\"fill:#8dd3c7;stroke:#8dd3c7;\" x=\"107.246373\" xlink:href=\"#m6c7fe04b4c\" y=\"209.053304\"/>\n     <use style=\"fill:#8dd3c7;stroke:#8dd3c7;\" x=\"75.251434\" xlink:href=\"#m6c7fe04b4c\" y=\"229.819406\"/>\n     <use style=\"fill:#8dd3c7;stroke:#8dd3c7;\" x=\"94.840249\" xlink:href=\"#m6c7fe04b4c\" y=\"217.793061\"/>\n     <use style=\"fill:#8dd3c7;stroke:#8dd3c7;\" x=\"96.82079\" xlink:href=\"#m6c7fe04b4c\" y=\"218.398968\"/>\n     <use style=\"fill:#8dd3c7;stroke:#8dd3c7;\" x=\"112.407654\" xlink:href=\"#m6c7fe04b4c\" y=\"218.307164\"/>\n     <use style=\"fill:#8dd3c7;stroke:#8dd3c7;\" x=\"74.908807\" xlink:href=\"#m6c7fe04b4c\" y=\"229.874489\"/>\n     <use style=\"fill:#8dd3c7;stroke:#8dd3c7;\" x=\"99.126082\" xlink:href=\"#m6c7fe04b4c\" y=\"196.567938\"/>\n     <use style=\"fill:#8dd3c7;stroke:#8dd3c7;\" x=\"90.145649\" xlink:href=\"#m6c7fe04b4c\" y=\"213.533347\"/>\n     <use style=\"fill:#8dd3c7;stroke:#8dd3c7;\" x=\"74.908807\" xlink:href=\"#m6c7fe04b4c\" y=\"229.874489\"/>\n     <use style=\"fill:#8dd3c7;stroke:#8dd3c7;\" x=\"82.936549\" xlink:href=\"#m6c7fe04b4c\" y=\"225.541332\"/>\n     <use style=\"fill:#8dd3c7;stroke:#8dd3c7;\" x=\"137.315163\" xlink:href=\"#m6c7fe04b4c\" y=\"159.864633\"/>\n     <use style=\"fill:#8dd3c7;stroke:#8dd3c7;\" x=\"150.069826\" xlink:href=\"#m6c7fe04b4c\" y=\"229.837767\"/>\n     <use style=\"fill:#8dd3c7;stroke:#8dd3c7;\" x=\"97.49949\" xlink:href=\"#m6c7fe04b4c\" y=\"193.042658\"/>\n     <use style=\"fill:#8dd3c7;stroke:#8dd3c7;\" x=\"91.853636\" xlink:href=\"#m6c7fe04b4c\" y=\"225.743301\"/>\n     <use style=\"fill:#8dd3c7;stroke:#8dd3c7;\" x=\"97.844268\" xlink:href=\"#m6c7fe04b4c\" y=\"190.21509\"/>\n     <use style=\"fill:#8dd3c7;stroke:#8dd3c7;\" x=\"85.450787\" xlink:href=\"#m6c7fe04b4c\" y=\"217.627813\"/>\n     <use style=\"fill:#8dd3c7;stroke:#8dd3c7;\" x=\"91.06741\" xlink:href=\"#m6c7fe04b4c\" y=\"220.051443\"/>\n     <use style=\"fill:#8dd3c7;stroke:#8dd3c7;\" x=\"83.173167\" xlink:href=\"#m6c7fe04b4c\" y=\"219.849474\"/>\n     <use style=\"fill:#8dd3c7;stroke:#8dd3c7;\" x=\"83.173167\" xlink:href=\"#m6c7fe04b4c\" y=\"219.849474\"/>\n     <use style=\"fill:#8dd3c7;stroke:#8dd3c7;\" x=\"84.7499\" xlink:href=\"#m6c7fe04b4c\" y=\"229.562354\"/>\n     <use style=\"fill:#8dd3c7;stroke:#8dd3c7;\" x=\"80.521294\" xlink:href=\"#m6c7fe04b4c\" y=\"226.5879\"/>\n     <use style=\"fill:#8dd3c7;stroke:#8dd3c7;\" x=\"85.811572\" xlink:href=\"#m6c7fe04b4c\" y=\"217.407483\"/>\n     <use style=\"fill:#8dd3c7;stroke:#8dd3c7;\" x=\"82.34903\" xlink:href=\"#m6c7fe04b4c\" y=\"214.781884\"/>\n     <use style=\"fill:#8dd3c7;stroke:#8dd3c7;\" x=\"82.8682\" xlink:href=\"#m6c7fe04b4c\" y=\"225.26592\"/>\n     <use style=\"fill:#8dd3c7;stroke:#8dd3c7;\" x=\"80.418895\" xlink:href=\"#m6c7fe04b4c\" y=\"227.04692\"/>\n     <use style=\"fill:#8dd3c7;stroke:#8dd3c7;\" x=\"79.326993\" xlink:href=\"#m6c7fe04b4c\" y=\"223.117702\"/>\n     <use style=\"fill:#8dd3c7;stroke:#8dd3c7;\" x=\"86.774178\" xlink:href=\"#m6c7fe04b4c\" y=\"229.801045\"/>\n     <use style=\"fill:#8dd3c7;stroke:#8dd3c7;\" x=\"82.078732\" xlink:href=\"#m6c7fe04b4c\" y=\"224.090826\"/>\n     <use style=\"fill:#8dd3c7;stroke:#8dd3c7;\" x=\"87.46269\" xlink:href=\"#m6c7fe04b4c\" y=\"203.967353\"/>\n    </g>\n   </g>\n   <g id=\"patch_3\">\n    <path d=\"M 59.690625 239.758125 \nL 59.690625 22.318125 \n\" style=\"fill:none;stroke:#ffffff;stroke-linecap:square;stroke-linejoin:miter;stroke-width:0.8;\"/>\n   </g>\n   <g id=\"patch_4\">\n    <path d=\"M 394.490625 239.758125 \nL 394.490625 22.318125 \n\" style=\"fill:none;stroke:#ffffff;stroke-linecap:square;stroke-linejoin:miter;stroke-width:0.8;\"/>\n   </g>\n   <g id=\"patch_5\">\n    <path d=\"M 59.690625 239.758125 \nL 394.490625 239.758125 \n\" style=\"fill:none;stroke:#ffffff;stroke-linecap:square;stroke-linejoin:miter;stroke-width:0.8;\"/>\n   </g>\n   <g id=\"patch_6\">\n    <path d=\"M 59.690625 22.318125 \nL 394.490625 22.318125 \n\" style=\"fill:none;stroke:#ffffff;stroke-linecap:square;stroke-linejoin:miter;stroke-width:0.8;\"/>\n   </g>\n   <g id=\"text_15\">\n    <!-- Empleados vs. Ingresos -->\n    <g style=\"fill:#ffffff;\" transform=\"translate(156.279375 16.318125)scale(0.12 -0.12)\">\n     <defs>\n      <path d=\"M 3328 2828 \nQ 3544 3216 3844 3400 \nQ 4144 3584 4550 3584 \nQ 5097 3584 5394 3201 \nQ 5691 2819 5691 2113 \nL 5691 0 \nL 5113 0 \nL 5113 2094 \nQ 5113 2597 4934 2840 \nQ 4756 3084 4391 3084 \nQ 3944 3084 3684 2787 \nQ 3425 2491 3425 1978 \nL 3425 0 \nL 2847 0 \nL 2847 2094 \nQ 2847 2600 2669 2842 \nQ 2491 3084 2119 3084 \nQ 1678 3084 1418 2786 \nQ 1159 2488 1159 1978 \nL 1159 0 \nL 581 0 \nL 581 3500 \nL 1159 3500 \nL 1159 2956 \nQ 1356 3278 1631 3431 \nQ 1906 3584 2284 3584 \nQ 2666 3584 2933 3390 \nQ 3200 3197 3328 2828 \nz\n\" id=\"DejaVuSans-6d\" transform=\"scale(0.015625)\"/>\n      <path d=\"M 1159 525 \nL 1159 -1331 \nL 581 -1331 \nL 581 3500 \nL 1159 3500 \nL 1159 2969 \nQ 1341 3281 1617 3432 \nQ 1894 3584 2278 3584 \nQ 2916 3584 3314 3078 \nQ 3713 2572 3713 1747 \nQ 3713 922 3314 415 \nQ 2916 -91 2278 -91 \nQ 1894 -91 1617 61 \nQ 1341 213 1159 525 \nz\nM 3116 1747 \nQ 3116 2381 2855 2742 \nQ 2594 3103 2138 3103 \nQ 1681 3103 1420 2742 \nQ 1159 2381 1159 1747 \nQ 1159 1113 1420 752 \nQ 1681 391 2138 391 \nQ 2594 391 2855 752 \nQ 3116 1113 3116 1747 \nz\n\" id=\"DejaVuSans-70\" transform=\"scale(0.015625)\"/>\n      <path d=\"M 603 4863 \nL 1178 4863 \nL 1178 0 \nL 603 0 \nL 603 4863 \nz\n\" id=\"DejaVuSans-6c\" transform=\"scale(0.015625)\"/>\n      <path d=\"M 2194 1759 \nQ 1497 1759 1228 1600 \nQ 959 1441 959 1056 \nQ 959 750 1161 570 \nQ 1363 391 1709 391 \nQ 2188 391 2477 730 \nQ 2766 1069 2766 1631 \nL 2766 1759 \nL 2194 1759 \nz\nM 3341 1997 \nL 3341 0 \nL 2766 0 \nL 2766 531 \nQ 2569 213 2275 61 \nQ 1981 -91 1556 -91 \nQ 1019 -91 701 211 \nQ 384 513 384 1019 \nQ 384 1609 779 1909 \nQ 1175 2209 1959 2209 \nL 2766 2209 \nL 2766 2266 \nQ 2766 2663 2505 2880 \nQ 2244 3097 1772 3097 \nQ 1472 3097 1187 3025 \nQ 903 2953 641 2809 \nL 641 3341 \nQ 956 3463 1253 3523 \nQ 1550 3584 1831 3584 \nQ 2591 3584 2966 3190 \nQ 3341 2797 3341 1997 \nz\n\" id=\"DejaVuSans-61\" transform=\"scale(0.015625)\"/>\n      <path d=\"M 2906 2969 \nL 2906 4863 \nL 3481 4863 \nL 3481 0 \nL 2906 0 \nL 2906 525 \nQ 2725 213 2448 61 \nQ 2172 -91 1784 -91 \nQ 1150 -91 751 415 \nQ 353 922 353 1747 \nQ 353 2572 751 3078 \nQ 1150 3584 1784 3584 \nQ 2172 3584 2448 3432 \nQ 2725 3281 2906 2969 \nz\nM 947 1747 \nQ 947 1113 1208 752 \nQ 1469 391 1925 391 \nQ 2381 391 2643 752 \nQ 2906 1113 2906 1747 \nQ 2906 2381 2643 2742 \nQ 2381 3103 1925 3103 \nQ 1469 3103 1208 2742 \nQ 947 2381 947 1747 \nz\n\" id=\"DejaVuSans-64\" transform=\"scale(0.015625)\"/>\n      <path d=\"M 1959 3097 \nQ 1497 3097 1228 2736 \nQ 959 2375 959 1747 \nQ 959 1119 1226 758 \nQ 1494 397 1959 397 \nQ 2419 397 2687 759 \nQ 2956 1122 2956 1747 \nQ 2956 2369 2687 2733 \nQ 2419 3097 1959 3097 \nz\nM 1959 3584 \nQ 2709 3584 3137 3096 \nQ 3566 2609 3566 1747 \nQ 3566 888 3137 398 \nQ 2709 -91 1959 -91 \nQ 1206 -91 779 398 \nQ 353 888 353 1747 \nQ 353 2609 779 3096 \nQ 1206 3584 1959 3584 \nz\n\" id=\"DejaVuSans-6f\" transform=\"scale(0.015625)\"/>\n      <path d=\"M 2834 3397 \nL 2834 2853 \nQ 2591 2978 2328 3040 \nQ 2066 3103 1784 3103 \nQ 1356 3103 1142 2972 \nQ 928 2841 928 2578 \nQ 928 2378 1081 2264 \nQ 1234 2150 1697 2047 \nL 1894 2003 \nQ 2506 1872 2764 1633 \nQ 3022 1394 3022 966 \nQ 3022 478 2636 193 \nQ 2250 -91 1575 -91 \nQ 1294 -91 989 -36 \nQ 684 19 347 128 \nL 347 722 \nQ 666 556 975 473 \nQ 1284 391 1588 391 \nQ 1994 391 2212 530 \nQ 2431 669 2431 922 \nQ 2431 1156 2273 1281 \nQ 2116 1406 1581 1522 \nL 1381 1569 \nQ 847 1681 609 1914 \nQ 372 2147 372 2553 \nQ 372 3047 722 3315 \nQ 1072 3584 1716 3584 \nQ 2034 3584 2315 3537 \nQ 2597 3491 2834 3397 \nz\n\" id=\"DejaVuSans-73\" transform=\"scale(0.015625)\"/>\n      <path id=\"DejaVuSans-20\" transform=\"scale(0.015625)\"/>\n      <path d=\"M 191 3500 \nL 800 3500 \nL 1894 563 \nL 2988 3500 \nL 3597 3500 \nL 2284 0 \nL 1503 0 \nL 191 3500 \nz\n\" id=\"DejaVuSans-76\" transform=\"scale(0.015625)\"/>\n      <path d=\"M 3513 2113 \nL 3513 0 \nL 2938 0 \nL 2938 2094 \nQ 2938 2591 2744 2837 \nQ 2550 3084 2163 3084 \nQ 1697 3084 1428 2787 \nQ 1159 2491 1159 1978 \nL 1159 0 \nL 581 0 \nL 581 3500 \nL 1159 3500 \nL 1159 2956 \nQ 1366 3272 1645 3428 \nQ 1925 3584 2291 3584 \nQ 2894 3584 3203 3211 \nQ 3513 2838 3513 2113 \nz\n\" id=\"DejaVuSans-6e\" transform=\"scale(0.015625)\"/>\n      <path d=\"M 2906 1791 \nQ 2906 2416 2648 2759 \nQ 2391 3103 1925 3103 \nQ 1463 3103 1205 2759 \nQ 947 2416 947 1791 \nQ 947 1169 1205 825 \nQ 1463 481 1925 481 \nQ 2391 481 2648 825 \nQ 2906 1169 2906 1791 \nz\nM 3481 434 \nQ 3481 -459 3084 -895 \nQ 2688 -1331 1869 -1331 \nQ 1566 -1331 1297 -1286 \nQ 1028 -1241 775 -1147 \nL 775 -588 \nQ 1028 -725 1275 -790 \nQ 1522 -856 1778 -856 \nQ 2344 -856 2625 -561 \nQ 2906 -266 2906 331 \nL 2906 616 \nQ 2728 306 2450 153 \nQ 2172 0 1784 0 \nQ 1141 0 747 490 \nQ 353 981 353 1791 \nQ 353 2603 747 3093 \nQ 1141 3584 1784 3584 \nQ 2172 3584 2450 3431 \nQ 2728 3278 2906 2969 \nL 2906 3500 \nL 3481 3500 \nL 3481 434 \nz\n\" id=\"DejaVuSans-67\" transform=\"scale(0.015625)\"/>\n      <path d=\"M 2631 2963 \nQ 2534 3019 2420 3045 \nQ 2306 3072 2169 3072 \nQ 1681 3072 1420 2755 \nQ 1159 2438 1159 1844 \nL 1159 0 \nL 581 0 \nL 581 3500 \nL 1159 3500 \nL 1159 2956 \nQ 1341 3275 1631 3429 \nQ 1922 3584 2338 3584 \nQ 2397 3584 2469 3576 \nQ 2541 3569 2628 3553 \nL 2631 2963 \nz\n\" id=\"DejaVuSans-72\" transform=\"scale(0.015625)\"/>\n     </defs>\n     <use xlink:href=\"#DejaVuSans-45\"/>\n     <use x=\"63.183594\" xlink:href=\"#DejaVuSans-6d\"/>\n     <use x=\"160.595703\" xlink:href=\"#DejaVuSans-70\"/>\n     <use x=\"224.072266\" xlink:href=\"#DejaVuSans-6c\"/>\n     <use x=\"251.855469\" xlink:href=\"#DejaVuSans-65\"/>\n     <use x=\"313.378906\" xlink:href=\"#DejaVuSans-61\"/>\n     <use x=\"374.658203\" xlink:href=\"#DejaVuSans-64\"/>\n     <use x=\"438.134766\" xlink:href=\"#DejaVuSans-6f\"/>\n     <use x=\"499.316406\" xlink:href=\"#DejaVuSans-73\"/>\n     <use x=\"551.416016\" xlink:href=\"#DejaVuSans-20\"/>\n     <use x=\"583.203125\" xlink:href=\"#DejaVuSans-76\"/>\n     <use x=\"642.382812\" xlink:href=\"#DejaVuSans-73\"/>\n     <use x=\"694.482422\" xlink:href=\"#DejaVuSans-2e\"/>\n     <use x=\"726.269531\" xlink:href=\"#DejaVuSans-20\"/>\n     <use x=\"758.056641\" xlink:href=\"#DejaVuSans-49\"/>\n     <use x=\"787.548828\" xlink:href=\"#DejaVuSans-6e\"/>\n     <use x=\"850.927734\" xlink:href=\"#DejaVuSans-67\"/>\n     <use x=\"914.404297\" xlink:href=\"#DejaVuSans-72\"/>\n     <use x=\"953.267578\" xlink:href=\"#DejaVuSans-65\"/>\n     <use x=\"1014.791016\" xlink:href=\"#DejaVuSans-73\"/>\n     <use x=\"1066.890625\" xlink:href=\"#DejaVuSans-6f\"/>\n     <use x=\"1128.072266\" xlink:href=\"#DejaVuSans-73\"/>\n    </g>\n   </g>\n  </g>\n </g>\n <defs>\n  <clipPath id=\"p81b609c712\">\n   <rect height=\"217.44\" width=\"334.8\" x=\"59.690625\" y=\"22.318125\"/>\n  </clipPath>\n </defs>\n</svg>\n",
      "image/png": "[encoded data removed]"
     },
     "metadata": {}
    }
   ],
   "metadata": {}
  },
  {
   "cell_type": "code",
   "execution_count": 13,
   "source": [
    "mean_income = df_main['INGRESOS POR VENTA2020'].mean()\n",
    "df_main.loc[df_main['INGRESOS POR VENTA2020'] == 0, 'INGRESOS POR VENTA2020'] = mean_income\n",
    "\n",
    "# We check they no longer have 0 as income value\n",
    "df_main[df_main['INGRESOS POR VENTA2020'] == 0].shape[0]"
   ],
   "outputs": [
    {
     "output_type": "execute_result",
     "data": {
      "text/plain": [
       "0"
      ]
     },
     "metadata": {},
     "execution_count": 13
    }
   ],
   "metadata": {}
  },
  {
   "cell_type": "markdown",
   "source": [
    "The same reasoning as above applies to other columns with the same problems"
   ],
   "metadata": {}
  },
  {
   "cell_type": "code",
   "execution_count": 10,
   "source": [
    "df_main[df_main[\"IR CAUSADO2020\"] == 0].NOMBRE.shape[0]"
   ],
   "outputs": [
    {
     "output_type": "execute_result",
     "data": {
      "text/plain": [
       "23"
      ]
     },
     "metadata": {},
     "execution_count": 10
    }
   ],
   "metadata": {}
  },
  {
   "cell_type": "code",
   "execution_count": 11,
   "source": [
    "mean_tax = df_main['IR CAUSADO2020'].mean()\n",
    "df_main.loc[df_main['IR CAUSADO2020'] == 0, 'IR CAUSADO2020'] = mean_tax\n",
    "\n",
    "# We check they longer have 0 as tax value\n",
    "df_main[df_main['IR CAUSADO2020'] == 0].shape[0]"
   ],
   "outputs": [
    {
     "output_type": "execute_result",
     "data": {
      "text/plain": [
       "0"
      ]
     },
     "metadata": {},
     "execution_count": 11
    }
   ],
   "metadata": {}
  },
  {
   "cell_type": "markdown",
   "source": [
    "## Exporting"
   ],
   "metadata": {}
  },
  {
   "cell_type": "code",
   "execution_count": 12,
   "source": [
    "# Making the mainDF.csv dataset\n",
    "df_main.to_csv('clean_top100.csv', index=False)"
   ],
   "outputs": [],
   "metadata": {}
  },
  {
   "cell_type": "code",
   "execution_count": null,
   "source": [],
   "outputs": [],
   "metadata": {}
  }
 ],
 "metadata": {
  "orig_nbformat": 4,
  "language_info": {
   "name": "python",
   "version": "3.9.5",
   "mimetype": "text/x-python",
   "codemirror_mode": {
    "name": "ipython",
    "version": 3
   },
   "pygments_lexer": "ipython3",
   "nbconvert_exporter": "python",
   "file_extension": ".py"
  },
  "kernelspec": {
   "name": "python3",
   "display_name": "Python 3.9.5 64-bit"
  },
  "interpreter": {
   "hash": "aee8b7b246df8f9039afb4144a1f6fd8d2ca17a180786b69acc140d282b71a49"
  }
 },
 "nbformat": 4,
 "nbformat_minor": 2
}