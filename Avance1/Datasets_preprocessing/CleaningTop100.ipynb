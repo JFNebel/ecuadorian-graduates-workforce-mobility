{
    "cells": [
        {
            "cell_type": "code",
            "execution_count": 2,
            "source": [
                "import pandas as pd "
            ],
            "outputs": [],
            "metadata": {}
        },
        {
            "cell_type": "code",
            "execution_count": 3,
            "source": [
                "df = pd.read_csv('Data/top100.csv')\n",
                "df = df[[\"NOMBRE\", \"LINK\"]]\n",
                "df.head()"
            ],
            "outputs": [
                {
                    "output_type": "execute_result",
                    "data": {
                        "text/plain": [
                            "                                              NOMBRE  \\\n",
                            "0                          CORPORACION FAVORITA C.A.   \n",
                            "1                                     ECUACORRIENTE    \n",
                            "2                                   AURELIAN ECUADOR   \n",
                            "3  CONSORCIO ECUATORIANO DE TELECOMUNICACIONES  C...   \n",
                            "4                               CORPORACION QUIPORT    \n",
                            "\n",
                            "                                                LINK  \n",
                            "0  https://ec.linkedin.com/company/corporacionfav...  \n",
                            "1  https://www.linkedin.com/company/ecuacorriente...  \n",
                            "2  https://www.linkedin.com/company/lundin-gold/?...  \n",
                            "3  https://ec.linkedin.com/company/conecel?trk=co...  \n",
                            "4  https://ec.linkedin.com/company/quiport?trk=co...  "
                        ],
                        "text/html": [
                            "<div>\n",
                            "<style scoped>\n",
                            "    .dataframe tbody tr th:only-of-type {\n",
                            "        vertical-align: middle;\n",
                            "    }\n",
                            "\n",
                            "    .dataframe tbody tr th {\n",
                            "        vertical-align: top;\n",
                            "    }\n",
                            "\n",
                            "    .dataframe thead th {\n",
                            "        text-align: right;\n",
                            "    }\n",
                            "</style>\n",
                            "<table border=\"1\" class=\"dataframe\">\n",
                            "  <thead>\n",
                            "    <tr style=\"text-align: right;\">\n",
                            "      <th></th>\n",
                            "      <th>NOMBRE</th>\n",
                            "      <th>LINK</th>\n",
                            "    </tr>\n",
                            "  </thead>\n",
                            "  <tbody>\n",
                            "    <tr>\n",
                            "      <th>0</th>\n",
                            "      <td>CORPORACION FAVORITA C.A.</td>\n",
                            "      <td>https://ec.linkedin.com/company/corporacionfav...</td>\n",
                            "    </tr>\n",
                            "    <tr>\n",
                            "      <th>1</th>\n",
                            "      <td>ECUACORRIENTE</td>\n",
                            "      <td>https://www.linkedin.com/company/ecuacorriente...</td>\n",
                            "    </tr>\n",
                            "    <tr>\n",
                            "      <th>2</th>\n",
                            "      <td>AURELIAN ECUADOR</td>\n",
                            "      <td>https://www.linkedin.com/company/lundin-gold/?...</td>\n",
                            "    </tr>\n",
                            "    <tr>\n",
                            "      <th>3</th>\n",
                            "      <td>CONSORCIO ECUATORIANO DE TELECOMUNICACIONES  C...</td>\n",
                            "      <td>https://ec.linkedin.com/company/conecel?trk=co...</td>\n",
                            "    </tr>\n",
                            "    <tr>\n",
                            "      <th>4</th>\n",
                            "      <td>CORPORACION QUIPORT</td>\n",
                            "      <td>https://ec.linkedin.com/company/quiport?trk=co...</td>\n",
                            "    </tr>\n",
                            "  </tbody>\n",
                            "</table>\n",
                            "</div>"
                        ]
                    },
                    "metadata": {},
                    "execution_count": 3
                }
            ],
            "metadata": {}
        },
        {
            "cell_type": "code",
            "execution_count": 4,
            "source": [
                "# There is unwanted whitespace in the \"NOMBRE\" column let's clean it\n",
                "def clean_space(row):\n",
                "  return row.strip()\n",
                "\n",
                "df.NOMBRE = df.NOMBRE.apply(clean_space)"
            ],
            "outputs": [],
            "metadata": {}
        },
        {
            "cell_type": "code",
            "execution_count": 5,
            "source": [
                "df.head()"
            ],
            "outputs": [
                {
                    "output_type": "execute_result",
                    "data": {
                        "text/plain": [
                            "                                              NOMBRE  \\\n",
                            "0                          CORPORACION FAVORITA C.A.   \n",
                            "1                                      ECUACORRIENTE   \n",
                            "2                                   AURELIAN ECUADOR   \n",
                            "3  CONSORCIO ECUATORIANO DE TELECOMUNICACIONES  C...   \n",
                            "4                                CORPORACION QUIPORT   \n",
                            "\n",
                            "                                                LINK  \n",
                            "0  https://ec.linkedin.com/company/corporacionfav...  \n",
                            "1  https://www.linkedin.com/company/ecuacorriente...  \n",
                            "2  https://www.linkedin.com/company/lundin-gold/?...  \n",
                            "3  https://ec.linkedin.com/company/conecel?trk=co...  \n",
                            "4  https://ec.linkedin.com/company/quiport?trk=co...  "
                        ],
                        "text/html": [
                            "<div>\n",
                            "<style scoped>\n",
                            "    .dataframe tbody tr th:only-of-type {\n",
                            "        vertical-align: middle;\n",
                            "    }\n",
                            "\n",
                            "    .dataframe tbody tr th {\n",
                            "        vertical-align: top;\n",
                            "    }\n",
                            "\n",
                            "    .dataframe thead th {\n",
                            "        text-align: right;\n",
                            "    }\n",
                            "</style>\n",
                            "<table border=\"1\" class=\"dataframe\">\n",
                            "  <thead>\n",
                            "    <tr style=\"text-align: right;\">\n",
                            "      <th></th>\n",
                            "      <th>NOMBRE</th>\n",
                            "      <th>LINK</th>\n",
                            "    </tr>\n",
                            "  </thead>\n",
                            "  <tbody>\n",
                            "    <tr>\n",
                            "      <th>0</th>\n",
                            "      <td>CORPORACION FAVORITA C.A.</td>\n",
                            "      <td>https://ec.linkedin.com/company/corporacionfav...</td>\n",
                            "    </tr>\n",
                            "    <tr>\n",
                            "      <th>1</th>\n",
                            "      <td>ECUACORRIENTE</td>\n",
                            "      <td>https://www.linkedin.com/company/ecuacorriente...</td>\n",
                            "    </tr>\n",
                            "    <tr>\n",
                            "      <th>2</th>\n",
                            "      <td>AURELIAN ECUADOR</td>\n",
                            "      <td>https://www.linkedin.com/company/lundin-gold/?...</td>\n",
                            "    </tr>\n",
                            "    <tr>\n",
                            "      <th>3</th>\n",
                            "      <td>CONSORCIO ECUATORIANO DE TELECOMUNICACIONES  C...</td>\n",
                            "      <td>https://ec.linkedin.com/company/conecel?trk=co...</td>\n",
                            "    </tr>\n",
                            "    <tr>\n",
                            "      <th>4</th>\n",
                            "      <td>CORPORACION QUIPORT</td>\n",
                            "      <td>https://ec.linkedin.com/company/quiport?trk=co...</td>\n",
                            "    </tr>\n",
                            "  </tbody>\n",
                            "</table>\n",
                            "</div>"
                        ]
                    },
                    "metadata": {},
                    "execution_count": 5
                }
            ],
            "metadata": {}
        },
        {
            "cell_type": "code",
            "execution_count": 21,
            "source": [
                "# There are some companies that need a little spelling correction\n",
                "df.loc[3, \"NOMBRE\"] = 'CONSORCIO ECUATORIANO DE TELECOMUNICACIONES CONECEL' \n",
                "df.loc[21, \"NOMBRE\"] = 'EMPACADORA GRUPO GRANMAR EMPAGRAN'\n",
                "df.loc[38, \"NOMBRE\"] = 'MAQUINARIAS Y VEHICULOS MAVESA'\n",
                "df.loc[65, \"NOMBRE\"] = 'CARTONES NACIONALES I CARTOPEL'\n",
                "df.loc[70, \"NOMBRE\"] = 'FABRICA DE ENVASES FADESA'\n",
                "df.loc[73, \"NOMBRE\"] = 'AUTOMOTORES Y ANEXOS (A.Y.A.)'\n",
                "df.loc[79, \"NOMBRE\"] = 'AB INBEV HOLDING ECUADOR AB-INBEV S.'\n",
                "df.loc[79, \"NOMBRE\"]\n",
                "\n",
                "\n",
                "\n"
            ],
            "outputs": [
                {
                    "output_type": "execute_result",
                    "data": {
                        "text/plain": [
                            "'AB INBEV HOLDING ECUADOR AB-INBEV S.'"
                        ]
                    },
                    "metadata": {},
                    "execution_count": 21
                }
            ],
            "metadata": {}
        },
        {
            "cell_type": "code",
            "execution_count": 22,
            "source": [
                "df.to_csv('clean_top100.csv')"
            ],
            "outputs": [],
            "metadata": {}
        }
    ],
    "metadata": {
        "orig_nbformat": 4,
        "language_info": {
            "name": "python",
            "version": "3.9.5",
            "mimetype": "text/x-python",
            "codemirror_mode": {
                "name": "ipython",
                "version": 3
            },
            "pygments_lexer": "ipython3",
            "nbconvert_exporter": "python",
            "file_extension": ".py"
        },
        "kernelspec": {
            "name": "python3",
            "display_name": "Python 3.9.5 64-bit"
        },
        "interpreter": {
            "hash": "aee8b7b246df8f9039afb4144a1f6fd8d2ca17a180786b69acc140d282b71a49"
        }
    },
    "nbformat": 4,
    "nbformat_minor": 2
}