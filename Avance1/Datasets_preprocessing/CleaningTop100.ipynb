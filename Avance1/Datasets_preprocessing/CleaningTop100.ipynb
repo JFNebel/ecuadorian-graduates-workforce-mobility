{
    "cells": [
        {
            "cell_type": "code",
            "execution_count": 11,
            "source": [
                "import pandas as pd "
            ],
            "outputs": [],
            "metadata": {}
        },
        {
            "cell_type": "code",
            "execution_count": 12,
            "source": [
                "df = pd.read_csv('Data/top100.csv')\n",
                "df = df[[\"NOMBRE\", \"LINK\"]]\n",
                "df.head()"
            ],
            "outputs": [
                {
                    "output_type": "execute_result",
                    "data": {
                        "text/plain": [
                            "                                              NOMBRE  \\\n",
                            "0                          CORPORACION FAVORITA C.A.   \n",
                            "1                                     ECUACORRIENTE    \n",
                            "2                                   AURELIAN ECUADOR   \n",
                            "3  CONSORCIO ECUATORIANO DE TELECOMUNICACIONES  C...   \n",
                            "4                               CORPORACION QUIPORT    \n",
                            "\n",
                            "                                                LINK  \n",
                            "0  https://ec.linkedin.com/company/corporacionfav...  \n",
                            "1  https://www.linkedin.com/company/ecuacorriente...  \n",
                            "2  https://www.linkedin.com/company/lundin-gold/?...  \n",
                            "3  https://ec.linkedin.com/company/conecel?trk=co...  \n",
                            "4  https://ec.linkedin.com/company/quiport?trk=co...  "
                        ],
                        "text/html": [
                            "<div>\n",
                            "<style scoped>\n",
                            "    .dataframe tbody tr th:only-of-type {\n",
                            "        vertical-align: middle;\n",
                            "    }\n",
                            "\n",
                            "    .dataframe tbody tr th {\n",
                            "        vertical-align: top;\n",
                            "    }\n",
                            "\n",
                            "    .dataframe thead th {\n",
                            "        text-align: right;\n",
                            "    }\n",
                            "</style>\n",
                            "<table border=\"1\" class=\"dataframe\">\n",
                            "  <thead>\n",
                            "    <tr style=\"text-align: right;\">\n",
                            "      <th></th>\n",
                            "      <th>NOMBRE</th>\n",
                            "      <th>LINK</th>\n",
                            "    </tr>\n",
                            "  </thead>\n",
                            "  <tbody>\n",
                            "    <tr>\n",
                            "      <th>0</th>\n",
                            "      <td>CORPORACION FAVORITA C.A.</td>\n",
                            "      <td>https://ec.linkedin.com/company/corporacionfav...</td>\n",
                            "    </tr>\n",
                            "    <tr>\n",
                            "      <th>1</th>\n",
                            "      <td>ECUACORRIENTE</td>\n",
                            "      <td>https://www.linkedin.com/company/ecuacorriente...</td>\n",
                            "    </tr>\n",
                            "    <tr>\n",
                            "      <th>2</th>\n",
                            "      <td>AURELIAN ECUADOR</td>\n",
                            "      <td>https://www.linkedin.com/company/lundin-gold/?...</td>\n",
                            "    </tr>\n",
                            "    <tr>\n",
                            "      <th>3</th>\n",
                            "      <td>CONSORCIO ECUATORIANO DE TELECOMUNICACIONES  C...</td>\n",
                            "      <td>https://ec.linkedin.com/company/conecel?trk=co...</td>\n",
                            "    </tr>\n",
                            "    <tr>\n",
                            "      <th>4</th>\n",
                            "      <td>CORPORACION QUIPORT</td>\n",
                            "      <td>https://ec.linkedin.com/company/quiport?trk=co...</td>\n",
                            "    </tr>\n",
                            "  </tbody>\n",
                            "</table>\n",
                            "</div>"
                        ]
                    },
                    "metadata": {},
                    "execution_count": 12
                }
            ],
            "metadata": {}
        },
        {
            "cell_type": "code",
            "execution_count": 13,
            "source": [
                "# There is unwanted whitespace in the \"NOMBRE\" column let's clean it\n",
                "def clean_space(row):\n",
                "  return row.strip()\n",
                "\n",
                "df.NOMBRE = df.NOMBRE.apply(clean_space)"
            ],
            "outputs": [],
            "metadata": {}
        },
        {
            "cell_type": "code",
            "execution_count": 14,
            "source": [
                "df.head()"
            ],
            "outputs": [
                {
                    "output_type": "execute_result",
                    "data": {
                        "text/plain": [
                            "                                              NOMBRE  \\\n",
                            "0                          CORPORACION FAVORITA C.A.   \n",
                            "1                                      ECUACORRIENTE   \n",
                            "2                                   AURELIAN ECUADOR   \n",
                            "3  CONSORCIO ECUATORIANO DE TELECOMUNICACIONES  C...   \n",
                            "4                                CORPORACION QUIPORT   \n",
                            "\n",
                            "                                                LINK  \n",
                            "0  https://ec.linkedin.com/company/corporacionfav...  \n",
                            "1  https://www.linkedin.com/company/ecuacorriente...  \n",
                            "2  https://www.linkedin.com/company/lundin-gold/?...  \n",
                            "3  https://ec.linkedin.com/company/conecel?trk=co...  \n",
                            "4  https://ec.linkedin.com/company/quiport?trk=co...  "
                        ],
                        "text/html": [
                            "<div>\n",
                            "<style scoped>\n",
                            "    .dataframe tbody tr th:only-of-type {\n",
                            "        vertical-align: middle;\n",
                            "    }\n",
                            "\n",
                            "    .dataframe tbody tr th {\n",
                            "        vertical-align: top;\n",
                            "    }\n",
                            "\n",
                            "    .dataframe thead th {\n",
                            "        text-align: right;\n",
                            "    }\n",
                            "</style>\n",
                            "<table border=\"1\" class=\"dataframe\">\n",
                            "  <thead>\n",
                            "    <tr style=\"text-align: right;\">\n",
                            "      <th></th>\n",
                            "      <th>NOMBRE</th>\n",
                            "      <th>LINK</th>\n",
                            "    </tr>\n",
                            "  </thead>\n",
                            "  <tbody>\n",
                            "    <tr>\n",
                            "      <th>0</th>\n",
                            "      <td>CORPORACION FAVORITA C.A.</td>\n",
                            "      <td>https://ec.linkedin.com/company/corporacionfav...</td>\n",
                            "    </tr>\n",
                            "    <tr>\n",
                            "      <th>1</th>\n",
                            "      <td>ECUACORRIENTE</td>\n",
                            "      <td>https://www.linkedin.com/company/ecuacorriente...</td>\n",
                            "    </tr>\n",
                            "    <tr>\n",
                            "      <th>2</th>\n",
                            "      <td>AURELIAN ECUADOR</td>\n",
                            "      <td>https://www.linkedin.com/company/lundin-gold/?...</td>\n",
                            "    </tr>\n",
                            "    <tr>\n",
                            "      <th>3</th>\n",
                            "      <td>CONSORCIO ECUATORIANO DE TELECOMUNICACIONES  C...</td>\n",
                            "      <td>https://ec.linkedin.com/company/conecel?trk=co...</td>\n",
                            "    </tr>\n",
                            "    <tr>\n",
                            "      <th>4</th>\n",
                            "      <td>CORPORACION QUIPORT</td>\n",
                            "      <td>https://ec.linkedin.com/company/quiport?trk=co...</td>\n",
                            "    </tr>\n",
                            "  </tbody>\n",
                            "</table>\n",
                            "</div>"
                        ]
                    },
                    "metadata": {},
                    "execution_count": 14
                }
            ],
            "metadata": {}
        },
        {
            "cell_type": "code",
            "execution_count": 18,
            "source": [
                "df.to_csv('clean_top100.csv')"
            ],
            "outputs": [],
            "metadata": {}
        }
    ],
    "metadata": {
        "orig_nbformat": 4,
        "language_info": {
            "name": "python",
            "version": "3.9.5",
            "mimetype": "text/x-python",
            "codemirror_mode": {
                "name": "ipython",
                "version": 3
            },
            "pygments_lexer": "ipython3",
            "nbconvert_exporter": "python",
            "file_extension": ".py"
        },
        "kernelspec": {
            "name": "python3",
            "display_name": "Python 3.9.5 64-bit"
        },
        "interpreter": {
            "hash": "aee8b7b246df8f9039afb4144a1f6fd8d2ca17a180786b69acc140d282b71a49"
        }
    },
    "nbformat": 4,
    "nbformat_minor": 2
}