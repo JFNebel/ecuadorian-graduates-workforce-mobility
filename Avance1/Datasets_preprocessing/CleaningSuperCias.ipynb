{
    "cells": [
        {
            "cell_type": "code",
            "execution_count": 2,
            "source": [
                "import pandas as pd"
            ],
            "outputs": [],
            "metadata": {}
        },
        {
            "cell_type": "code",
            "execution_count": 3,
            "source": [
                "df = pd.read_csv('Data/rankingSuperCias.csv', sep=';', encoding='latin') \n",
                "df.head()"
            ],
            "outputs": [
                {
                    "output_type": "stream",
                    "name": "stderr",
                    "text": [
                        "/usr/local/lib/python3.9/site-packages/IPython/core/interactiveshell.py:3169: DtypeWarning: Columns (12) have mixed types.Specify dtype option on import or set low_memory=False.\n",
                        "  has_raised = await self.run_ast_nodes(code_ast.body, cell_name,\n"
                    ]
                },
                {
                    "output_type": "execute_result",
                    "data": {
                        "text/plain": [
                            "   2020 2019  EXPEDIENTE                                             NOMBRE  \\\n",
                            "0   1.0    1       384.0                          CORPORACION FAVORITA C.A.   \n",
                            "1   2.0    4      6796.0                                    ECUACORRIENTE     \n",
                            "2   3.0    3     93144.0                                   AURELIAN ECUADOR   \n",
                            "3   4.0    2    705547.0                                    SHAYA ECUADOR     \n",
                            "4   5.0    5     47845.0  CONSORCIO ECUATORIANO DE TELECOMUNICACIONES   ...   \n",
                            "\n",
                            "  TIPO COMPAÑIA                                ACTIVIDAD ECONÓMICA   REGION  \\\n",
                            "0       ANÓNIMA  G4711.01 - VENTA AL POR MENOR DE GRAN VARIEDAD...   SIERRA   \n",
                            "1       ANÓNIMA  B0729.01 - EXTRACCIÓN Y PREPARACIÓN DE MINERAL...  ORIENTE   \n",
                            "2       ANÓNIMA  B0899.09 - EXTRACCIÓN DE OTROS MINERALES: ASBE...  ORIENTE   \n",
                            "3       ANÓNIMA  B0910.01 - ACTIVIDADES DE SERVICIOS DE EXTRACC...   SIERRA   \n",
                            "4       ANÓNIMA  J6120.01 - OPERACIÓN, MANTENIMIENTO O FACILITA...    COSTA   \n",
                            "\n",
                            "                                           PROVINCIA  \\\n",
                            "0  PICHINCHA                                     ...   \n",
                            "1  ZAMORA CHINCHIPE                              ...   \n",
                            "2  ZAMORA CHINCHIPE                              ...   \n",
                            "3  PICHINCHA                                     ...   \n",
                            "4  GUAYAS                                        ...   \n",
                            "\n",
                            "                                              CIUDAD  TAMAÑO  \\\n",
                            "0  QUITO                                         ...  GRANDE   \n",
                            "1  EL PANGUI                                     ...  GRANDE   \n",
                            "2  LOS ENCUENTROS                                ...  GRANDE   \n",
                            "3  QUITO                                         ...  GRANDE   \n",
                            "4  GUAYAQUIL                                     ...  GRANDE   \n",
                            "\n",
                            "               SECTOR CANT. EMPLEADOS        ACTIVO2020  PATRIMONIO2020  \\\n",
                            "0  MERCADO DE VALORES       10,768.00  2,121,860,458.59  1,482,973,135.   \n",
                            "1          SOCIETARIO          966.00  1,607,423,376.00   568,986,647.0   \n",
                            "2          SOCIETARIO        1,451.00  1,599,727,165.00   605,293,529.0   \n",
                            "3          SOCIETARIO           92.00  1,354,952,445.00   786,817,297.0   \n",
                            "4          SOCIETARIO        2,844.00  1,217,718,379.00   264,709,114.0   \n",
                            "\n",
                            "  INGRESOS POR VENTA2020 UTILIDAD ANTES DE 2020 UTILIDAD DEL EJERCICIO2020  \\\n",
                            "0         2,170,602,774.          187,168,402.3             220,198,120.31   \n",
                            "1                   0.00          -1,387,158.70                       0.00   \n",
                            "2          358,792,587.0          -49,399,080.0             -49,399,080.00   \n",
                            "3          669,076,072.0          179,317,070.0             210,961,259.00   \n",
                            "4         1,066,241,897.          174,644,376.0             204,823,940.00   \n",
                            "\n",
                            "  UTILIDAD NETA2020 IR CAUSADO2020 INGRESO TOTAL2020  \n",
                            "0    147,499,234.25  41,971,212.00  2,170,602,774.93  \n",
                            "1     -2,633,855.70   1,246,697.02              0.00  \n",
                            "2    -49,399,080.00           0.00    358,823,965.00  \n",
                            "3    133,709,258.00  45,607,812.10    669,076,072.00  \n",
                            "4    106,826,750.00  67,817,626.00  1,071,561,214.00  "
                        ],
                        "text/html": [
                            "<div>\n",
                            "<style scoped>\n",
                            "    .dataframe tbody tr th:only-of-type {\n",
                            "        vertical-align: middle;\n",
                            "    }\n",
                            "\n",
                            "    .dataframe tbody tr th {\n",
                            "        vertical-align: top;\n",
                            "    }\n",
                            "\n",
                            "    .dataframe thead th {\n",
                            "        text-align: right;\n",
                            "    }\n",
                            "</style>\n",
                            "<table border=\"1\" class=\"dataframe\">\n",
                            "  <thead>\n",
                            "    <tr style=\"text-align: right;\">\n",
                            "      <th></th>\n",
                            "      <th>2020</th>\n",
                            "      <th>2019</th>\n",
                            "      <th>EXPEDIENTE</th>\n",
                            "      <th>NOMBRE</th>\n",
                            "      <th>TIPO COMPAÑIA</th>\n",
                            "      <th>ACTIVIDAD ECONÓMICA</th>\n",
                            "      <th>REGION</th>\n",
                            "      <th>PROVINCIA</th>\n",
                            "      <th>CIUDAD</th>\n",
                            "      <th>TAMAÑO</th>\n",
                            "      <th>SECTOR</th>\n",
                            "      <th>CANT. EMPLEADOS</th>\n",
                            "      <th>ACTIVO2020</th>\n",
                            "      <th>PATRIMONIO2020</th>\n",
                            "      <th>INGRESOS POR VENTA2020</th>\n",
                            "      <th>UTILIDAD ANTES DE 2020</th>\n",
                            "      <th>UTILIDAD DEL EJERCICIO2020</th>\n",
                            "      <th>UTILIDAD NETA2020</th>\n",
                            "      <th>IR CAUSADO2020</th>\n",
                            "      <th>INGRESO TOTAL2020</th>\n",
                            "    </tr>\n",
                            "  </thead>\n",
                            "  <tbody>\n",
                            "    <tr>\n",
                            "      <th>0</th>\n",
                            "      <td>1.0</td>\n",
                            "      <td>1</td>\n",
                            "      <td>384.0</td>\n",
                            "      <td>CORPORACION FAVORITA C.A.</td>\n",
                            "      <td>ANÓNIMA</td>\n",
                            "      <td>G4711.01 - VENTA AL POR MENOR DE GRAN VARIEDAD...</td>\n",
                            "      <td>SIERRA</td>\n",
                            "      <td>PICHINCHA                                     ...</td>\n",
                            "      <td>QUITO                                         ...</td>\n",
                            "      <td>GRANDE</td>\n",
                            "      <td>MERCADO DE VALORES</td>\n",
                            "      <td>10,768.00</td>\n",
                            "      <td>2,121,860,458.59</td>\n",
                            "      <td>1,482,973,135.</td>\n",
                            "      <td>2,170,602,774.</td>\n",
                            "      <td>187,168,402.3</td>\n",
                            "      <td>220,198,120.31</td>\n",
                            "      <td>147,499,234.25</td>\n",
                            "      <td>41,971,212.00</td>\n",
                            "      <td>2,170,602,774.93</td>\n",
                            "    </tr>\n",
                            "    <tr>\n",
                            "      <th>1</th>\n",
                            "      <td>2.0</td>\n",
                            "      <td>4</td>\n",
                            "      <td>6796.0</td>\n",
                            "      <td>ECUACORRIENTE</td>\n",
                            "      <td>ANÓNIMA</td>\n",
                            "      <td>B0729.01 - EXTRACCIÓN Y PREPARACIÓN DE MINERAL...</td>\n",
                            "      <td>ORIENTE</td>\n",
                            "      <td>ZAMORA CHINCHIPE                              ...</td>\n",
                            "      <td>EL PANGUI                                     ...</td>\n",
                            "      <td>GRANDE</td>\n",
                            "      <td>SOCIETARIO</td>\n",
                            "      <td>966.00</td>\n",
                            "      <td>1,607,423,376.00</td>\n",
                            "      <td>568,986,647.0</td>\n",
                            "      <td>0.00</td>\n",
                            "      <td>-1,387,158.70</td>\n",
                            "      <td>0.00</td>\n",
                            "      <td>-2,633,855.70</td>\n",
                            "      <td>1,246,697.02</td>\n",
                            "      <td>0.00</td>\n",
                            "    </tr>\n",
                            "    <tr>\n",
                            "      <th>2</th>\n",
                            "      <td>3.0</td>\n",
                            "      <td>3</td>\n",
                            "      <td>93144.0</td>\n",
                            "      <td>AURELIAN ECUADOR</td>\n",
                            "      <td>ANÓNIMA</td>\n",
                            "      <td>B0899.09 - EXTRACCIÓN DE OTROS MINERALES: ASBE...</td>\n",
                            "      <td>ORIENTE</td>\n",
                            "      <td>ZAMORA CHINCHIPE                              ...</td>\n",
                            "      <td>LOS ENCUENTROS                                ...</td>\n",
                            "      <td>GRANDE</td>\n",
                            "      <td>SOCIETARIO</td>\n",
                            "      <td>1,451.00</td>\n",
                            "      <td>1,599,727,165.00</td>\n",
                            "      <td>605,293,529.0</td>\n",
                            "      <td>358,792,587.0</td>\n",
                            "      <td>-49,399,080.0</td>\n",
                            "      <td>-49,399,080.00</td>\n",
                            "      <td>-49,399,080.00</td>\n",
                            "      <td>0.00</td>\n",
                            "      <td>358,823,965.00</td>\n",
                            "    </tr>\n",
                            "    <tr>\n",
                            "      <th>3</th>\n",
                            "      <td>4.0</td>\n",
                            "      <td>2</td>\n",
                            "      <td>705547.0</td>\n",
                            "      <td>SHAYA ECUADOR</td>\n",
                            "      <td>ANÓNIMA</td>\n",
                            "      <td>B0910.01 - ACTIVIDADES DE SERVICIOS DE EXTRACC...</td>\n",
                            "      <td>SIERRA</td>\n",
                            "      <td>PICHINCHA                                     ...</td>\n",
                            "      <td>QUITO                                         ...</td>\n",
                            "      <td>GRANDE</td>\n",
                            "      <td>SOCIETARIO</td>\n",
                            "      <td>92.00</td>\n",
                            "      <td>1,354,952,445.00</td>\n",
                            "      <td>786,817,297.0</td>\n",
                            "      <td>669,076,072.0</td>\n",
                            "      <td>179,317,070.0</td>\n",
                            "      <td>210,961,259.00</td>\n",
                            "      <td>133,709,258.00</td>\n",
                            "      <td>45,607,812.10</td>\n",
                            "      <td>669,076,072.00</td>\n",
                            "    </tr>\n",
                            "    <tr>\n",
                            "      <th>4</th>\n",
                            "      <td>5.0</td>\n",
                            "      <td>5</td>\n",
                            "      <td>47845.0</td>\n",
                            "      <td>CONSORCIO ECUATORIANO DE TELECOMUNICACIONES   ...</td>\n",
                            "      <td>ANÓNIMA</td>\n",
                            "      <td>J6120.01 - OPERACIÓN, MANTENIMIENTO O FACILITA...</td>\n",
                            "      <td>COSTA</td>\n",
                            "      <td>GUAYAS                                        ...</td>\n",
                            "      <td>GUAYAQUIL                                     ...</td>\n",
                            "      <td>GRANDE</td>\n",
                            "      <td>SOCIETARIO</td>\n",
                            "      <td>2,844.00</td>\n",
                            "      <td>1,217,718,379.00</td>\n",
                            "      <td>264,709,114.0</td>\n",
                            "      <td>1,066,241,897.</td>\n",
                            "      <td>174,644,376.0</td>\n",
                            "      <td>204,823,940.00</td>\n",
                            "      <td>106,826,750.00</td>\n",
                            "      <td>67,817,626.00</td>\n",
                            "      <td>1,071,561,214.00</td>\n",
                            "    </tr>\n",
                            "  </tbody>\n",
                            "</table>\n",
                            "</div>"
                        ]
                    },
                    "metadata": {},
                    "execution_count": 3
                }
            ],
            "metadata": {}
        },
        {
            "cell_type": "code",
            "execution_count": 4,
            "source": [
                "df.dropna(inplace=True)\n",
                "df.shape"
            ],
            "outputs": [
                {
                    "output_type": "execute_result",
                    "data": {
                        "text/plain": [
                            "(75165, 20)"
                        ]
                    },
                    "metadata": {},
                    "execution_count": 4
                }
            ],
            "metadata": {}
        },
        {
            "cell_type": "code",
            "execution_count": 5,
            "source": [
                "# There is unwanted whitespace in the \"NOMBRE\" column let's clean it\n",
                "def clean_space(row):\n",
                "  return row.strip()\n",
                "\n",
                "df.NOMBRE = df.NOMBRE.apply(clean_space)"
            ],
            "outputs": [],
            "metadata": {}
        },
        {
            "cell_type": "code",
            "execution_count": 9,
            "source": [
                "# There are some companies that are not properly written (this aims to fix that)\n",
                "df.loc[4, \"NOMBRE\"] = 'CONSORCIO ECUATORIANO DE TELECOMUNICACIONES CONECEL' \n",
                "df.loc[16, \"NOMBRE\"] = 'UNION CEMENTERA NACIONAL, UCEM' \n",
                "df.loc[26, \"NOMBRE\"] = 'EMPACADORA GRUPO GRANMAR EMPAGRAN' \n",
                "df.loc[49, \"NOMBRE\"] = 'MAQUINARIAS Y VEHICULOS MAVESA' \n",
                "df.loc[83, \"NOMBRE\"] = 'CARTONES NACIONALES I CARTOPEL'\n",
                "df.loc[88, \"NOMBRE\"] = 'FABRICA DE ENVASES FADESA'\n",
                "df.loc[92, \"NOMBRE\"] = 'AUTOMOTORES Y ANEXOS (A.Y.A.)'\n",
                "df.loc[102, \"NOMBRE\"] = 'AB INBEV HOLDING ECUADOR AB-INBEV S.'\n",
                "df.loc[102, \"NOMBRE\"]"
            ],
            "outputs": [
                {
                    "output_type": "execute_result",
                    "data": {
                        "text/plain": [
                            "'AB INBEV HOLDING ECUADOR AB-INBEV S.'"
                        ]
                    },
                    "metadata": {},
                    "execution_count": 9
                }
            ],
            "metadata": {}
        },
        {
            "cell_type": "code",
            "execution_count": 10,
            "source": [
                "df.to_csv('clean_supercias.csv')"
            ],
            "outputs": [],
            "metadata": {}
        }
    ],
    "metadata": {
        "orig_nbformat": 4,
        "language_info": {
            "name": "python",
            "version": "3.9.5",
            "mimetype": "text/x-python",
            "codemirror_mode": {
                "name": "ipython",
                "version": 3
            },
            "pygments_lexer": "ipython3",
            "nbconvert_exporter": "python",
            "file_extension": ".py"
        },
        "kernelspec": {
            "name": "python3",
            "display_name": "Python 3.9.5 64-bit"
        },
        "interpreter": {
            "hash": "aee8b7b246df8f9039afb4144a1f6fd8d2ca17a180786b69acc140d282b71a49"
        }
    },
    "nbformat": 4,
    "nbformat_minor": 2
}