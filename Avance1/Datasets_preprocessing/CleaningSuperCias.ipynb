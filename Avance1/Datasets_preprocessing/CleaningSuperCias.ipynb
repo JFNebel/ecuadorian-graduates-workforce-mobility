{
    "cells": [
        {
            "cell_type": "code",
            "execution_count": 1,
            "source": [
                "import pandas as pd"
            ],
            "outputs": [],
            "metadata": {}
        },
        {
            "cell_type": "code",
            "execution_count": 2,
            "source": [
                "df = pd.read_csv('Data/rankingSuperCias.csv', sep=';', encoding='latin') \n",
                "df.head()"
            ],
            "outputs": [
                {
                    "output_type": "stream",
                    "name": "stderr",
                    "text": [
                        "/usr/local/lib/python3.9/site-packages/IPython/core/interactiveshell.py:3169: DtypeWarning: Columns (12) have mixed types.Specify dtype option on import or set low_memory=False.\n",
                        "  has_raised = await self.run_ast_nodes(code_ast.body, cell_name,\n"
                    ]
                },
                {
                    "output_type": "execute_result",
                    "data": {
                        "text/plain": [
                            "   2020 2019  EXPEDIENTE                                             NOMBRE  \\\n",
                            "0   1.0    1       384.0                          CORPORACION FAVORITA C.A.   \n",
                            "1   2.0    4      6796.0                                    ECUACORRIENTE     \n",
                            "2   3.0    3     93144.0                                   AURELIAN ECUADOR   \n",
                            "3   4.0    2    705547.0                                    SHAYA ECUADOR     \n",
                            "4   5.0    5     47845.0  CONSORCIO ECUATORIANO DE TELECOMUNICACIONES   ...   \n",
                            "\n",
                            "  TIPO COMPAÑIA                                ACTIVIDAD ECONÓMICA   REGION  \\\n",
                            "0       ANÓNIMA  G4711.01 - VENTA AL POR MENOR DE GRAN VARIEDAD...   SIERRA   \n",
                            "1       ANÓNIMA  B0729.01 - EXTRACCIÓN Y PREPARACIÓN DE MINERAL...  ORIENTE   \n",
                            "2       ANÓNIMA  B0899.09 - EXTRACCIÓN DE OTROS MINERALES: ASBE...  ORIENTE   \n",
                            "3       ANÓNIMA  B0910.01 - ACTIVIDADES DE SERVICIOS DE EXTRACC...   SIERRA   \n",
                            "4       ANÓNIMA  J6120.01 - OPERACIÓN, MANTENIMIENTO O FACILITA...    COSTA   \n",
                            "\n",
                            "                                           PROVINCIA  \\\n",
                            "0  PICHINCHA                                     ...   \n",
                            "1  ZAMORA CHINCHIPE                              ...   \n",
                            "2  ZAMORA CHINCHIPE                              ...   \n",
                            "3  PICHINCHA                                     ...   \n",
                            "4  GUAYAS                                        ...   \n",
                            "\n",
                            "                                              CIUDAD  TAMAÑO  \\\n",
                            "0  QUITO                                         ...  GRANDE   \n",
                            "1  EL PANGUI                                     ...  GRANDE   \n",
                            "2  LOS ENCUENTROS                                ...  GRANDE   \n",
                            "3  QUITO                                         ...  GRANDE   \n",
                            "4  GUAYAQUIL                                     ...  GRANDE   \n",
                            "\n",
                            "               SECTOR CANT. EMPLEADOS        ACTIVO2020  PATRIMONIO2020  \\\n",
                            "0  MERCADO DE VALORES       10,768.00  2,121,860,458.59  1,482,973,135.   \n",
                            "1          SOCIETARIO          966.00  1,607,423,376.00   568,986,647.0   \n",
                            "2          SOCIETARIO        1,451.00  1,599,727,165.00   605,293,529.0   \n",
                            "3          SOCIETARIO           92.00  1,354,952,445.00   786,817,297.0   \n",
                            "4          SOCIETARIO        2,844.00  1,217,718,379.00   264,709,114.0   \n",
                            "\n",
                            "  INGRESOS POR VENTA2020 UTILIDAD ANTES DE 2020 UTILIDAD DEL EJERCICIO2020  \\\n",
                            "0         2,170,602,774.          187,168,402.3             220,198,120.31   \n",
                            "1                   0.00          -1,387,158.70                       0.00   \n",
                            "2          358,792,587.0          -49,399,080.0             -49,399,080.00   \n",
                            "3          669,076,072.0          179,317,070.0             210,961,259.00   \n",
                            "4         1,066,241,897.          174,644,376.0             204,823,940.00   \n",
                            "\n",
                            "  UTILIDAD NETA2020 IR CAUSADO2020 INGRESO TOTAL2020  \n",
                            "0    147,499,234.25  41,971,212.00  2,170,602,774.93  \n",
                            "1     -2,633,855.70   1,246,697.02              0.00  \n",
                            "2    -49,399,080.00           0.00    358,823,965.00  \n",
                            "3    133,709,258.00  45,607,812.10    669,076,072.00  \n",
                            "4    106,826,750.00  67,817,626.00  1,071,561,214.00  "
                        ],
                        "text/html": [
                            "<div>\n",
                            "<style scoped>\n",
                            "    .dataframe tbody tr th:only-of-type {\n",
                            "        vertical-align: middle;\n",
                            "    }\n",
                            "\n",
                            "    .dataframe tbody tr th {\n",
                            "        vertical-align: top;\n",
                            "    }\n",
                            "\n",
                            "    .dataframe thead th {\n",
                            "        text-align: right;\n",
                            "    }\n",
                            "</style>\n",
                            "<table border=\"1\" class=\"dataframe\">\n",
                            "  <thead>\n",
                            "    <tr style=\"text-align: right;\">\n",
                            "      <th></th>\n",
                            "      <th>2020</th>\n",
                            "      <th>2019</th>\n",
                            "      <th>EXPEDIENTE</th>\n",
                            "      <th>NOMBRE</th>\n",
                            "      <th>TIPO COMPAÑIA</th>\n",
                            "      <th>ACTIVIDAD ECONÓMICA</th>\n",
                            "      <th>REGION</th>\n",
                            "      <th>PROVINCIA</th>\n",
                            "      <th>CIUDAD</th>\n",
                            "      <th>TAMAÑO</th>\n",
                            "      <th>SECTOR</th>\n",
                            "      <th>CANT. EMPLEADOS</th>\n",
                            "      <th>ACTIVO2020</th>\n",
                            "      <th>PATRIMONIO2020</th>\n",
                            "      <th>INGRESOS POR VENTA2020</th>\n",
                            "      <th>UTILIDAD ANTES DE 2020</th>\n",
                            "      <th>UTILIDAD DEL EJERCICIO2020</th>\n",
                            "      <th>UTILIDAD NETA2020</th>\n",
                            "      <th>IR CAUSADO2020</th>\n",
                            "      <th>INGRESO TOTAL2020</th>\n",
                            "    </tr>\n",
                            "  </thead>\n",
                            "  <tbody>\n",
                            "    <tr>\n",
                            "      <th>0</th>\n",
                            "      <td>1.0</td>\n",
                            "      <td>1</td>\n",
                            "      <td>384.0</td>\n",
                            "      <td>CORPORACION FAVORITA C.A.</td>\n",
                            "      <td>ANÓNIMA</td>\n",
                            "      <td>G4711.01 - VENTA AL POR MENOR DE GRAN VARIEDAD...</td>\n",
                            "      <td>SIERRA</td>\n",
                            "      <td>PICHINCHA                                     ...</td>\n",
                            "      <td>QUITO                                         ...</td>\n",
                            "      <td>GRANDE</td>\n",
                            "      <td>MERCADO DE VALORES</td>\n",
                            "      <td>10,768.00</td>\n",
                            "      <td>2,121,860,458.59</td>\n",
                            "      <td>1,482,973,135.</td>\n",
                            "      <td>2,170,602,774.</td>\n",
                            "      <td>187,168,402.3</td>\n",
                            "      <td>220,198,120.31</td>\n",
                            "      <td>147,499,234.25</td>\n",
                            "      <td>41,971,212.00</td>\n",
                            "      <td>2,170,602,774.93</td>\n",
                            "    </tr>\n",
                            "    <tr>\n",
                            "      <th>1</th>\n",
                            "      <td>2.0</td>\n",
                            "      <td>4</td>\n",
                            "      <td>6796.0</td>\n",
                            "      <td>ECUACORRIENTE</td>\n",
                            "      <td>ANÓNIMA</td>\n",
                            "      <td>B0729.01 - EXTRACCIÓN Y PREPARACIÓN DE MINERAL...</td>\n",
                            "      <td>ORIENTE</td>\n",
                            "      <td>ZAMORA CHINCHIPE                              ...</td>\n",
                            "      <td>EL PANGUI                                     ...</td>\n",
                            "      <td>GRANDE</td>\n",
                            "      <td>SOCIETARIO</td>\n",
                            "      <td>966.00</td>\n",
                            "      <td>1,607,423,376.00</td>\n",
                            "      <td>568,986,647.0</td>\n",
                            "      <td>0.00</td>\n",
                            "      <td>-1,387,158.70</td>\n",
                            "      <td>0.00</td>\n",
                            "      <td>-2,633,855.70</td>\n",
                            "      <td>1,246,697.02</td>\n",
                            "      <td>0.00</td>\n",
                            "    </tr>\n",
                            "    <tr>\n",
                            "      <th>2</th>\n",
                            "      <td>3.0</td>\n",
                            "      <td>3</td>\n",
                            "      <td>93144.0</td>\n",
                            "      <td>AURELIAN ECUADOR</td>\n",
                            "      <td>ANÓNIMA</td>\n",
                            "      <td>B0899.09 - EXTRACCIÓN DE OTROS MINERALES: ASBE...</td>\n",
                            "      <td>ORIENTE</td>\n",
                            "      <td>ZAMORA CHINCHIPE                              ...</td>\n",
                            "      <td>LOS ENCUENTROS                                ...</td>\n",
                            "      <td>GRANDE</td>\n",
                            "      <td>SOCIETARIO</td>\n",
                            "      <td>1,451.00</td>\n",
                            "      <td>1,599,727,165.00</td>\n",
                            "      <td>605,293,529.0</td>\n",
                            "      <td>358,792,587.0</td>\n",
                            "      <td>-49,399,080.0</td>\n",
                            "      <td>-49,399,080.00</td>\n",
                            "      <td>-49,399,080.00</td>\n",
                            "      <td>0.00</td>\n",
                            "      <td>358,823,965.00</td>\n",
                            "    </tr>\n",
                            "    <tr>\n",
                            "      <th>3</th>\n",
                            "      <td>4.0</td>\n",
                            "      <td>2</td>\n",
                            "      <td>705547.0</td>\n",
                            "      <td>SHAYA ECUADOR</td>\n",
                            "      <td>ANÓNIMA</td>\n",
                            "      <td>B0910.01 - ACTIVIDADES DE SERVICIOS DE EXTRACC...</td>\n",
                            "      <td>SIERRA</td>\n",
                            "      <td>PICHINCHA                                     ...</td>\n",
                            "      <td>QUITO                                         ...</td>\n",
                            "      <td>GRANDE</td>\n",
                            "      <td>SOCIETARIO</td>\n",
                            "      <td>92.00</td>\n",
                            "      <td>1,354,952,445.00</td>\n",
                            "      <td>786,817,297.0</td>\n",
                            "      <td>669,076,072.0</td>\n",
                            "      <td>179,317,070.0</td>\n",
                            "      <td>210,961,259.00</td>\n",
                            "      <td>133,709,258.00</td>\n",
                            "      <td>45,607,812.10</td>\n",
                            "      <td>669,076,072.00</td>\n",
                            "    </tr>\n",
                            "    <tr>\n",
                            "      <th>4</th>\n",
                            "      <td>5.0</td>\n",
                            "      <td>5</td>\n",
                            "      <td>47845.0</td>\n",
                            "      <td>CONSORCIO ECUATORIANO DE TELECOMUNICACIONES   ...</td>\n",
                            "      <td>ANÓNIMA</td>\n",
                            "      <td>J6120.01 - OPERACIÓN, MANTENIMIENTO O FACILITA...</td>\n",
                            "      <td>COSTA</td>\n",
                            "      <td>GUAYAS                                        ...</td>\n",
                            "      <td>GUAYAQUIL                                     ...</td>\n",
                            "      <td>GRANDE</td>\n",
                            "      <td>SOCIETARIO</td>\n",
                            "      <td>2,844.00</td>\n",
                            "      <td>1,217,718,379.00</td>\n",
                            "      <td>264,709,114.0</td>\n",
                            "      <td>1,066,241,897.</td>\n",
                            "      <td>174,644,376.0</td>\n",
                            "      <td>204,823,940.00</td>\n",
                            "      <td>106,826,750.00</td>\n",
                            "      <td>67,817,626.00</td>\n",
                            "      <td>1,071,561,214.00</td>\n",
                            "    </tr>\n",
                            "  </tbody>\n",
                            "</table>\n",
                            "</div>"
                        ]
                    },
                    "metadata": {},
                    "execution_count": 2
                }
            ],
            "metadata": {}
        },
        {
            "cell_type": "code",
            "execution_count": 15,
            "source": [
                "df.info()"
            ],
            "outputs": [
                {
                    "output_type": "stream",
                    "name": "stdout",
                    "text": [
                        "<class 'pandas.core.frame.DataFrame'>\n",
                        "Int64Index: 75165 entries, 0 to 79043\n",
                        "Data columns (total 20 columns):\n",
                        " #   Column                      Non-Null Count  Dtype  \n",
                        "---  ------                      --------------  -----  \n",
                        " 0   2020                        75165 non-null  float64\n",
                        " 1   2019                        75165 non-null  object \n",
                        " 2   EXPEDIENTE                  75165 non-null  float64\n",
                        " 3   NOMBRE                      75165 non-null  object \n",
                        " 4   TIPO COMPAÑIA               75165 non-null  object \n",
                        " 5   ACTIVIDAD ECONÓMICA         75165 non-null  object \n",
                        " 6   REGION                      75165 non-null  object \n",
                        " 7   PROVINCIA                   75165 non-null  object \n",
                        " 8   CIUDAD                      75165 non-null  object \n",
                        " 9   TAMAÑO                      75165 non-null  object \n",
                        " 10  SECTOR                      75165 non-null  object \n",
                        " 11  CANT. EMPLEADOS             75164 non-null  float64\n",
                        " 12  ACTIVO2020                  75165 non-null  object \n",
                        " 13  PATRIMONIO2020              75165 non-null  object \n",
                        " 14  INGRESOS POR VENTA2020      75165 non-null  object \n",
                        " 15  UTILIDAD ANTES DE 2020      75165 non-null  object \n",
                        " 16  UTILIDAD DEL EJERCICIO2020  75165 non-null  object \n",
                        " 17  UTILIDAD NETA2020           75165 non-null  object \n",
                        " 18  IR CAUSADO2020              75165 non-null  object \n",
                        " 19  INGRESO TOTAL2020           75165 non-null  object \n",
                        "dtypes: float64(3), object(17)\n",
                        "memory usage: 14.1+ MB\n"
                    ]
                }
            ],
            "metadata": {}
        },
        {
            "cell_type": "code",
            "execution_count": 3,
            "source": [
                "df.dropna(inplace=True)\n",
                "df.shape"
            ],
            "outputs": [
                {
                    "output_type": "execute_result",
                    "data": {
                        "text/plain": [
                            "(75165, 20)"
                        ]
                    },
                    "metadata": {},
                    "execution_count": 3
                }
            ],
            "metadata": {}
        },
        {
            "cell_type": "code",
            "execution_count": 4,
            "source": [
                "# There is unwanted whitespace in the \"NOMBRE\" column let's clean it\n",
                "def clean_space(row):\n",
                "  return row.strip()\n",
                "\n",
                "df.NOMBRE = df.NOMBRE.apply(clean_space)"
            ],
            "outputs": [],
            "metadata": {}
        },
        {
            "cell_type": "code",
            "execution_count": 5,
            "source": [
                "# There are some companies that are not properly written (this aims to fix that)\n",
                "df.loc[4, \"NOMBRE\"] = 'CONSORCIO ECUATORIANO DE TELECOMUNICACIONES CONECEL' \n",
                "df.loc[16, \"NOMBRE\"] = 'UNION CEMENTERA NACIONAL, UCEM' \n",
                "df.loc[26, \"NOMBRE\"] = 'EMPACADORA GRUPO GRANMAR EMPAGRAN' \n",
                "df.loc[49, \"NOMBRE\"] = 'MAQUINARIAS Y VEHICULOS MAVESA' \n",
                "df.loc[83, \"NOMBRE\"] = 'CARTONES NACIONALES I CARTOPEL'\n",
                "df.loc[88, \"NOMBRE\"] = 'FABRICA DE ENVASES FADESA'\n",
                "df.loc[92, \"NOMBRE\"] = 'AUTOMOTORES Y ANEXOS (A.Y.A.)'\n",
                "df.loc[102, \"NOMBRE\"] = 'AB INBEV HOLDING ECUADOR AB-INBEV S.'\n",
                "df.loc[102, \"NOMBRE\"]"
            ],
            "outputs": [
                {
                    "output_type": "execute_result",
                    "data": {
                        "text/plain": [
                            "'AB INBEV HOLDING ECUADOR AB-INBEV S.'"
                        ]
                    },
                    "metadata": {},
                    "execution_count": 5
                }
            ],
            "metadata": {}
        },
        {
            "cell_type": "code",
            "execution_count": 6,
            "source": [
                "# Cleaning sector column\n",
                "def clean_sector(row):\n",
                "  if(row == \"MERCADO DE \"):\n",
                "    return \"MERCADO DE VALORES\"\n",
                "  return row\n",
                "\n",
                "df[\"SECTOR\"] = df[\"SECTOR\"].apply(clean_sector)\n",
                "df.SECTOR.unique()"
            ],
            "outputs": [
                {
                    "output_type": "execute_result",
                    "data": {
                        "text/plain": [
                            "array(['MERCADO DE VALORES', 'SOCIETARIO'], dtype=object)"
                        ]
                    },
                    "metadata": {},
                    "execution_count": 6
                }
            ],
            "metadata": {}
        },
        {
            "cell_type": "code",
            "execution_count": 7,
            "source": [
                "# Cleaning tamaño column\n",
                "def clean_tamano(row):\n",
                "  if(row == \"MICROEMPRES\"):\n",
                "    return \"MICROEMPRESA\"\n",
                "  return row\n",
                "\n",
                "df[\"TAMAÑO\"] = df[\"TAMAÑO\"].apply(clean_tamano)\n",
                "df.TAMAÑO.unique()"
            ],
            "outputs": [
                {
                    "output_type": "execute_result",
                    "data": {
                        "text/plain": [
                            "array(['GRANDE', 'MEDIANA', 'MICROEMPRESA', 'PEQUEÑA'], dtype=object)"
                        ]
                    },
                    "metadata": {},
                    "execution_count": 7
                }
            ],
            "metadata": {}
        },
        {
            "cell_type": "code",
            "execution_count": 8,
            "source": [
                "# Writing the correct amount of employees for \"El Rosado\" (also gathered from SuperCias)\n",
                "df.loc[8, \"CANT. EMPLEADOS\"] = 7334\n",
                "df.loc[8]\n"
            ],
            "outputs": [
                {
                    "output_type": "execute_result",
                    "data": {
                        "text/plain": [
                            "2020                                                                        8.0\n",
                            "2019                                                                          9\n",
                            "EXPEDIENTE                                                               2913.0\n",
                            "NOMBRE                                                    CORPORACION EL ROSADO\n",
                            "TIPO COMPAÑIA                                                           ANÓNIMA\n",
                            "ACTIVIDAD ECONÓMICA           G4711.01 - VENTA AL POR MENOR DE GRAN VARIEDAD...\n",
                            "REGION                                                                    COSTA\n",
                            "PROVINCIA                     GUAYAS                                        ...\n",
                            "CIUDAD                        GUAYAQUIL                                     ...\n",
                            "TAMAÑO                                                                   GRANDE\n",
                            "SECTOR                                                       MERCADO DE VALORES\n",
                            "CANT. EMPLEADOS                                                            7334\n",
                            "ACTIVO2020                                                       754,024,531.84\n",
                            "PATRIMONIO2020                                                    283,755,098.2\n",
                            "INGRESOS POR VENTA2020                                           1,249,085,559.\n",
                            "UTILIDAD ANTES DE 2020                                            39,246,084.65\n",
                            "UTILIDAD DEL EJERCICIO2020                                        46,171,864.30\n",
                            "UTILIDAD NETA2020                                                 27,622,934.68\n",
                            "IR CAUSADO2020                                                    11,328,623.69\n",
                            "INGRESO TOTAL2020                                              1,265,116,683.48\n",
                            "Name: 8, dtype: object"
                        ]
                    },
                    "metadata": {},
                    "execution_count": 8
                }
            ],
            "metadata": {}
        },
        {
            "cell_type": "code",
            "execution_count": 12,
            "source": [
                "# Type conversion\n",
                "df['CANT. EMPLEADOS'] = df['CANT. EMPLEADOS'].str.replace(',','')\n",
                "df['CANT. EMPLEADOS'] = pd.to_numeric(df['CANT. EMPLEADOS'])"
            ],
            "outputs": [
                {
                    "output_type": "error",
                    "ename": "AttributeError",
                    "evalue": "Can only use .str accessor with string values!",
                    "traceback": [
                        "\u001b[0;31m---------------------------------------------------------------------------\u001b[0m",
                        "\u001b[0;31mAttributeError\u001b[0m                            Traceback (most recent call last)",
                        "\u001b[0;32m<ipython-input-12-acd3464b8380>\u001b[0m in \u001b[0;36m<module>\u001b[0;34m\u001b[0m\n\u001b[1;32m      1\u001b[0m \u001b[0;31m# Type conversion\u001b[0m\u001b[0;34m\u001b[0m\u001b[0;34m\u001b[0m\u001b[0;34m\u001b[0m\u001b[0m\n\u001b[0;32m----> 2\u001b[0;31m \u001b[0mdf\u001b[0m\u001b[0;34m[\u001b[0m\u001b[0;34m'CANT. EMPLEADOS'\u001b[0m\u001b[0;34m]\u001b[0m \u001b[0;34m=\u001b[0m \u001b[0mdf\u001b[0m\u001b[0;34m[\u001b[0m\u001b[0;34m'CANT. EMPLEADOS'\u001b[0m\u001b[0;34m]\u001b[0m\u001b[0;34m.\u001b[0m\u001b[0mstr\u001b[0m\u001b[0;34m.\u001b[0m\u001b[0mreplace\u001b[0m\u001b[0;34m(\u001b[0m\u001b[0;34m','\u001b[0m\u001b[0;34m,\u001b[0m\u001b[0;34m''\u001b[0m\u001b[0;34m)\u001b[0m\u001b[0;34m\u001b[0m\u001b[0;34m\u001b[0m\u001b[0m\n\u001b[0m\u001b[1;32m      3\u001b[0m \u001b[0mdf\u001b[0m\u001b[0;34m[\u001b[0m\u001b[0;34m'CANT. EMPLEADOS'\u001b[0m\u001b[0;34m]\u001b[0m \u001b[0;34m=\u001b[0m \u001b[0mpd\u001b[0m\u001b[0;34m.\u001b[0m\u001b[0mto_numeric\u001b[0m\u001b[0;34m(\u001b[0m\u001b[0mdf\u001b[0m\u001b[0;34m[\u001b[0m\u001b[0;34m'CANT. EMPLEADOS'\u001b[0m\u001b[0;34m]\u001b[0m\u001b[0;34m)\u001b[0m\u001b[0;34m\u001b[0m\u001b[0;34m\u001b[0m\u001b[0m\n",
                        "\u001b[0;32m/usr/local/lib/python3.9/site-packages/pandas/core/generic.py\u001b[0m in \u001b[0;36m__getattr__\u001b[0;34m(self, name)\u001b[0m\n\u001b[1;32m   5459\u001b[0m             \u001b[0;32mor\u001b[0m \u001b[0mname\u001b[0m \u001b[0;32min\u001b[0m \u001b[0mself\u001b[0m\u001b[0;34m.\u001b[0m\u001b[0m_accessors\u001b[0m\u001b[0;34m\u001b[0m\u001b[0;34m\u001b[0m\u001b[0m\n\u001b[1;32m   5460\u001b[0m         ):\n\u001b[0;32m-> 5461\u001b[0;31m             \u001b[0;32mreturn\u001b[0m \u001b[0mobject\u001b[0m\u001b[0;34m.\u001b[0m\u001b[0m__getattribute__\u001b[0m\u001b[0;34m(\u001b[0m\u001b[0mself\u001b[0m\u001b[0;34m,\u001b[0m \u001b[0mname\u001b[0m\u001b[0;34m)\u001b[0m\u001b[0;34m\u001b[0m\u001b[0;34m\u001b[0m\u001b[0m\n\u001b[0m\u001b[1;32m   5462\u001b[0m         \u001b[0;32melse\u001b[0m\u001b[0;34m:\u001b[0m\u001b[0;34m\u001b[0m\u001b[0;34m\u001b[0m\u001b[0m\n\u001b[1;32m   5463\u001b[0m             \u001b[0;32mif\u001b[0m \u001b[0mself\u001b[0m\u001b[0;34m.\u001b[0m\u001b[0m_info_axis\u001b[0m\u001b[0;34m.\u001b[0m\u001b[0m_can_hold_identifiers_and_holds_name\u001b[0m\u001b[0;34m(\u001b[0m\u001b[0mname\u001b[0m\u001b[0;34m)\u001b[0m\u001b[0;34m:\u001b[0m\u001b[0;34m\u001b[0m\u001b[0;34m\u001b[0m\u001b[0m\n",
                        "\u001b[0;32m/usr/local/lib/python3.9/site-packages/pandas/core/accessor.py\u001b[0m in \u001b[0;36m__get__\u001b[0;34m(self, obj, cls)\u001b[0m\n\u001b[1;32m    178\u001b[0m             \u001b[0;31m# we're accessing the attribute of the class, i.e., Dataset.geo\u001b[0m\u001b[0;34m\u001b[0m\u001b[0;34m\u001b[0m\u001b[0;34m\u001b[0m\u001b[0m\n\u001b[1;32m    179\u001b[0m             \u001b[0;32mreturn\u001b[0m \u001b[0mself\u001b[0m\u001b[0;34m.\u001b[0m\u001b[0m_accessor\u001b[0m\u001b[0;34m\u001b[0m\u001b[0;34m\u001b[0m\u001b[0m\n\u001b[0;32m--> 180\u001b[0;31m         \u001b[0maccessor_obj\u001b[0m \u001b[0;34m=\u001b[0m \u001b[0mself\u001b[0m\u001b[0;34m.\u001b[0m\u001b[0m_accessor\u001b[0m\u001b[0;34m(\u001b[0m\u001b[0mobj\u001b[0m\u001b[0;34m)\u001b[0m\u001b[0;34m\u001b[0m\u001b[0;34m\u001b[0m\u001b[0m\n\u001b[0m\u001b[1;32m    181\u001b[0m         \u001b[0;31m# Replace the property with the accessor object. Inspired by:\u001b[0m\u001b[0;34m\u001b[0m\u001b[0;34m\u001b[0m\u001b[0;34m\u001b[0m\u001b[0m\n\u001b[1;32m    182\u001b[0m         \u001b[0;31m# https://www.pydanny.com/cached-property.html\u001b[0m\u001b[0;34m\u001b[0m\u001b[0;34m\u001b[0m\u001b[0;34m\u001b[0m\u001b[0m\n",
                        "\u001b[0;32m/usr/local/lib/python3.9/site-packages/pandas/core/strings/accessor.py\u001b[0m in \u001b[0;36m__init__\u001b[0;34m(self, data)\u001b[0m\n\u001b[1;32m    152\u001b[0m         \u001b[0;32mfrom\u001b[0m \u001b[0mpandas\u001b[0m\u001b[0;34m.\u001b[0m\u001b[0mcore\u001b[0m\u001b[0;34m.\u001b[0m\u001b[0marrays\u001b[0m\u001b[0;34m.\u001b[0m\u001b[0mstring_\u001b[0m \u001b[0;32mimport\u001b[0m \u001b[0mStringDtype\u001b[0m\u001b[0;34m\u001b[0m\u001b[0;34m\u001b[0m\u001b[0m\n\u001b[1;32m    153\u001b[0m \u001b[0;34m\u001b[0m\u001b[0m\n\u001b[0;32m--> 154\u001b[0;31m         \u001b[0mself\u001b[0m\u001b[0;34m.\u001b[0m\u001b[0m_inferred_dtype\u001b[0m \u001b[0;34m=\u001b[0m \u001b[0mself\u001b[0m\u001b[0;34m.\u001b[0m\u001b[0m_validate\u001b[0m\u001b[0;34m(\u001b[0m\u001b[0mdata\u001b[0m\u001b[0;34m)\u001b[0m\u001b[0;34m\u001b[0m\u001b[0;34m\u001b[0m\u001b[0m\n\u001b[0m\u001b[1;32m    155\u001b[0m         \u001b[0mself\u001b[0m\u001b[0;34m.\u001b[0m\u001b[0m_is_categorical\u001b[0m \u001b[0;34m=\u001b[0m \u001b[0mis_categorical_dtype\u001b[0m\u001b[0;34m(\u001b[0m\u001b[0mdata\u001b[0m\u001b[0;34m.\u001b[0m\u001b[0mdtype\u001b[0m\u001b[0;34m)\u001b[0m\u001b[0;34m\u001b[0m\u001b[0;34m\u001b[0m\u001b[0m\n\u001b[1;32m    156\u001b[0m         \u001b[0mself\u001b[0m\u001b[0;34m.\u001b[0m\u001b[0m_is_string\u001b[0m \u001b[0;34m=\u001b[0m \u001b[0misinstance\u001b[0m\u001b[0;34m(\u001b[0m\u001b[0mdata\u001b[0m\u001b[0;34m.\u001b[0m\u001b[0mdtype\u001b[0m\u001b[0;34m,\u001b[0m \u001b[0mStringDtype\u001b[0m\u001b[0;34m)\u001b[0m\u001b[0;34m\u001b[0m\u001b[0;34m\u001b[0m\u001b[0m\n",
                        "\u001b[0;32m/usr/local/lib/python3.9/site-packages/pandas/core/strings/accessor.py\u001b[0m in \u001b[0;36m_validate\u001b[0;34m(data)\u001b[0m\n\u001b[1;32m    215\u001b[0m \u001b[0;34m\u001b[0m\u001b[0m\n\u001b[1;32m    216\u001b[0m         \u001b[0;32mif\u001b[0m \u001b[0minferred_dtype\u001b[0m \u001b[0;32mnot\u001b[0m \u001b[0;32min\u001b[0m \u001b[0mallowed_types\u001b[0m\u001b[0;34m:\u001b[0m\u001b[0;34m\u001b[0m\u001b[0;34m\u001b[0m\u001b[0m\n\u001b[0;32m--> 217\u001b[0;31m             \u001b[0;32mraise\u001b[0m \u001b[0mAttributeError\u001b[0m\u001b[0;34m(\u001b[0m\u001b[0;34m\"Can only use .str accessor with string values!\"\u001b[0m\u001b[0;34m)\u001b[0m\u001b[0;34m\u001b[0m\u001b[0;34m\u001b[0m\u001b[0m\n\u001b[0m\u001b[1;32m    218\u001b[0m         \u001b[0;32mreturn\u001b[0m \u001b[0minferred_dtype\u001b[0m\u001b[0;34m\u001b[0m\u001b[0;34m\u001b[0m\u001b[0m\n\u001b[1;32m    219\u001b[0m \u001b[0;34m\u001b[0m\u001b[0m\n",
                        "\u001b[0;31mAttributeError\u001b[0m: Can only use .str accessor with string values!"
                    ]
                }
            ],
            "metadata": {}
        },
        {
            "cell_type": "code",
            "execution_count": 14,
            "source": [
                "df.to_csv('clean_supercias.csv', index=False)"
            ],
            "outputs": [],
            "metadata": {}
        },
        {
            "cell_type": "code",
            "execution_count": null,
            "source": [],
            "outputs": [],
            "metadata": {}
        }
    ],
    "metadata": {
        "orig_nbformat": 4,
        "language_info": {
            "name": "python",
            "version": "3.9.5",
            "mimetype": "text/x-python",
            "codemirror_mode": {
                "name": "ipython",
                "version": 3
            },
            "pygments_lexer": "ipython3",
            "nbconvert_exporter": "python",
            "file_extension": ".py"
        },
        "kernelspec": {
            "name": "python3",
            "display_name": "Python 3.9.5 64-bit"
        },
        "interpreter": {
            "hash": "aee8b7b246df8f9039afb4144a1f6fd8d2ca17a180786b69acc140d282b71a49"
        }
    },
    "nbformat": 4,
    "nbformat_minor": 2
}