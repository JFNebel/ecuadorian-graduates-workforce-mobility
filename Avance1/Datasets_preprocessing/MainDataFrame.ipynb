{
 "cells": [
  {
   "cell_type": "code",
   "execution_count": 1,
   "source": [
    "import pandas as pd"
   ],
   "outputs": [],
   "metadata": {}
  },
  {
   "cell_type": "code",
   "execution_count": 2,
   "source": [
    "df_super = pd.read_csv('../Datasets/clean_supercias.csv')\n",
    "df_top = pd.read_csv('../Datasets/clean_top100.csv')"
   ],
   "outputs": [
    {
     "output_type": "stream",
     "name": "stderr",
     "text": [
      "/usr/local/lib/python3.9/site-packages/IPython/core/interactiveshell.py:3169: DtypeWarning: Columns (13) have mixed types.Specify dtype option on import or set low_memory=False.\n",
      "  has_raised = await self.run_ast_nodes(code_ast.body, cell_name,\n"
     ]
    }
   ],
   "metadata": {}
  },
  {
   "cell_type": "code",
   "execution_count": 3,
   "source": [
    "del df_top['Unnamed: 0']\n",
    "df_top.head()"
   ],
   "outputs": [
    {
     "output_type": "execute_result",
     "data": {
      "text/plain": [
       "                                              NOMBRE  \\\n",
       "0                          CORPORACION FAVORITA C.A.   \n",
       "1                                      ECUACORRIENTE   \n",
       "2                                   AURELIAN ECUADOR   \n",
       "3  CONSORCIO ECUATORIANO DE TELECOMUNICACIONES  C...   \n",
       "4                                CORPORACION QUIPORT   \n",
       "\n",
       "                                                LINK  \n",
       "0  https://ec.linkedin.com/company/corporacionfav...  \n",
       "1  https://www.linkedin.com/company/ecuacorriente...  \n",
       "2  https://www.linkedin.com/company/lundin-gold/?...  \n",
       "3  https://ec.linkedin.com/company/conecel?trk=co...  \n",
       "4  https://ec.linkedin.com/company/quiport?trk=co...  "
      ],
      "text/html": [
       "<div>\n",
       "<style scoped>\n",
       "    .dataframe tbody tr th:only-of-type {\n",
       "        vertical-align: middle;\n",
       "    }\n",
       "\n",
       "    .dataframe tbody tr th {\n",
       "        vertical-align: top;\n",
       "    }\n",
       "\n",
       "    .dataframe thead th {\n",
       "        text-align: right;\n",
       "    }\n",
       "</style>\n",
       "<table border=\"1\" class=\"dataframe\">\n",
       "  <thead>\n",
       "    <tr style=\"text-align: right;\">\n",
       "      <th></th>\n",
       "      <th>NOMBRE</th>\n",
       "      <th>LINK</th>\n",
       "    </tr>\n",
       "  </thead>\n",
       "  <tbody>\n",
       "    <tr>\n",
       "      <th>0</th>\n",
       "      <td>CORPORACION FAVORITA C.A.</td>\n",
       "      <td>https://ec.linkedin.com/company/corporacionfav...</td>\n",
       "    </tr>\n",
       "    <tr>\n",
       "      <th>1</th>\n",
       "      <td>ECUACORRIENTE</td>\n",
       "      <td>https://www.linkedin.com/company/ecuacorriente...</td>\n",
       "    </tr>\n",
       "    <tr>\n",
       "      <th>2</th>\n",
       "      <td>AURELIAN ECUADOR</td>\n",
       "      <td>https://www.linkedin.com/company/lundin-gold/?...</td>\n",
       "    </tr>\n",
       "    <tr>\n",
       "      <th>3</th>\n",
       "      <td>CONSORCIO ECUATORIANO DE TELECOMUNICACIONES  C...</td>\n",
       "      <td>https://ec.linkedin.com/company/conecel?trk=co...</td>\n",
       "    </tr>\n",
       "    <tr>\n",
       "      <th>4</th>\n",
       "      <td>CORPORACION QUIPORT</td>\n",
       "      <td>https://ec.linkedin.com/company/quiport?trk=co...</td>\n",
       "    </tr>\n",
       "  </tbody>\n",
       "</table>\n",
       "</div>"
      ]
     },
     "metadata": {},
     "execution_count": 3
    }
   ],
   "metadata": {}
  },
  {
   "cell_type": "code",
   "execution_count": 8,
   "source": [
    "# Use subset of SuperCias dataset to merge with top_100 dataframe\n",
    "df_super = df_super.head(345)\n",
    "df_main= df_top.merge(df_super, on='NOMBRE')\n",
    "df_main.shape\n"
   ],
   "outputs": [
    {
     "output_type": "execute_result",
     "data": {
      "text/plain": [
       "(100, 24)"
      ]
     },
     "metadata": {},
     "execution_count": 8
    }
   ],
   "metadata": {}
  },
  {
   "cell_type": "code",
   "execution_count": null,
   "source": [],
   "outputs": [],
   "metadata": {}
  }
 ],
 "metadata": {
  "orig_nbformat": 4,
  "language_info": {
   "name": "python",
   "version": "3.9.5",
   "mimetype": "text/x-python",
   "codemirror_mode": {
    "name": "ipython",
    "version": 3
   },
   "pygments_lexer": "ipython3",
   "nbconvert_exporter": "python",
   "file_extension": ".py"
  },
  "kernelspec": {
   "name": "python3",
   "display_name": "Python 3.9.5 64-bit"
  },
  "interpreter": {
   "hash": "aee8b7b246df8f9039afb4144a1f6fd8d2ca17a180786b69acc140d282b71a49"
  }
 },
 "nbformat": 4,
 "nbformat_minor": 2
}