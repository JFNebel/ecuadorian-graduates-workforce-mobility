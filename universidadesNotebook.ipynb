{
 "cells": [
  {
   "cell_type": "code",
   "execution_count": 1,
   "metadata": {},
   "outputs": [],
   "source": [
    "from sklearn.cluster import KMeans\n",
    "import matplotlib.pyplot as plt\n",
    "import pandas as pd\n",
    "%matplotlib inline"
   ]
  },
  {
   "cell_type": "code",
   "execution_count": 2,
   "metadata": {},
   "outputs": [],
   "source": [
    "df1 = pd.read_csv('universidades.csv', sep=';', encoding='latin')"
   ]
  },
  {
   "cell_type": "code",
   "execution_count": 3,
   "metadata": {},
   "outputs": [
    {
     "data": {
      "text/html": [
       "<div>\n",
       "<style scoped>\n",
       "    .dataframe tbody tr th:only-of-type {\n",
       "        vertical-align: middle;\n",
       "    }\n",
       "\n",
       "    .dataframe tbody tr th {\n",
       "        vertical-align: top;\n",
       "    }\n",
       "\n",
       "    .dataframe thead th {\n",
       "        text-align: right;\n",
       "    }\n",
       "</style>\n",
       "<table border=\"1\" class=\"dataframe\">\n",
       "  <thead>\n",
       "    <tr style=\"text-align: right;\">\n",
       "      <th></th>\n",
       "      <th>DENOMINACION</th>\n",
       "      <th>FINANCIAMIENTO</th>\n",
       "      <th>CATEGORIA</th>\n",
       "      <th>NOMBRE AUTORIDAD</th>\n",
       "      <th>TELEFONO INSTITUCIONAL</th>\n",
       "      <th>CORREO ELECTRONICO</th>\n",
       "      <th>PROVINCIA</th>\n",
       "      <th>CIUDAD</th>\n",
       "      <th>DIRECCION</th>\n",
       "    </tr>\n",
       "  </thead>\n",
       "  <tbody>\n",
       "    <tr>\n",
       "      <th>0</th>\n",
       "      <td>ESCUELA POLITECNICA\\nNACIONAL</td>\n",
       "      <td>PUBLICA</td>\n",
       "      <td>A</td>\n",
       "      <td>JAIME ALFONSO\\nCALDERON SEGOVIA</td>\n",
       "      <td>2507144 / 2508959</td>\n",
       "      <td>correo.general@epn.edu.ec</td>\n",
       "      <td>PICHINCHA</td>\n",
       "      <td>QUITO</td>\n",
       "      <td>LADRON DE GUEVARA E-11-\\n253</td>\n",
       "    </tr>\n",
       "    <tr>\n",
       "      <th>1</th>\n",
       "      <td>ESCUELA SUPERIOR POLITECNICA DE CHIMBORAZO</td>\n",
       "      <td>PUBLICA</td>\n",
       "      <td>B</td>\n",
       "      <td>ROSA ELENA PINOS NEIRA</td>\n",
       "      <td>03 2 998-200</td>\n",
       "      <td>info@live.espoch.edu.ec</td>\n",
       "      <td>CHIMBORAZO</td>\n",
       "      <td>RIOBAMBA</td>\n",
       "      <td>PANAMERICANA SUR KM1 1/2 RIOBAMBA ECUADOR</td>\n",
       "    </tr>\n",
       "    <tr>\n",
       "      <th>2</th>\n",
       "      <td>ESCUELA SUPERIOR POLITECNICA AGROPECUARIA DE M...</td>\n",
       "      <td>PUBLICA</td>\n",
       "      <td>C</td>\n",
       "      <td>QUINCHE LEONARDO FELIX LOPEZ</td>\n",
       "      <td>05-2 685-134/156 , ext.\\n114, 115;  5-2685048/035</td>\n",
       "      <td>espam@espam.edu.ec</td>\n",
       "      <td>MANABI</td>\n",
       "      <td>CALCETA</td>\n",
       "      <td>10 DE AGOSTO 82 Y GRANDA CENTENO</td>\n",
       "    </tr>\n",
       "    <tr>\n",
       "      <th>3</th>\n",
       "      <td>UNIVERSIDAD CENTRAL DEL ECUADOR</td>\n",
       "      <td>PUBLICA</td>\n",
       "      <td>B</td>\n",
       "      <td>FERNANDO EFRAIN SEMPERTEGUI ONTANEDA</td>\n",
       "      <td>2226080 /2521-590</td>\n",
       "      <td>rectorado@ucee.edu.ec; fercempt@viociencias.ce...</td>\n",
       "      <td>PICHINCHA</td>\n",
       "      <td>QUITO</td>\n",
       "      <td>CIUDADELA UNIVERSITARIA, AV. AMERICA Y PEREZ G...</td>\n",
       "    </tr>\n",
       "    <tr>\n",
       "      <th>4</th>\n",
       "      <td>UNIVERSIDAD DE GUAYAQUIL</td>\n",
       "      <td>PUBLICA</td>\n",
       "      <td>D</td>\n",
       "      <td>HECTOR ROBERTO CASSIS MARTINEZ</td>\n",
       "      <td>04 2281559, 2296580</td>\n",
       "      <td>ugrector@uge.edu.ec</td>\n",
       "      <td>GUAYAS</td>\n",
       "      <td>GUAYAQUIL</td>\n",
       "      <td>CIUDADELA UNIVERSITARIA, SALVADOR ALLENDE Y MA...</td>\n",
       "    </tr>\n",
       "  </tbody>\n",
       "</table>\n",
       "</div>"
      ],
      "text/plain": [
       "                                        DENOMINACION FINANCIAMIENTO CATEGORIA  \\\n",
       "0                      ESCUELA POLITECNICA\\nNACIONAL        PUBLICA         A   \n",
       "1         ESCUELA SUPERIOR POLITECNICA DE CHIMBORAZO        PUBLICA         B   \n",
       "2  ESCUELA SUPERIOR POLITECNICA AGROPECUARIA DE M...        PUBLICA         C   \n",
       "3                    UNIVERSIDAD CENTRAL DEL ECUADOR        PUBLICA         B   \n",
       "4                           UNIVERSIDAD DE GUAYAQUIL        PUBLICA         D   \n",
       "\n",
       "                       NOMBRE AUTORIDAD  \\\n",
       "0       JAIME ALFONSO\\nCALDERON SEGOVIA   \n",
       "1                ROSA ELENA PINOS NEIRA   \n",
       "2          QUINCHE LEONARDO FELIX LOPEZ   \n",
       "3  FERNANDO EFRAIN SEMPERTEGUI ONTANEDA   \n",
       "4        HECTOR ROBERTO CASSIS MARTINEZ   \n",
       "\n",
       "                              TELEFONO INSTITUCIONAL  \\\n",
       "0                                  2507144 / 2508959   \n",
       "1                                       03 2 998-200   \n",
       "2  05-2 685-134/156 , ext.\\n114, 115;  5-2685048/035   \n",
       "3                                  2226080 /2521-590   \n",
       "4                                04 2281559, 2296580   \n",
       "\n",
       "                                  CORREO ELECTRONICO   PROVINCIA     CIUDAD  \\\n",
       "0                          correo.general@epn.edu.ec   PICHINCHA      QUITO   \n",
       "1                            info@live.espoch.edu.ec  CHIMBORAZO   RIOBAMBA   \n",
       "2                                 espam@espam.edu.ec      MANABI    CALCETA   \n",
       "3  rectorado@ucee.edu.ec; fercempt@viociencias.ce...   PICHINCHA      QUITO   \n",
       "4                                ugrector@uge.edu.ec      GUAYAS  GUAYAQUIL   \n",
       "\n",
       "                                           DIRECCION  \n",
       "0                       LADRON DE GUEVARA E-11-\\n253  \n",
       "1          PANAMERICANA SUR KM1 1/2 RIOBAMBA ECUADOR  \n",
       "2                   10 DE AGOSTO 82 Y GRANDA CENTENO  \n",
       "3  CIUDADELA UNIVERSITARIA, AV. AMERICA Y PEREZ G...  \n",
       "4  CIUDADELA UNIVERSITARIA, SALVADOR ALLENDE Y MA...  "
      ]
     },
     "execution_count": 3,
     "metadata": {},
     "output_type": "execute_result"
    }
   ],
   "source": [
    "df1.head()"
   ]
  },
  {
   "cell_type": "code",
   "execution_count": 4,
   "metadata": {},
   "outputs": [
    {
     "name": "stdout",
     "output_type": "stream",
     "text": [
      "<class 'pandas.core.frame.DataFrame'>\n",
      "RangeIndex: 59 entries, 0 to 58\n",
      "Data columns (total 9 columns):\n",
      " #   Column                  Non-Null Count  Dtype \n",
      "---  ------                  --------------  ----- \n",
      " 0   DENOMINACION            59 non-null     object\n",
      " 1   FINANCIAMIENTO          59 non-null     object\n",
      " 2   CATEGORIA               55 non-null     object\n",
      " 3   NOMBRE AUTORIDAD        59 non-null     object\n",
      " 4   TELEFONO INSTITUCIONAL  59 non-null     object\n",
      " 5   CORREO ELECTRONICO      58 non-null     object\n",
      " 6   PROVINCIA               59 non-null     object\n",
      " 7   CIUDAD                  59 non-null     object\n",
      " 8   DIRECCION               59 non-null     object\n",
      "dtypes: object(9)\n",
      "memory usage: 4.3+ KB\n"
     ]
    }
   ],
   "source": [
    "df1.info()"
   ]
  },
  {
   "cell_type": "code",
   "execution_count": 41,
   "metadata": {},
   "outputs": [
    {
     "data": {
      "text/plain": [
       "18"
      ]
     },
     "execution_count": 41,
     "metadata": {},
     "output_type": "execute_result"
    }
   ],
   "source": [
    "df1['PROVINCIA'].unique().size"
   ]
  },
  {
   "cell_type": "code",
   "execution_count": 45,
   "metadata": {},
   "outputs": [
    {
     "data": {
      "text/plain": [
       "array(['QUITO', 'RIOBAMBA', 'CALCETA', 'GUAYAQUIL', 'CUENCA', 'LOJA',\n",
       "       'PORTOVIEJO', 'AMBATO', 'MACHALA', 'ESMERALDAS', 'BABAHOYO',\n",
       "       'QUEVEDO', 'IBARRA', 'MANTA', 'GUARANDA', 'LATACUNGA',\n",
       "       'LA LIBERTAD', 'MILAGRO', 'JIPIJAPA', 'SAMBOROND ON', 'PUYO',\n",
       "       'OTAVALO', 'TULCAN', 'SANGOLQUI', 'TENA', 'URCUQUI', 'AZOGUES'],\n",
       "      dtype=object)"
      ]
     },
     "execution_count": 45,
     "metadata": {},
     "output_type": "execute_result"
    }
   ],
   "source": [
    "df1['CIUDAD'].unique()"
   ]
  },
  {
   "cell_type": "code",
   "execution_count": 22,
   "metadata": {},
   "outputs": [
    {
     "data": {
      "text/html": [
       "<div>\n",
       "<style scoped>\n",
       "    .dataframe tbody tr th:only-of-type {\n",
       "        vertical-align: middle;\n",
       "    }\n",
       "\n",
       "    .dataframe tbody tr th {\n",
       "        vertical-align: top;\n",
       "    }\n",
       "\n",
       "    .dataframe thead th {\n",
       "        text-align: right;\n",
       "    }\n",
       "</style>\n",
       "<table border=\"1\" class=\"dataframe\">\n",
       "  <thead>\n",
       "    <tr style=\"text-align: right;\">\n",
       "      <th></th>\n",
       "      <th>DENOMINACION</th>\n",
       "    </tr>\n",
       "    <tr>\n",
       "      <th>CATEGORIA</th>\n",
       "      <th></th>\n",
       "    </tr>\n",
       "  </thead>\n",
       "  <tbody>\n",
       "    <tr>\n",
       "      <th>A</th>\n",
       "      <td>6</td>\n",
       "    </tr>\n",
       "    <tr>\n",
       "      <th>B</th>\n",
       "      <td>23</td>\n",
       "    </tr>\n",
       "    <tr>\n",
       "      <th>C</th>\n",
       "      <td>18</td>\n",
       "    </tr>\n",
       "    <tr>\n",
       "      <th>D</th>\n",
       "      <td>8</td>\n",
       "    </tr>\n",
       "  </tbody>\n",
       "</table>\n",
       "</div>"
      ],
      "text/plain": [
       "           DENOMINACION\n",
       "CATEGORIA              \n",
       "A                     6\n",
       "B                    23\n",
       "C                    18\n",
       "D                     8"
      ]
     },
     "execution_count": 22,
     "metadata": {},
     "output_type": "execute_result"
    }
   ],
   "source": [
    "df = df1[['DENOMINACION','CATEGORIA']].groupby(by=[\"CATEGORIA\"]).count()\n",
    "df"
   ]
  },
  {
   "cell_type": "code",
   "execution_count": null,
   "metadata": {},
   "outputs": [],
   "source": []
  }
 ],
 "metadata": {
  "kernelspec": {
   "display_name": "Python 3",
   "language": "python",
   "name": "python3"
  },
  "language_info": {
   "codemirror_mode": {
    "name": "ipython",
    "version": 3
   },
   "file_extension": ".py",
   "mimetype": "text/x-python",
   "name": "python",
   "nbconvert_exporter": "python",
   "pygments_lexer": "ipython3",
   "version": "3.8.5"
  }
 },
 "nbformat": 4,
 "nbformat_minor": 4
}
