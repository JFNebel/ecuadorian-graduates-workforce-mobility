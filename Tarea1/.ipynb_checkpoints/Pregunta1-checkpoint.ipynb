{
 "cells": [
  {
   "cell_type": "markdown",
   "metadata": {},
   "source": [
    "# Tratamiento de dataframe de empresas"
   ]
  },
  {
   "cell_type": "markdown",
   "metadata": {},
   "source": [
    "## Business Questions"
   ]
  },
  {
   "cell_type": "markdown",
   "metadata": {},
   "source": [
    "1. ¿How is the quantity of employees distributed across the different ecuadorian regions? ¿How to/should we factor in company size? "
   ]
  },
  {
   "cell_type": "markdown",
   "metadata": {},
   "source": [
    "## Setup"
   ]
  },
  {
   "cell_type": "code",
   "execution_count": 2,
   "metadata": {},
   "outputs": [],
   "source": [
    "import pandas as pd\n",
    "import matplotlib.pyplot as plt\n",
    "import seaborn as sns"
   ]
  },
  {
   "cell_type": "code",
   "execution_count": 3,
   "metadata": {},
   "outputs": [
    {
     "name": "stderr",
     "output_type": "stream",
     "text": [
      "/usr/local/lib/python3.9/site-packages/IPython/core/interactiveshell.py:3169: DtypeWarning: Columns (12) have mixed types.Specify dtype option on import or set low_memory=False.\n",
      "  has_raised = await self.run_ast_nodes(code_ast.body, cell_name,\n"
     ]
    },
    {
     "data": {
      "text/html": [
       "<div>\n",
       "<style scoped>\n",
       "    .dataframe tbody tr th:only-of-type {\n",
       "        vertical-align: middle;\n",
       "    }\n",
       "\n",
       "    .dataframe tbody tr th {\n",
       "        vertical-align: top;\n",
       "    }\n",
       "\n",
       "    .dataframe thead th {\n",
       "        text-align: right;\n",
       "    }\n",
       "</style>\n",
       "<table border=\"1\" class=\"dataframe\">\n",
       "  <thead>\n",
       "    <tr style=\"text-align: right;\">\n",
       "      <th></th>\n",
       "      <th>2020</th>\n",
       "      <th>2019</th>\n",
       "      <th>EXPEDIENTE</th>\n",
       "      <th>NOMBRE</th>\n",
       "      <th>TIPO COMPAÑIA</th>\n",
       "      <th>ACTIVIDAD ECONÓMICA</th>\n",
       "      <th>REGION</th>\n",
       "      <th>PROVINCIA</th>\n",
       "      <th>CIUDAD</th>\n",
       "      <th>TAMAÑO</th>\n",
       "      <th>SECTOR</th>\n",
       "      <th>CANT. EMPLEADOS</th>\n",
       "      <th>ACTIVO2020</th>\n",
       "      <th>PATRIMONIO2020</th>\n",
       "      <th>INGRESOS POR VENTA2020</th>\n",
       "      <th>UTILIDAD ANTES DE 2020</th>\n",
       "      <th>UTILIDAD DEL EJERCICIO2020</th>\n",
       "      <th>UTILIDAD NETA2020</th>\n",
       "      <th>IR CAUSADO2020</th>\n",
       "      <th>INGRESO TOTAL2020</th>\n",
       "    </tr>\n",
       "  </thead>\n",
       "  <tbody>\n",
       "    <tr>\n",
       "      <th>0</th>\n",
       "      <td>1.0</td>\n",
       "      <td>1</td>\n",
       "      <td>384.0</td>\n",
       "      <td>CORPORACION FAVORITA C.A.</td>\n",
       "      <td>ANÓNIMA</td>\n",
       "      <td>G4711.01 - VENTA AL POR MENOR DE GRAN VARIEDAD...</td>\n",
       "      <td>SIERRA</td>\n",
       "      <td>PICHINCHA                                     ...</td>\n",
       "      <td>QUITO                                         ...</td>\n",
       "      <td>GRANDE</td>\n",
       "      <td>MERCADO DE VALORES</td>\n",
       "      <td>10,768.00</td>\n",
       "      <td>2,121,860,458.59</td>\n",
       "      <td>1,482,973,135.</td>\n",
       "      <td>2,170,602,774.</td>\n",
       "      <td>187,168,402.3</td>\n",
       "      <td>220,198,120.31</td>\n",
       "      <td>147,499,234.25</td>\n",
       "      <td>41,971,212.00</td>\n",
       "      <td>2,170,602,774.93</td>\n",
       "    </tr>\n",
       "    <tr>\n",
       "      <th>1</th>\n",
       "      <td>2.0</td>\n",
       "      <td>4</td>\n",
       "      <td>6796.0</td>\n",
       "      <td>ECUACORRIENTE S.A.</td>\n",
       "      <td>ANÓNIMA</td>\n",
       "      <td>B0729.01 - EXTRACCIÓN Y PREPARACIÓN DE MINERAL...</td>\n",
       "      <td>ORIENTE</td>\n",
       "      <td>ZAMORA CHINCHIPE                              ...</td>\n",
       "      <td>EL PANGUI                                     ...</td>\n",
       "      <td>GRANDE</td>\n",
       "      <td>SOCIETARIO</td>\n",
       "      <td>966.00</td>\n",
       "      <td>1,607,423,376.00</td>\n",
       "      <td>568,986,647.0</td>\n",
       "      <td>0.00</td>\n",
       "      <td>-1,387,158.70</td>\n",
       "      <td>0.00</td>\n",
       "      <td>-2,633,855.70</td>\n",
       "      <td>1,246,697.02</td>\n",
       "      <td>0.00</td>\n",
       "    </tr>\n",
       "    <tr>\n",
       "      <th>2</th>\n",
       "      <td>3.0</td>\n",
       "      <td>3</td>\n",
       "      <td>93144.0</td>\n",
       "      <td>AURELIAN ECUADOR S.A</td>\n",
       "      <td>ANÓNIMA</td>\n",
       "      <td>B0899.09 - EXTRACCIÓN DE OTROS MINERALES: ASBE...</td>\n",
       "      <td>ORIENTE</td>\n",
       "      <td>ZAMORA CHINCHIPE                              ...</td>\n",
       "      <td>LOS ENCUENTROS                                ...</td>\n",
       "      <td>GRANDE</td>\n",
       "      <td>SOCIETARIO</td>\n",
       "      <td>1,451.00</td>\n",
       "      <td>1,599,727,165.00</td>\n",
       "      <td>605,293,529.0</td>\n",
       "      <td>358,792,587.0</td>\n",
       "      <td>-49,399,080.0</td>\n",
       "      <td>-49,399,080.00</td>\n",
       "      <td>-49,399,080.00</td>\n",
       "      <td>0.00</td>\n",
       "      <td>358,823,965.00</td>\n",
       "    </tr>\n",
       "    <tr>\n",
       "      <th>3</th>\n",
       "      <td>4.0</td>\n",
       "      <td>2</td>\n",
       "      <td>705547.0</td>\n",
       "      <td>SHAYA ECUADOR S.A.</td>\n",
       "      <td>ANÓNIMA</td>\n",
       "      <td>B0910.01 - ACTIVIDADES DE SERVICIOS DE EXTRACC...</td>\n",
       "      <td>SIERRA</td>\n",
       "      <td>PICHINCHA                                     ...</td>\n",
       "      <td>QUITO                                         ...</td>\n",
       "      <td>GRANDE</td>\n",
       "      <td>SOCIETARIO</td>\n",
       "      <td>92.00</td>\n",
       "      <td>1,354,952,445.00</td>\n",
       "      <td>786,817,297.0</td>\n",
       "      <td>669,076,072.0</td>\n",
       "      <td>179,317,070.0</td>\n",
       "      <td>210,961,259.00</td>\n",
       "      <td>133,709,258.00</td>\n",
       "      <td>45,607,812.10</td>\n",
       "      <td>669,076,072.00</td>\n",
       "    </tr>\n",
       "    <tr>\n",
       "      <th>4</th>\n",
       "      <td>5.0</td>\n",
       "      <td>5</td>\n",
       "      <td>47845.0</td>\n",
       "      <td>CONSORCIO ECUATORIANO DE TELECOMUNICACIONES S....</td>\n",
       "      <td>ANÓNIMA</td>\n",
       "      <td>J6120.01 - OPERACIÓN, MANTENIMIENTO O FACILITA...</td>\n",
       "      <td>COSTA</td>\n",
       "      <td>GUAYAS                                        ...</td>\n",
       "      <td>GUAYAQUIL                                     ...</td>\n",
       "      <td>GRANDE</td>\n",
       "      <td>SOCIETARIO</td>\n",
       "      <td>2,844.00</td>\n",
       "      <td>1,217,718,379.00</td>\n",
       "      <td>264,709,114.0</td>\n",
       "      <td>1,066,241,897.</td>\n",
       "      <td>174,644,376.0</td>\n",
       "      <td>204,823,940.00</td>\n",
       "      <td>106,826,750.00</td>\n",
       "      <td>67,817,626.00</td>\n",
       "      <td>1,071,561,214.00</td>\n",
       "    </tr>\n",
       "  </tbody>\n",
       "</table>\n",
       "</div>"
      ],
      "text/plain": [
       "   2020 2019  EXPEDIENTE                                             NOMBRE  \\\n",
       "0   1.0    1       384.0                          CORPORACION FAVORITA C.A.   \n",
       "1   2.0    4      6796.0                                 ECUACORRIENTE S.A.   \n",
       "2   3.0    3     93144.0                               AURELIAN ECUADOR S.A   \n",
       "3   4.0    2    705547.0                                 SHAYA ECUADOR S.A.   \n",
       "4   5.0    5     47845.0  CONSORCIO ECUATORIANO DE TELECOMUNICACIONES S....   \n",
       "\n",
       "  TIPO COMPAÑIA                                ACTIVIDAD ECONÓMICA   REGION  \\\n",
       "0       ANÓNIMA  G4711.01 - VENTA AL POR MENOR DE GRAN VARIEDAD...   SIERRA   \n",
       "1       ANÓNIMA  B0729.01 - EXTRACCIÓN Y PREPARACIÓN DE MINERAL...  ORIENTE   \n",
       "2       ANÓNIMA  B0899.09 - EXTRACCIÓN DE OTROS MINERALES: ASBE...  ORIENTE   \n",
       "3       ANÓNIMA  B0910.01 - ACTIVIDADES DE SERVICIOS DE EXTRACC...   SIERRA   \n",
       "4       ANÓNIMA  J6120.01 - OPERACIÓN, MANTENIMIENTO O FACILITA...    COSTA   \n",
       "\n",
       "                                           PROVINCIA  \\\n",
       "0  PICHINCHA                                     ...   \n",
       "1  ZAMORA CHINCHIPE                              ...   \n",
       "2  ZAMORA CHINCHIPE                              ...   \n",
       "3  PICHINCHA                                     ...   \n",
       "4  GUAYAS                                        ...   \n",
       "\n",
       "                                              CIUDAD  TAMAÑO  \\\n",
       "0  QUITO                                         ...  GRANDE   \n",
       "1  EL PANGUI                                     ...  GRANDE   \n",
       "2  LOS ENCUENTROS                                ...  GRANDE   \n",
       "3  QUITO                                         ...  GRANDE   \n",
       "4  GUAYAQUIL                                     ...  GRANDE   \n",
       "\n",
       "               SECTOR CANT. EMPLEADOS        ACTIVO2020  PATRIMONIO2020  \\\n",
       "0  MERCADO DE VALORES       10,768.00  2,121,860,458.59  1,482,973,135.   \n",
       "1          SOCIETARIO          966.00  1,607,423,376.00   568,986,647.0   \n",
       "2          SOCIETARIO        1,451.00  1,599,727,165.00   605,293,529.0   \n",
       "3          SOCIETARIO           92.00  1,354,952,445.00   786,817,297.0   \n",
       "4          SOCIETARIO        2,844.00  1,217,718,379.00   264,709,114.0   \n",
       "\n",
       "  INGRESOS POR VENTA2020 UTILIDAD ANTES DE 2020 UTILIDAD DEL EJERCICIO2020  \\\n",
       "0         2,170,602,774.          187,168,402.3             220,198,120.31   \n",
       "1                   0.00          -1,387,158.70                       0.00   \n",
       "2          358,792,587.0          -49,399,080.0             -49,399,080.00   \n",
       "3          669,076,072.0          179,317,070.0             210,961,259.00   \n",
       "4         1,066,241,897.          174,644,376.0             204,823,940.00   \n",
       "\n",
       "  UTILIDAD NETA2020 IR CAUSADO2020 INGRESO TOTAL2020  \n",
       "0    147,499,234.25  41,971,212.00  2,170,602,774.93  \n",
       "1     -2,633,855.70   1,246,697.02              0.00  \n",
       "2    -49,399,080.00           0.00    358,823,965.00  \n",
       "3    133,709,258.00  45,607,812.10    669,076,072.00  \n",
       "4    106,826,750.00  67,817,626.00  1,071,561,214.00  "
      ]
     },
     "execution_count": 3,
     "metadata": {},
     "output_type": "execute_result"
    }
   ],
   "source": [
    "df = pd.read_csv('Data/rankingCVSV.csv',sep=';', encoding='latin')\n",
    "df.head()"
   ]
  },
  {
   "cell_type": "markdown",
   "metadata": {},
   "source": [
    "## Cleaning"
   ]
  },
  {
   "cell_type": "markdown",
   "metadata": {},
   "source": [
    "### Eliminating NaN"
   ]
  },
  {
   "cell_type": "code",
   "execution_count": 4,
   "metadata": {},
   "outputs": [
    {
     "data": {
      "text/html": [
       "<div>\n",
       "<style scoped>\n",
       "    .dataframe tbody tr th:only-of-type {\n",
       "        vertical-align: middle;\n",
       "    }\n",
       "\n",
       "    .dataframe tbody tr th {\n",
       "        vertical-align: top;\n",
       "    }\n",
       "\n",
       "    .dataframe thead th {\n",
       "        text-align: right;\n",
       "    }\n",
       "</style>\n",
       "<table border=\"1\" class=\"dataframe\">\n",
       "  <thead>\n",
       "    <tr style=\"text-align: right;\">\n",
       "      <th></th>\n",
       "      <th>2020</th>\n",
       "      <th>2019</th>\n",
       "      <th>EXPEDIENTE</th>\n",
       "      <th>NOMBRE</th>\n",
       "      <th>TIPO COMPAÑIA</th>\n",
       "      <th>ACTIVIDAD ECONÓMICA</th>\n",
       "      <th>REGION</th>\n",
       "      <th>PROVINCIA</th>\n",
       "      <th>CIUDAD</th>\n",
       "      <th>TAMAÑO</th>\n",
       "      <th>SECTOR</th>\n",
       "      <th>CANT. EMPLEADOS</th>\n",
       "      <th>ACTIVO2020</th>\n",
       "      <th>PATRIMONIO2020</th>\n",
       "      <th>INGRESOS POR VENTA2020</th>\n",
       "      <th>UTILIDAD ANTES DE 2020</th>\n",
       "      <th>UTILIDAD DEL EJERCICIO2020</th>\n",
       "      <th>UTILIDAD NETA2020</th>\n",
       "      <th>IR CAUSADO2020</th>\n",
       "      <th>INGRESO TOTAL2020</th>\n",
       "    </tr>\n",
       "  </thead>\n",
       "  <tbody>\n",
       "    <tr>\n",
       "      <th>0</th>\n",
       "      <td>1.0</td>\n",
       "      <td>1</td>\n",
       "      <td>384.0</td>\n",
       "      <td>CORPORACION FAVORITA C.A.</td>\n",
       "      <td>ANÓNIMA</td>\n",
       "      <td>G4711.01 - VENTA AL POR MENOR DE GRAN VARIEDAD...</td>\n",
       "      <td>SIERRA</td>\n",
       "      <td>PICHINCHA                                     ...</td>\n",
       "      <td>QUITO                                         ...</td>\n",
       "      <td>GRANDE</td>\n",
       "      <td>MERCADO DE VALORES</td>\n",
       "      <td>10,768.00</td>\n",
       "      <td>2,121,860,458.59</td>\n",
       "      <td>1,482,973,135.</td>\n",
       "      <td>2,170,602,774.</td>\n",
       "      <td>187,168,402.3</td>\n",
       "      <td>220,198,120.31</td>\n",
       "      <td>147,499,234.25</td>\n",
       "      <td>41,971,212.00</td>\n",
       "      <td>2,170,602,774.93</td>\n",
       "    </tr>\n",
       "  </tbody>\n",
       "</table>\n",
       "</div>"
      ],
      "text/plain": [
       "   2020 2019  EXPEDIENTE                     NOMBRE TIPO COMPAÑIA  \\\n",
       "0   1.0    1       384.0  CORPORACION FAVORITA C.A.       ANÓNIMA   \n",
       "\n",
       "                                 ACTIVIDAD ECONÓMICA  REGION  \\\n",
       "0  G4711.01 - VENTA AL POR MENOR DE GRAN VARIEDAD...  SIERRA   \n",
       "\n",
       "                                           PROVINCIA  \\\n",
       "0  PICHINCHA                                     ...   \n",
       "\n",
       "                                              CIUDAD  TAMAÑO  \\\n",
       "0  QUITO                                         ...  GRANDE   \n",
       "\n",
       "               SECTOR CANT. EMPLEADOS        ACTIVO2020  PATRIMONIO2020  \\\n",
       "0  MERCADO DE VALORES       10,768.00  2,121,860,458.59  1,482,973,135.   \n",
       "\n",
       "  INGRESOS POR VENTA2020 UTILIDAD ANTES DE 2020 UTILIDAD DEL EJERCICIO2020  \\\n",
       "0         2,170,602,774.          187,168,402.3             220,198,120.31   \n",
       "\n",
       "  UTILIDAD NETA2020 IR CAUSADO2020 INGRESO TOTAL2020  \n",
       "0    147,499,234.25  41,971,212.00  2,170,602,774.93  "
      ]
     },
     "execution_count": 4,
     "metadata": {},
     "output_type": "execute_result"
    }
   ],
   "source": [
    "# For now, we'll use the strategy of ignoring companies whose values are not available\n",
    "df.dropna(inplace=True)\n",
    "df.head(1)"
   ]
  },
  {
   "cell_type": "code",
   "execution_count": 5,
   "metadata": {},
   "outputs": [
    {
     "name": "stdout",
     "output_type": "stream",
     "text": [
      "<class 'pandas.core.frame.DataFrame'>\n",
      "Int64Index: 75165 entries, 0 to 79043\n",
      "Data columns (total 20 columns):\n",
      " #   Column                      Non-Null Count  Dtype  \n",
      "---  ------                      --------------  -----  \n",
      " 0   2020                        75165 non-null  float64\n",
      " 1   2019                        75165 non-null  object \n",
      " 2   EXPEDIENTE                  75165 non-null  float64\n",
      " 3   NOMBRE                      75165 non-null  object \n",
      " 4   TIPO COMPAÑIA               75165 non-null  object \n",
      " 5   ACTIVIDAD ECONÓMICA         75165 non-null  object \n",
      " 6   REGION                      75165 non-null  object \n",
      " 7   PROVINCIA                   75165 non-null  object \n",
      " 8   CIUDAD                      75165 non-null  object \n",
      " 9   TAMAÑO                      75165 non-null  object \n",
      " 10  SECTOR                      75165 non-null  object \n",
      " 11  CANT. EMPLEADOS             75165 non-null  object \n",
      " 12  ACTIVO2020                  75165 non-null  object \n",
      " 13  PATRIMONIO2020              75165 non-null  object \n",
      " 14  INGRESOS POR VENTA2020      75165 non-null  object \n",
      " 15  UTILIDAD ANTES DE 2020      75165 non-null  object \n",
      " 16  UTILIDAD DEL EJERCICIO2020  75165 non-null  object \n",
      " 17  UTILIDAD NETA2020           75165 non-null  object \n",
      " 18  IR CAUSADO2020              75165 non-null  object \n",
      " 19  INGRESO TOTAL2020           75165 non-null  object \n",
      "dtypes: float64(2), object(18)\n",
      "memory usage: 12.0+ MB\n"
     ]
    }
   ],
   "source": [
    "df.info()"
   ]
  },
  {
   "cell_type": "markdown",
   "metadata": {},
   "source": [
    "Now we need to clean certain nonsensical unique values in the columns \"TAMAÑO\" and \"SECTOR\". We found those by cheching each column with df[\"column_name\"].unique()"
   ]
  },
  {
   "cell_type": "markdown",
   "metadata": {},
   "source": [
    "### \"SECTOR\" Column"
   ]
  },
  {
   "cell_type": "code",
   "execution_count": 6,
   "metadata": {},
   "outputs": [
    {
     "data": {
      "text/plain": [
       "array(['MERCADO DE VALORES', 'SOCIETARIO', 'MERCADO DE '], dtype=object)"
      ]
     },
     "execution_count": 6,
     "metadata": {},
     "output_type": "execute_result"
    }
   ],
   "source": [
    "# SECTOR unique values\n",
    "df[\"SECTOR\"].unique()"
   ]
  },
  {
   "cell_type": "code",
   "execution_count": 7,
   "metadata": {},
   "outputs": [
    {
     "data": {
      "text/plain": [
       "943     DILIPA, DISTRIBUIDORA DE LIBROS Y PAPELERIA C....\n",
       "3374                          CASA DE VALORES ADVFIN S.A.\n",
       "Name: NOMBRE, dtype: object"
      ]
     },
     "execution_count": 7,
     "metadata": {},
     "output_type": "execute_result"
    }
   ],
   "source": [
    "# We check which companies have the non-sensical value in \"SECTOR\"\n",
    "df.loc[df.SECTOR == \"MERCADO DE \", \"NOMBRE\"]"
   ]
  },
  {
   "cell_type": "code",
   "execution_count": 8,
   "metadata": {},
   "outputs": [],
   "source": [
    "def clean_sector(row):\n",
    "  if(row == \"MERCADO DE \"):\n",
    "    return \"MERCADO DE VALORES\"\n",
    "  return row\n",
    "\n",
    "df[\"SECTOR\"] = df[\"SECTOR\"].apply(clean_sector)"
   ]
  },
  {
   "cell_type": "code",
   "execution_count": 9,
   "metadata": {},
   "outputs": [
    {
     "data": {
      "text/plain": [
       "array(['MERCADO DE VALORES', 'SOCIETARIO'], dtype=object)"
      ]
     },
     "execution_count": 9,
     "metadata": {},
     "output_type": "execute_result"
    }
   ],
   "source": [
    "df.SECTOR.unique()"
   ]
  },
  {
   "cell_type": "markdown",
   "metadata": {},
   "source": [
    "### \"TAMAÑO\" Column"
   ]
  },
  {
   "cell_type": "code",
   "execution_count": 10,
   "metadata": {},
   "outputs": [
    {
     "data": {
      "text/plain": [
       "array(['GRANDE', 'MEDIANA', 'MICROEMPRESA', 'PEQUEÑA', 'MICROEMPRES'],\n",
       "      dtype=object)"
      ]
     },
     "execution_count": 10,
     "metadata": {},
     "output_type": "execute_result"
    }
   ],
   "source": [
    "# \"TAMAÑO\" unique values\n",
    "df[\"TAMAÑO\"].unique()"
   ]
  },
  {
   "cell_type": "code",
   "execution_count": 11,
   "metadata": {},
   "outputs": [
    {
     "data": {
      "text/plain": [
       "(273,)"
      ]
     },
     "execution_count": 11,
     "metadata": {},
     "output_type": "execute_result"
    }
   ],
   "source": [
    "# We check which companies have the non-sensical value in \"TAMAÑO\" (271 companies)\n",
    "df.loc[df.TAMAÑO == \"MICROEMPRES\", \"NOMBRE\"].shape"
   ]
  },
  {
   "cell_type": "code",
   "execution_count": 12,
   "metadata": {},
   "outputs": [],
   "source": [
    "def clean_tamano(row):\n",
    "  if(row == \"MICROEMPRES\"):\n",
    "    return \"MICROEMPRESA\"\n",
    "  return row\n",
    "\n",
    "df[\"TAMAÑO\"] = df[\"TAMAÑO\"].apply(clean_tamano)"
   ]
  },
  {
   "cell_type": "code",
   "execution_count": 13,
   "metadata": {},
   "outputs": [
    {
     "data": {
      "text/plain": [
       "(0,)"
      ]
     },
     "execution_count": 13,
     "metadata": {},
     "output_type": "execute_result"
    }
   ],
   "source": [
    "# We make sure it's clean now (0 companies)\n",
    "df.loc[df.TAMAÑO == \"MICROEMPRES\", \"NOMBRE\"].shape"
   ]
  },
  {
   "cell_type": "code",
   "execution_count": 14,
   "metadata": {},
   "outputs": [
    {
     "data": {
      "text/plain": [
       "array(['GRANDE', 'MEDIANA', 'MICROEMPRESA', 'PEQUEÑA'], dtype=object)"
      ]
     },
     "execution_count": 14,
     "metadata": {},
     "output_type": "execute_result"
    }
   ],
   "source": [
    "df.TAMAÑO.unique()"
   ]
  },
  {
   "cell_type": "markdown",
   "metadata": {},
   "source": [
    "### Misc"
   ]
  },
  {
   "cell_type": "markdown",
   "metadata": {},
   "source": [
    "\"CORPORACIÓN EL ROSADO\" is one of the biggest companies in Ecuador, so we know it's impossible that it only has 3 employees, regardless of what the SuperCIAS say in their \n",
    "report. \n",
    "\n",
    "After some investigation, there is a another report by the SuperCias that show the real number of employees from \"EL ROSADO\"."
   ]
  },
  {
   "cell_type": "code",
   "execution_count": 15,
   "metadata": {},
   "outputs": [
    {
     "data": {
      "text/plain": [
       "'3.00'"
      ]
     },
     "execution_count": 15,
     "metadata": {},
     "output_type": "execute_result"
    }
   ],
   "source": [
    "# We change the original value of employees to the actual value\n",
    "df.loc[8, \"CANT. EMPLEADOS\"]"
   ]
  },
  {
   "cell_type": "code",
   "execution_count": 16,
   "metadata": {},
   "outputs": [],
   "source": [
    "df.loc[8, \"CANT. EMPLEADOS\"] = 7334"
   ]
  },
  {
   "cell_type": "code",
   "execution_count": 17,
   "metadata": {},
   "outputs": [
    {
     "data": {
      "text/plain": [
       "7334"
      ]
     },
     "execution_count": 17,
     "metadata": {},
     "output_type": "execute_result"
    }
   ],
   "source": [
    "df.loc[8, \"CANT. EMPLEADOS\"]"
   ]
  },
  {
   "cell_type": "markdown",
   "metadata": {},
   "source": [
    "## Data Type Conversion"
   ]
  },
  {
   "cell_type": "code",
   "execution_count": 18,
   "metadata": {},
   "outputs": [],
   "source": [
    "# df[['REGION', 'NOMBRE']].groupby('REGION').count()"
   ]
  },
  {
   "cell_type": "code",
   "execution_count": 19,
   "metadata": {},
   "outputs": [
    {
     "data": {
      "text/plain": [
       "2020                           Int64\n",
       "2019                          string\n",
       "EXPEDIENTE                     Int64\n",
       "NOMBRE                        string\n",
       "TIPO COMPAÑIA                 string\n",
       "ACTIVIDAD ECONÓMICA           string\n",
       "REGION                        string\n",
       "PROVINCIA                     string\n",
       "CIUDAD                        string\n",
       "TAMAÑO                        string\n",
       "SECTOR                        string\n",
       "CANT. EMPLEADOS               object\n",
       "ACTIVO2020                    object\n",
       "PATRIMONIO2020                string\n",
       "INGRESOS POR VENTA2020        string\n",
       "UTILIDAD ANTES DE 2020        string\n",
       "UTILIDAD DEL EJERCICIO2020    string\n",
       "UTILIDAD NETA2020             string\n",
       "IR CAUSADO2020                string\n",
       "INGRESO TOTAL2020             string\n",
       "dtype: object"
      ]
     },
     "execution_count": 19,
     "metadata": {},
     "output_type": "execute_result"
    }
   ],
   "source": [
    "# Convert columns to a more appropiate data type \n",
    "df = df.convert_dtypes()\n",
    "df.dtypes"
   ]
  },
  {
   "cell_type": "code",
   "execution_count": 20,
   "metadata": {},
   "outputs": [],
   "source": [
    "# Create numerical column of employees per company\n",
    "df['CANT. EMPLEADOS'] = df['CANT. EMPLEADOS'].str.replace(',','')\n",
    "df['CANT. EMPLEADOS'] = pd.to_numeric(df['CANT. EMPLEADOS'])"
   ]
  },
  {
   "cell_type": "markdown",
   "metadata": {},
   "source": [
    "## First Business Question\n",
    "1. ¿How is the quantity of employees distributed across the different ecuadorian regions? ¿How to/should we factor in company size? "
   ]
  },
  {
   "cell_type": "markdown",
   "metadata": {},
   "source": [
    "### Exploration"
   ]
  },
  {
   "cell_type": "code",
   "execution_count": 21,
   "metadata": {},
   "outputs": [
    {
     "data": {
      "text/plain": [
       "Text(0.5, 1.0, 'Inter-regional hirings')"
      ]
     },
     "execution_count": 21,
     "metadata": {},
     "output_type": "execute_result"
    },
    {
     "data": {
      "image/png": "[encoded data removed]",
      "text/plain": [
       "<Figure size 432x288 with 1 Axes>"
      ]
     },
     "metadata": {
      "needs_background": "light"
     },
     "output_type": "display_data"
    }
   ],
   "source": [
    "# The first things is to see the data as it is. Let's take a look at the distribution of employees when pitted agains ecuadorian regions.\n",
    "sns.boxplot(x=\"REGION\", y=\"CANT. EMPLEADOS\", data=df).set_title('Inter-regional hirings')"
   ]
  },
  {
   "cell_type": "markdown",
   "metadata": {},
   "source": [
    "#### Plot Analysis:\n",
    "This result might seem discouraging, however it might conceal some important insights. One can see that there are a couple of points that go well beyond the box in all 4 ecuadorian regions; most notably \"SIERRA\" and \"COSTA\". \n",
    "\n",
    "Normally, an analysis and treatment to eliminate outliers might be in order, however, outliers in this regard are imporant, they represent (usually) the most important (and big in terms of hiring) companies of the country. So cutting them out is out of the question.\n",
    "\n",
    "This unreadable chart might have to do something with most of businesses having very few employees. Let's take a closer look."
   ]
  },
  {
   "cell_type": "code",
   "execution_count": 22,
   "metadata": {},
   "outputs": [
    {
     "data": {
      "text/plain": [
       "Text(0.5, 1.0, 'Inter-regional hirings (less than 10 employees)')"
      ]
     },
     "execution_count": 22,
     "metadata": {},
     "output_type": "execute_result"
    },
    {
     "data": {
      "image/png": "[encoded data removed]",
      "text/plain": [
       "<Figure size 432x288 with 1 Axes>"
      ]
     },
     "metadata": {
      "needs_background": "light"
     },
     "output_type": "display_data"
    }
   ],
   "source": [
    "# Let's create a copy of the original data frame in order to visualize only companies with less than 10 employees\n",
    "df2 = df.loc[df[\"CANT. EMPLEADOS\"] < 10]\n",
    "sns.boxplot(x=\"REGION\", y=\"CANT. EMPLEADOS\", data=df2).set_title('Inter-regional hirings (less than 10 employees)')"
   ]
  },
  {
   "cell_type": "code",
   "execution_count": 23,
   "metadata": {},
   "outputs": [
    {
     "name": "stdout",
     "output_type": "stream",
     "text": [
      "Number of companies with 10,000 or more employees: 13\n",
      "Number of companies with less than 10 employees: 62178\n"
     ]
    }
   ],
   "source": [
    "# Let's compare the number companies above 10,000 employees vs the number of companies with less than 10.\n",
    "num_big_comp = str(df.loc[ df[\"CANT. EMPLEADOS\"] >= 10000, \"NOMBRE\"].shape[0])\n",
    "num_small_comp = str(df.loc[ df[\"CANT. EMPLEADOS\"] < 10, \"NOMBRE\"].shape[0])\n",
    "print(\"Number of companies with 10,000 or more employees: \" + num_big_comp + \"\\nNumber of companies with less than 10 employees: \" + num_small_comp)"
   ]
  },
  {
   "cell_type": "markdown",
   "metadata": {},
   "source": [
    "#### Plot Analysis and data analysis\n",
    "This validates our previous suspicions. The first plot was graphically squashed due to the giant disparity between the amount of employees that companies hold. Almost all companies (82.72%) have less than 10 workers in our Dataset however the \"outliers\" having more than 10,000 employees represent a fundamental part of the ecuadorian workforce, therefore, should not be eliminated.\n",
    "\n",
    "#### Course of action\n",
    "Taking into account company size will help visualize the distribution of workers accross regions better, in other words, let's take into account the size size of the company as well."
   ]
  },
  {
   "cell_type": "code",
   "execution_count": 24,
   "metadata": {},
   "outputs": [
    {
     "data": {
      "text/html": [
       "<div>\n",
       "<style scoped>\n",
       "    .dataframe tbody tr th:only-of-type {\n",
       "        vertical-align: middle;\n",
       "    }\n",
       "\n",
       "    .dataframe tbody tr th {\n",
       "        vertical-align: top;\n",
       "    }\n",
       "\n",
       "    .dataframe thead th {\n",
       "        text-align: right;\n",
       "    }\n",
       "</style>\n",
       "<table border=\"1\" class=\"dataframe\">\n",
       "  <thead>\n",
       "    <tr style=\"text-align: right;\">\n",
       "      <th></th>\n",
       "      <th>CANT. EMPLEADOS</th>\n",
       "    </tr>\n",
       "    <tr>\n",
       "      <th>REGION</th>\n",
       "      <th></th>\n",
       "    </tr>\n",
       "  </thead>\n",
       "  <tbody>\n",
       "    <tr>\n",
       "      <th>COSTA</th>\n",
       "      <td>255.032530</td>\n",
       "    </tr>\n",
       "    <tr>\n",
       "      <th>GALAPAGOS</th>\n",
       "      <td>20.317047</td>\n",
       "    </tr>\n",
       "    <tr>\n",
       "      <th>ORIENTE</th>\n",
       "      <td>47.301414</td>\n",
       "    </tr>\n",
       "    <tr>\n",
       "      <th>SIERRA</th>\n",
       "      <td>642.850603</td>\n",
       "    </tr>\n",
       "  </tbody>\n",
       "</table>\n",
       "</div>"
      ],
      "text/plain": [
       "           CANT. EMPLEADOS\n",
       "REGION                    \n",
       "COSTA           255.032530\n",
       "GALAPAGOS        20.317047\n",
       "ORIENTE          47.301414\n",
       "SIERRA          642.850603"
      ]
     },
     "execution_count": 24,
     "metadata": {},
     "output_type": "execute_result"
    }
   ],
   "source": [
    "# First let's take a look at the standard deviation depending on region\n",
    "df[[\"REGION\", \"CANT. EMPLEADOS\"]].groupby(\"REGION\").agg('std')"
   ]
  },
  {
   "cell_type": "code",
   "execution_count": 25,
   "metadata": {},
   "outputs": [
    {
     "data": {
      "text/html": [
       "<div>\n",
       "<style scoped>\n",
       "    .dataframe tbody tr th:only-of-type {\n",
       "        vertical-align: middle;\n",
       "    }\n",
       "\n",
       "    .dataframe tbody tr th {\n",
       "        vertical-align: top;\n",
       "    }\n",
       "\n",
       "    .dataframe thead th {\n",
       "        text-align: right;\n",
       "    }\n",
       "</style>\n",
       "<table border=\"1\" class=\"dataframe\">\n",
       "  <thead>\n",
       "    <tr style=\"text-align: right;\">\n",
       "      <th></th>\n",
       "      <th></th>\n",
       "      <th>CANT. EMPLEADOS</th>\n",
       "    </tr>\n",
       "    <tr>\n",
       "      <th>REGION</th>\n",
       "      <th>TAMAÑO</th>\n",
       "      <th></th>\n",
       "    </tr>\n",
       "  </thead>\n",
       "  <tbody>\n",
       "    <tr>\n",
       "      <th rowspan=\"4\" valign=\"top\">COSTA</th>\n",
       "      <th>GRANDE</th>\n",
       "      <td>965.770662</td>\n",
       "    </tr>\n",
       "    <tr>\n",
       "      <th>MEDIANA</th>\n",
       "      <td>44.251405</td>\n",
       "    </tr>\n",
       "    <tr>\n",
       "      <th>MICROEMPRESA</th>\n",
       "      <td>80.846087</td>\n",
       "    </tr>\n",
       "    <tr>\n",
       "      <th>PEQUEÑA</th>\n",
       "      <td>325.933751</td>\n",
       "    </tr>\n",
       "    <tr>\n",
       "      <th rowspan=\"4\" valign=\"top\">GALAPAGOS</th>\n",
       "      <th>GRANDE</th>\n",
       "      <td>NaN</td>\n",
       "    </tr>\n",
       "    <tr>\n",
       "      <th>MEDIANA</th>\n",
       "      <td>31.476068</td>\n",
       "    </tr>\n",
       "    <tr>\n",
       "      <th>MICROEMPRESA</th>\n",
       "      <td>5.629651</td>\n",
       "    </tr>\n",
       "    <tr>\n",
       "      <th>PEQUEÑA</th>\n",
       "      <td>9.498558</td>\n",
       "    </tr>\n",
       "    <tr>\n",
       "      <th rowspan=\"4\" valign=\"top\">ORIENTE</th>\n",
       "      <th>GRANDE</th>\n",
       "      <td>407.419235</td>\n",
       "    </tr>\n",
       "    <tr>\n",
       "      <th>MEDIANA</th>\n",
       "      <td>28.848805</td>\n",
       "    </tr>\n",
       "    <tr>\n",
       "      <th>MICROEMPRESA</th>\n",
       "      <td>4.999994</td>\n",
       "    </tr>\n",
       "    <tr>\n",
       "      <th>PEQUEÑA</th>\n",
       "      <td>10.690359</td>\n",
       "    </tr>\n",
       "    <tr>\n",
       "      <th rowspan=\"4\" valign=\"top\">SIERRA</th>\n",
       "      <th>GRANDE</th>\n",
       "      <td>2937.556695</td>\n",
       "    </tr>\n",
       "    <tr>\n",
       "      <th>MEDIANA</th>\n",
       "      <td>225.397981</td>\n",
       "    </tr>\n",
       "    <tr>\n",
       "      <th>MICROEMPRESA</th>\n",
       "      <td>407.947178</td>\n",
       "    </tr>\n",
       "    <tr>\n",
       "      <th>PEQUEÑA</th>\n",
       "      <td>111.646027</td>\n",
       "    </tr>\n",
       "  </tbody>\n",
       "</table>\n",
       "</div>"
      ],
      "text/plain": [
       "                        CANT. EMPLEADOS\n",
       "REGION    TAMAÑO                       \n",
       "COSTA     GRANDE             965.770662\n",
       "          MEDIANA             44.251405\n",
       "          MICROEMPRESA        80.846087\n",
       "          PEQUEÑA            325.933751\n",
       "GALAPAGOS GRANDE                    NaN\n",
       "          MEDIANA             31.476068\n",
       "          MICROEMPRESA         5.629651\n",
       "          PEQUEÑA              9.498558\n",
       "ORIENTE   GRANDE             407.419235\n",
       "          MEDIANA             28.848805\n",
       "          MICROEMPRESA         4.999994\n",
       "          PEQUEÑA             10.690359\n",
       "SIERRA    GRANDE            2937.556695\n",
       "          MEDIANA            225.397981\n",
       "          MICROEMPRESA       407.947178\n",
       "          PEQUEÑA            111.646027"
      ]
     },
     "execution_count": 25,
     "metadata": {},
     "output_type": "execute_result"
    }
   ],
   "source": [
    "# Now let's take a look at the standard deviation between regions taking into account size of the company\n",
    "df[[\"TAMAÑO\", \"REGION\", \"CANT. EMPLEADOS\"]].groupby([\"REGION\", \"TAMAÑO\"]).agg('std')"
   ]
  },
  {
   "cell_type": "markdown",
   "metadata": {},
   "source": [
    "#### Data analysis:\n",
    "This might seem impossible or counter-intuitive at first. How is it possible that by grouping together companies by size the deviation dramatically increases compared to when it is not grouped by size? In reality the data it's trying to tell us that there's even more disparity in the amount of employees that companies of the same size have than when we ignore sizes all together.\n",
    "\n",
    "This might mean that there are serious outliers within the categories of \"TAMAÑO\", when it comes to employees. Maybe the SuperCias doesn't prioritize number of employees as a factor for categorizing companies in size. "
   ]
  },
  {
   "cell_type": "code",
   "execution_count": 26,
   "metadata": {},
   "outputs": [
    {
     "data": {
      "text/plain": [
       "Text(0.5, 1.0, 'Inter-regional hirings (\"GRANDE\")')"
      ]
     },
     "execution_count": 26,
     "metadata": {},
     "output_type": "execute_result"
    },
    {
     "data": {
      "image/png": "[encoded data removed]",
      "text/plain": [
       "<Figure size 432x288 with 1 Axes>"
      ]
     },
     "metadata": {
      "needs_background": "light"
     },
     "output_type": "display_data"
    }
   ],
   "source": [
    "# Let's confirm our suspicions of intra-company-size outliers.\n",
    "df3 = df.loc[df[\"TAMAÑO\"] == \"GRANDE\"]\n",
    "sns.boxplot(x=\"REGION\", y=\"CANT. EMPLEADOS\", data=df3).set_title('Inter-regional hirings (\"GRANDE\")')"
   ]
  },
  {
   "cell_type": "code",
   "execution_count": 27,
   "metadata": {},
   "outputs": [
    {
     "data": {
      "text/plain": [
       "Text(0.5, 1.0, 'Inter-regional hirings (\"MEDIANA\")')"
      ]
     },
     "execution_count": 27,
     "metadata": {},
     "output_type": "execute_result"
    },
    {
     "data": {
      "image/png": "[encoded data removed]",
      "text/plain": [
       "<Figure size 432x288 with 1 Axes>"
      ]
     },
     "metadata": {
      "needs_background": "light"
     },
     "output_type": "display_data"
    }
   ],
   "source": [
    "df4 = df.loc[df[\"TAMAÑO\"] == \"MEDIANA\"]\n",
    "sns.boxplot(x=\"REGION\", y=\"CANT. EMPLEADOS\", data=df4).set_title('Inter-regional hirings (\"MEDIANA\")')"
   ]
  },
  {
   "cell_type": "code",
   "execution_count": 28,
   "metadata": {},
   "outputs": [
    {
     "data": {
      "text/plain": [
       "Text(0.5, 1.0, 'Inter-regional hirings (\"MICROEMPRESA\")')"
      ]
     },
     "execution_count": 28,
     "metadata": {},
     "output_type": "execute_result"
    },
    {
     "data": {
      "image/png": "[encoded data removed]",
      "text/plain": [
       "<Figure size 432x288 with 1 Axes>"
      ]
     },
     "metadata": {
      "needs_background": "light"
     },
     "output_type": "display_data"
    }
   ],
   "source": [
    "df5 = df.loc[df[\"TAMAÑO\"] == \"MICROEMPRESA\"]\n",
    "sns.boxplot(x=\"REGION\", y=\"CANT. EMPLEADOS\", data=df5).set_title('Inter-regional hirings (\"MICROEMPRESA\")')"
   ]
  },
  {
   "cell_type": "code",
   "execution_count": 29,
   "metadata": {},
   "outputs": [
    {
     "data": {
      "text/plain": [
       "Text(0.5, 1.0, 'Inter-regional hirings (\"PEQUEÑA\")')"
      ]
     },
     "execution_count": 29,
     "metadata": {},
     "output_type": "execute_result"
    },
    {
     "data": {
      "image/png": "[encoded data removed]",
      "text/plain": [
       "<Figure size 432x288 with 1 Axes>"
      ]
     },
     "metadata": {
      "needs_background": "light"
     },
     "output_type": "display_data"
    }
   ],
   "source": [
    "df6 = df.loc[df[\"TAMAÑO\"] == \"PEQUEÑA\"]\n",
    "sns.boxplot(x=\"REGION\", y=\"CANT. EMPLEADOS\", data=df6).set_title('Inter-regional hirings (\"PEQUEÑA\")')"
   ]
  },
  {
   "cell_type": "markdown",
   "metadata": {},
   "source": [
    "#### Course of action \n",
    "Create our own size of company column based on number of employees alone."
   ]
  },
  {
   "cell_type": "code",
   "execution_count": 30,
   "metadata": {},
   "outputs": [],
   "source": [
    "df['TAMANO_EMPLEADOS'] = pd.qcut(df[\"CANT. EMPLEADOS\"], 5 ,labels=['MICROEMPRESA','PEQUEÑA', 'MEDIANA', 'GRANDE'], duplicates='drop')"
   ]
  },
  {
   "cell_type": "code",
   "execution_count": 31,
   "metadata": {},
   "outputs": [
    {
     "data": {
      "text/plain": [
       "TAMANO_EMPLEADOS  REGION   \n",
       "MICROEMPRESA      COSTA        20695\n",
       "                  GALAPAGOS      226\n",
       "                  ORIENTE       1346\n",
       "                  SIERRA       17467\n",
       "PEQUEÑA           COSTA         7086\n",
       "                  GALAPAGOS       74\n",
       "                  ORIENTE        490\n",
       "                  SIERRA        6351\n",
       "MEDIANA           COSTA         3325\n",
       "                  GALAPAGOS       41\n",
       "                  ORIENTE        245\n",
       "                  SIERRA        3170\n",
       "GRANDE            COSTA         7086\n",
       "                  GALAPAGOS       48\n",
       "                  ORIENTE        250\n",
       "                  SIERRA        7264\n",
       "Name: CANT. EMPLEADOS, dtype: int64"
      ]
     },
     "execution_count": 31,
     "metadata": {},
     "output_type": "execute_result"
    }
   ],
   "source": [
    "df.groupby([\"TAMANO_EMPLEADOS\", \"REGION\"])[\"CANT. EMPLEADOS\"].count()\n"
   ]
  },
  {
   "cell_type": "code",
   "execution_count": 32,
   "metadata": {},
   "outputs": [
    {
     "data": {
      "text/plain": [
       "TAMANO_EMPLEADOS\n",
       "MICROEMPRESA       0.810450\n",
       "PEQUEÑA            0.476345\n",
       "MEDIANA            0.499967\n",
       "GRANDE          1063.884133\n",
       "Name: CANT. EMPLEADOS, dtype: float64"
      ]
     },
     "execution_count": 32,
     "metadata": {},
     "output_type": "execute_result"
    }
   ],
   "source": [
    "df.groupby(\"TAMANO_EMPLEADOS\")[\"CANT. EMPLEADOS\"].agg('std')\n"
   ]
  },
  {
   "cell_type": "markdown",
   "metadata": {},
   "source": [
    "#### Analysis\n",
    "With this we can observe that there is a huge disparity in employee number in the top quartile of companies while and values seem quite uniform in the remaining 3 quartiles. Most disparity in employee quantity happens in the top companies.\n",
    "\n",
    "#### Course of action\n",
    "We'll take a look at the distribution of quantity of employees for the first 3 quartiles first and then well take a look at the last quartile separately."
   ]
  },
  {
   "cell_type": "markdown",
   "metadata": {},
   "source": [
    "### First Quartile"
   ]
  },
  {
   "cell_type": "code",
   "execution_count": 33,
   "metadata": {},
   "outputs": [
    {
     "data": {
      "text/plain": [
       "(39734, 21)"
      ]
     },
     "execution_count": 33,
     "metadata": {},
     "output_type": "execute_result"
    }
   ],
   "source": [
    "df_q1 = df.loc[df[\"TAMANO_EMPLEADOS\"] == \"MICROEMPRESA\"]\n",
    "df_q1.shape"
   ]
  },
  {
   "cell_type": "code",
   "execution_count": 34,
   "metadata": {},
   "outputs": [
    {
     "data": {
      "text/plain": [
       "0.8104501380515791"
      ]
     },
     "execution_count": 34,
     "metadata": {},
     "output_type": "execute_result"
    },
    {
     "data": {
      "image/png": "[encoded data removed]",
      "text/plain": [
       "<Figure size 432x288 with 1 Axes>"
      ]
     },
     "metadata": {
      "needs_background": "light"
     },
     "output_type": "display_data"
    }
   ],
   "source": [
    "sns.boxplot(x=\"REGION\", y=\"CANT. EMPLEADOS\", data=df_q1).set_title('Inter-regional hirings (first quartile)')\n",
    "df_q1[\"CANT. EMPLEADOS\"].std()"
   ]
  },
  {
   "cell_type": "code",
   "execution_count": 35,
   "metadata": {},
   "outputs": [
    {
     "data": {
      "text/html": [
       "<div>\n",
       "<style scoped>\n",
       "    .dataframe tbody tr th:only-of-type {\n",
       "        vertical-align: middle;\n",
       "    }\n",
       "\n",
       "    .dataframe tbody tr th {\n",
       "        vertical-align: top;\n",
       "    }\n",
       "\n",
       "    .dataframe thead th {\n",
       "        text-align: right;\n",
       "    }\n",
       "</style>\n",
       "<table border=\"1\" class=\"dataframe\">\n",
       "  <thead>\n",
       "    <tr style=\"text-align: right;\">\n",
       "      <th></th>\n",
       "      <th>CANT. EMPLEADOS</th>\n",
       "    </tr>\n",
       "    <tr>\n",
       "      <th>REGION</th>\n",
       "      <th></th>\n",
       "    </tr>\n",
       "  </thead>\n",
       "  <tbody>\n",
       "    <tr>\n",
       "      <th>COSTA</th>\n",
       "      <td>3.531433</td>\n",
       "    </tr>\n",
       "    <tr>\n",
       "      <th>GALAPAGOS</th>\n",
       "      <td>3.411504</td>\n",
       "    </tr>\n",
       "    <tr>\n",
       "      <th>ORIENTE</th>\n",
       "      <td>3.725854</td>\n",
       "    </tr>\n",
       "    <tr>\n",
       "      <th>SIERRA</th>\n",
       "      <td>3.478159</td>\n",
       "    </tr>\n",
       "  </tbody>\n",
       "</table>\n",
       "</div>"
      ],
      "text/plain": [
       "           CANT. EMPLEADOS\n",
       "REGION                    \n",
       "COSTA             3.531433\n",
       "GALAPAGOS         3.411504\n",
       "ORIENTE           3.725854\n",
       "SIERRA            3.478159"
      ]
     },
     "execution_count": 35,
     "metadata": {},
     "output_type": "execute_result"
    }
   ],
   "source": [
    "df_q1[[\"CANT. EMPLEADOS\", \"REGION\"]].groupby(\"REGION\").mean()"
   ]
  },
  {
   "cell_type": "code",
   "execution_count": 36,
   "metadata": {},
   "outputs": [
    {
     "data": {
      "text/plain": [
       "0.012910857200382543"
      ]
     },
     "execution_count": 36,
     "metadata": {},
     "output_type": "execute_result"
    }
   ],
   "source": [
    "# Cuantificaci´n de resultados\n",
    "comp_cuat_emp= df_q1.loc[df_q1[\"CANT. EMPLEADOS\"] == 4].shape[0]\n",
    "comp_tres_emp= df_q1.loc[df_q1[\"CANT. EMPLEADOS\"] == 3].shape[0]\n",
    "comp_dos_emp= df_q1.loc[df_q1[\"CANT. EMPLEADOS\"] == 2].shape[0]\n",
    "comp_un_emp= df_q1.loc[df_q1[\"CANT. EMPLEADOS\"] == 1].shape[0]\n",
    "porc_dos = comp_dos_emp / df_q1.shape[0]\n",
    "porc_un = comp_un_emp / df_q1.shape[0]\n",
    "\n",
    "\n",
    "comp_dos_emp\n",
    "porc_dos\n",
    "\n",
    "comp_un_emp\n",
    "porc_un"
   ]
  },
  {
   "cell_type": "markdown",
   "metadata": {},
   "source": [
    "#### First Quartile Analysis\n",
    "We can now see that, when it comes to \"MICROEMPRESA\", most companies in \"SIERRA\", \"COSTA\" and \"GALAPAGOS\" have around 3-4 employees in out Dataset. We can deduce that the aberrant values that present 0 empoyees should not be taken into account. \n",
    "\n",
    "The companies that have 2 employees are equal to 4249 (10.69% of this quartile), the companies that have 1 employee are only 513 (1.29%) of the ones in the Dataset. \n",
    "\n",
    "We can also se that \"ORIENTE\" does not fall into the same trend as the other regions of Ecuador when it comes to the amount of employees the companies have (by our definition, very few \"MICROEMPRESAS\"), and thanks to the previous exploration we know that this doesn't necesarily mean that \"ORIENTE\" has few \"MICROEMPRESAS\"(1346, 3rd place). They just tend to have a different employee number.\n",
    "\n",
    "This is particulary interesting considering they have relatively similar means (3<mean<4)"
   ]
  },
  {
   "cell_type": "markdown",
   "metadata": {},
   "source": [
    "### Second Quartile"
   ]
  },
  {
   "cell_type": "code",
   "execution_count": 37,
   "metadata": {},
   "outputs": [
    {
     "data": {
      "text/plain": [
       "(14001, 21)"
      ]
     },
     "execution_count": 37,
     "metadata": {},
     "output_type": "execute_result"
    }
   ],
   "source": [
    "df_q2 = df.loc[df[\"TAMANO_EMPLEADOS\"] == \"PEQUEÑA\"]\n",
    "df_q2.shape"
   ]
  },
  {
   "cell_type": "code",
   "execution_count": 38,
   "metadata": {},
   "outputs": [
    {
     "data": {
      "text/plain": [
       "0.4763450951441411"
      ]
     },
     "execution_count": 38,
     "metadata": {},
     "output_type": "execute_result"
    },
    {
     "data": {
      "image/png": "[encoded data removed]",
      "text/plain": [
       "<Figure size 432x288 with 1 Axes>"
      ]
     },
     "metadata": {
      "needs_background": "light"
     },
     "output_type": "display_data"
    }
   ],
   "source": [
    "sns.boxplot(x=\"REGION\", y=\"CANT. EMPLEADOS\", data=df_q2).set_title('Inter-regional hirings (second quartile)')\n",
    "df_q2[\"CANT. EMPLEADOS\"].std()"
   ]
  },
  {
   "cell_type": "code",
   "execution_count": 39,
   "metadata": {},
   "outputs": [
    {
     "data": {
      "text/plain": [
       "(0, 21)"
      ]
     },
     "execution_count": 39,
     "metadata": {},
     "output_type": "execute_result"
    }
   ],
   "source": [
    "# Let's see if there's a single company in the second quartile with more than 6 employees\n",
    "df_q2.loc[df[\"CANT. EMPLEADOS\"] > 6].shape"
   ]
  },
  {
   "cell_type": "code",
   "execution_count": 40,
   "metadata": {},
   "outputs": [
    {
     "data": {
      "text/plain": [
       "(0, 21)"
      ]
     },
     "execution_count": 40,
     "metadata": {},
     "output_type": "execute_result"
    }
   ],
   "source": [
    "df_q2.loc[df[\"CANT. EMPLEADOS\"] < 5].shape"
   ]
  },
  {
   "cell_type": "code",
   "execution_count": 41,
   "metadata": {},
   "outputs": [
    {
     "data": {
      "text/html": [
       "<div>\n",
       "<style scoped>\n",
       "    .dataframe tbody tr th:only-of-type {\n",
       "        vertical-align: middle;\n",
       "    }\n",
       "\n",
       "    .dataframe tbody tr th {\n",
       "        vertical-align: top;\n",
       "    }\n",
       "\n",
       "    .dataframe thead th {\n",
       "        text-align: right;\n",
       "    }\n",
       "</style>\n",
       "<table border=\"1\" class=\"dataframe\">\n",
       "  <thead>\n",
       "    <tr style=\"text-align: right;\">\n",
       "      <th></th>\n",
       "      <th>CANT. EMPLEADOS</th>\n",
       "    </tr>\n",
       "    <tr>\n",
       "      <th>REGION</th>\n",
       "      <th></th>\n",
       "    </tr>\n",
       "  </thead>\n",
       "  <tbody>\n",
       "    <tr>\n",
       "      <th>COSTA</th>\n",
       "      <td>5.678803</td>\n",
       "    </tr>\n",
       "    <tr>\n",
       "      <th>GALAPAGOS</th>\n",
       "      <td>5.689189</td>\n",
       "    </tr>\n",
       "    <tr>\n",
       "      <th>ORIENTE</th>\n",
       "      <td>5.679592</td>\n",
       "    </tr>\n",
       "    <tr>\n",
       "      <th>SIERRA</th>\n",
       "      <td>5.619587</td>\n",
       "    </tr>\n",
       "  </tbody>\n",
       "</table>\n",
       "</div>"
      ],
      "text/plain": [
       "           CANT. EMPLEADOS\n",
       "REGION                    \n",
       "COSTA             5.678803\n",
       "GALAPAGOS         5.689189\n",
       "ORIENTE           5.679592\n",
       "SIERRA            5.619587"
      ]
     },
     "execution_count": 41,
     "metadata": {},
     "output_type": "execute_result"
    }
   ],
   "source": [
    "df_q2[[\"CANT. EMPLEADOS\", \"REGION\"]].groupby(\"REGION\").mean()"
   ]
  },
  {
   "cell_type": "code",
   "execution_count": 42,
   "metadata": {},
   "outputs": [
    {
     "data": {
      "text/plain": [
       "CANT. EMPLEADOS\n",
       "5.0    4872\n",
       "6.0    9129\n",
       "Name: NOMBRE, dtype: int64"
      ]
     },
     "execution_count": 42,
     "metadata": {},
     "output_type": "execute_result"
    }
   ],
   "source": [
    "# Let's see how many companies have 5 employees and how many have 6\n",
    "df_q2.groupby(\"CANT. EMPLEADOS\")[\"NOMBRE\"].count()"
   ]
  },
  {
   "cell_type": "code",
   "execution_count": 43,
   "metadata": {},
   "outputs": [
    {
     "data": {
      "text/plain": [
       "Text(0.5, 1.0, 'Number of companies per employee number')"
      ]
     },
     "execution_count": 43,
     "metadata": {},
     "output_type": "execute_result"
    },
    {
     "data": {
      "image/png": "[encoded data removed]",
      "text/plain": [
       "<Figure size 432x288 with 1 Axes>"
      ]
     },
     "metadata": {
      "needs_background": "light"
     },
     "output_type": "display_data"
    }
   ],
   "source": [
    "sns.histplot(df_q2[\"CANT. EMPLEADOS\"]).set_title(\"Number of companies per employee number\")"
   ]
  },
  {
   "cell_type": "markdown",
   "metadata": {},
   "source": [
    "#### Second Quartile Analysis\n",
    "\n",
    "This results show that the entirity of the second quartile for ALL regions have either 5 or 6 employees in Ecuador, where 34.8% (4872) of companies in \"PEQUENA\" hold 5 employees and nearly 65.2% (9129) hold 6."
   ]
  },
  {
   "cell_type": "markdown",
   "metadata": {},
   "source": [
    "### Third Quartile"
   ]
  },
  {
   "cell_type": "code",
   "execution_count": 44,
   "metadata": {},
   "outputs": [
    {
     "data": {
      "text/plain": [
       "(6781, 21)"
      ]
     },
     "execution_count": 44,
     "metadata": {},
     "output_type": "execute_result"
    }
   ],
   "source": [
    "df_q3 = df.loc[df[\"TAMANO_EMPLEADOS\"] == \"MEDIANA\"]\n",
    "df_q3.shape"
   ]
  },
  {
   "cell_type": "code",
   "execution_count": 45,
   "metadata": {},
   "outputs": [
    {
     "data": {
      "text/plain": [
       "0.49996743789263987"
      ]
     },
     "execution_count": 45,
     "metadata": {},
     "output_type": "execute_result"
    },
    {
     "data": {
      "image/png": "[encoded data removed]",
      "text/plain": [
       "<Figure size 432x288 with 1 Axes>"
      ]
     },
     "metadata": {
      "needs_background": "light"
     },
     "output_type": "display_data"
    }
   ],
   "source": [
    "sns.boxplot(x=\"REGION\", y=\"CANT. EMPLEADOS\", data=df_q3).set_title('Inter-regional hirings (third quartile)')\n",
    "df_q3[\"CANT. EMPLEADOS\"].std()"
   ]
  },
  {
   "cell_type": "markdown",
   "metadata": {},
   "source": [
    "#### Analysis\n",
    "At this point we can confirm this trend. In this quartile all companies have either 7 or 8 employees. Making it so that even when we grouped registers by quantiles all significant variation comes from the top 25% of companies when it comes to employee number, regardless of region.\n",
    "\n",
    "To confirm this, let's visulize the las quartile."
   ]
  },
  {
   "cell_type": "markdown",
   "metadata": {},
   "source": [
    "### Last Quartile"
   ]
  },
  {
   "cell_type": "code",
   "execution_count": 46,
   "metadata": {},
   "outputs": [
    {
     "data": {
      "text/plain": [
       "(14648, 21)"
      ]
     },
     "execution_count": 46,
     "metadata": {},
     "output_type": "execute_result"
    }
   ],
   "source": [
    "df_q4 = df.loc[df[\"TAMANO_EMPLEADOS\"] == \"GRANDE\"]\n",
    "df_q4.shape"
   ]
  },
  {
   "cell_type": "code",
   "execution_count": 47,
   "metadata": {},
   "outputs": [
    {
     "name": "stderr",
     "output_type": "stream",
     "text": [
      "/usr/local/lib/python3.9/site-packages/seaborn/_decorators.py:36: FutureWarning: Pass the following variable as a keyword arg: x. From version 0.12, the only valid positional argument will be `data`, and passing other arguments without an explicit keyword will result in an error or misinterpretation.\n",
      "  warnings.warn(\n"
     ]
    },
    {
     "data": {
      "text/plain": [
       "Text(0.5, 1.0, 'Inter-regional hirings (last quartile)')"
      ]
     },
     "execution_count": 47,
     "metadata": {},
     "output_type": "execute_result"
    },
    {
     "data": {
      "image/png": "[encoded data removed]",
      "text/plain": [
       "<Figure size 432x288 with 1 Axes>"
      ]
     },
     "metadata": {
      "needs_background": "light"
     },
     "output_type": "display_data"
    }
   ],
   "source": [
    "sns.violinplot(df_q4[\"CANT. EMPLEADOS\"]).set_title('Inter-regional hirings (last quartile)')"
   ]
  },
  {
   "cell_type": "code",
   "execution_count": 48,
   "metadata": {},
   "outputs": [
    {
     "name": "stderr",
     "output_type": "stream",
     "text": [
      "/usr/local/lib/python3.9/site-packages/seaborn/_decorators.py:36: FutureWarning: Pass the following variable as a keyword arg: x. From version 0.12, the only valid positional argument will be `data`, and passing other arguments without an explicit keyword will result in an error or misinterpretation.\n",
      "  warnings.warn(\n"
     ]
    },
    {
     "data": {
      "text/plain": [
       "Text(0.5, 1.0, 'Inter-regional hirings (last quartile, less than 100)')"
      ]
     },
     "execution_count": 48,
     "metadata": {},
     "output_type": "execute_result"
    },
    {
     "data": {
      "image/png": "[encoded data removed]",
      "text/plain": [
       "<Figure size 432x288 with 1 Axes>"
      ]
     },
     "metadata": {
      "needs_background": "light"
     },
     "output_type": "display_data"
    }
   ],
   "source": [
    "sns.violinplot(df_q4[\"CANT. EMPLEADOS\"].loc[df[\"CANT. EMPLEADOS\"]< 100], ylabel=\"asdfasdf\").set_title('Inter-regional hirings (last quartile, less than 100)')"
   ]
  },
  {
   "cell_type": "code",
   "execution_count": 49,
   "metadata": {},
   "outputs": [
    {
     "data": {
      "text/plain": [
       "13200"
      ]
     },
     "execution_count": 49,
     "metadata": {},
     "output_type": "execute_result"
    }
   ],
   "source": [
    "df_q4[df_q4[\"CANT. EMPLEADOS\"] < 100].shape[0]"
   ]
  },
  {
   "cell_type": "code",
   "execution_count": 50,
   "metadata": {},
   "outputs": [
    {
     "data": {
      "text/plain": [
       "14648"
      ]
     },
     "execution_count": 50,
     "metadata": {},
     "output_type": "execute_result"
    }
   ],
   "source": [
    "df_q4.shape[0]\n",
    "\n",
    "\n",
    "# 90.11% of companies in the las quartile have less than 100 employees"
   ]
  },
  {
   "cell_type": "markdown",
   "metadata": {},
   "source": [
    "#### Analysis\n",
    "With these two violin plots we can visualize that most registers in the \"GRANDE\" category are under 100. Most of the data well find in double digits even if the significant \"players\" represent an important factor in the worforce. \n"
   ]
  },
  {
   "cell_type": "markdown",
   "metadata": {},
   "source": [
    "### General"
   ]
  },
  {
   "cell_type": "code",
   "execution_count": 51,
   "metadata": {},
   "outputs": [
    {
     "data": {
      "text/plain": [
       "Text(0.5, 1.0, 'Inter-regional hirings (less than 12 employees)')"
      ]
     },
     "execution_count": 51,
     "metadata": {},
     "output_type": "execute_result"
    },
    {
     "data": {
      "image/png": "[encoded data removed]",
      "text/plain": [
       "<Figure size 432x288 with 1 Axes>"
      ]
     },
     "metadata": {
      "needs_background": "light"
     },
     "output_type": "display_data"
    }
   ],
   "source": [
    "# A more reasonable boxplot for distributions is:\n",
    "alt = df.loc[df[\"CANT. EMPLEADOS\"] < 12 ]\n",
    "sns.boxplot(x=\"REGION\", y=\"CANT. EMPLEADOS\", data= alt).set_title('Inter-regional hirings (less than 12 employees)')"
   ]
  },
  {
   "cell_type": "markdown",
   "metadata": {},
   "source": [
    "#### Analysis\n",
    "Since more than 80% of all our companies are below 10 employees in out Dataset, when we examine their distribution, we can start to appreciate that region wise the trends are similar, with the exception of \"GALAPAGOS\". In fact, visually \"SIERRA\", \"COSTA\" and \"ORIENTE\" look identical at first glance.\n",
    "\n",
    "All regions lest \"GALAPAGOS\" tend to predominantly have from 4 to 6 employees making such range the entire last quartile. \"GALAPAGOS\" however, seems to have a more even (simetric) distribution than the other regions. It's not really simetric by anymeans, it clearly presents tilting towards the third quartile (4-6 employees, like the rest of the country) however we can atleast visualy apprecieate the second quartile.\n",
    "\n",
    "We can also apreciate that passed, 9 employees values tend to appear more as outliers, sparse and erratic, instead of actual the actual body of the box. However \"GALAPAGOS\" extend the whisquers of the box up to 10 employees whereas every other region only up to 9. \n",
    "\n",
    "This could mean a number of things, maybe, because Galapagos is heavily regulated due to it being a turistic uggernaugh what would be onsidered informal businesses anywhere else in the country it's registered formally and officially in galapagos."
   ]
  },
  {
   "cell_type": "code",
   "execution_count": 52,
   "metadata": {},
   "outputs": [
    {
     "name": "stdout",
     "output_type": "stream",
     "text": [
      "0.23902341360169602 0.760976586398304\n"
     ]
    }
   ],
   "source": [
    "# Analyzing the hiring disparity (this time taking in to account the original SUPERCIAS ordering for best companies, that's why I can do it with only head(1000))\n",
    "top_1000 = df.head(1000)\n",
    "rest = df[1000:]\n",
    "total_emp = df[\"CANT. EMPLEADOS\"].sum()\n",
    "top_emp = top_1000[\"CANT. EMPLEADOS\"].sum()\n",
    "rest_emp = rest[\"CANT. EMPLEADOS\"].sum()\n",
    "\n",
    "top_perc = top_emp/total_emp\n",
    "rest_perc = rest_emp/total_emp\n",
    "\n",
    "print(top_perc, rest_perc)\n"
   ]
  },
  {
   "cell_type": "code",
   "execution_count": 53,
   "metadata": {},
   "outputs": [
    {
     "name": "stderr",
     "output_type": "stream",
     "text": [
      "<ipython-input-53-996344d1c642>:2: SettingWithCopyWarning: \n",
      "A value is trying to be set on a copy of a slice from a DataFrame.\n",
      "Try using .loc[row_indexer,col_indexer] = value instead\n",
      "\n",
      "See the caveats in the documentation: https://pandas.pydata.org/pandas-docs/stable/user_guide/indexing.html#returning-a-view-versus-a-copy\n",
      "  top_1000['TOP'] = \"TOP\"\n",
      "<ipython-input-53-996344d1c642>:3: SettingWithCopyWarning: \n",
      "A value is trying to be set on a copy of a slice from a DataFrame.\n",
      "Try using .loc[row_indexer,col_indexer] = value instead\n",
      "\n",
      "See the caveats in the documentation: https://pandas.pydata.org/pandas-docs/stable/user_guide/indexing.html#returning-a-view-versus-a-copy\n",
      "  rest['TOP'] = \"NOT TOP\"\n"
     ]
    },
    {
     "data": {
      "text/plain": [
       "<AxesSubplot:title={'center':'Formal workforce proportion'}, ylabel='CANT. EMPLEADOS'>"
      ]
     },
     "execution_count": 53,
     "metadata": {},
     "output_type": "execute_result"
    },
    {
     "data": {
      "image/png": "[encoded data removed]",
      "text/plain": [
       "<Figure size 432x288 with 1 Axes>"
      ]
     },
     "metadata": {},
     "output_type": "display_data"
    }
   ],
   "source": [
    "# Let's visualize\n",
    "top_1000['TOP'] = \"TOP\"\n",
    "rest['TOP'] = \"NOT TOP\"\n",
    "\n",
    "frames = [top_1000, rest]\n",
    "new_df = pd.concat(frames, sort=False)\n",
    "\n",
    "#groupby the data by delivery type\n",
    "my_pie = new_df.groupby(\"TOP\")[\"CANT. EMPLEADOS\"].sum()\n",
    "my_pie.plot.pie(autopct=\"%.1f%%\", title=\"Formal workforce proportion\")\n",
    "\n"
   ]
  },
  {
   "cell_type": "markdown",
   "metadata": {},
   "source": [
    "#### Analysis\n",
    "This is the main reason why standardizing the companies might be too radical in this case. There is a disproportionate amount of hiring being done by the top 1000 companies (23.09%) in comparison to ALL other companies registered in this particular Dataset."
   ]
  },
  {
   "cell_type": "markdown",
   "metadata": {},
   "source": [
    "## Preliminary Conclusions On Business Question #1"
   ]
  },
  {
   "cell_type": "markdown",
   "metadata": {},
   "source": [
    "We can conclude that there's a very prevalent mistmatch in terms of \"CANT. EMPLEADOS\" regardless of region.\n",
    "\n",
    "The difference in order of magnitude of the data is such that even when grouping by quartiles, the distribution is heavyly squewed. This would make a good argument for eliminating outliers, however, when we try to understand the overall role of companies in the workforce of a country those big-sized outliers are a key factor and not taking them into account might be a mistake.\n",
    "\n",
    "If we were to ignore the bigger companies of the Dataset, we should standardize the values in order to have a more uniform body of data.\n",
    "\n",
    "One thing is clear almost all companies in the Dataset are under 10 workers (82.72%) this is indifferent of region. A more fruitful inter-regional analysis might be to see the distribution of company sizes across regions (using the original size categories). We can even see how when viewing a box plox of all companies under 12 empoyees we get a much more measured graph.\n",
    "\n",
    "Also another good analysis that might come from this question is to look for the impact of the big outliers when compared to the sheer mass of smaller companies (less than 10 workers). This could uncover how truly impactful this companies are in the Ecuadorian workforce and therefore suggest certain implications of employees that got to be hired by one of these ccompanies. But this is out of scope for this analysis."
   ]
  }
 ],
 "metadata": {
  "interpreter": {
   "hash": "aee8b7b246df8f9039afb4144a1f6fd8d2ca17a180786b69acc140d282b71a49"
  },
  "kernelspec": {
   "display_name": "Python 3",
   "language": "python",
   "name": "python3"
  },
  "language_info": {
   "codemirror_mode": {
    "name": "ipython",
    "version": 3
   },
   "file_extension": ".py",
   "mimetype": "text/x-python",
   "name": "python",
   "nbconvert_exporter": "python",
   "pygments_lexer": "ipython3",
   "version": "3.9.6"
  }
 },
 "nbformat": 4,
 "nbformat_minor": 4
}
