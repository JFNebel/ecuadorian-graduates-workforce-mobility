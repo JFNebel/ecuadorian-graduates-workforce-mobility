{
 "cells": [
  {
   "cell_type": "markdown",
   "metadata": {},
   "source": [
    "# Pregunta 5"
   ]
  },
  {
   "cell_type": "markdown",
   "metadata": {},
   "source": [
    "## Questioning"
   ]
  },
  {
   "cell_type": "markdown",
   "metadata": {},
   "source": [
    "### ¿Is there a relationship between ESPOL graduates and a company's financial performace metric?\n",
    "\n",
    "Background: \n",
    "\n",
    "ROA (Return Of Assets) is proposed as one of the best financial metrics to measure a company's performance due to it being directly tied to the management of assets of a company. It's so powerful that some researchers have tried to find relationship between this and the human talent a company harbors (even if they aren't directly linked with one another).\n",
    "\n",
    "So, we'll see if there's atleast a superficial correlation between the number of ESPOL graduates a company employeed as part of their internal workforce and their own ROA score. "
   ]
  },
  {
   "cell_type": "markdown",
   "metadata": {},
   "source": [
    "## Setup"
   ]
  },
  {
   "cell_type": "code",
   "execution_count": 1,
   "metadata": {},
   "outputs": [],
   "source": [
    "import pandas as pd\n",
    "import matplotlib.pyplot as plt"
   ]
  },
  {
   "cell_type": "code",
   "execution_count": 2,
   "metadata": {},
   "outputs": [
    {
     "data": {
      "text/html": [
       "<div>\n",
       "<style scoped>\n",
       "    .dataframe tbody tr th:only-of-type {\n",
       "        vertical-align: middle;\n",
       "    }\n",
       "\n",
       "    .dataframe tbody tr th {\n",
       "        vertical-align: top;\n",
       "    }\n",
       "\n",
       "    .dataframe thead th {\n",
       "        text-align: right;\n",
       "    }\n",
       "</style>\n",
       "<table border=\"1\" class=\"dataframe\">\n",
       "  <thead>\n",
       "    <tr style=\"text-align: right;\">\n",
       "      <th></th>\n",
       "      <th>NOMBRE</th>\n",
       "      <th>LINK</th>\n",
       "      <th>2020</th>\n",
       "      <th>2019</th>\n",
       "      <th>EXPEDIENTE</th>\n",
       "      <th>TIPO COMPAÑIA</th>\n",
       "      <th>ACTIVIDAD ECONÓMICA</th>\n",
       "      <th>REGION</th>\n",
       "      <th>PROVINCIA</th>\n",
       "      <th>CIUDAD</th>\n",
       "      <th>...</th>\n",
       "      <th>CANT. EMPLEADOS</th>\n",
       "      <th>ACTIVO2020</th>\n",
       "      <th>PATRIMONIO2020</th>\n",
       "      <th>INGRESOS POR VENTA2020</th>\n",
       "      <th>UTILIDAD ANTES DE 2020</th>\n",
       "      <th>UTILIDAD DEL EJERCICIO2020</th>\n",
       "      <th>UTILIDAD NETA2020</th>\n",
       "      <th>IR CAUSADO2020</th>\n",
       "      <th>INGRESO TOTAL2020</th>\n",
       "      <th>INDUSTRIA</th>\n",
       "    </tr>\n",
       "  </thead>\n",
       "  <tbody>\n",
       "    <tr>\n",
       "      <th>0</th>\n",
       "      <td>CORPORACION FAVORITA C.A.</td>\n",
       "      <td>https://ec.linkedin.com/company/corporacionfav...</td>\n",
       "      <td>1.0</td>\n",
       "      <td>1</td>\n",
       "      <td>384.0</td>\n",
       "      <td>ANÓNIMA</td>\n",
       "      <td>G4711.01 - VENTA AL POR MENOR DE GRAN VARIEDAD...</td>\n",
       "      <td>SIERRA</td>\n",
       "      <td>PICHINCHA                                     ...</td>\n",
       "      <td>QUITO                                         ...</td>\n",
       "      <td>...</td>\n",
       "      <td>10768.0</td>\n",
       "      <td>2.121860e+09</td>\n",
       "      <td>1.482973e+09</td>\n",
       "      <td>2.170603e+09</td>\n",
       "      <td>187168402.3</td>\n",
       "      <td>2.201981e+08</td>\n",
       "      <td>1.474992e+08</td>\n",
       "      <td>41971212.00</td>\n",
       "      <td>2.170603e+09</td>\n",
       "      <td>Minoristas</td>\n",
       "    </tr>\n",
       "    <tr>\n",
       "      <th>1</th>\n",
       "      <td>ECUACORRIENTE</td>\n",
       "      <td>https://www.linkedin.com/company/ecuacorriente...</td>\n",
       "      <td>2.0</td>\n",
       "      <td>4</td>\n",
       "      <td>6796.0</td>\n",
       "      <td>ANÓNIMA</td>\n",
       "      <td>B0729.01 - EXTRACCIÓN Y PREPARACIÓN DE MINERAL...</td>\n",
       "      <td>ORIENTE</td>\n",
       "      <td>ZAMORA CHINCHIPE                              ...</td>\n",
       "      <td>EL PANGUI                                     ...</td>\n",
       "      <td>...</td>\n",
       "      <td>966.0</td>\n",
       "      <td>1.607423e+09</td>\n",
       "      <td>5.689866e+08</td>\n",
       "      <td>2.451030e+08</td>\n",
       "      <td>-1387158.7</td>\n",
       "      <td>0.000000e+00</td>\n",
       "      <td>-2.633856e+06</td>\n",
       "      <td>1246697.02</td>\n",
       "      <td>0.000000e+00</td>\n",
       "      <td>Minería</td>\n",
       "    </tr>\n",
       "  </tbody>\n",
       "</table>\n",
       "<p>2 rows × 22 columns</p>\n",
       "</div>"
      ],
      "text/plain": [
       "                      NOMBRE  \\\n",
       "0  CORPORACION FAVORITA C.A.   \n",
       "1              ECUACORRIENTE   \n",
       "\n",
       "                                                LINK  2020 2019  EXPEDIENTE  \\\n",
       "0  https://ec.linkedin.com/company/corporacionfav...   1.0    1       384.0   \n",
       "1  https://www.linkedin.com/company/ecuacorriente...   2.0    4      6796.0   \n",
       "\n",
       "  TIPO COMPAÑIA                                ACTIVIDAD ECONÓMICA   REGION  \\\n",
       "0       ANÓNIMA  G4711.01 - VENTA AL POR MENOR DE GRAN VARIEDAD...   SIERRA   \n",
       "1       ANÓNIMA  B0729.01 - EXTRACCIÓN Y PREPARACIÓN DE MINERAL...  ORIENTE   \n",
       "\n",
       "                                           PROVINCIA  \\\n",
       "0  PICHINCHA                                     ...   \n",
       "1  ZAMORA CHINCHIPE                              ...   \n",
       "\n",
       "                                              CIUDAD  ... CANT. EMPLEADOS  \\\n",
       "0  QUITO                                         ...  ...         10768.0   \n",
       "1  EL PANGUI                                     ...  ...           966.0   \n",
       "\n",
       "     ACTIVO2020  PATRIMONIO2020  INGRESOS POR VENTA2020  \\\n",
       "0  2.121860e+09    1.482973e+09            2.170603e+09   \n",
       "1  1.607423e+09    5.689866e+08            2.451030e+08   \n",
       "\n",
       "   UTILIDAD ANTES DE 2020  UTILIDAD DEL EJERCICIO2020  UTILIDAD NETA2020  \\\n",
       "0             187168402.3                2.201981e+08       1.474992e+08   \n",
       "1              -1387158.7                0.000000e+00      -2.633856e+06   \n",
       "\n",
       "   IR CAUSADO2020  INGRESO TOTAL2020   INDUSTRIA  \n",
       "0     41971212.00       2.170603e+09  Minoristas  \n",
       "1      1246697.02       0.000000e+00     Minería  \n",
       "\n",
       "[2 rows x 22 columns]"
      ]
     },
     "execution_count": 2,
     "metadata": {},
     "output_type": "execute_result"
    }
   ],
   "source": [
    "df = pd.read_csv('Data/mainDF.csv')\n",
    "df.head(2)"
   ]
  },
  {
   "cell_type": "code",
   "execution_count": 3,
   "metadata": {},
   "outputs": [
    {
     "name": "stdout",
     "output_type": "stream",
     "text": [
      "<class 'pandas.core.frame.DataFrame'>\n",
      "RangeIndex: 100 entries, 0 to 99\n",
      "Data columns (total 22 columns):\n",
      " #   Column                      Non-Null Count  Dtype  \n",
      "---  ------                      --------------  -----  \n",
      " 0   NOMBRE                      100 non-null    object \n",
      " 1   LINK                        100 non-null    object \n",
      " 2   2020                        100 non-null    float64\n",
      " 3   2019                        100 non-null    object \n",
      " 4   EXPEDIENTE                  100 non-null    float64\n",
      " 5   TIPO COMPAÑIA               100 non-null    object \n",
      " 6   ACTIVIDAD ECONÓMICA         100 non-null    object \n",
      " 7   REGION                      100 non-null    object \n",
      " 8   PROVINCIA                   100 non-null    object \n",
      " 9   CIUDAD                      100 non-null    object \n",
      " 10  TAMAÑO                      100 non-null    object \n",
      " 11  SECTOR                      100 non-null    object \n",
      " 12  CANT. EMPLEADOS             100 non-null    float64\n",
      " 13  ACTIVO2020                  100 non-null    float64\n",
      " 14  PATRIMONIO2020              100 non-null    float64\n",
      " 15  INGRESOS POR VENTA2020      100 non-null    float64\n",
      " 16  UTILIDAD ANTES DE 2020      100 non-null    float64\n",
      " 17  UTILIDAD DEL EJERCICIO2020  100 non-null    float64\n",
      " 18  UTILIDAD NETA2020           100 non-null    float64\n",
      " 19  IR CAUSADO2020              100 non-null    float64\n",
      " 20  INGRESO TOTAL2020           100 non-null    float64\n",
      " 21  INDUSTRIA                   100 non-null    object \n",
      "dtypes: float64(11), object(11)\n",
      "memory usage: 17.3+ KB\n"
     ]
    }
   ],
   "source": [
    "df.info()"
   ]
  },
  {
   "cell_type": "markdown",
   "metadata": {},
   "source": [
    "## Processing"
   ]
  },
  {
   "cell_type": "code",
   "execution_count": 4,
   "metadata": {},
   "outputs": [
    {
     "data": {
      "text/html": [
       "<div>\n",
       "<style scoped>\n",
       "    .dataframe tbody tr th:only-of-type {\n",
       "        vertical-align: middle;\n",
       "    }\n",
       "\n",
       "    .dataframe tbody tr th {\n",
       "        vertical-align: top;\n",
       "    }\n",
       "\n",
       "    .dataframe thead th {\n",
       "        text-align: right;\n",
       "    }\n",
       "</style>\n",
       "<table border=\"1\" class=\"dataframe\">\n",
       "  <thead>\n",
       "    <tr style=\"text-align: right;\">\n",
       "      <th></th>\n",
       "      <th>NOMBRE</th>\n",
       "      <th>ROA</th>\n",
       "    </tr>\n",
       "  </thead>\n",
       "  <tbody>\n",
       "    <tr>\n",
       "      <th>0</th>\n",
       "      <td>CORPORACION FAVORITA C.A.</td>\n",
       "      <td>6.951411</td>\n",
       "    </tr>\n",
       "    <tr>\n",
       "      <th>1</th>\n",
       "      <td>ECUACORRIENTE</td>\n",
       "      <td>-0.163856</td>\n",
       "    </tr>\n",
       "    <tr>\n",
       "      <th>2</th>\n",
       "      <td>AURELIAN ECUADOR</td>\n",
       "      <td>-3.087969</td>\n",
       "    </tr>\n",
       "    <tr>\n",
       "      <th>3</th>\n",
       "      <td>CONSORCIO ECUATORIANO DE TELECOMUNICACIONES CO...</td>\n",
       "      <td>8.772698</td>\n",
       "    </tr>\n",
       "    <tr>\n",
       "      <th>4</th>\n",
       "      <td>CORPORACION QUIPORT</td>\n",
       "      <td>-3.323227</td>\n",
       "    </tr>\n",
       "    <tr>\n",
       "      <th>5</th>\n",
       "      <td>CORPORACION EL ROSADO</td>\n",
       "      <td>3.663400</td>\n",
       "    </tr>\n",
       "    <tr>\n",
       "      <th>6</th>\n",
       "      <td>HIDALGO E HIDALGO</td>\n",
       "      <td>3.520079</td>\n",
       "    </tr>\n",
       "    <tr>\n",
       "      <th>7</th>\n",
       "      <td>OTECEL</td>\n",
       "      <td>-2.313952</td>\n",
       "    </tr>\n",
       "    <tr>\n",
       "      <th>8</th>\n",
       "      <td>PROCESADORA NACIONAL DE ALIMENTOS C.A. PRONACA</td>\n",
       "      <td>3.620939</td>\n",
       "    </tr>\n",
       "    <tr>\n",
       "      <th>9</th>\n",
       "      <td>INDUSTRIAL PESQUERA SANTA PRISCILA</td>\n",
       "      <td>4.808221</td>\n",
       "    </tr>\n",
       "  </tbody>\n",
       "</table>\n",
       "</div>"
      ],
      "text/plain": [
       "                                              NOMBRE       ROA\n",
       "0                          CORPORACION FAVORITA C.A.  6.951411\n",
       "1                                      ECUACORRIENTE -0.163856\n",
       "2                                   AURELIAN ECUADOR -3.087969\n",
       "3  CONSORCIO ECUATORIANO DE TELECOMUNICACIONES CO...  8.772698\n",
       "4                                CORPORACION QUIPORT -3.323227\n",
       "5                              CORPORACION EL ROSADO  3.663400\n",
       "6                                  HIDALGO E HIDALGO  3.520079\n",
       "7                                             OTECEL -2.313952\n",
       "8     PROCESADORA NACIONAL DE ALIMENTOS C.A. PRONACA  3.620939\n",
       "9                 INDUSTRIAL PESQUERA SANTA PRISCILA  4.808221"
      ]
     },
     "execution_count": 4,
     "metadata": {},
     "output_type": "execute_result"
    }
   ],
   "source": [
    "# Calculate ROA (Return on Assets)\n",
    "def calculate_ROA(row):\n",
    "  net_profits = row[\"UTILIDAD NETA2020\"]\n",
    "  total_assets = row.ACTIVO2020\n",
    "  return ((net_profits/total_assets) * 100)\n",
    "  \n",
    "\n",
    "df['ROA'] = df[[\"UTILIDAD NETA2020\", \"ACTIVO2020\"]].apply(calculate_ROA, axis=1)\n",
    "df[[\"NOMBRE\", \"ROA\"]].head(10)"
   ]
  },
  {
   "cell_type": "code",
   "execution_count": 6,
   "metadata": {},
   "outputs": [
    {
     "data": {
      "text/html": [
       "<div>\n",
       "<style scoped>\n",
       "    .dataframe tbody tr th:only-of-type {\n",
       "        vertical-align: middle;\n",
       "    }\n",
       "\n",
       "    .dataframe tbody tr th {\n",
       "        vertical-align: top;\n",
       "    }\n",
       "\n",
       "    .dataframe thead th {\n",
       "        text-align: right;\n",
       "    }\n",
       "</style>\n",
       "<table border=\"1\" class=\"dataframe\">\n",
       "  <thead>\n",
       "    <tr style=\"text-align: right;\">\n",
       "      <th></th>\n",
       "      <th>NOMBRE</th>\n",
       "      <th>Escuela Superior Politécnica del Litoral</th>\n",
       "    </tr>\n",
       "  </thead>\n",
       "  <tbody>\n",
       "    <tr>\n",
       "      <th>0</th>\n",
       "      <td>CORPORACION FAVORITA C.A.</td>\n",
       "      <td>14.0</td>\n",
       "    </tr>\n",
       "    <tr>\n",
       "      <th>1</th>\n",
       "      <td>CONSORCIO ECUATORIANO DE TELECOMUNICACIONES CO...</td>\n",
       "      <td>86.0</td>\n",
       "    </tr>\n",
       "    <tr>\n",
       "      <th>2</th>\n",
       "      <td>CORPORACION EL ROSADO</td>\n",
       "      <td>123.0</td>\n",
       "    </tr>\n",
       "    <tr>\n",
       "      <th>3</th>\n",
       "      <td>HIDALGO E HIDALGO</td>\n",
       "      <td>12.0</td>\n",
       "    </tr>\n",
       "    <tr>\n",
       "      <th>4</th>\n",
       "      <td>OTECEL</td>\n",
       "      <td>0.0</td>\n",
       "    </tr>\n",
       "    <tr>\n",
       "      <th>...</th>\n",
       "      <td>...</td>\n",
       "      <td>...</td>\n",
       "    </tr>\n",
       "    <tr>\n",
       "      <th>93</th>\n",
       "      <td>SOCIEDAD AGRICOLA E INDUSTRIAL SAN CARLOS SA</td>\n",
       "      <td>37.0</td>\n",
       "    </tr>\n",
       "    <tr>\n",
       "      <th>94</th>\n",
       "      <td>ICESA</td>\n",
       "      <td>0.0</td>\n",
       "    </tr>\n",
       "    <tr>\n",
       "      <th>95</th>\n",
       "      <td>INDEUREC</td>\n",
       "      <td>3.0</td>\n",
       "    </tr>\n",
       "    <tr>\n",
       "      <th>96</th>\n",
       "      <td>LIMBOMAR</td>\n",
       "      <td>4.0</td>\n",
       "    </tr>\n",
       "    <tr>\n",
       "      <th>97</th>\n",
       "      <td>CASABACA</td>\n",
       "      <td>0.0</td>\n",
       "    </tr>\n",
       "  </tbody>\n",
       "</table>\n",
       "<p>98 rows × 2 columns</p>\n",
       "</div>"
      ],
      "text/plain": [
       "                                               NOMBRE  \\\n",
       "0                           CORPORACION FAVORITA C.A.   \n",
       "1   CONSORCIO ECUATORIANO DE TELECOMUNICACIONES CO...   \n",
       "2                               CORPORACION EL ROSADO   \n",
       "3                                   HIDALGO E HIDALGO   \n",
       "4                                              OTECEL   \n",
       "..                                                ...   \n",
       "93       SOCIEDAD AGRICOLA E INDUSTRIAL SAN CARLOS SA   \n",
       "94                                              ICESA   \n",
       "95                                           INDEUREC   \n",
       "96                                           LIMBOMAR   \n",
       "97                                           CASABACA   \n",
       "\n",
       "    Escuela Superior Politécnica del Litoral  \n",
       "0                                       14.0  \n",
       "1                                       86.0  \n",
       "2                                      123.0  \n",
       "3                                       12.0  \n",
       "4                                        0.0  \n",
       "..                                       ...  \n",
       "93                                      37.0  \n",
       "94                                       0.0  \n",
       "95                                       3.0  \n",
       "96                                       4.0  \n",
       "97                                       0.0  \n",
       "\n",
       "[98 rows x 2 columns]"
      ]
     },
     "execution_count": 6,
     "metadata": {},
     "output_type": "execute_result"
    }
   ],
   "source": [
    "df_uni = pd.read_csv('Data/clean_where_they_studied.csv')\n",
    "df_uni = df_uni[[\"NOMBRE\", \"Escuela Superior Politécnica del Litoral\"]]\n",
    "df_uni"
   ]
  },
  {
   "cell_type": "code",
   "execution_count": 7,
   "metadata": {},
   "outputs": [
    {
     "name": "stdout",
     "output_type": "stream",
     "text": [
      "<class 'pandas.core.frame.DataFrame'>\n",
      "Int64Index: 99 entries, 0 to 98\n",
      "Data columns (total 24 columns):\n",
      " #   Column                                    Non-Null Count  Dtype  \n",
      "---  ------                                    --------------  -----  \n",
      " 0   NOMBRE                                    99 non-null     object \n",
      " 1   LINK                                      99 non-null     object \n",
      " 2   2020                                      99 non-null     float64\n",
      " 3   2019                                      99 non-null     object \n",
      " 4   EXPEDIENTE                                99 non-null     float64\n",
      " 5   TIPO COMPAÑIA                             99 non-null     object \n",
      " 6   ACTIVIDAD ECONÓMICA                       99 non-null     object \n",
      " 7   REGION                                    99 non-null     object \n",
      " 8   PROVINCIA                                 99 non-null     object \n",
      " 9   CIUDAD                                    99 non-null     object \n",
      " 10  TAMAÑO                                    99 non-null     object \n",
      " 11  SECTOR                                    99 non-null     object \n",
      " 12  CANT. EMPLEADOS                           99 non-null     float64\n",
      " 13  ACTIVO2020                                99 non-null     float64\n",
      " 14  PATRIMONIO2020                            99 non-null     float64\n",
      " 15  INGRESOS POR VENTA2020                    99 non-null     float64\n",
      " 16  UTILIDAD ANTES DE 2020                    99 non-null     float64\n",
      " 17  UTILIDAD DEL EJERCICIO2020                99 non-null     float64\n",
      " 18  UTILIDAD NETA2020                         99 non-null     float64\n",
      " 19  IR CAUSADO2020                            99 non-null     float64\n",
      " 20  INGRESO TOTAL2020                         99 non-null     float64\n",
      " 21  INDUSTRIA                                 99 non-null     object \n",
      " 22  ROA                                       99 non-null     float64\n",
      " 23  Escuela Superior Politécnica del Litoral  99 non-null     float64\n",
      "dtypes: float64(13), object(11)\n",
      "memory usage: 19.3+ KB\n"
     ]
    }
   ],
   "source": [
    "merged = pd.merge(df, df_uni)\n",
    "merged.info()"
   ]
  },
  {
   "cell_type": "code",
   "execution_count": 8,
   "metadata": {},
   "outputs": [
    {
     "data": {
      "text/html": [
       "<div>\n",
       "<style scoped>\n",
       "    .dataframe tbody tr th:only-of-type {\n",
       "        vertical-align: middle;\n",
       "    }\n",
       "\n",
       "    .dataframe tbody tr th {\n",
       "        vertical-align: top;\n",
       "    }\n",
       "\n",
       "    .dataframe thead th {\n",
       "        text-align: right;\n",
       "    }\n",
       "</style>\n",
       "<table border=\"1\" class=\"dataframe\">\n",
       "  <thead>\n",
       "    <tr style=\"text-align: right;\">\n",
       "      <th></th>\n",
       "      <th>NOMBRE</th>\n",
       "      <th>LINK</th>\n",
       "      <th>2020</th>\n",
       "      <th>2019</th>\n",
       "      <th>EXPEDIENTE</th>\n",
       "      <th>TIPO COMPAÑIA</th>\n",
       "      <th>ACTIVIDAD ECONÓMICA</th>\n",
       "      <th>REGION</th>\n",
       "      <th>PROVINCIA</th>\n",
       "      <th>CIUDAD</th>\n",
       "      <th>...</th>\n",
       "      <th>PATRIMONIO2020</th>\n",
       "      <th>INGRESOS POR VENTA2020</th>\n",
       "      <th>UTILIDAD ANTES DE 2020</th>\n",
       "      <th>UTILIDAD DEL EJERCICIO2020</th>\n",
       "      <th>UTILIDAD NETA2020</th>\n",
       "      <th>IR CAUSADO2020</th>\n",
       "      <th>INGRESO TOTAL2020</th>\n",
       "      <th>INDUSTRIA</th>\n",
       "      <th>ROA</th>\n",
       "      <th>ESPOL</th>\n",
       "    </tr>\n",
       "  </thead>\n",
       "  <tbody>\n",
       "    <tr>\n",
       "      <th>0</th>\n",
       "      <td>CORPORACION FAVORITA C.A.</td>\n",
       "      <td>https://ec.linkedin.com/company/corporacionfav...</td>\n",
       "      <td>1.0</td>\n",
       "      <td>1</td>\n",
       "      <td>384.0</td>\n",
       "      <td>ANÓNIMA</td>\n",
       "      <td>G4711.01 - VENTA AL POR MENOR DE GRAN VARIEDAD...</td>\n",
       "      <td>SIERRA</td>\n",
       "      <td>PICHINCHA                                     ...</td>\n",
       "      <td>QUITO                                         ...</td>\n",
       "      <td>...</td>\n",
       "      <td>1.482973e+09</td>\n",
       "      <td>2.170603e+09</td>\n",
       "      <td>187168402.3</td>\n",
       "      <td>2.201981e+08</td>\n",
       "      <td>1.474992e+08</td>\n",
       "      <td>4.197121e+07</td>\n",
       "      <td>2.170603e+09</td>\n",
       "      <td>Minoristas</td>\n",
       "      <td>6.951411</td>\n",
       "      <td>14.0</td>\n",
       "    </tr>\n",
       "    <tr>\n",
       "      <th>1</th>\n",
       "      <td>ECUACORRIENTE</td>\n",
       "      <td>https://www.linkedin.com/company/ecuacorriente...</td>\n",
       "      <td>2.0</td>\n",
       "      <td>4</td>\n",
       "      <td>6796.0</td>\n",
       "      <td>ANÓNIMA</td>\n",
       "      <td>B0729.01 - EXTRACCIÓN Y PREPARACIÓN DE MINERAL...</td>\n",
       "      <td>ORIENTE</td>\n",
       "      <td>ZAMORA CHINCHIPE                              ...</td>\n",
       "      <td>EL PANGUI                                     ...</td>\n",
       "      <td>...</td>\n",
       "      <td>5.689866e+08</td>\n",
       "      <td>2.451030e+08</td>\n",
       "      <td>-1387158.7</td>\n",
       "      <td>0.000000e+00</td>\n",
       "      <td>-2.633856e+06</td>\n",
       "      <td>1.246697e+06</td>\n",
       "      <td>0.000000e+00</td>\n",
       "      <td>Minería</td>\n",
       "      <td>-0.163856</td>\n",
       "      <td>0.0</td>\n",
       "    </tr>\n",
       "    <tr>\n",
       "      <th>2</th>\n",
       "      <td>AURELIAN ECUADOR</td>\n",
       "      <td>https://www.linkedin.com/company/lundin-gold/?...</td>\n",
       "      <td>3.0</td>\n",
       "      <td>3</td>\n",
       "      <td>93144.0</td>\n",
       "      <td>ANÓNIMA</td>\n",
       "      <td>B0899.09 - EXTRACCIÓN DE OTROS MINERALES: ASBE...</td>\n",
       "      <td>ORIENTE</td>\n",
       "      <td>ZAMORA CHINCHIPE                              ...</td>\n",
       "      <td>LOS ENCUENTROS                                ...</td>\n",
       "      <td>...</td>\n",
       "      <td>6.052935e+08</td>\n",
       "      <td>3.587926e+08</td>\n",
       "      <td>-49399080.0</td>\n",
       "      <td>-4.939908e+07</td>\n",
       "      <td>-4.939908e+07</td>\n",
       "      <td>4.077977e+06</td>\n",
       "      <td>3.588240e+08</td>\n",
       "      <td>Minería</td>\n",
       "      <td>-3.087969</td>\n",
       "      <td>21.0</td>\n",
       "    </tr>\n",
       "    <tr>\n",
       "      <th>3</th>\n",
       "      <td>CONSORCIO ECUATORIANO DE TELECOMUNICACIONES CO...</td>\n",
       "      <td>https://ec.linkedin.com/company/conecel?trk=co...</td>\n",
       "      <td>5.0</td>\n",
       "      <td>5</td>\n",
       "      <td>47845.0</td>\n",
       "      <td>ANÓNIMA</td>\n",
       "      <td>J6120.01 - OPERACIÓN, MANTENIMIENTO O FACILITA...</td>\n",
       "      <td>COSTA</td>\n",
       "      <td>GUAYAS                                        ...</td>\n",
       "      <td>GUAYAQUIL                                     ...</td>\n",
       "      <td>...</td>\n",
       "      <td>2.647091e+08</td>\n",
       "      <td>1.066242e+09</td>\n",
       "      <td>174644376.0</td>\n",
       "      <td>2.048239e+08</td>\n",
       "      <td>1.068268e+08</td>\n",
       "      <td>6.781763e+07</td>\n",
       "      <td>1.071561e+09</td>\n",
       "      <td>Telecomunicaciones/Informática</td>\n",
       "      <td>8.772698</td>\n",
       "      <td>86.0</td>\n",
       "    </tr>\n",
       "    <tr>\n",
       "      <th>4</th>\n",
       "      <td>CORPORACION QUIPORT</td>\n",
       "      <td>https://ec.linkedin.com/company/quiport?trk=co...</td>\n",
       "      <td>7.0</td>\n",
       "      <td>8</td>\n",
       "      <td>93325.0</td>\n",
       "      <td>ANÓNIMA</td>\n",
       "      <td>M7020.04 - PRESTACIÓN DE ASESORAMIENTO Y AYUDA...</td>\n",
       "      <td>SIERRA</td>\n",
       "      <td>PICHINCHA                                     ...</td>\n",
       "      <td>QUITO                                         ...</td>\n",
       "      <td>...</td>\n",
       "      <td>2.128526e+08</td>\n",
       "      <td>1.249086e+09</td>\n",
       "      <td>-27053323.0</td>\n",
       "      <td>-2.705332e+07</td>\n",
       "      <td>-2.705332e+07</td>\n",
       "      <td>4.077977e+06</td>\n",
       "      <td>8.353065e+07</td>\n",
       "      <td>Logística/Transporte</td>\n",
       "      <td>-3.323227</td>\n",
       "      <td>0.0</td>\n",
       "    </tr>\n",
       "  </tbody>\n",
       "</table>\n",
       "<p>5 rows × 24 columns</p>\n",
       "</div>"
      ],
      "text/plain": [
       "                                              NOMBRE  \\\n",
       "0                          CORPORACION FAVORITA C.A.   \n",
       "1                                      ECUACORRIENTE   \n",
       "2                                   AURELIAN ECUADOR   \n",
       "3  CONSORCIO ECUATORIANO DE TELECOMUNICACIONES CO...   \n",
       "4                                CORPORACION QUIPORT   \n",
       "\n",
       "                                                LINK  2020 2019  EXPEDIENTE  \\\n",
       "0  https://ec.linkedin.com/company/corporacionfav...   1.0    1       384.0   \n",
       "1  https://www.linkedin.com/company/ecuacorriente...   2.0    4      6796.0   \n",
       "2  https://www.linkedin.com/company/lundin-gold/?...   3.0    3     93144.0   \n",
       "3  https://ec.linkedin.com/company/conecel?trk=co...   5.0    5     47845.0   \n",
       "4  https://ec.linkedin.com/company/quiport?trk=co...   7.0    8     93325.0   \n",
       "\n",
       "  TIPO COMPAÑIA                                ACTIVIDAD ECONÓMICA   REGION  \\\n",
       "0       ANÓNIMA  G4711.01 - VENTA AL POR MENOR DE GRAN VARIEDAD...   SIERRA   \n",
       "1       ANÓNIMA  B0729.01 - EXTRACCIÓN Y PREPARACIÓN DE MINERAL...  ORIENTE   \n",
       "2       ANÓNIMA  B0899.09 - EXTRACCIÓN DE OTROS MINERALES: ASBE...  ORIENTE   \n",
       "3       ANÓNIMA  J6120.01 - OPERACIÓN, MANTENIMIENTO O FACILITA...    COSTA   \n",
       "4       ANÓNIMA  M7020.04 - PRESTACIÓN DE ASESORAMIENTO Y AYUDA...   SIERRA   \n",
       "\n",
       "                                           PROVINCIA  \\\n",
       "0  PICHINCHA                                     ...   \n",
       "1  ZAMORA CHINCHIPE                              ...   \n",
       "2  ZAMORA CHINCHIPE                              ...   \n",
       "3  GUAYAS                                        ...   \n",
       "4  PICHINCHA                                     ...   \n",
       "\n",
       "                                              CIUDAD  ... PATRIMONIO2020  \\\n",
       "0  QUITO                                         ...  ...   1.482973e+09   \n",
       "1  EL PANGUI                                     ...  ...   5.689866e+08   \n",
       "2  LOS ENCUENTROS                                ...  ...   6.052935e+08   \n",
       "3  GUAYAQUIL                                     ...  ...   2.647091e+08   \n",
       "4  QUITO                                         ...  ...   2.128526e+08   \n",
       "\n",
       "  INGRESOS POR VENTA2020  UTILIDAD ANTES DE 2020  UTILIDAD DEL EJERCICIO2020  \\\n",
       "0           2.170603e+09             187168402.3                2.201981e+08   \n",
       "1           2.451030e+08              -1387158.7                0.000000e+00   \n",
       "2           3.587926e+08             -49399080.0               -4.939908e+07   \n",
       "3           1.066242e+09             174644376.0                2.048239e+08   \n",
       "4           1.249086e+09             -27053323.0               -2.705332e+07   \n",
       "\n",
       "   UTILIDAD NETA2020  IR CAUSADO2020  INGRESO TOTAL2020  \\\n",
       "0       1.474992e+08    4.197121e+07       2.170603e+09   \n",
       "1      -2.633856e+06    1.246697e+06       0.000000e+00   \n",
       "2      -4.939908e+07    4.077977e+06       3.588240e+08   \n",
       "3       1.068268e+08    6.781763e+07       1.071561e+09   \n",
       "4      -2.705332e+07    4.077977e+06       8.353065e+07   \n",
       "\n",
       "                        INDUSTRIA       ROA  ESPOL  \n",
       "0                      Minoristas  6.951411   14.0  \n",
       "1                         Minería -0.163856    0.0  \n",
       "2                         Minería -3.087969   21.0  \n",
       "3  Telecomunicaciones/Informática  8.772698   86.0  \n",
       "4            Logística/Transporte -3.323227    0.0  \n",
       "\n",
       "[5 rows x 24 columns]"
      ]
     },
     "execution_count": 8,
     "metadata": {},
     "output_type": "execute_result"
    }
   ],
   "source": [
    "df = merged.copy()\n",
    "df.rename(columns={\"Escuela Superior Politécnica del Litoral\": \"ESPOL\"}, inplace=True)\n",
    "df.head(5)"
   ]
  },
  {
   "cell_type": "markdown",
   "metadata": {},
   "source": [
    "## Looking For Correlation"
   ]
  },
  {
   "cell_type": "code",
   "execution_count": 9,
   "metadata": {},
   "outputs": [
    {
     "data": {
      "image/png": "[encoded data removed]",
      "text/plain": [
       "<Figure size 432x288 with 1 Axes>"
      ]
     },
     "metadata": {
      "needs_background": "light"
     },
     "output_type": "display_data"
    }
   ],
   "source": [
    "# Let's use a scatter plot to visually check if there's a pattern/behaviour as the number of ESPOL alumni increases.\n",
    "plt.plot( 'ESPOL', 'ROA', data=df, linestyle='none', marker='o')\n",
    "plt.xlabel('ESPOL Graduates')\n",
    "plt.ylabel('ROA Score')\n",
    "plt.title(\"ROA vs. Graduates\")\n",
    "plt.show()"
   ]
  },
  {
   "cell_type": "code",
   "execution_count": 10,
   "metadata": {},
   "outputs": [
    {
     "data": {
      "image/png": "[encoded data removed]",
      "text/plain": [
       "<Figure size 432x288 with 1 Axes>"
      ]
     },
     "metadata": {
      "needs_background": "light"
     },
     "output_type": "display_data"
    }
   ],
   "source": [
    "# Let's zoom in to appreciate better\n",
    "df_viz = df.loc[ (df['ESPOL'] < 1000) & (abs(df['ROA']) < 20) & (df['ESPOL'] > 2)]\n",
    "plt.plot( 'ESPOL', 'ROA', data=df_viz, linestyle='none', marker='o')\n",
    "plt.xlabel('ESPOL Graduates')\n",
    "plt.ylabel('ROA Score')\n",
    "plt.title(\"ROA vs. Graduates\")\n",
    "plt.show()"
   ]
  },
  {
   "cell_type": "code",
   "execution_count": 11,
   "metadata": {},
   "outputs": [
    {
     "data": {
      "text/plain": [
       "0.1971714114378395"
      ]
     },
     "execution_count": 11,
     "metadata": {},
     "output_type": "execute_result"
    }
   ],
   "source": [
    "# Now analitically (Pearson)\n",
    "df_corr = df[[\"ROA\", \"ESPOL\"]].corr()\n",
    "df_corr.loc[\"ROA\", \"ESPOL\"]"
   ]
  },
  {
   "cell_type": "code",
   "execution_count": 12,
   "metadata": {},
   "outputs": [
    {
     "data": {
      "text/plain": [
       "0.21087616597841205"
      ]
     },
     "execution_count": 12,
     "metadata": {},
     "output_type": "execute_result"
    }
   ],
   "source": [
    "# Pearson is suceptible to be influeced by great distance between values (outliers) so let's check with Spearman as well\n",
    "df_corr_spear = df[[\"ROA\", \"ESPOL\"]].corr(method='spearman')\n",
    "df_corr_spear.loc[\"ROA\", \"ESPOL\"]"
   ]
  },
  {
   "cell_type": "markdown",
   "metadata": {},
   "source": [
    "### Preemptive analysis\n",
    "There seems to be small correlation between the number of ESPOL alumni working at a given company (from the top 100) and the company's Return of Assets (ROA). As evidenced by both coefficients giving values around 0.2. To a degree, this (or lower) could be expected, since the ROA metric has a lot more to do with internal tangible asset management of the company rather than the productivity or efficiency of their employees, nonetheless, some of the literature suggested this could be an interesting find (check the article for details on the literature).\n",
    "\n",
    "This is not to say one causes the other, there are many other factors in play that might by causing this, for example, companies that hire from top Universities of the country might have access to better management as a whole, therefore, it's logical that the company's ROA tends to be higher than that of a company that cannot afford a graduate from the countries top universities; meaning it might not be the work of the graduate itself."
   ]
  },
  {
   "cell_type": "code",
   "execution_count": 13,
   "metadata": {},
   "outputs": [
    {
     "data": {
      "text/plain": [
       "-0.03568414072290252"
      ]
     },
     "execution_count": 13,
     "metadata": {},
     "output_type": "execute_result"
    }
   ],
   "source": [
    "# Look for correlations between emlployee amount in order to discard possiblity of ESPOL alumni being a very small fraction of a company's resourses\n",
    "df_corr = df[[\"ROA\", \"CANT. EMPLEADOS\"]].corr()\n",
    "df_corr.loc[\"ROA\", \"CANT. EMPLEADOS\"]"
   ]
  },
  {
   "cell_type": "code",
   "execution_count": 14,
   "metadata": {},
   "outputs": [
    {
     "data": {
      "text/plain": [
       "0.07385418406172267"
      ]
     },
     "execution_count": 14,
     "metadata": {},
     "output_type": "execute_result"
    }
   ],
   "source": [
    "# Look for correlations between emlployee amount in order to discard possiblity of ESPOL alumni being a very small fraction of a company's resourses\n",
    "df_corr = df[[\"ROA\", \"CANT. EMPLEADOS\"]].corr(method='spearman')\n",
    "df_corr.loc[\"ROA\", \"CANT. EMPLEADOS\"]\n"
   ]
  },
  {
   "cell_type": "markdown",
   "metadata": {},
   "source": [
    "### Conclusion\n",
    "While we observe a relatively weak correlation between ROA and ESPOL alumni, it is to early to tell the true meaning of this find. This could very well mean that companies hiring from top universities of the country have access to overall better management, even more, the relationship might be explained more trivially: companies that can afford to hire graduates from top level universities of the country tend to have bigger utilities, factor that it's directly related to the ROA metric of a company, since the ROA score it's computed using the utility of the company.\n",
    "\n",
    "Espol alumni might be more impactful in human resources related metrics for performace, however with the data we have available, we cannot calculate such metrics. However this could be interesting for a ESPOL graduate; to know that companies that look forward to hiring them might have the tendency to perform well in company performance metrics to a small degree.\n",
    "\n",
    "All and all, our exploratory analysis shows that top 100 companies in Ecuador hire their employees from a diverse set of universities (check clean_where_they_studied.csv dataframe). There's seem to be a small correlation between ESPOL employee and a company's and the ROA according the SUPERCIAS dataset.\n"
   ]
  }
 ],
 "metadata": {
  "interpreter": {
   "hash": "ac2eaa0ea0ebeafcc7822e65e46aa9d4f966f30b695406963e145ea4a91cd4fc"
  },
  "kernelspec": {
   "display_name": "Python 3",
   "language": "python",
   "name": "python3"
  },
  "language_info": {
   "codemirror_mode": {
    "name": "ipython",
    "version": 3
   },
   "file_extension": ".py",
   "mimetype": "text/x-python",
   "name": "python",
   "nbconvert_exporter": "python",
   "pygments_lexer": "ipython3",
   "version": "3.9.6"
  }
 },
 "nbformat": 4,
 "nbformat_minor": 4
}
